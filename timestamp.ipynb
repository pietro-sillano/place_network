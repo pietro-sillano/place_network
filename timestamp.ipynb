{
 "cells": [
  {
   "cell_type": "code",
   "execution_count": 9,
   "id": "dbb83835-6f60-4b85-82fb-ef1169e5e1de",
   "metadata": {},
   "outputs": [],
   "source": [
    "import pandas as pd"
   ]
  },
  {
   "cell_type": "code",
   "execution_count": 6,
   "id": "249d9a26-ae55-4398-9132-45d1ce05bd1f",
   "metadata": {},
   "outputs": [
    {
     "data": {
      "text/html": [
       "<div>\n",
       "<style scoped>\n",
       "    .dataframe tbody tr th:only-of-type {\n",
       "        vertical-align: middle;\n",
       "    }\n",
       "\n",
       "    .dataframe tbody tr th {\n",
       "        vertical-align: top;\n",
       "    }\n",
       "\n",
       "    .dataframe thead th {\n",
       "        text-align: right;\n",
       "    }\n",
       "</style>\n",
       "<table border=\"1\" class=\"dataframe\">\n",
       "  <thead>\n",
       "    <tr style=\"text-align: right;\">\n",
       "      <th></th>\n",
       "      <th>timestamp</th>\n",
       "      <th>user_id</th>\n",
       "      <th>pixel_color</th>\n",
       "      <th>coordinate</th>\n",
       "    </tr>\n",
       "  </thead>\n",
       "  <tbody>\n",
       "    <tr>\n",
       "      <th>0</th>\n",
       "      <td>2022-04-04 00:53:51.577 UTC</td>\n",
       "      <td>ovTZk4GyTS1mDQnTbV+vDOCu1f+u6w+CkIZ6445vD4XN8a...</td>\n",
       "      <td>#00CCC0</td>\n",
       "      <td>826,1048</td>\n",
       "    </tr>\n",
       "    <tr>\n",
       "      <th>1</th>\n",
       "      <td>2022-04-04 00:53:53.758 UTC</td>\n",
       "      <td>6NSgFa1CvIPly1VniNhlbrmoN3vgDFbMSKqh+c4TTfrr3d...</td>\n",
       "      <td>#94B3FF</td>\n",
       "      <td>583,1031</td>\n",
       "    </tr>\n",
       "    <tr>\n",
       "      <th>2</th>\n",
       "      <td>2022-04-04 00:53:54.685 UTC</td>\n",
       "      <td>O5Oityp3Z3owzTuwM9XnMggpLcqKEumsOMKGhRiDTTImWb...</td>\n",
       "      <td>#6A5CFF</td>\n",
       "      <td>1873,558</td>\n",
       "    </tr>\n",
       "    <tr>\n",
       "      <th>3</th>\n",
       "      <td>2022-04-04 00:54:57.541 UTC</td>\n",
       "      <td>tc273UiqS0wKa6VwiOs/iz/t4LyPYrhL2Q347awn11IQQE...</td>\n",
       "      <td>#009EAA</td>\n",
       "      <td>1627,255</td>\n",
       "    </tr>\n",
       "    <tr>\n",
       "      <th>4</th>\n",
       "      <td>2022-04-04 00:55:16.307 UTC</td>\n",
       "      <td>OOWsU/HLb4UUkQwclDeXFtsJTOXMlAdNHiRpFA1Qk+SxUr...</td>\n",
       "      <td>#94B3FF</td>\n",
       "      <td>49,1478</td>\n",
       "    </tr>\n",
       "    <tr>\n",
       "      <th>5</th>\n",
       "      <td>2022-04-04 00:55:20.64 UTC</td>\n",
       "      <td>A0HdtcPvI7ipKivvXNVZDa3gkcjGXFjNxF5tca5QXazENC...</td>\n",
       "      <td>#E4ABFF</td>\n",
       "      <td>408,1863</td>\n",
       "    </tr>\n",
       "    <tr>\n",
       "      <th>6</th>\n",
       "      <td>2022-04-04 00:55:34.898 UTC</td>\n",
       "      <td>1U4LPuB22P6Yf7eRhKz6zU1dFMK5wXIzsNVPUNhP7eHIwG...</td>\n",
       "      <td>#94B3FF</td>\n",
       "      <td>111,1582</td>\n",
       "    </tr>\n",
       "    <tr>\n",
       "      <th>7</th>\n",
       "      <td>2022-04-04 00:55:40.375 UTC</td>\n",
       "      <td>0AGoMGF50j0DJDc+704SwMylU90YDILDIgo8WOetgpiEWG...</td>\n",
       "      <td>#6A5CFF</td>\n",
       "      <td>1334,1840</td>\n",
       "    </tr>\n",
       "    <tr>\n",
       "      <th>8</th>\n",
       "      <td>2022-04-04 00:55:57.168 UTC</td>\n",
       "      <td>tPcrtm7OtEmSThdRSWmB7jmTF9lUVZ1pltNv1oKqPY9bom...</td>\n",
       "      <td>#6A5CFF</td>\n",
       "      <td>1908,1854</td>\n",
       "    </tr>\n",
       "    <tr>\n",
       "      <th>9</th>\n",
       "      <td>2022-04-04 00:56:07.43 UTC</td>\n",
       "      <td>7wfv1Tew3St1xYXQrTy7EF4LYwuuzxb0TXOxzxGBXriim8...</td>\n",
       "      <td>#009EAA</td>\n",
       "      <td>1504,1722</td>\n",
       "    </tr>\n",
       "  </tbody>\n",
       "</table>\n",
       "</div>"
      ],
      "text/plain": [
       "                     timestamp  \\\n",
       "0  2022-04-04 00:53:51.577 UTC   \n",
       "1  2022-04-04 00:53:53.758 UTC   \n",
       "2  2022-04-04 00:53:54.685 UTC   \n",
       "3  2022-04-04 00:54:57.541 UTC   \n",
       "4  2022-04-04 00:55:16.307 UTC   \n",
       "5   2022-04-04 00:55:20.64 UTC   \n",
       "6  2022-04-04 00:55:34.898 UTC   \n",
       "7  2022-04-04 00:55:40.375 UTC   \n",
       "8  2022-04-04 00:55:57.168 UTC   \n",
       "9   2022-04-04 00:56:07.43 UTC   \n",
       "\n",
       "                                             user_id pixel_color coordinate  \n",
       "0  ovTZk4GyTS1mDQnTbV+vDOCu1f+u6w+CkIZ6445vD4XN8a...     #00CCC0   826,1048  \n",
       "1  6NSgFa1CvIPly1VniNhlbrmoN3vgDFbMSKqh+c4TTfrr3d...     #94B3FF   583,1031  \n",
       "2  O5Oityp3Z3owzTuwM9XnMggpLcqKEumsOMKGhRiDTTImWb...     #6A5CFF   1873,558  \n",
       "3  tc273UiqS0wKa6VwiOs/iz/t4LyPYrhL2Q347awn11IQQE...     #009EAA   1627,255  \n",
       "4  OOWsU/HLb4UUkQwclDeXFtsJTOXMlAdNHiRpFA1Qk+SxUr...     #94B3FF    49,1478  \n",
       "5  A0HdtcPvI7ipKivvXNVZDa3gkcjGXFjNxF5tca5QXazENC...     #E4ABFF   408,1863  \n",
       "6  1U4LPuB22P6Yf7eRhKz6zU1dFMK5wXIzsNVPUNhP7eHIwG...     #94B3FF   111,1582  \n",
       "7  0AGoMGF50j0DJDc+704SwMylU90YDILDIgo8WOetgpiEWG...     #6A5CFF  1334,1840  \n",
       "8  tPcrtm7OtEmSThdRSWmB7jmTF9lUVZ1pltNv1oKqPY9bom...     #6A5CFF  1908,1854  \n",
       "9  7wfv1Tew3St1xYXQrTy7EF4LYwuuzxb0TXOxzxGBXriim8...     #009EAA  1504,1722  "
      ]
     },
     "execution_count": 6,
     "metadata": {},
     "output_type": "execute_result"
    }
   ],
   "source": [
    "df = pd.read_csv('data/2022_place_canvas_history.csv',nrows = 10)\n",
    "df"
   ]
  },
  {
   "cell_type": "code",
   "execution_count": 58,
   "id": "df6ba510-af86-4c9c-9f85-b61d0a0a041b",
   "metadata": {},
   "outputs": [
    {
     "data": {
      "text/plain": [
       "-4372"
      ]
     },
     "execution_count": 58,
     "metadata": {},
     "output_type": "execute_result"
    }
   ],
   "source": [
    "START_TIME  = 1649026431\n",
    "\n",
    "def parse_timestamp(timestamp):\n",
    "    \"\"\"Convert a YYYY-MM-DD HH:MM:SS.SSS timestamp to milliseconds after the start of r/Place 2022.\"\"\"\n",
    "    date_format = \"%Y-%m-%d %H:%M:%S.%f\"\n",
    "    try:\n",
    "        # Remove the UTC timezone from the timestamp and convert it to a POSIX timestamp.\n",
    "        timestamp = datetime.strptime(timestamp[:-4], date_format).timestamp()\n",
    "    except ValueError:\n",
    "        # The timestamp is exactly on the second, so there is no decimal (%f).\n",
    "        # This happens 1/1000 of the time.\n",
    "        timestamp = datetime.strptime(timestamp[:-4], date_format[:-3]).timestamp()\n",
    "\n",
    "    # Convert from a float in seconds to an int in milliseconds\n",
    "    #timestamp *= 1000.0\n",
    "    #timestamp = int(timestamp)\n",
    "\n",
    "    # The earliest timestamp is 1648806250315, so subtract that from each timestamp\n",
    "    # to get the time in milliseconds since the beginning of the experiment.\n",
    "    timestamp = timestamp -  START_TIME\n",
    "    timestamp = float(timestamp) / 60.\n",
    "    timestamp = int(timestamp)\n",
    "    return timestamp\n",
    "\n",
    "\n",
    "# Parse a sample timestamp.\n",
    "parse_timestamp(\"2022-04-01 00:1:2.375 UTC\")"
   ]
  },
  {
   "cell_type": "code",
   "execution_count": 42,
   "id": "a5ee05f6-1079-4179-b3dc-00774093f895",
   "metadata": {},
   "outputs": [],
   "source": [
    "BEGIN = \"2022-04-05 00:53:51.7 UTC\"\n",
    "from datetime import datetime\n"
   ]
  },
  {
   "cell_type": "code",
   "execution_count": 43,
   "id": "59b96c21-de2d-41f4-8c90-e6aad09b0564",
   "metadata": {},
   "outputs": [
    {
     "data": {
      "text/plain": [
       "datetime.datetime(2022, 4, 5, 0, 53, 51, 700000)"
      ]
     },
     "execution_count": 43,
     "metadata": {},
     "output_type": "execute_result"
    }
   ],
   "source": [
    "date_format = \"%Y-%m-%d %H:%M:%S.%f\"\n",
    "\n",
    "datetime.strptime(BEGIN[:-4], date_format)"
   ]
  },
  {
   "cell_type": "code",
   "execution_count": 9,
   "id": "6a160e8d-7cec-4654-8b42-a77615d7c223",
   "metadata": {},
   "outputs": [
    {
     "data": {
      "text/plain": [
       "str"
      ]
     },
     "execution_count": 9,
     "metadata": {},
     "output_type": "execute_result"
    }
   ],
   "source": [
    "type(df.timestamp[:1].squeeze())"
   ]
  },
  {
   "cell_type": "code",
   "execution_count": 7,
   "id": "cd63fb79-c8c9-4a61-9e2f-34172f1fafda",
   "metadata": {},
   "outputs": [
    {
     "ename": "ValueError",
     "evalue": "invalid literal for int() with base 10: '2022-04-04 00:53:51.577 UTC'",
     "output_type": "error",
     "traceback": [
      "\u001b[0;31m---------------------------------------------------------------------------\u001b[0m",
      "\u001b[0;31mValueError\u001b[0m                                Traceback (most recent call last)",
      "Input \u001b[0;32mIn [7]\u001b[0m, in \u001b[0;36m<cell line: 1>\u001b[0;34m()\u001b[0m\n\u001b[0;32m----> 1\u001b[0m \u001b[38;5;28;43mint\u001b[39;49m\u001b[43m(\u001b[49m\u001b[43mdf\u001b[49m\u001b[38;5;241;43m.\u001b[39;49m\u001b[43mtimestamp\u001b[49m\u001b[43m[\u001b[49m\u001b[43m:\u001b[49m\u001b[38;5;241;43m1\u001b[39;49m\u001b[43m]\u001b[49m\u001b[43m)\u001b[49m \u001b[38;5;241m>\u001b[39m \u001b[38;5;241m0\u001b[39m \u001b[38;5;129;01mand\u001b[39;00m \u001b[38;5;28mint\u001b[39m(df\u001b[38;5;241m.\u001b[39mtimestamp[\u001b[38;5;241m1\u001b[39m:\u001b[38;5;241m2\u001b[39m]) \u001b[38;5;241m<\u001b[39m \u001b[38;5;241m0\u001b[39m\n",
      "File \u001b[0;32m~/.local/lib/python3.10/site-packages/pandas/core/series.py:190\u001b[0m, in \u001b[0;36m_coerce_method.<locals>.wrapper\u001b[0;34m(self)\u001b[0m\n\u001b[1;32m    188\u001b[0m \u001b[38;5;28;01mdef\u001b[39;00m \u001b[38;5;21mwrapper\u001b[39m(\u001b[38;5;28mself\u001b[39m):\n\u001b[1;32m    189\u001b[0m     \u001b[38;5;28;01mif\u001b[39;00m \u001b[38;5;28mlen\u001b[39m(\u001b[38;5;28mself\u001b[39m) \u001b[38;5;241m==\u001b[39m \u001b[38;5;241m1\u001b[39m:\n\u001b[0;32m--> 190\u001b[0m         \u001b[38;5;28;01mreturn\u001b[39;00m \u001b[43mconverter\u001b[49m\u001b[43m(\u001b[49m\u001b[38;5;28;43mself\u001b[39;49m\u001b[38;5;241;43m.\u001b[39;49m\u001b[43miloc\u001b[49m\u001b[43m[\u001b[49m\u001b[38;5;241;43m0\u001b[39;49m\u001b[43m]\u001b[49m\u001b[43m)\u001b[49m\n\u001b[1;32m    191\u001b[0m     \u001b[38;5;28;01mraise\u001b[39;00m \u001b[38;5;167;01mTypeError\u001b[39;00m(\u001b[38;5;124mf\u001b[39m\u001b[38;5;124m\"\u001b[39m\u001b[38;5;124mcannot convert the series to \u001b[39m\u001b[38;5;132;01m{\u001b[39;00mconverter\u001b[38;5;132;01m}\u001b[39;00m\u001b[38;5;124m\"\u001b[39m)\n",
      "\u001b[0;31mValueError\u001b[0m: invalid literal for int() with base 10: '2022-04-04 00:53:51.577 UTC'"
     ]
    }
   ],
   "source": [
    "int(df.timestamp[:1]) > 0 and int(df.timestamp[1:2]) < 0"
   ]
  },
  {
   "cell_type": "code",
   "execution_count": 3,
   "id": "ca2b4726-e415-4aea-9a45-8a88da397c97",
   "metadata": {},
   "outputs": [],
   "source": [
    "from datetime import datetime\n"
   ]
  },
  {
   "cell_type": "code",
   "execution_count": 11,
   "id": "3141bda6-1772-44ed-ac22-f6a80a38c692",
   "metadata": {},
   "outputs": [
    {
     "data": {
      "text/plain": [
       "datetime.datetime(1977, 3, 16, 17, 27, 42)"
      ]
     },
     "execution_count": 11,
     "metadata": {},
     "output_type": "execute_result"
    }
   ],
   "source": [
    "datetime.utcfromtimestamp(227381262.0000)"
   ]
  },
  {
   "cell_type": "code",
   "execution_count": 14,
   "id": "64e05955-1905-4afd-a147-886e679d3f34",
   "metadata": {},
   "outputs": [
    {
     "data": {
      "text/plain": [
       "datetime.datetime(2022, 4, 1, 9, 44, 10, 315000)"
      ]
     },
     "execution_count": 14,
     "metadata": {},
     "output_type": "execute_result"
    }
   ],
   "source": [
    "s = datetime.utcfromtimestamp(1648806250.315)\n",
    "s"
   ]
  },
  {
   "cell_type": "code",
   "execution_count": 8,
   "id": "baf7849e-aa3f-4f4b-9dc2-23e43bb8cc14",
   "metadata": {},
   "outputs": [
    {
     "data": {
      "text/plain": [
       "227513515.0"
      ]
     },
     "execution_count": 8,
     "metadata": {},
     "output_type": "execute_result"
    }
   ],
   "source": [
    "s.timestamp()"
   ]
  },
  {
   "cell_type": "code",
   "execution_count": 23,
   "id": "2dd5a0af-d74f-4aed-a730-617e59bf0428",
   "metadata": {},
   "outputs": [
    {
     "name": "stdout",
     "output_type": "stream",
     "text": [
      "Number is 0\n",
      "Number is 1\n",
      "Number is 2\n",
      "Number is 3\n",
      "Number is 4\n",
      "Number is 6\n",
      "Number is 7\n",
      "Number is 8\n",
      "Number is 9\n",
      "Out of loop\n"
     ]
    }
   ],
   "source": [
    "number = 0\n",
    "\n",
    "for number in range(10):\n",
    "    if number == 5:\n",
    "        pass    # pass here\n",
    "    else:\n",
    "        #print('wow')\n",
    "        print('Number is ' + str(number))\n",
    "\n",
    "print('Out of loop')"
   ]
  },
  {
   "cell_type": "code",
   "execution_count": null,
   "id": "57d4a7b0-be03-4d62-a48a-abab9dd7cb1a",
   "metadata": {},
   "outputs": [],
   "source": [
    "df = pd.read_csv('reddit_trimmed.csv')\n",
    "df.tail()"
   ]
  },
  {
   "cell_type": "code",
   "execution_count": null,
   "id": "194037b5-bb72-4a2c-92a6-87b35000c25b",
   "metadata": {},
   "outputs": [],
   "source": [
    "with open('reddit_trimmed.csv', 'r') as f:\n",
    "    lines = f.read().splitlines()\n",
    "    last_line = lines[-1]\n",
    "    print (last_line)"
   ]
  },
  {
   "cell_type": "code",
   "execution_count": 16,
   "id": "4ba56c59-7ff4-4c2e-8fc6-9f9c17569f4f",
   "metadata": {},
   "outputs": [
    {
     "data": {
      "text/plain": [
       "[13,\n",
       " 28,\n",
       " 45,\n",
       " 64,\n",
       " 86,\n",
       " 108,\n",
       " 130,\n",
       " 154,\n",
       " 177,\n",
       " 201,\n",
       " 227,\n",
       " 253,\n",
       " 283,\n",
       " 315,\n",
       " 346,\n",
       " 378,\n",
       " 413,\n",
       " 450,\n",
       " 492,\n",
       " 536,\n",
       " 578,\n",
       " 619,\n",
       " 656,\n",
       " 691,\n",
       " 726,\n",
       " 760,\n",
       " 789,\n",
       " 817,\n",
       " 844,\n",
       " 869,\n",
       " 892,\n",
       " 914,\n",
       " 936,\n",
       " 957,\n",
       " 978,\n",
       " 995,\n",
       " 1009,\n",
       " 1025,\n",
       " 1041,\n",
       " 1057,\n",
       " 1070,\n",
       " 1085,\n",
       " 1101,\n",
       " 1117,\n",
       " 1132,\n",
       " 1147,\n",
       " 1162,\n",
       " 1178,\n",
       " 1194,\n",
       " 1208,\n",
       " 1219,\n",
       " 1232,\n",
       " 1247,\n",
       " 1260,\n",
       " 1274,\n",
       " 1286,\n",
       " 1297,\n",
       " 1309,\n",
       " 1321,\n",
       " 1336,\n",
       " 1346,\n",
       " 1356,\n",
       " 1366,\n",
       " 1375,\n",
       " 1384,\n",
       " 1393,\n",
       " 1403,\n",
       " 1413,\n",
       " 1424,\n",
       " 1436,\n",
       " 1447,\n",
       " 1460,\n",
       " 1480,\n",
       " 1508,\n",
       " 62139,\n",
       " 62204,\n",
       " 62263,\n",
       " 62318,\n",
       " 62374,\n",
       " 62423,\n",
       " 62475,\n",
       " 62519,\n",
       " 62561,\n",
       " 62606,\n",
       " 62653,\n",
       " 62698,\n",
       " 62748,\n",
       " 62807,\n",
       " 62869,\n",
       " 62933,\n",
       " 63000,\n",
       " 63072,\n",
       " 63151,\n",
       " 63229,\n",
       " 63306,\n",
       " 63377,\n",
       " 63442,\n",
       " 63500,\n",
       " 63554,\n",
       " 63601,\n",
       " 63645,\n",
       " 63690,\n",
       " 63730,\n",
       " 63763,\n",
       " 63797,\n",
       " 63829,\n",
       " 63861,\n",
       " 63893,\n",
       " 63924,\n",
       " 63953,\n",
       " 63982,\n",
       " 64013,\n",
       " 64047,\n",
       " 64076,\n",
       " 64109,\n",
       " 64142,\n",
       " 64180,\n",
       " 64242,\n",
       " 64284,\n",
       " 64326,\n",
       " 64361,\n",
       " 64397,\n",
       " 64434,\n",
       " 64475,\n",
       " 64522,\n",
       " 64579,\n",
       " 64638,\n",
       " 64688,\n",
       " 64737,\n",
       " 64789,\n",
       " 64840,\n",
       " 64887,\n",
       " 64931,\n",
       " 64971,\n",
       " 65009,\n",
       " 65046,\n",
       " 65078,\n",
       " 65108,\n",
       " 65135,\n",
       " 65162,\n",
       " 65187,\n",
       " 65211,\n",
       " 65235,\n",
       " 65258,\n",
       " 65282,\n",
       " 65306,\n",
       " 65326,\n",
       " 65343,\n",
       " 65358,\n",
       " 65374,\n",
       " 65393,\n",
       " 65409,\n",
       " 65426,\n",
       " 65439,\n",
       " 65452,\n",
       " 65466,\n",
       " 65480,\n",
       " 65495,\n",
       " 65512,\n",
       " 65529,\n",
       " 65535]"
      ]
     },
     "execution_count": 16,
     "metadata": {},
     "output_type": "execute_result"
    }
   ],
   "source": [
    "import pandas as pd\n",
    "import numpy as np\n",
    "l = []\n",
    "with pd.read_csv(\n",
    "        'reddit_trimmed.csv',\n",
    "        chunksize=1000000,\n",
    "        engine=\"c\",\n",
    "        dtype={'timestamp':np.uint16,\n",
    "          'user_id':np.uint32,\n",
    "          'pixel_color':np.uint8,\n",
    "          'x':np.uint16,\n",
    "          'y':np.uint16,}\n",
    "    ) as csv:\n",
    "        for chunk in csv:\n",
    "            l.append(chunk.timestamp[-1:].squeeze())\n",
    "l"
   ]
  },
  {
   "cell_type": "code",
   "execution_count": 15,
   "id": "ff2231bf-b0fb-4176-9b85-f983bca6eae2",
   "metadata": {},
   "outputs": [
    {
     "data": {
      "text/plain": [
       "160353084    65535\n",
       "Name: timestamp, dtype: uint16"
      ]
     },
     "execution_count": 15,
     "metadata": {},
     "output_type": "execute_result"
    }
   ],
   "source": [
    "chunk.timestamp[-1:]"
   ]
  },
  {
   "cell_type": "code",
   "execution_count": null,
   "id": "b4b9b71b-52f3-4132-b647-8af39c881a64",
   "metadata": {},
   "outputs": [],
   "source": []
  }
 ],
 "metadata": {
  "kernelspec": {
   "display_name": "Python 3 (ipykernel)",
   "language": "python",
   "name": "python3"
  },
  "language_info": {
   "codemirror_mode": {
    "name": "ipython",
    "version": 3
   },
   "file_extension": ".py",
   "mimetype": "text/x-python",
   "name": "python",
   "nbconvert_exporter": "python",
   "pygments_lexer": "ipython3",
   "version": "3.10.5"
  }
 },
 "nbformat": 4,
 "nbformat_minor": 5
}
