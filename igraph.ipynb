{
 "cells": [
  {
   "cell_type": "code",
   "execution_count": 12,
   "id": "28f01835-d6f1-4859-8e3b-e8faa262bec0",
   "metadata": {},
   "outputs": [],
   "source": [
    "from igraph import *\n",
    "import matplotlib.pyplot as plt\n",
    "import networkx as nx"
   ]
  },
  {
   "cell_type": "code",
   "execution_count": 7,
   "id": "ad2771e8-f60a-433a-a76a-9fb72a366e63",
   "metadata": {},
   "outputs": [],
   "source": [
    "g = Graph()"
   ]
  },
  {
   "cell_type": "code",
   "execution_count": 2,
   "id": "8fb85bff-982a-4fac-bcc6-800b2a91cc7a",
   "metadata": {},
   "outputs": [],
   "source": [
    "MIN_TILES = 100"
   ]
  },
  {
   "cell_type": "code",
   "execution_count": 3,
   "id": "5080499b-ffa4-494a-a9be-8399c922eef2",
   "metadata": {},
   "outputs": [],
   "source": []
  },
  {
   "cell_type": "code",
   "execution_count": 6,
   "id": "27215df4-fa06-4ba0-b16b-3a3f3e32dce8",
   "metadata": {},
   "outputs": [],
   "source": [
    "file = open(\"./output/users_network\" + str(MIN_TILES) + \".txt\",'r')\n",
    "g = Graph.Read_Ncol(file, names=True, weights=\"if_present\", directed=False)\n",
    "file.close()"
   ]
  },
  {
   "cell_type": "code",
   "execution_count": null,
   "id": "0cbdc7c0-0130-4fc1-bdfc-391595d11416",
   "metadata": {},
   "outputs": [],
   "source": [
    "g = Graph.Read_Edgelist(file,directed=False)"
   ]
  },
  {
   "cell_type": "code",
   "execution_count": 5,
   "id": "7ad75c91-a323-4aca-818c-ef37d3b7c016",
   "metadata": {},
   "outputs": [
    {
     "data": {
      "text/plain": [
       "6903"
      ]
     },
     "execution_count": 5,
     "metadata": {},
     "output_type": "execute_result"
    }
   ],
   "source": [
    "g.vcount()"
   ]
  },
  {
   "cell_type": "code",
   "execution_count": 7,
   "id": "dea5eff0-0b45-4a7f-b5d7-efc25f51ed8f",
   "metadata": {},
   "outputs": [
    {
     "name": "stdout",
     "output_type": "stream",
     "text": [
      "IGRAPH UN-- 6903 7179842 -- \n",
      "+ attr: name (v)\n"
     ]
    }
   ],
   "source": [
    "summary(g)"
   ]
  },
  {
   "cell_type": "code",
   "execution_count": 8,
   "id": "05b8a5e8-22a9-467b-87c7-9eac4d99e4d1",
   "metadata": {},
   "outputs": [],
   "source": [
    "l = g.degree()"
   ]
  },
  {
   "cell_type": "code",
   "execution_count": 9,
   "id": "ece5d39e-d1ae-4b46-8501-f7905c704183",
   "metadata": {},
   "outputs": [
    {
     "data": {
      "text/plain": [
       "6903"
      ]
     },
     "execution_count": 9,
     "metadata": {},
     "output_type": "execute_result"
    }
   ],
   "source": [
    "len(l)"
   ]
  },
  {
   "cell_type": "code",
   "execution_count": 11,
   "id": "0c18114f-6225-4813-bcdf-dbf7fee81df6",
   "metadata": {},
   "outputs": [
    {
     "data": {
      "image/png": "[encoded data removed]",
      "text/plain": [
       "<Figure size 432x288 with 1 Axes>"
      ]
     },
     "metadata": {
      "needs_background": "light"
     },
     "output_type": "display_data"
    }
   ],
   "source": [
    "hist, bins, _ = plt.hist(l, bins=20)"
   ]
  },
  {
   "cell_type": "code",
   "execution_count": null,
   "id": "d79dba43-d879-4dd5-bda1-7a976fcbd2c1",
   "metadata": {},
   "outputs": [],
   "source": [
    "\n"
   ]
  },
  {
   "cell_type": "code",
   "execution_count": null,
   "id": "08b9f58a-1986-44a2-bff8-2e8065799656",
   "metadata": {},
   "outputs": [],
   "source": [
    "\n",
    "\n"
   ]
  }
 ],
 "metadata": {
  "kernelspec": {
   "display_name": "Python 3 (ipykernel)",
   "language": "python",
   "name": "python3"
  },
  "language_info": {
   "codemirror_mode": {
    "name": "ipython",
    "version": 3
   },
   "file_extension": ".py",
   "mimetype": "text/x-python",
   "name": "python",
   "nbconvert_exporter": "python",
   "pygments_lexer": "ipython3",
   "version": "3.10.5"
  }
 },
 "nbformat": 4,
 "nbformat_minor": 5
}
