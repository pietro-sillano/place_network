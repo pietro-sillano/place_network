{
 "cells": [
  {
   "cell_type": "markdown",
   "id": "bd65858f-9234-4ed7-8be5-92c4abc87e5d",
   "metadata": {},
   "source": [
    "**Questo crasha sul mio computer e graphtool é un bordello da installare perche deve essere compilato**"
   ]
  },
  {
   "cell_type": "code",
   "execution_count": 3,
   "id": "21a1ea1f-4c16-427e-8b89-09917be83360",
   "metadata": {},
   "outputs": [],
   "source": [
    "import graph_tool\n",
    "from graph_tool.all import *"
   ]
  },
  {
   "cell_type": "code",
   "execution_count": 2,
   "id": "d0c67270-cba1-4d56-9f3a-38da6e14fd37",
   "metadata": {},
   "outputs": [],
   "source": [
    "g = Graph(directed=False)"
   ]
  },
  {
   "cell_type": "code",
   "execution_count": 6,
   "id": "76a31acc-e0aa-40be-88aa-8ebd082d9527",
   "metadata": {},
   "outputs": [],
   "source": [
    "g = graph_tool.load_graph_from_csv('data/test.edgelist.csv',directed=False,csv_options={'delimiter': ' ', 'quotechar': '\"'}) "
   ]
  },
  {
   "cell_type": "code",
   "execution_count": null,
   "id": "cc43132b-8e65-4617-973b-9468da94fee6",
   "metadata": {},
   "outputs": [],
   "source": [
    "graph_tool.draw.graph_draw(g,output=\"nodes.pdf\")"
   ]
  },
  {
   "cell_type": "code",
   "execution_count": null,
   "id": "1fe18ac8-ddc6-459f-9ad8-cf23fee1d63e",
   "metadata": {},
   "outputs": [],
   "source": []
  }
 ],
 "metadata": {
  "kernelspec": {
   "display_name": "Python 3 (ipykernel)",
   "language": "python",
   "name": "python3"
  },
  "language_info": {
   "codemirror_mode": {
    "name": "ipython",
    "version": 3
   },
   "file_extension": ".py",
   "mimetype": "text/x-python",
   "name": "python",
   "nbconvert_exporter": "python",
   "pygments_lexer": "ipython3",
   "version": "3.10.5"
  }
 },
 "nbformat": 4,
 "nbformat_minor": 5
}
