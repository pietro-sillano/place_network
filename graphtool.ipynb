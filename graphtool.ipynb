{
 "cells": [
  {
   "cell_type": "markdown",
   "id": "bd65858f-9234-4ed7-8be5-92c4abc87e5d",
   "metadata": {},
   "source": [
    "**Questo crasha sul mio computer e graphtool é un bordello da installare perche deve essere compilato**"
   ]
  },
  {
   "cell_type": "code",
   "execution_count": 2,
   "id": "21a1ea1f-4c16-427e-8b89-09917be83360",
   "metadata": {},
   "outputs": [],
   "source": [
    "import graph_tool\n",
    "from graph_tool.all import *"
   ]
  },
  {
   "cell_type": "code",
   "execution_count": 5,
   "id": "76a31acc-e0aa-40be-88aa-8ebd082d9527",
   "metadata": {},
   "outputs": [],
   "source": [
    "g = graph_tool.load_graph_from_csv('output/users_network100.txt',directed=False,csv_options={'delimiter': ' ', 'quotechar': '\"'}) "
   ]
  },
  {
   "cell_type": "code",
   "execution_count": null,
   "id": "cc43132b-8e65-4617-973b-9468da94fee6",
   "metadata": {},
   "outputs": [],
   "source": [
    "graph_tool.draw.graph_draw(g,output=\"nodes.pdf\")"
   ]
  },
  {
   "cell_type": "code",
   "execution_count": 6,
   "id": "1fe18ac8-ddc6-459f-9ad8-cf23fee1d63e",
   "metadata": {},
   "outputs": [
    {
     "ename": "NameError",
     "evalue": "name 'gt' is not defined",
     "output_type": "error",
     "traceback": [
      "\u001b[0;31m---------------------------------------------------------------------------\u001b[0m",
      "\u001b[0;31mNameError\u001b[0m                                 Traceback (most recent call last)",
      "Input \u001b[0;32mIn [6]\u001b[0m, in \u001b[0;36m<cell line: 1>\u001b[0;34m()\u001b[0m\n\u001b[0;32m----> 1\u001b[0m state \u001b[38;5;241m=\u001b[39m \u001b[43mgt\u001b[49m\u001b[38;5;241m.\u001b[39mminimize_nested_blockmodel_dl(g)\n",
      "\u001b[0;31mNameError\u001b[0m: name 'gt' is not defined"
     ]
    }
   ],
   "source": [
    "state = g.minimize_nested_blockmodel_dl(g)"
   ]
  },
  {
   "cell_type": "code",
   "execution_count": 7,
   "id": "910f8739-79c2-4d62-937c-50ebf6f1e802",
   "metadata": {},
   "outputs": [
    {
     "name": "stdout",
     "output_type": "stream",
     "text": [
      "Defaulting to user installation because normal site-packages is not writeable\n",
      "Requirement already satisfied: python-louvain in /home/pietro/.local/lib/python3.10/site-packages (0.16)\n",
      "Requirement already satisfied: networkx in /usr/lib/python3.10/site-packages (from python-louvain) (2.7.1)\n",
      "Requirement already satisfied: numpy in /usr/lib/python3.10/site-packages (from python-louvain) (1.23.0)\n",
      "Note: you may need to restart the kernel to use updated packages.\n"
     ]
    }
   ],
   "source": [
    "pip install python-louvain"
   ]
  },
  {
   "cell_type": "code",
   "execution_count": null,
   "id": "bb32ec19-5813-418f-95da-9072532aa617",
   "metadata": {},
   "outputs": [],
   "source": []
  }
 ],
 "metadata": {
  "kernelspec": {
   "display_name": "Python 3 (ipykernel)",
   "language": "python",
   "name": "python3"
  },
  "language_info": {
   "codemirror_mode": {
    "name": "ipython",
    "version": 3
   },
   "file_extension": ".py",
   "mimetype": "text/x-python",
   "name": "python",
   "nbconvert_exporter": "python",
   "pygments_lexer": "ipython3",
   "version": "3.10.5"
  }
 },
 "nbformat": 4,
 "nbformat_minor": 5
}
