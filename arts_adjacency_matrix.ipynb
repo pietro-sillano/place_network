{
 "cells": [
  {
   "cell_type": "code",
   "execution_count": 1,
   "id": "77a52dc4-1ca5-41f5-81f0-79ef7ebd8672",
   "metadata": {},
   "outputs": [],
   "source": [
    "import numpy as np # linear algebra\n",
    "import pandas as pd # data processing, CSV file I/O (e.g. pd.read_csv)\n",
    "from tqdm.auto import tqdm\n",
    "from matplotlib.path import Path\n",
    "import ast\n",
    "import pickle\n",
    "import matplotlib.pyplot as plt\n",
    "from networkx.algorithms import bipartite\n",
    "import networkx as nx"
   ]
  },
  {
   "cell_type": "code",
   "execution_count": 5,
   "id": "f3a4de62-9627-42e6-9f97-2ec1fe014d5c",
   "metadata": {},
   "outputs": [
    {
     "data": {
      "text/html": [
       "<div>\n",
       "<style scoped>\n",
       "    .dataframe tbody tr th:only-of-type {\n",
       "        vertical-align: middle;\n",
       "    }\n",
       "\n",
       "    .dataframe tbody tr th {\n",
       "        vertical-align: top;\n",
       "    }\n",
       "\n",
       "    .dataframe thead th {\n",
       "        text-align: right;\n",
       "    }\n",
       "</style>\n",
       "<table border=\"1\" class=\"dataframe\">\n",
       "  <thead>\n",
       "    <tr style=\"text-align: right;\">\n",
       "      <th></th>\n",
       "      <th>Unnamed: 0.1</th>\n",
       "      <th>Unnamed: 0</th>\n",
       "      <th>id</th>\n",
       "      <th>name</th>\n",
       "      <th>path</th>\n",
       "      <th>center</th>\n",
       "      <th>area</th>\n",
       "    </tr>\n",
       "  </thead>\n",
       "  <tbody>\n",
       "    <tr>\n",
       "      <th>0</th>\n",
       "      <td>5372</td>\n",
       "      <td>5372</td>\n",
       "      <td>txrg84</td>\n",
       "      <td>Flag of France</td>\n",
       "      <td>{'109-164, T': [[249, 1469], [0, 1469], [0, 19...</td>\n",
       "      <td>{'109-164, T': [125, 1719]}</td>\n",
       "      <td>124500.0</td>\n",
       "    </tr>\n",
       "    <tr>\n",
       "      <th>1</th>\n",
       "      <td>1187</td>\n",
       "      <td>1187</td>\n",
       "      <td>twpyje</td>\n",
       "      <td>Flag of Germany</td>\n",
       "      <td>{'109-166, T': [[0, 1121], [448, 1121], [447, ...</td>\n",
       "      <td>{'109-166, T': [992, 1148]}</td>\n",
       "      <td>96223.0</td>\n",
       "    </tr>\n",
       "    <tr>\n",
       "      <th>2</th>\n",
       "      <td>258</td>\n",
       "      <td>258</td>\n",
       "      <td>000354</td>\n",
       "      <td>The Nordic Union</td>\n",
       "      <td>{'1-166, T': [[187, 93], [187, 97], [207, 97],...</td>\n",
       "      <td>{'1-166, T': [506, 129]}</td>\n",
       "      <td>89953.5</td>\n",
       "    </tr>\n",
       "    <tr>\n",
       "      <th>3</th>\n",
       "      <td>4866</td>\n",
       "      <td>4866</td>\n",
       "      <td>txd8wt</td>\n",
       "      <td>Central Alliance</td>\n",
       "      <td>{'1-166, T': [[448, 890], [512, 890], [512, 90...</td>\n",
       "      <td>{'1-166, T': [447, 994]}</td>\n",
       "      <td>75325.5</td>\n",
       "    </tr>\n",
       "    <tr>\n",
       "      <th>4</th>\n",
       "      <td>7916</td>\n",
       "      <td>7916</td>\n",
       "      <td>ubyhtf</td>\n",
       "      <td>Netherlands</td>\n",
       "      <td>{'56-166, T': [[297, 13], [297, 35], [886, 35]...</td>\n",
       "      <td>{'56-166, T': [1171, 19]}</td>\n",
       "      <td>54044.0</td>\n",
       "    </tr>\n",
       "  </tbody>\n",
       "</table>\n",
       "</div>"
      ],
      "text/plain": [
       "   Unnamed: 0.1  Unnamed: 0      id              name  \\\n",
       "0          5372        5372  txrg84    Flag of France   \n",
       "1          1187        1187  twpyje   Flag of Germany   \n",
       "2           258         258  000354  The Nordic Union   \n",
       "3          4866        4866  txd8wt  Central Alliance   \n",
       "4          7916        7916  ubyhtf       Netherlands   \n",
       "\n",
       "                                                path  \\\n",
       "0  {'109-164, T': [[249, 1469], [0, 1469], [0, 19...   \n",
       "1  {'109-166, T': [[0, 1121], [448, 1121], [447, ...   \n",
       "2  {'1-166, T': [[187, 93], [187, 97], [207, 97],...   \n",
       "3  {'1-166, T': [[448, 890], [512, 890], [512, 90...   \n",
       "4  {'56-166, T': [[297, 13], [297, 35], [886, 35]...   \n",
       "\n",
       "                        center      area  \n",
       "0  {'109-164, T': [125, 1719]}  124500.0  \n",
       "1  {'109-166, T': [992, 1148]}   96223.0  \n",
       "2     {'1-166, T': [506, 129]}   89953.5  \n",
       "3     {'1-166, T': [447, 994]}   75325.5  \n",
       "4    {'56-166, T': [1171, 19]}   54044.0  "
      ]
     },
     "execution_count": 5,
     "metadata": {},
     "output_type": "execute_result"
    }
   ],
   "source": [
    "df = pd.read_csv(\"artworks_ordered.csv\")\n",
    "df[:5]"
   ]
  },
  {
   "cell_type": "code",
   "execution_count": 6,
   "id": "e1aca85a-7943-48f1-b616-de1b822ad827",
   "metadata": {},
   "outputs": [],
   "source": [
    "#df = df[35:40]\n",
    "df = df[:5]"
   ]
  },
  {
   "cell_type": "code",
   "execution_count": 7,
   "id": "d4920002-220d-4d57-bd0f-a9a30d2acf88",
   "metadata": {},
   "outputs": [],
   "source": [
    "artworks = {}\n",
    "id_count = 1\n",
    "for row in df.itertuples():\n",
    "    name = row.name\n",
    "    path = row.path\n",
    "    path = ast.literal_eval(path)\n",
    "    coords = list(path.values())[0]\n",
    "    artworks[id_count] = coords\n",
    "    id_count += 1\n"
   ]
  },
  {
   "cell_type": "code",
   "execution_count": 28,
   "id": "8c291392-bad8-4c4a-a132-f6f77f03cbcc",
   "metadata": {},
   "outputs": [],
   "source": [
    "# Flag of France\n",
    "#art1 = [[125, 497], [175, 497], [175, 288], [171, 284], [171, 275], [148, 275], [148, 300], [141, 307], [141, 320], [152, 320], [152, 328], [125, 328], [125, 345], [132, 345], [132, 386], [125, 386]]\n",
    "#flag of argentina\n",
    "#art2 = [[1533, 1819], [1773, 1819], [1774, 1917], [1532, 1916]]\n"
   ]
  },
  {
   "cell_type": "code",
   "execution_count": 8,
   "id": "7ab58182-f5d0-4ba7-badb-11c709f47a8d",
   "metadata": {},
   "outputs": [],
   "source": [
    "def find_points(art):\n",
    "    x, y = np.meshgrid(np.arange(2000), np.arange(2000)) # make a canvas with coordinates\n",
    "    x, y = x.flatten(), y.flatten()\n",
    "    points = np.vstack((x,y)).T \n",
    "\n",
    "    p = Path(art) # make a polygon\n",
    "    grid = p.contains_points(points,radius = 0)\n",
    "    mask = grid.reshape(2000,2000) # now you have a mask with points inside a polygon\n",
    "    x,y = mask.nonzero()\n",
    "    coords = []\n",
    "    for xc,yc in zip(x,y):\n",
    "        coords.append((xc,yc))\n",
    "    return coords"
   ]
  },
  {
   "cell_type": "code",
   "execution_count": 29,
   "id": "21d7b5e5-8ee3-4779-bc53-c100d7d16449",
   "metadata": {},
   "outputs": [],
   "source": [
    "art1_pixels = find_points(art1)\n",
    "art2_pixels = find_points(art2)"
   ]
  },
  {
   "cell_type": "code",
   "execution_count": 30,
   "id": "00a810b0-2853-449a-a73b-264de363b87b",
   "metadata": {},
   "outputs": [],
   "source": [
    "s1 = set(art1_pixels)\n",
    "s2 = set(art1_pixels)"
   ]
  },
  {
   "cell_type": "code",
   "execution_count": 31,
   "id": "bd57849a-e8dc-45c0-b785-97318c4675cd",
   "metadata": {},
   "outputs": [],
   "source": [
    "pixel1 = {}\n",
    "pixel2 = {}"
   ]
  },
  {
   "cell_type": "code",
   "execution_count": 8,
   "id": "9e386fa8-a65e-4d2f-9c9d-d8e3737a4532",
   "metadata": {},
   "outputs": [
    {
     "data": {
      "application/vnd.jupyter.widget-view+json": {
       "model_id": "b6d2b4e6f9d84a718a6799c17d716f14",
       "version_major": 2,
       "version_minor": 0
      },
      "text/plain": [
       "  0%|          | 0/5 [00:00<?, ?it/s]"
      ]
     },
     "metadata": {},
     "output_type": "display_data"
    },
    {
     "data": {
      "application/vnd.jupyter.widget-view+json": {
       "model_id": "0ebde0250fb24b80a121162861e0835c",
       "version_major": 2,
       "version_minor": 0
      },
      "text/plain": [
       "0it [00:00, ?it/s]"
      ]
     },
     "metadata": {},
     "output_type": "display_data"
    },
    {
     "data": {
      "application/vnd.jupyter.widget-view+json": {
       "model_id": "79a300b0d2114a3ca19136bbe7a9ca17",
       "version_major": 2,
       "version_minor": 0
      },
      "text/plain": [
       "0it [00:00, ?it/s]"
      ]
     },
     "metadata": {},
     "output_type": "display_data"
    },
    {
     "data": {
      "application/vnd.jupyter.widget-view+json": {
       "model_id": "4a9dcc5c82104e439d5d7930aa367174",
       "version_major": 2,
       "version_minor": 0
      },
      "text/plain": [
       "0it [00:00, ?it/s]"
      ]
     },
     "metadata": {},
     "output_type": "display_data"
    },
    {
     "data": {
      "application/vnd.jupyter.widget-view+json": {
       "model_id": "765a24ced7224c4bb8475e7b5be65034",
       "version_major": 2,
       "version_minor": 0
      },
      "text/plain": [
       "0it [00:00, ?it/s]"
      ]
     },
     "metadata": {},
     "output_type": "display_data"
    },
    {
     "data": {
      "application/vnd.jupyter.widget-view+json": {
       "model_id": "2166b17ee37c4d38bac779ca91b20f66",
       "version_major": 2,
       "version_minor": 0
      },
      "text/plain": [
       "0it [00:00, ?it/s]"
      ]
     },
     "metadata": {},
     "output_type": "display_data"
    }
   ],
   "source": [
    "CHUNK_SIZE = 3_000_000\n",
    "\n",
    "f = open('prova.txt', 'w')\n",
    "\n",
    "\n",
    "for key in tqdm(artworks.keys()):\n",
    "    art_pixel = find_points(artworks[key])\n",
    "    s = set(art_pixel)\n",
    "    name = key\n",
    "    \n",
    "    with pd.read_csv(\n",
    "            'reddit_place_2022_trimmed.csv',\n",
    "            chunksize=CHUNK_SIZE,\n",
    "            engine=\"c\",\n",
    "            dtype={'timestamp':np.uint32,\n",
    "              'user_id':np.uint32,\n",
    "              'pixel_color':np.uint8,\n",
    "              'x':np.uint16,\n",
    "              'y':np.uint16,}\n",
    "        ) as csv:\n",
    "            for chunk in tqdm(csv):\n",
    "                for row in chunk.itertuples():\n",
    "                    user = row.user_id\n",
    "                    x = row.x\n",
    "                    y = row.y\n",
    "                    if (x,y) in s:\n",
    "                            f.write(str(name) + ' ' + str(user) + '\\n')\n",
    "f.close()"
   ]
  },
  {
   "cell_type": "code",
   "execution_count": 9,
   "id": "68b1c742-aee6-46bf-b83f-3f3b8153dbd2",
   "metadata": {},
   "outputs": [
    {
     "data": {
      "application/vnd.jupyter.widget-view+json": {
       "model_id": "66382ff259a446c78e9ffda47faa01be",
       "version_major": 2,
       "version_minor": 0
      },
      "text/plain": [
       "  0%|          | 0/5 [00:00<?, ?it/s]"
      ]
     },
     "metadata": {},
     "output_type": "display_data"
    },
    {
     "data": {
      "application/vnd.jupyter.widget-view+json": {
       "model_id": "bdbf0771637c4dfb8139c2c4d523da44",
       "version_major": 2,
       "version_minor": 0
      },
      "text/plain": [
       "0it [00:00, ?it/s]"
      ]
     },
     "metadata": {},
     "output_type": "display_data"
    },
    {
     "data": {
      "application/vnd.jupyter.widget-view+json": {
       "model_id": "a49feb0770f84f438cf5d31d5b470ade",
       "version_major": 2,
       "version_minor": 0
      },
      "text/plain": [
       "0it [00:00, ?it/s]"
      ]
     },
     "metadata": {},
     "output_type": "display_data"
    },
    {
     "data": {
      "application/vnd.jupyter.widget-view+json": {
       "model_id": "7a7173df359240cbae275006f9c4dc48",
       "version_major": 2,
       "version_minor": 0
      },
      "text/plain": [
       "0it [00:00, ?it/s]"
      ]
     },
     "metadata": {},
     "output_type": "display_data"
    },
    {
     "data": {
      "application/vnd.jupyter.widget-view+json": {
       "model_id": "eaf9ef37dffe4465a5e94a9296f64955",
       "version_major": 2,
       "version_minor": 0
      },
      "text/plain": [
       "0it [00:00, ?it/s]"
      ]
     },
     "metadata": {},
     "output_type": "display_data"
    },
    {
     "data": {
      "application/vnd.jupyter.widget-view+json": {
       "model_id": "ae634f4e01fc45ab80feb09907286da0",
       "version_major": 2,
       "version_minor": 0
      },
      "text/plain": [
       "0it [00:00, ?it/s]"
      ]
     },
     "metadata": {},
     "output_type": "display_data"
    },
    {
     "name": "stdout",
     "output_type": "stream",
     "text": [
      "6964\n"
     ]
    }
   ],
   "source": [
    "CHUNK_SIZE = 3_000_000\n",
    "MIN_TILES = 100\n",
    "f = open('prova.txt', 'w')\n",
    "counter = 0\n",
    "\n",
    "for key in tqdm(artworks.keys()):\n",
    "    art_pixel = find_points(artworks[key])\n",
    "    s = set(art_pixel)\n",
    "    name = key\n",
    "    user_actions = {}\n",
    "\n",
    "    with pd.read_csv(\n",
    "            'reddit_place_2022_trimmed.csv',\n",
    "            chunksize=CHUNK_SIZE,\n",
    "            engine=\"c\",\n",
    "            dtype={'timestamp':np.uint32,\n",
    "              'user_id':np.uint32,\n",
    "              'pixel_color':np.uint8,\n",
    "              'x':np.uint16,\n",
    "              'y':np.uint16,}\n",
    "        ) as csv:\n",
    "            for chunk in tqdm(csv):\n",
    "                for row in chunk.itertuples():\n",
    "                    user = row.user_id\n",
    "                    x = row.x\n",
    "                    y = row.y\n",
    "                    if (x,y) in s:\n",
    "                        if  user in user_actions:\n",
    "                            user_actions[user] = user_actions[user] + 1 \n",
    "                        else:\n",
    "                            user_actions[user] = 1\n",
    "               \n",
    "    for user_key in user_actions.keys():\n",
    "        if user_actions[user_key] > MIN_TILES:\n",
    "            f.write(str(name) + ' ' + str(user_key) + '\\n')\n",
    "            counter +=  1\n",
    "    print(counter)\n",
    "f.close()"
   ]
  },
  {
   "cell_type": "code",
   "execution_count": 26,
   "id": "52f4ef0c-2957-44ee-b47a-080b7ea851fd",
   "metadata": {},
   "outputs": [
    {
     "name": "stdout",
     "output_type": "stream",
     "text": [
      "111\n"
     ]
    }
   ],
   "source": [
    "f = open('prova.txt', 'w')\n",
    "\n",
    "for user_key in user_actions.keys():\n",
    "    print(user_key)\n",
    "    if user_actions[user_key] > 5:\n",
    "        f.write(str(name) + ' ' + str(user) + '\\n')\n",
    "        counter +=  1\n",
    "    break\n",
    "f.close()"
   ]
  },
  {
   "cell_type": "code",
   "execution_count": 80,
   "id": "10af5ead-d373-40bc-ae25-e19bac2d4173",
   "metadata": {},
   "outputs": [],
   "source": [
    "l = []\n",
    "for user_key in user_actions.keys():\n",
    "    if user_actions[user_key] > 100:\n",
    "        l.append(user_actions[user_key])"
   ]
  },
  {
   "cell_type": "code",
   "execution_count": 81,
   "id": "ef6bafcd-5fe1-40c9-9311-fed9d4496f7e",
   "metadata": {},
   "outputs": [
    {
     "data": {
      "text/plain": [
       "101"
      ]
     },
     "execution_count": 81,
     "metadata": {},
     "output_type": "execute_result"
    }
   ],
   "source": [
    "min(l)"
   ]
  },
  {
   "cell_type": "code",
   "execution_count": 82,
   "id": "a695ace9-59d9-4046-952d-903e1cdff1ca",
   "metadata": {},
   "outputs": [
    {
     "data": {
      "image/png": "[encoded data removed]",
      "text/plain": [
       "<Figure size 432x288 with 1 Axes>"
      ]
     },
     "metadata": {
      "needs_background": "light"
     },
     "output_type": "display_data"
    }
   ],
   "source": [
    "hist, bins, _ = plt.hist(l, bins=8)"
   ]
  },
  {
   "cell_type": "code",
   "execution_count": 83,
   "id": "979267e8-c697-421e-985d-67cb7fcdd21c",
   "metadata": {},
   "outputs": [
    {
     "data": {
      "image/png": "[encoded data removed]",
      "text/plain": [
       "<Figure size 432x288 with 1 Axes>"
      ]
     },
     "metadata": {
      "needs_background": "light"
     },
     "output_type": "display_data"
    }
   ],
   "source": [
    "logbins = np.logspace(np.log10(bins[0]),np.log10(bins[-1]),10)\n",
    "plt.hist(l, bins=logbins)\n",
    "plt.xscale('log')\n",
    "plt.yscale('log')\n",
    "plt.show()"
   ]
  },
  {
   "cell_type": "code",
   "execution_count": 29,
   "id": "d48e0f39-e775-4372-8889-44895365a9ca",
   "metadata": {},
   "outputs": [
    {
     "data": {
      "text/plain": [
       "40"
      ]
     },
     "execution_count": 29,
     "metadata": {},
     "output_type": "execute_result"
    }
   ],
   "source": [
    "user_actions[3]"
   ]
  },
  {
   "cell_type": "code",
   "execution_count": 23,
   "id": "51faa7f3-4663-460f-bf43-577b26e9084b",
   "metadata": {},
   "outputs": [
    {
     "data": {
      "text/plain": [
       "129154"
      ]
     },
     "execution_count": 23,
     "metadata": {},
     "output_type": "execute_result"
    }
   ],
   "source": [
    "counter"
   ]
  },
  {
   "cell_type": "code",
   "execution_count": 20,
   "id": "5de9e4b2-d803-424c-9718-5deea18b8035",
   "metadata": {},
   "outputs": [
    {
     "data": {
      "text/plain": [
       "1219430"
      ]
     },
     "execution_count": 20,
     "metadata": {},
     "output_type": "execute_result"
    }
   ],
   "source": [
    "len(user_actions.keys())"
   ]
  },
  {
   "cell_type": "code",
   "execution_count": 7,
   "id": "17742eba-33ab-4853-88f0-7e9da4ca1e44",
   "metadata": {},
   "outputs": [],
   "source": [
    "def create_coords_users(chunk,pixel,s):\n",
    "    for row in chunk.itertuples():\n",
    "        user = row.user_id\n",
    "        x = row.x\n",
    "        y = row.y\n",
    "        if (x,y) in s:\n",
    "            if (x,y) in pixel:\n",
    "                pixel[(x,y)].append(user)\n",
    "            else: \n",
    "                pixel[(x,y)] = [user]"
   ]
  },
  {
   "cell_type": "code",
   "execution_count": 8,
   "id": "b573d475-b9df-44b4-83b5-7e496c54efd0",
   "metadata": {},
   "outputs": [
    {
     "data": {
      "application/vnd.jupyter.widget-view+json": {
       "model_id": "e4fe0af8f3d04966926935f2b52cb4e2",
       "version_major": 2,
       "version_minor": 0
      },
      "text/plain": [
       "0it [00:00, ?it/s]"
      ]
     },
     "metadata": {},
     "output_type": "display_data"
    }
   ],
   "source": [
    "CHUNK_SIZE = 1_000_000\n",
    "\n",
    "with pd.read_csv(\n",
    "        'reddit_place_2022_trimmed.csv',\n",
    "        chunksize=CHUNK_SIZE,\n",
    "        engine=\"c\",\n",
    "        dtype={'timestamp':np.uint32,\n",
    "          'user_id':np.uint32,\n",
    "          'pixel_color':np.uint8,\n",
    "          'x':np.uint16,\n",
    "          'y':np.uint16,}\n",
    "    ) as csv:\n",
    "        for chunk in tqdm(csv):\n",
    "            create_coords_users(chunk,pixel1,s1)"
   ]
  },
  {
   "cell_type": "code",
   "execution_count": 9,
   "id": "9e088170-5ef1-4dd1-98f0-8b184219dfa2",
   "metadata": {},
   "outputs": [
    {
     "data": {
      "application/vnd.jupyter.widget-view+json": {
       "model_id": "3846d0b7a9f6433ba0cdab9ca09da3b7",
       "version_major": 2,
       "version_minor": 0
      },
      "text/plain": [
       "0it [00:00, ?it/s]"
      ]
     },
     "metadata": {},
     "output_type": "display_data"
    }
   ],
   "source": [
    "with pd.read_csv(\n",
    "        'reddit_place_2022_trimmed.csv',\n",
    "        chunksize=CHUNK_SIZE,\n",
    "        engine=\"c\",\n",
    "        dtype={'timestamp':np.uint32,\n",
    "          'user_id':np.uint32,\n",
    "          'pixel_color':np.uint8,\n",
    "          'x':np.uint16,\n",
    "          'y':np.uint16,}\n",
    "    ) as csv:\n",
    "        for chunk in tqdm(csv):\n",
    "            create_coords_users(chunk,pixel2,s2)"
   ]
  },
  {
   "cell_type": "code",
   "execution_count": 10,
   "id": "58449336-50f3-4962-80f1-4265c0d9b761",
   "metadata": {},
   "outputs": [],
   "source": [
    "edges1 = []\n",
    "for key in pixel1.keys():\n",
    "    for user in pixel1[key]:\n",
    "        edges1.append((user,key))"
   ]
  },
  {
   "cell_type": "code",
   "execution_count": 11,
   "id": "588895c5-62f5-4e6e-a840-362ba2a7b914",
   "metadata": {},
   "outputs": [],
   "source": [
    "edges2 = []\n",
    "for key in pixel2.keys():\n",
    "    for user in pixel2[key]:\n",
    "        edges2.append((user,key))"
   ]
  },
  {
   "cell_type": "code",
   "execution_count": 12,
   "id": "6415b3ec-7fb7-46c4-a803-9eab2c3e34d5",
   "metadata": {},
   "outputs": [
    {
     "data": {
      "text/plain": [
       "758364"
      ]
     },
     "execution_count": 12,
     "metadata": {},
     "output_type": "execute_result"
    }
   ],
   "source": [
    "edges = edges1 + edges2\n",
    "len(edges)"
   ]
  },
  {
   "cell_type": "code",
   "execution_count": 33,
   "id": "27d4d3b9-de35-46c5-9196-7bd1c701a7c2",
   "metadata": {},
   "outputs": [],
   "source": [
    "from networkx.algorithms import bipartite\n",
    "import networkx as nx"
   ]
  },
  {
   "cell_type": "code",
   "execution_count": 19,
   "id": "4fa34933-3952-49c7-9774-8a4936543137",
   "metadata": {},
   "outputs": [],
   "source": []
  },
  {
   "cell_type": "code",
   "execution_count": 15,
   "id": "c6e2ea2a-6e57-4de6-ac38-3850733d3596",
   "metadata": {},
   "outputs": [],
   "source": [
    "user = list(range(10381144))"
   ]
  },
  {
   "cell_type": "code",
   "execution_count": 16,
   "id": "f40be88b-15af-4351-8d08-d6214da47734",
   "metadata": {},
   "outputs": [],
   "source": [
    "pixel = list(pixel1.keys()) + list(pixel2.keys()) "
   ]
  },
  {
   "cell_type": "code",
   "execution_count": 17,
   "id": "afa16151-47c9-4782-a6a5-854745475f7d",
   "metadata": {},
   "outputs": [],
   "source": [
    "B = nx.Graph()\n",
    "B.add_nodes_from(user, bipartite=0)\n",
    "B.add_nodes_from(pixel, bipartite=1)\n",
    "# Add edges only between nodes of opposite node sets\n",
    "#B.add_edges_from([(1, \"a\"), (1, \"b\"), (2, \"b\"), (2, \"c\"), (3, \"c\"), (4, \"a\")])\n",
    "B.add_edges_from(edges)\n"
   ]
  },
  {
   "cell_type": "code",
   "execution_count": 20,
   "id": "ccfac66a-4984-414d-aac2-8ef1f761b72c",
   "metadata": {},
   "outputs": [
    {
     "data": {
      "text/plain": [
       "True"
      ]
     },
     "execution_count": 20,
     "metadata": {},
     "output_type": "execute_result"
    }
   ],
   "source": [
    "nx.is_bipartite(B)"
   ]
  },
  {
   "cell_type": "code",
   "execution_count": null,
   "id": "09b75a2c-9751-4c05-a293-fc08eb083c76",
   "metadata": {},
   "outputs": [],
   "source": [
    "nx.degree(B)"
   ]
  },
  {
   "cell_type": "code",
   "execution_count": 3,
   "id": "e3debb3d-226c-4168-bce6-ca60ca2c06d5",
   "metadata": {},
   "outputs": [],
   "source": [
    "from networkx.algorithms import bipartite\n",
    "import networkx as nx"
   ]
  },
  {
   "cell_type": "code",
   "execution_count": 4,
   "id": "ee639044-f410-4a91-97cf-b5864e531e17",
   "metadata": {},
   "outputs": [],
   "source": [
    "G=nx.Graph()\n",
    "fh=open('prova.txt','r')\n",
    "for line in fh.readlines():\n",
    "    s=line.strip().split()\n",
    "    G.add_node(s[0],bipartite=0)\n",
    "    G.add_node(int(s[1]),bipartite=1)\n",
    "    G.add_edge(s[0],int(s[1]))\n",
    "fh.close()        "
   ]
  },
  {
   "cell_type": "code",
   "execution_count": 5,
   "id": "6709949f-e857-4b87-8e3f-3f135f543a1b",
   "metadata": {},
   "outputs": [
    {
     "data": {
      "text/plain": [
       "True"
      ]
     },
     "execution_count": 5,
     "metadata": {},
     "output_type": "execute_result"
    }
   ],
   "source": [
    "nx.is_bipartite(G)"
   ]
  },
  {
   "cell_type": "code",
   "execution_count": 6,
   "id": "436d63de-d187-4020-af57-ad29748e98ac",
   "metadata": {},
   "outputs": [
    {
     "data": {
      "text/plain": [
       "6903"
      ]
     },
     "execution_count": 6,
     "metadata": {},
     "output_type": "execute_result"
    }
   ],
   "source": [
    "top = nx.bipartite.sets(G)[1]\n",
    "len(top)"
   ]
  },
  {
   "cell_type": "code",
   "execution_count": 7,
   "id": "fa3a5e5f-d6b8-4e9d-9507-dd47559d26bf",
   "metadata": {},
   "outputs": [],
   "source": [
    "bottom = nx.bipartite.sets(G)[0]\n"
   ]
  },
  {
   "cell_type": "code",
   "execution_count": 8,
   "id": "ee8d68a3-b5c2-4167-99ad-66e863af4046",
   "metadata": {},
   "outputs": [],
   "source": [
    "B = bipartite.projected_graph(G,bottom, multigraph=False)"
   ]
  },
  {
   "cell_type": "code",
   "execution_count": 9,
   "id": "6f1c166a-0d4f-4200-a376-0e0f96685585",
   "metadata": {},
   "outputs": [
    {
     "data": {
      "image/png": "[encoded data removed]",
      "text/plain": [
       "<Figure size 432x288 with 1 Axes>"
      ]
     },
     "metadata": {},
     "output_type": "display_data"
    }
   ],
   "source": [
    "nx.draw(B)"
   ]
  },
  {
   "cell_type": "code",
   "execution_count": 15,
   "id": "f7773dd4-2772-4d30-95f9-42fff82f7256",
   "metadata": {},
   "outputs": [],
   "source": [
    "A = bipartite.projected_graph(G,top, multigraph=False)"
   ]
  },
  {
   "cell_type": "code",
   "execution_count": null,
   "id": "22302b6d-38ad-4769-bc36-6de0d6de8036",
   "metadata": {},
   "outputs": [],
   "source": [
    "nx.draw(A, pos=pos) #with_labels=True, node_color=['green','green','green','green','blue','blue','blue'])\n",
    "plt.show()"
   ]
  },
  {
   "cell_type": "code",
   "execution_count": 12,
   "id": "b13d257e-b5e3-4dc2-af38-454e459183fd",
   "metadata": {},
   "outputs": [
    {
     "data": {
      "image/png": "[encoded data removed]",
      "text/plain": [
       "<Figure size 432x288 with 1 Axes>"
      ]
     },
     "metadata": {},
     "output_type": "display_data"
    }
   ],
   "source": [
    "top = nx.bipartite.sets(G)[0]\n",
    "pos = nx.bipartite_layout(G, top)\n",
    "nx.draw(G, pos=pos) #with_labels=True, node_color=['green','green','green','green','blue','blue','blue'])\n",
    "plt.show()"
   ]
  },
  {
   "cell_type": "code",
   "execution_count": 3,
   "id": "877166d8-6236-4f29-bc1e-4c32dfb52c64",
   "metadata": {},
   "outputs": [],
   "source": [
    "from igraph import *"
   ]
  },
  {
   "cell_type": "code",
   "execution_count": 4,
   "id": "68f46cab-cb65-4e6f-82cc-064f73d41909",
   "metadata": {},
   "outputs": [],
   "source": [
    "g = Graph.Bipartite([0, 1, 0, 1], [(0, 1), (2, 3), (0, 3)])"
   ]
  },
  {
   "cell_type": "code",
   "execution_count": 5,
   "id": "a3e099c6-0d8e-4f55-bfa9-93e39a698ad0",
   "metadata": {},
   "outputs": [
    {
     "data": {
      "text/plain": [
       "[2, 1, 1, 2]"
      ]
     },
     "execution_count": 5,
     "metadata": {},
     "output_type": "execute_result"
    }
   ],
   "source": [
    "g.degree()"
   ]
  },
  {
   "cell_type": "code",
   "execution_count": 6,
   "id": "eee65589-7d80-4b55-8971-cf0155f2786a",
   "metadata": {},
   "outputs": [
    {
     "data": {
      "text/plain": [
       "Matrix([[0, 1, 0, 1], [1, 0, 0, 0], [0, 0, 0, 1], [1, 0, 1, 0]])"
      ]
     },
     "execution_count": 6,
     "metadata": {},
     "output_type": "execute_result"
    }
   ],
   "source": [
    "g.get_adjacency()"
   ]
  },
  {
   "cell_type": "code",
   "execution_count": 7,
   "id": "19bd6ced-d25a-4ebd-bf20-1291e15352d4",
   "metadata": {},
   "outputs": [
    {
     "data": {
      "image/svg+xml": [
       "<?xml version=\"1.0\" encoding=\"UTF-8\"?>\n",
       "<svg xmlns=\"http://www.w3.org/2000/svg\" xmlns:xlink=\"http://www.w3.org/1999/xlink\" width=\"600\" height=\"600\" viewBox=\"0 0 600 600\">\n",
       "<rect x=\"-60\" y=\"-60\" width=\"720\" height=\"720\" fill=\"rgb(100%, 100%, 100%)\" fill-opacity=\"1\"/>\n",
       "<path fill=\"none\" stroke-width=\"1\" stroke-linecap=\"butt\" stroke-linejoin=\"miter\" stroke=\"rgb(26.666667%, 26.666667%, 26.666667%)\" stroke-opacity=\"1\" stroke-miterlimit=\"10\" d=\"M 393.332031 393.332031 L 580 580 \"/>\n",
       "<path fill=\"none\" stroke-width=\"1\" stroke-linecap=\"butt\" stroke-linejoin=\"miter\" stroke=\"rgb(26.666667%, 26.666667%, 26.666667%)\" stroke-opacity=\"1\" stroke-miterlimit=\"10\" d=\"M 20 20 L 206.667969 206.664062 \"/>\n",
       "<path fill=\"none\" stroke-width=\"1\" stroke-linecap=\"butt\" stroke-linejoin=\"miter\" stroke=\"rgb(26.666667%, 26.666667%, 26.666667%)\" stroke-opacity=\"1\" stroke-miterlimit=\"10\" d=\"M 393.332031 393.332031 L 206.667969 206.664062 \"/>\n",
       "<path fill-rule=\"nonzero\" fill=\"rgb(100%, 0%, 0%)\" fill-opacity=\"1\" stroke-width=\"1\" stroke-linecap=\"butt\" stroke-linejoin=\"miter\" stroke=\"rgb(0%, 0%, 0%)\" stroke-opacity=\"1\" stroke-miterlimit=\"10\" d=\"M 403.332031 393.332031 C 403.332031 398.855469 398.855469 403.332031 393.332031 403.332031 C 387.8125 403.332031 383.332031 398.855469 383.332031 393.332031 C 383.332031 387.808594 387.8125 383.332031 393.332031 383.332031 C 398.855469 383.332031 403.332031 387.808594 403.332031 393.332031 \"/>\n",
       "<path fill-rule=\"nonzero\" fill=\"rgb(100%, 0%, 0%)\" fill-opacity=\"1\" stroke-width=\"1\" stroke-linecap=\"butt\" stroke-linejoin=\"miter\" stroke=\"rgb(0%, 0%, 0%)\" stroke-opacity=\"1\" stroke-miterlimit=\"10\" d=\"M 590 580 C 590 585.523438 585.523438 590 580 590 C 574.476562 590 570 585.523438 570 580 C 570 574.476562 574.476562 570 580 570 C 585.523438 570 590 574.476562 590 580 \"/>\n",
       "<path fill-rule=\"nonzero\" fill=\"rgb(100%, 0%, 0%)\" fill-opacity=\"1\" stroke-width=\"1\" stroke-linecap=\"butt\" stroke-linejoin=\"miter\" stroke=\"rgb(0%, 0%, 0%)\" stroke-opacity=\"1\" stroke-miterlimit=\"10\" d=\"M 30 20 C 30 25.523438 25.523438 30 20 30 C 14.476562 30 10 25.523438 10 20 C 10 14.476562 14.476562 10 20 10 C 25.523438 10 30 14.476562 30 20 \"/>\n",
       "<path fill-rule=\"nonzero\" fill=\"rgb(100%, 0%, 0%)\" fill-opacity=\"1\" stroke-width=\"1\" stroke-linecap=\"butt\" stroke-linejoin=\"miter\" stroke=\"rgb(0%, 0%, 0%)\" stroke-opacity=\"1\" stroke-miterlimit=\"10\" d=\"M 216.667969 206.664062 C 216.667969 212.1875 212.191406 216.664062 206.667969 216.664062 C 201.144531 216.664062 196.667969 212.1875 196.667969 206.664062 C 196.667969 201.140625 201.144531 196.664062 206.667969 196.664062 C 212.191406 196.664062 216.667969 201.140625 216.667969 206.664062 \"/>\n",
       "</svg>\n"
      ],
      "text/plain": [
       "<igraph.drawing.Plot at 0x7fe47ab26590>"
      ]
     },
     "execution_count": 7,
     "metadata": {
      "image/svg+xml": {
       "isolated": true
      }
     },
     "output_type": "execute_result"
    }
   ],
   "source": [
    "layout = g.layout(\"kk\")\n",
    "\n",
    "plot(g, layout=layout)"
   ]
  },
  {
   "cell_type": "code",
   "execution_count": null,
   "id": "9bb2a3ac-60e9-4a12-bd73-f23b4fd27e09",
   "metadata": {},
   "outputs": [],
   "source": [
    "graph_draw(g, vertex_text=g.vertex_index, output=\"two-nodes.pdf\")"
   ]
  }
 ],
 "metadata": {
  "kernelspec": {
   "display_name": "Python 3 (ipykernel)",
   "language": "python",
   "name": "python3"
  },
  "language_info": {
   "codemirror_mode": {
    "name": "ipython",
    "version": 3
   },
   "file_extension": ".py",
   "mimetype": "text/x-python",
   "name": "python",
   "nbconvert_exporter": "python",
   "pygments_lexer": "ipython3",
   "version": "3.10.5"
  }
 },
 "nbformat": 4,
 "nbformat_minor": 5
}
