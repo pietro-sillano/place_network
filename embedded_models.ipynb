{
 "cells": [
  {
   "cell_type": "code",
   "execution_count": 30,
   "metadata": {
    "collapsed": true,
    "jupyter": {
     "outputs_hidden": true
    }
   },
   "outputs": [],
   "source": [
    "import torch\n",
    "import torch.nn as nn\n",
    "import torch.optim as optim\n",
    "from torch import Tensor, LongTensor, FloatTensor\n",
    "from torch.autograd import Variable\n",
    "\n",
    "import pandas as pd\n",
    "import numpy as np\n",
    "import pickle\n",
    "\n",
    "import matplotlib.pyplot as plt\n",
    "from tqdm import tqdm, tqdm_notebook"
   ]
  },
  {
   "cell_type": "code",
   "execution_count": 3,
   "metadata": {
    "scrolled": true
   },
   "outputs": [
    {
     "data": {
      "text/html": [
       "<div>\n",
       "<style>\n",
       "    .dataframe thead tr:only-child th {\n",
       "        text-align: right;\n",
       "    }\n",
       "\n",
       "    .dataframe thead th {\n",
       "        text-align: left;\n",
       "    }\n",
       "\n",
       "    .dataframe tbody tr th {\n",
       "        vertical-align: top;\n",
       "    }\n",
       "</style>\n",
       "<table border=\"1\" class=\"dataframe\">\n",
       "  <thead>\n",
       "    <tr style=\"text-align: right;\">\n",
       "      <th></th>\n",
       "      <th>ts</th>\n",
       "      <th>user</th>\n",
       "      <th>x_coordinate</th>\n",
       "      <th>y_coordinate</th>\n",
       "      <th>color</th>\n",
       "      <th>pixel</th>\n",
       "      <th>local_agreement</th>\n",
       "      <th>previous_agreement</th>\n",
       "      <th>previous_user</th>\n",
       "    </tr>\n",
       "  </thead>\n",
       "  <tbody>\n",
       "    <tr>\n",
       "      <th>13216722</th>\n",
       "      <td>1490918688000</td>\n",
       "      <td>2puPLvQ6X2zTSpfBkHXhxlIVo40=</td>\n",
       "      <td>505</td>\n",
       "      <td>510</td>\n",
       "      <td>1</td>\n",
       "      <td>511015</td>\n",
       "      <td>0.000</td>\n",
       "      <td>0.000000</td>\n",
       "      <td>None</td>\n",
       "    </tr>\n",
       "    <tr>\n",
       "      <th>15577615</th>\n",
       "      <td>1490918728000</td>\n",
       "      <td>2puPLvQ6X2zTSpfBkHXhxlIVo40=</td>\n",
       "      <td>490</td>\n",
       "      <td>504</td>\n",
       "      <td>1</td>\n",
       "      <td>504994</td>\n",
       "      <td>0.000</td>\n",
       "      <td>0.000000</td>\n",
       "      <td>None</td>\n",
       "    </tr>\n",
       "    <tr>\n",
       "      <th>5985698</th>\n",
       "      <td>1490918781000</td>\n",
       "      <td>2puPLvQ6X2zTSpfBkHXhxlIVo40=</td>\n",
       "      <td>518</td>\n",
       "      <td>498</td>\n",
       "      <td>0</td>\n",
       "      <td>499016</td>\n",
       "      <td>0.000</td>\n",
       "      <td>0.000000</td>\n",
       "      <td>None</td>\n",
       "    </tr>\n",
       "    <tr>\n",
       "      <th>16342824</th>\n",
       "      <td>1490919337000</td>\n",
       "      <td>GP2B74SRyrZ3HIflSFoAzM+jS3U=</td>\n",
       "      <td>474</td>\n",
       "      <td>495</td>\n",
       "      <td>11</td>\n",
       "      <td>495969</td>\n",
       "      <td>0.000</td>\n",
       "      <td>0.000000</td>\n",
       "      <td>None</td>\n",
       "    </tr>\n",
       "    <tr>\n",
       "      <th>5693574</th>\n",
       "      <td>1490919349000</td>\n",
       "      <td>GP2B74SRyrZ3HIflSFoAzM+jS3U=</td>\n",
       "      <td>477</td>\n",
       "      <td>495</td>\n",
       "      <td>11</td>\n",
       "      <td>495972</td>\n",
       "      <td>0.000</td>\n",
       "      <td>0.000000</td>\n",
       "      <td>None</td>\n",
       "    </tr>\n",
       "    <tr>\n",
       "      <th>9251462</th>\n",
       "      <td>1490919361000</td>\n",
       "      <td>GP2B74SRyrZ3HIflSFoAzM+jS3U=</td>\n",
       "      <td>472</td>\n",
       "      <td>496</td>\n",
       "      <td>11</td>\n",
       "      <td>496968</td>\n",
       "      <td>0.000</td>\n",
       "      <td>0.000000</td>\n",
       "      <td>None</td>\n",
       "    </tr>\n",
       "    <tr>\n",
       "      <th>2145079</th>\n",
       "      <td>1490919379000</td>\n",
       "      <td>GP2B74SRyrZ3HIflSFoAzM+jS3U=</td>\n",
       "      <td>473</td>\n",
       "      <td>497</td>\n",
       "      <td>11</td>\n",
       "      <td>497970</td>\n",
       "      <td>1.000</td>\n",
       "      <td>0.000000</td>\n",
       "      <td>None</td>\n",
       "    </tr>\n",
       "    <tr>\n",
       "      <th>966759</th>\n",
       "      <td>1490919398000</td>\n",
       "      <td>GP2B74SRyrZ3HIflSFoAzM+jS3U=</td>\n",
       "      <td>474</td>\n",
       "      <td>498</td>\n",
       "      <td>11</td>\n",
       "      <td>498972</td>\n",
       "      <td>1.000</td>\n",
       "      <td>1.000000</td>\n",
       "      <td>None</td>\n",
       "    </tr>\n",
       "    <tr>\n",
       "      <th>4497938</th>\n",
       "      <td>1490919410000</td>\n",
       "      <td>GP2B74SRyrZ3HIflSFoAzM+jS3U=</td>\n",
       "      <td>475</td>\n",
       "      <td>498</td>\n",
       "      <td>11</td>\n",
       "      <td>498973</td>\n",
       "      <td>1.000</td>\n",
       "      <td>1.000000</td>\n",
       "      <td>None</td>\n",
       "    </tr>\n",
       "    <tr>\n",
       "      <th>13970911</th>\n",
       "      <td>1490919426000</td>\n",
       "      <td>GP2B74SRyrZ3HIflSFoAzM+jS3U=</td>\n",
       "      <td>476</td>\n",
       "      <td>498</td>\n",
       "      <td>11</td>\n",
       "      <td>498974</td>\n",
       "      <td>1.000</td>\n",
       "      <td>1.000000</td>\n",
       "      <td>None</td>\n",
       "    </tr>\n",
       "    <tr>\n",
       "      <th>12804041</th>\n",
       "      <td>1490919465000</td>\n",
       "      <td>GP2B74SRyrZ3HIflSFoAzM+jS3U=</td>\n",
       "      <td>477</td>\n",
       "      <td>498</td>\n",
       "      <td>11</td>\n",
       "      <td>498975</td>\n",
       "      <td>1.000</td>\n",
       "      <td>1.000000</td>\n",
       "      <td>None</td>\n",
       "    </tr>\n",
       "    <tr>\n",
       "      <th>3316652</th>\n",
       "      <td>1490919480000</td>\n",
       "      <td>GP2B74SRyrZ3HIflSFoAzM+jS3U=</td>\n",
       "      <td>478</td>\n",
       "      <td>497</td>\n",
       "      <td>11</td>\n",
       "      <td>497975</td>\n",
       "      <td>1.000</td>\n",
       "      <td>1.000000</td>\n",
       "      <td>None</td>\n",
       "    </tr>\n",
       "    <tr>\n",
       "      <th>6868433</th>\n",
       "      <td>1490919494000</td>\n",
       "      <td>GP2B74SRyrZ3HIflSFoAzM+jS3U=</td>\n",
       "      <td>479</td>\n",
       "      <td>496</td>\n",
       "      <td>11</td>\n",
       "      <td>496975</td>\n",
       "      <td>1.000</td>\n",
       "      <td>1.000000</td>\n",
       "      <td>None</td>\n",
       "    </tr>\n",
       "    <tr>\n",
       "      <th>3523627</th>\n",
       "      <td>1490919557000</td>\n",
       "      <td>2puPLvQ6X2zTSpfBkHXhxlIVo40=</td>\n",
       "      <td>544</td>\n",
       "      <td>529</td>\n",
       "      <td>15</td>\n",
       "      <td>530073</td>\n",
       "      <td>0.000</td>\n",
       "      <td>0.000000</td>\n",
       "      <td>None</td>\n",
       "    </tr>\n",
       "    <tr>\n",
       "      <th>3330332</th>\n",
       "      <td>1490919589000</td>\n",
       "      <td>GP2B74SRyrZ3HIflSFoAzM+jS3U=</td>\n",
       "      <td>444</td>\n",
       "      <td>497</td>\n",
       "      <td>11</td>\n",
       "      <td>497941</td>\n",
       "      <td>0.000</td>\n",
       "      <td>0.000000</td>\n",
       "      <td>None</td>\n",
       "    </tr>\n",
       "    <tr>\n",
       "      <th>13987344</th>\n",
       "      <td>1490919601000</td>\n",
       "      <td>GP2B74SRyrZ3HIflSFoAzM+jS3U=</td>\n",
       "      <td>444</td>\n",
       "      <td>498</td>\n",
       "      <td>11</td>\n",
       "      <td>498942</td>\n",
       "      <td>1.000</td>\n",
       "      <td>0.000000</td>\n",
       "      <td>None</td>\n",
       "    </tr>\n",
       "    <tr>\n",
       "      <th>8052294</th>\n",
       "      <td>1490919613000</td>\n",
       "      <td>GP2B74SRyrZ3HIflSFoAzM+jS3U=</td>\n",
       "      <td>444</td>\n",
       "      <td>499</td>\n",
       "      <td>11</td>\n",
       "      <td>499943</td>\n",
       "      <td>1.000</td>\n",
       "      <td>1.000000</td>\n",
       "      <td>None</td>\n",
       "    </tr>\n",
       "    <tr>\n",
       "      <th>4499222</th>\n",
       "      <td>1490919625000</td>\n",
       "      <td>GP2B74SRyrZ3HIflSFoAzM+jS3U=</td>\n",
       "      <td>445</td>\n",
       "      <td>498</td>\n",
       "      <td>11</td>\n",
       "      <td>498943</td>\n",
       "      <td>1.000</td>\n",
       "      <td>0.666667</td>\n",
       "      <td>None</td>\n",
       "    </tr>\n",
       "    <tr>\n",
       "      <th>12786946</th>\n",
       "      <td>1490919638000</td>\n",
       "      <td>GP2B74SRyrZ3HIflSFoAzM+jS3U=</td>\n",
       "      <td>444</td>\n",
       "      <td>496</td>\n",
       "      <td>11</td>\n",
       "      <td>496940</td>\n",
       "      <td>1.000</td>\n",
       "      <td>0.000000</td>\n",
       "      <td>None</td>\n",
       "    </tr>\n",
       "    <tr>\n",
       "      <th>4515798</th>\n",
       "      <td>1490919649000</td>\n",
       "      <td>GP2B74SRyrZ3HIflSFoAzM+jS3U=</td>\n",
       "      <td>444</td>\n",
       "      <td>500</td>\n",
       "      <td>11</td>\n",
       "      <td>500944</td>\n",
       "      <td>1.000</td>\n",
       "      <td>1.000000</td>\n",
       "      <td>None</td>\n",
       "    </tr>\n",
       "    <tr>\n",
       "      <th>8063475</th>\n",
       "      <td>1490919662000</td>\n",
       "      <td>GP2B74SRyrZ3HIflSFoAzM+jS3U=</td>\n",
       "      <td>446</td>\n",
       "      <td>498</td>\n",
       "      <td>11</td>\n",
       "      <td>498944</td>\n",
       "      <td>1.000</td>\n",
       "      <td>1.000000</td>\n",
       "      <td>None</td>\n",
       "    </tr>\n",
       "    <tr>\n",
       "      <th>16345935</th>\n",
       "      <td>1490919674000</td>\n",
       "      <td>GP2B74SRyrZ3HIflSFoAzM+jS3U=</td>\n",
       "      <td>447</td>\n",
       "      <td>498</td>\n",
       "      <td>11</td>\n",
       "      <td>498945</td>\n",
       "      <td>1.000</td>\n",
       "      <td>1.000000</td>\n",
       "      <td>None</td>\n",
       "    </tr>\n",
       "    <tr>\n",
       "      <th>6871959</th>\n",
       "      <td>1490919685000</td>\n",
       "      <td>GP2B74SRyrZ3HIflSFoAzM+jS3U=</td>\n",
       "      <td>447</td>\n",
       "      <td>496</td>\n",
       "      <td>11</td>\n",
       "      <td>496943</td>\n",
       "      <td>0.000</td>\n",
       "      <td>0.000000</td>\n",
       "      <td>None</td>\n",
       "    </tr>\n",
       "    <tr>\n",
       "      <th>5688462</th>\n",
       "      <td>1490919697000</td>\n",
       "      <td>GP2B74SRyrZ3HIflSFoAzM+jS3U=</td>\n",
       "      <td>447</td>\n",
       "      <td>497</td>\n",
       "      <td>11</td>\n",
       "      <td>497944</td>\n",
       "      <td>1.000</td>\n",
       "      <td>0.666667</td>\n",
       "      <td>None</td>\n",
       "    </tr>\n",
       "    <tr>\n",
       "      <th>11591473</th>\n",
       "      <td>1490919709000</td>\n",
       "      <td>GP2B74SRyrZ3HIflSFoAzM+jS3U=</td>\n",
       "      <td>447</td>\n",
       "      <td>499</td>\n",
       "      <td>11</td>\n",
       "      <td>499946</td>\n",
       "      <td>1.000</td>\n",
       "      <td>1.000000</td>\n",
       "      <td>None</td>\n",
       "    </tr>\n",
       "    <tr>\n",
       "      <th>16326676</th>\n",
       "      <td>1490919720000</td>\n",
       "      <td>GP2B74SRyrZ3HIflSFoAzM+jS3U=</td>\n",
       "      <td>447</td>\n",
       "      <td>500</td>\n",
       "      <td>11</td>\n",
       "      <td>500947</td>\n",
       "      <td>1.000</td>\n",
       "      <td>1.000000</td>\n",
       "      <td>None</td>\n",
       "    </tr>\n",
       "    <tr>\n",
       "      <th>959657</th>\n",
       "      <td>1490919734000</td>\n",
       "      <td>GP2B74SRyrZ3HIflSFoAzM+jS3U=</td>\n",
       "      <td>449</td>\n",
       "      <td>500</td>\n",
       "      <td>11</td>\n",
       "      <td>500949</td>\n",
       "      <td>0.000</td>\n",
       "      <td>0.000000</td>\n",
       "      <td>None</td>\n",
       "    </tr>\n",
       "    <tr>\n",
       "      <th>12802170</th>\n",
       "      <td>1490919749000</td>\n",
       "      <td>GP2B74SRyrZ3HIflSFoAzM+jS3U=</td>\n",
       "      <td>449</td>\n",
       "      <td>499</td>\n",
       "      <td>11</td>\n",
       "      <td>499948</td>\n",
       "      <td>1.000</td>\n",
       "      <td>0.000000</td>\n",
       "      <td>None</td>\n",
       "    </tr>\n",
       "    <tr>\n",
       "      <th>10437120</th>\n",
       "      <td>1490919761000</td>\n",
       "      <td>GP2B74SRyrZ3HIflSFoAzM+jS3U=</td>\n",
       "      <td>449</td>\n",
       "      <td>498</td>\n",
       "      <td>11</td>\n",
       "      <td>498947</td>\n",
       "      <td>1.000</td>\n",
       "      <td>1.000000</td>\n",
       "      <td>None</td>\n",
       "    </tr>\n",
       "    <tr>\n",
       "      <th>15143427</th>\n",
       "      <td>1490919776000</td>\n",
       "      <td>GP2B74SRyrZ3HIflSFoAzM+jS3U=</td>\n",
       "      <td>449</td>\n",
       "      <td>496</td>\n",
       "      <td>11</td>\n",
       "      <td>496945</td>\n",
       "      <td>0.000</td>\n",
       "      <td>0.000000</td>\n",
       "      <td>None</td>\n",
       "    </tr>\n",
       "    <tr>\n",
       "      <th>...</th>\n",
       "      <td>...</td>\n",
       "      <td>...</td>\n",
       "      <td>...</td>\n",
       "      <td>...</td>\n",
       "      <td>...</td>\n",
       "      <td>...</td>\n",
       "      <td>...</td>\n",
       "      <td>...</td>\n",
       "      <td>...</td>\n",
       "    </tr>\n",
       "    <tr>\n",
       "      <th>14325690</th>\n",
       "      <td>1491238720000</td>\n",
       "      <td>lgaE/V/9zREHrLMuFIswAvPxmew=</td>\n",
       "      <td>490</td>\n",
       "      <td>939</td>\n",
       "      <td>0</td>\n",
       "      <td>940429</td>\n",
       "      <td>1.000</td>\n",
       "      <td>0.444444</td>\n",
       "      <td>uXPBSOm7UWAq3tnatig0jWbgTbY=</td>\n",
       "    </tr>\n",
       "    <tr>\n",
       "      <th>1221925</th>\n",
       "      <td>1491238720000</td>\n",
       "      <td>AQmb3gPSEONE7ywYrgIrUD/6VOk=</td>\n",
       "      <td>535</td>\n",
       "      <td>514</td>\n",
       "      <td>0</td>\n",
       "      <td>515049</td>\n",
       "      <td>1.000</td>\n",
       "      <td>0.555556</td>\n",
       "      <td>3jymlWWJbQwYO7Q1ZsUAU/sHNHg=</td>\n",
       "    </tr>\n",
       "    <tr>\n",
       "      <th>5579922</th>\n",
       "      <td>1491238721000</td>\n",
       "      <td>JtncaxQYlYJe535JW7wH604O7sM=</td>\n",
       "      <td>930</td>\n",
       "      <td>150</td>\n",
       "      <td>8</td>\n",
       "      <td>151080</td>\n",
       "      <td>0.000</td>\n",
       "      <td>1.000000</td>\n",
       "      <td>OIrUCd4cPFitLXD6LOBurIZvP1A=</td>\n",
       "    </tr>\n",
       "    <tr>\n",
       "      <th>8730203</th>\n",
       "      <td>1491238723000</td>\n",
       "      <td>R6/JLa2UQy4SSXazJ81ldTrTA6k=</td>\n",
       "      <td>205</td>\n",
       "      <td>400</td>\n",
       "      <td>3</td>\n",
       "      <td>400605</td>\n",
       "      <td>0.875</td>\n",
       "      <td>0.444444</td>\n",
       "      <td>D75EIH8kwyJU9tP+x+8pLSbT/8M=</td>\n",
       "    </tr>\n",
       "    <tr>\n",
       "      <th>15042877</th>\n",
       "      <td>1491238723000</td>\n",
       "      <td>JkZxChxZxLrt7BCs/3v3KqH1KyA=</td>\n",
       "      <td>714</td>\n",
       "      <td>594</td>\n",
       "      <td>8</td>\n",
       "      <td>595308</td>\n",
       "      <td>0.250</td>\n",
       "      <td>0.000000</td>\n",
       "      <td>5hzUeHiupRWE+TNYkdNqr3Ua6o4=</td>\n",
       "    </tr>\n",
       "    <tr>\n",
       "      <th>969313</th>\n",
       "      <td>1491238723000</td>\n",
       "      <td>wRDEikdUFABLi64CdvIncN6lasY=</td>\n",
       "      <td>944</td>\n",
       "      <td>913</td>\n",
       "      <td>11</td>\n",
       "      <td>914857</td>\n",
       "      <td>0.250</td>\n",
       "      <td>0.000000</td>\n",
       "      <td>mN4zLwMPLm0CjKn8pY5jZSZ7wbw=</td>\n",
       "    </tr>\n",
       "    <tr>\n",
       "      <th>6356674</th>\n",
       "      <td>1491238724000</td>\n",
       "      <td>visF/IyLL+xPQEE6/MSOEurx/vk=</td>\n",
       "      <td>222</td>\n",
       "      <td>693</td>\n",
       "      <td>3</td>\n",
       "      <td>693915</td>\n",
       "      <td>0.250</td>\n",
       "      <td>0.000000</td>\n",
       "      <td>aBeCcs73OnRIwpE/gpvkjZZDEwI=</td>\n",
       "    </tr>\n",
       "    <tr>\n",
       "      <th>13656390</th>\n",
       "      <td>1491238726000</td>\n",
       "      <td>LALILWSncasKyhzJgOyMOY24YK8=</td>\n",
       "      <td>516</td>\n",
       "      <td>190</td>\n",
       "      <td>5</td>\n",
       "      <td>190706</td>\n",
       "      <td>0.125</td>\n",
       "      <td>0.222222</td>\n",
       "      <td>jyI99HPFYk7X9Dl0WJzdgLLEpuA=</td>\n",
       "    </tr>\n",
       "    <tr>\n",
       "      <th>11232411</th>\n",
       "      <td>1491238726000</td>\n",
       "      <td>kDtg2LPGrR3AkLCdLYw9X+oCZ5o=</td>\n",
       "      <td>516</td>\n",
       "      <td>190</td>\n",
       "      <td>5</td>\n",
       "      <td>190706</td>\n",
       "      <td>0.125</td>\n",
       "      <td>0.222222</td>\n",
       "      <td>LALILWSncasKyhzJgOyMOY24YK8=</td>\n",
       "    </tr>\n",
       "    <tr>\n",
       "      <th>5222662</th>\n",
       "      <td>1491238726000</td>\n",
       "      <td>L+KzpDktalEvyYQBTbmT8HfkCxY=</td>\n",
       "      <td>221</td>\n",
       "      <td>733</td>\n",
       "      <td>3</td>\n",
       "      <td>733954</td>\n",
       "      <td>0.250</td>\n",
       "      <td>0.111111</td>\n",
       "      <td>jf3q+Ja6qh760VbDCxBYqS8CZFM=</td>\n",
       "    </tr>\n",
       "    <tr>\n",
       "      <th>216141</th>\n",
       "      <td>1491238726000</td>\n",
       "      <td>0r6zRKav30W654lzM3e9nXxVDOw=</td>\n",
       "      <td>229</td>\n",
       "      <td>719</td>\n",
       "      <td>2</td>\n",
       "      <td>719948</td>\n",
       "      <td>0.250</td>\n",
       "      <td>0.000000</td>\n",
       "      <td>Y+YKSbo2U2fkRNHqxCYOMSPMbqk=</td>\n",
       "    </tr>\n",
       "    <tr>\n",
       "      <th>6243994</th>\n",
       "      <td>1491238727000</td>\n",
       "      <td>O3rlOmb0o2qZie8tKKHl9smeUPw=</td>\n",
       "      <td>512</td>\n",
       "      <td>920</td>\n",
       "      <td>3</td>\n",
       "      <td>921432</td>\n",
       "      <td>0.000</td>\n",
       "      <td>0.666667</td>\n",
       "      <td>g6CGMq+OaCDIO/EfeoLKzIOihu0=</td>\n",
       "    </tr>\n",
       "    <tr>\n",
       "      <th>14718826</th>\n",
       "      <td>1491238728000</td>\n",
       "      <td>FGEpX5TflJZWgP0JWFQLCUX9lfE=</td>\n",
       "      <td>529</td>\n",
       "      <td>946</td>\n",
       "      <td>4</td>\n",
       "      <td>947475</td>\n",
       "      <td>0.250</td>\n",
       "      <td>0.000000</td>\n",
       "      <td>lGnY5q+Zqa/Y8EUH4hrDiXlRJl0=</td>\n",
       "    </tr>\n",
       "    <tr>\n",
       "      <th>2237993</th>\n",
       "      <td>1491238728000</td>\n",
       "      <td>1PfXnewEPekPq8y1KpfsNfsfEWk=</td>\n",
       "      <td>611</td>\n",
       "      <td>736</td>\n",
       "      <td>13</td>\n",
       "      <td>737347</td>\n",
       "      <td>0.250</td>\n",
       "      <td>0.000000</td>\n",
       "      <td>HRl1yV0MP/WeoctJb0+/b/WVmiY=</td>\n",
       "    </tr>\n",
       "    <tr>\n",
       "      <th>8550219</th>\n",
       "      <td>1491238729000</td>\n",
       "      <td>bMAgsYEDoGXd+rd9tgNIfAQnnok=</td>\n",
       "      <td>71</td>\n",
       "      <td>618</td>\n",
       "      <td>3</td>\n",
       "      <td>618689</td>\n",
       "      <td>0.500</td>\n",
       "      <td>0.000000</td>\n",
       "      <td>mi3ksj93FxmWMzc4zmnwjuk8pIU=</td>\n",
       "    </tr>\n",
       "    <tr>\n",
       "      <th>9353907</th>\n",
       "      <td>1491238730000</td>\n",
       "      <td>RDMAkA2mrSlzKXelr+PmWONKDVs=</td>\n",
       "      <td>471</td>\n",
       "      <td>495</td>\n",
       "      <td>13</td>\n",
       "      <td>495966</td>\n",
       "      <td>0.875</td>\n",
       "      <td>0.222222</td>\n",
       "      <td>eSJMCzeOlDbGIwDNRHcjBY4EFpI=</td>\n",
       "    </tr>\n",
       "    <tr>\n",
       "      <th>1554046</th>\n",
       "      <td>1491238730000</td>\n",
       "      <td>F28YOX58ABSEYj1Eo4HPMr6o1kg=</td>\n",
       "      <td>138</td>\n",
       "      <td>426</td>\n",
       "      <td>3</td>\n",
       "      <td>426564</td>\n",
       "      <td>0.375</td>\n",
       "      <td>0.333333</td>\n",
       "      <td>RXJpJYSNMNY003C3o6O93SmyJGE=</td>\n",
       "    </tr>\n",
       "    <tr>\n",
       "      <th>4483553</th>\n",
       "      <td>1491238730000</td>\n",
       "      <td>+Xo/mdr65t1oz86/XxxP9rvQmCE=</td>\n",
       "      <td>161</td>\n",
       "      <td>155</td>\n",
       "      <td>10</td>\n",
       "      <td>155316</td>\n",
       "      <td>0.000</td>\n",
       "      <td>0.000000</td>\n",
       "      <td>z+My1TrgUH/Ozc8d+FgH5c6U4AU=</td>\n",
       "    </tr>\n",
       "    <tr>\n",
       "      <th>4874492</th>\n",
       "      <td>1491238730000</td>\n",
       "      <td>O1iw7N48Xdam60UlD+0ItY7myEA=</td>\n",
       "      <td>701</td>\n",
       "      <td>594</td>\n",
       "      <td>0</td>\n",
       "      <td>595295</td>\n",
       "      <td>0.625</td>\n",
       "      <td>0.000000</td>\n",
       "      <td>PDOCSM2WHz2Uff0V6l7cLiOSz2Q=</td>\n",
       "    </tr>\n",
       "    <tr>\n",
       "      <th>7528745</th>\n",
       "      <td>1491238731000</td>\n",
       "      <td>DR1BA6BNps7RgPV0XRVJ+sNggoM=</td>\n",
       "      <td>43</td>\n",
       "      <td>457</td>\n",
       "      <td>3</td>\n",
       "      <td>457500</td>\n",
       "      <td>0.250</td>\n",
       "      <td>0.000000</td>\n",
       "      <td>NG7mYBN3mkyQVtAzy6EGGZl78gY=</td>\n",
       "    </tr>\n",
       "    <tr>\n",
       "      <th>13378383</th>\n",
       "      <td>1491238731000</td>\n",
       "      <td>HSfaPHVfRSH92RAylebvQM8lJFU=</td>\n",
       "      <td>11</td>\n",
       "      <td>433</td>\n",
       "      <td>3</td>\n",
       "      <td>433444</td>\n",
       "      <td>0.500</td>\n",
       "      <td>0.000000</td>\n",
       "      <td>rGKmYUZAKEh0GTCBOOcVbkmy0jM=</td>\n",
       "    </tr>\n",
       "    <tr>\n",
       "      <th>16444145</th>\n",
       "      <td>1491238732000</td>\n",
       "      <td>qnHKJsXHi0LLIHNQG762oaTm3sM=</td>\n",
       "      <td>347</td>\n",
       "      <td>576</td>\n",
       "      <td>13</td>\n",
       "      <td>576923</td>\n",
       "      <td>0.000</td>\n",
       "      <td>0.000000</td>\n",
       "      <td>VkOZSPaQ3AHtH+swxOZZP17bwCU=</td>\n",
       "    </tr>\n",
       "    <tr>\n",
       "      <th>6172365</th>\n",
       "      <td>1491238732000</td>\n",
       "      <td>bp3cZOM1nHjXyqgnQoGsub7sE+c=</td>\n",
       "      <td>132</td>\n",
       "      <td>66</td>\n",
       "      <td>3</td>\n",
       "      <td>66198</td>\n",
       "      <td>0.250</td>\n",
       "      <td>0.000000</td>\n",
       "      <td>AsU0XpOFze7w5TS42jmto059kzg=</td>\n",
       "    </tr>\n",
       "    <tr>\n",
       "      <th>9770760</th>\n",
       "      <td>1491238732000</td>\n",
       "      <td>UGr9cAzz56HA9ularvtXPm1CKj0=</td>\n",
       "      <td>437</td>\n",
       "      <td>804</td>\n",
       "      <td>3</td>\n",
       "      <td>805241</td>\n",
       "      <td>0.750</td>\n",
       "      <td>0.000000</td>\n",
       "      <td>Q2OoqbxlXURovcXKPOWB9FontDM=</td>\n",
       "    </tr>\n",
       "    <tr>\n",
       "      <th>12113767</th>\n",
       "      <td>1491238732000</td>\n",
       "      <td>4v/kA+5NRVDQ9mLn4pFoswq6A5Y=</td>\n",
       "      <td>192</td>\n",
       "      <td>442</td>\n",
       "      <td>3</td>\n",
       "      <td>442634</td>\n",
       "      <td>1.000</td>\n",
       "      <td>0.000000</td>\n",
       "      <td>sNy+jXRuZmTL5C2EbkM/SeNWy3I=</td>\n",
       "    </tr>\n",
       "    <tr>\n",
       "      <th>6258419</th>\n",
       "      <td>1491238733000</td>\n",
       "      <td>uLIYXambhhJnq+XQsp3/v4hOSg8=</td>\n",
       "      <td>31</td>\n",
       "      <td>16</td>\n",
       "      <td>3</td>\n",
       "      <td>16047</td>\n",
       "      <td>1.000</td>\n",
       "      <td>0.666667</td>\n",
       "      <td>LHfdnEUAuyiVnuz+qpQDPDTtn6A=</td>\n",
       "    </tr>\n",
       "    <tr>\n",
       "      <th>13003783</th>\n",
       "      <td>1491238733000</td>\n",
       "      <td>4tD092krB0kr/mIgPzbkdWRbbuA=</td>\n",
       "      <td>159</td>\n",
       "      <td>602</td>\n",
       "      <td>15</td>\n",
       "      <td>602761</td>\n",
       "      <td>0.750</td>\n",
       "      <td>0.111111</td>\n",
       "      <td>tgGazc9kIMJs5fjYhmGUCVsWI0Q=</td>\n",
       "    </tr>\n",
       "    <tr>\n",
       "      <th>12753324</th>\n",
       "      <td>1491238733000</td>\n",
       "      <td>c34iVZhk/TWfZvgLERa92dv4nXI=</td>\n",
       "      <td>33</td>\n",
       "      <td>70</td>\n",
       "      <td>10</td>\n",
       "      <td>70103</td>\n",
       "      <td>0.000</td>\n",
       "      <td>0.000000</td>\n",
       "      <td>a9t034OvAD+Efqt5q5/OTj8VHS8=</td>\n",
       "    </tr>\n",
       "    <tr>\n",
       "      <th>7772192</th>\n",
       "      <td>1491238733000</td>\n",
       "      <td>0zJQ/whk/woFFZpfA53DCstaOV8=</td>\n",
       "      <td>176</td>\n",
       "      <td>159</td>\n",
       "      <td>5</td>\n",
       "      <td>159335</td>\n",
       "      <td>0.000</td>\n",
       "      <td>0.000000</td>\n",
       "      <td>PytPooiEwh+WGmyWINVB/8D6lfc=</td>\n",
       "    </tr>\n",
       "    <tr>\n",
       "      <th>14753590</th>\n",
       "      <td>1491238734000</td>\n",
       "      <td>WcPEECDEtqTri0VN5AJggUWOi/A=</td>\n",
       "      <td>605</td>\n",
       "      <td>160</td>\n",
       "      <td>5</td>\n",
       "      <td>160765</td>\n",
       "      <td>1.000</td>\n",
       "      <td>0.888889</td>\n",
       "      <td>YiHmmCgm4wq6Yi1BCznorVu88uY=</td>\n",
       "    </tr>\n",
       "  </tbody>\n",
       "</table>\n",
       "<p>16559407 rows × 9 columns</p>\n",
       "</div>"
      ],
      "text/plain": [
       "                     ts                          user  x_coordinate  \\\n",
       "13216722  1490918688000  2puPLvQ6X2zTSpfBkHXhxlIVo40=           505   \n",
       "15577615  1490918728000  2puPLvQ6X2zTSpfBkHXhxlIVo40=           490   \n",
       "5985698   1490918781000  2puPLvQ6X2zTSpfBkHXhxlIVo40=           518   \n",
       "16342824  1490919337000  GP2B74SRyrZ3HIflSFoAzM+jS3U=           474   \n",
       "5693574   1490919349000  GP2B74SRyrZ3HIflSFoAzM+jS3U=           477   \n",
       "9251462   1490919361000  GP2B74SRyrZ3HIflSFoAzM+jS3U=           472   \n",
       "2145079   1490919379000  GP2B74SRyrZ3HIflSFoAzM+jS3U=           473   \n",
       "966759    1490919398000  GP2B74SRyrZ3HIflSFoAzM+jS3U=           474   \n",
       "4497938   1490919410000  GP2B74SRyrZ3HIflSFoAzM+jS3U=           475   \n",
       "13970911  1490919426000  GP2B74SRyrZ3HIflSFoAzM+jS3U=           476   \n",
       "12804041  1490919465000  GP2B74SRyrZ3HIflSFoAzM+jS3U=           477   \n",
       "3316652   1490919480000  GP2B74SRyrZ3HIflSFoAzM+jS3U=           478   \n",
       "6868433   1490919494000  GP2B74SRyrZ3HIflSFoAzM+jS3U=           479   \n",
       "3523627   1490919557000  2puPLvQ6X2zTSpfBkHXhxlIVo40=           544   \n",
       "3330332   1490919589000  GP2B74SRyrZ3HIflSFoAzM+jS3U=           444   \n",
       "13987344  1490919601000  GP2B74SRyrZ3HIflSFoAzM+jS3U=           444   \n",
       "8052294   1490919613000  GP2B74SRyrZ3HIflSFoAzM+jS3U=           444   \n",
       "4499222   1490919625000  GP2B74SRyrZ3HIflSFoAzM+jS3U=           445   \n",
       "12786946  1490919638000  GP2B74SRyrZ3HIflSFoAzM+jS3U=           444   \n",
       "4515798   1490919649000  GP2B74SRyrZ3HIflSFoAzM+jS3U=           444   \n",
       "8063475   1490919662000  GP2B74SRyrZ3HIflSFoAzM+jS3U=           446   \n",
       "16345935  1490919674000  GP2B74SRyrZ3HIflSFoAzM+jS3U=           447   \n",
       "6871959   1490919685000  GP2B74SRyrZ3HIflSFoAzM+jS3U=           447   \n",
       "5688462   1490919697000  GP2B74SRyrZ3HIflSFoAzM+jS3U=           447   \n",
       "11591473  1490919709000  GP2B74SRyrZ3HIflSFoAzM+jS3U=           447   \n",
       "16326676  1490919720000  GP2B74SRyrZ3HIflSFoAzM+jS3U=           447   \n",
       "959657    1490919734000  GP2B74SRyrZ3HIflSFoAzM+jS3U=           449   \n",
       "12802170  1490919749000  GP2B74SRyrZ3HIflSFoAzM+jS3U=           449   \n",
       "10437120  1490919761000  GP2B74SRyrZ3HIflSFoAzM+jS3U=           449   \n",
       "15143427  1490919776000  GP2B74SRyrZ3HIflSFoAzM+jS3U=           449   \n",
       "...                 ...                           ...           ...   \n",
       "14325690  1491238720000  lgaE/V/9zREHrLMuFIswAvPxmew=           490   \n",
       "1221925   1491238720000  AQmb3gPSEONE7ywYrgIrUD/6VOk=           535   \n",
       "5579922   1491238721000  JtncaxQYlYJe535JW7wH604O7sM=           930   \n",
       "8730203   1491238723000  R6/JLa2UQy4SSXazJ81ldTrTA6k=           205   \n",
       "15042877  1491238723000  JkZxChxZxLrt7BCs/3v3KqH1KyA=           714   \n",
       "969313    1491238723000  wRDEikdUFABLi64CdvIncN6lasY=           944   \n",
       "6356674   1491238724000  visF/IyLL+xPQEE6/MSOEurx/vk=           222   \n",
       "13656390  1491238726000  LALILWSncasKyhzJgOyMOY24YK8=           516   \n",
       "11232411  1491238726000  kDtg2LPGrR3AkLCdLYw9X+oCZ5o=           516   \n",
       "5222662   1491238726000  L+KzpDktalEvyYQBTbmT8HfkCxY=           221   \n",
       "216141    1491238726000  0r6zRKav30W654lzM3e9nXxVDOw=           229   \n",
       "6243994   1491238727000  O3rlOmb0o2qZie8tKKHl9smeUPw=           512   \n",
       "14718826  1491238728000  FGEpX5TflJZWgP0JWFQLCUX9lfE=           529   \n",
       "2237993   1491238728000  1PfXnewEPekPq8y1KpfsNfsfEWk=           611   \n",
       "8550219   1491238729000  bMAgsYEDoGXd+rd9tgNIfAQnnok=            71   \n",
       "9353907   1491238730000  RDMAkA2mrSlzKXelr+PmWONKDVs=           471   \n",
       "1554046   1491238730000  F28YOX58ABSEYj1Eo4HPMr6o1kg=           138   \n",
       "4483553   1491238730000  +Xo/mdr65t1oz86/XxxP9rvQmCE=           161   \n",
       "4874492   1491238730000  O1iw7N48Xdam60UlD+0ItY7myEA=           701   \n",
       "7528745   1491238731000  DR1BA6BNps7RgPV0XRVJ+sNggoM=            43   \n",
       "13378383  1491238731000  HSfaPHVfRSH92RAylebvQM8lJFU=            11   \n",
       "16444145  1491238732000  qnHKJsXHi0LLIHNQG762oaTm3sM=           347   \n",
       "6172365   1491238732000  bp3cZOM1nHjXyqgnQoGsub7sE+c=           132   \n",
       "9770760   1491238732000  UGr9cAzz56HA9ularvtXPm1CKj0=           437   \n",
       "12113767  1491238732000  4v/kA+5NRVDQ9mLn4pFoswq6A5Y=           192   \n",
       "6258419   1491238733000  uLIYXambhhJnq+XQsp3/v4hOSg8=            31   \n",
       "13003783  1491238733000  4tD092krB0kr/mIgPzbkdWRbbuA=           159   \n",
       "12753324  1491238733000  c34iVZhk/TWfZvgLERa92dv4nXI=            33   \n",
       "7772192   1491238733000  0zJQ/whk/woFFZpfA53DCstaOV8=           176   \n",
       "14753590  1491238734000  WcPEECDEtqTri0VN5AJggUWOi/A=           605   \n",
       "\n",
       "          y_coordinate  color   pixel  local_agreement  previous_agreement  \\\n",
       "13216722           510      1  511015            0.000            0.000000   \n",
       "15577615           504      1  504994            0.000            0.000000   \n",
       "5985698            498      0  499016            0.000            0.000000   \n",
       "16342824           495     11  495969            0.000            0.000000   \n",
       "5693574            495     11  495972            0.000            0.000000   \n",
       "9251462            496     11  496968            0.000            0.000000   \n",
       "2145079            497     11  497970            1.000            0.000000   \n",
       "966759             498     11  498972            1.000            1.000000   \n",
       "4497938            498     11  498973            1.000            1.000000   \n",
       "13970911           498     11  498974            1.000            1.000000   \n",
       "12804041           498     11  498975            1.000            1.000000   \n",
       "3316652            497     11  497975            1.000            1.000000   \n",
       "6868433            496     11  496975            1.000            1.000000   \n",
       "3523627            529     15  530073            0.000            0.000000   \n",
       "3330332            497     11  497941            0.000            0.000000   \n",
       "13987344           498     11  498942            1.000            0.000000   \n",
       "8052294            499     11  499943            1.000            1.000000   \n",
       "4499222            498     11  498943            1.000            0.666667   \n",
       "12786946           496     11  496940            1.000            0.000000   \n",
       "4515798            500     11  500944            1.000            1.000000   \n",
       "8063475            498     11  498944            1.000            1.000000   \n",
       "16345935           498     11  498945            1.000            1.000000   \n",
       "6871959            496     11  496943            0.000            0.000000   \n",
       "5688462            497     11  497944            1.000            0.666667   \n",
       "11591473           499     11  499946            1.000            1.000000   \n",
       "16326676           500     11  500947            1.000            1.000000   \n",
       "959657             500     11  500949            0.000            0.000000   \n",
       "12802170           499     11  499948            1.000            0.000000   \n",
       "10437120           498     11  498947            1.000            1.000000   \n",
       "15143427           496     11  496945            0.000            0.000000   \n",
       "...                ...    ...     ...              ...                 ...   \n",
       "14325690           939      0  940429            1.000            0.444444   \n",
       "1221925            514      0  515049            1.000            0.555556   \n",
       "5579922            150      8  151080            0.000            1.000000   \n",
       "8730203            400      3  400605            0.875            0.444444   \n",
       "15042877           594      8  595308            0.250            0.000000   \n",
       "969313             913     11  914857            0.250            0.000000   \n",
       "6356674            693      3  693915            0.250            0.000000   \n",
       "13656390           190      5  190706            0.125            0.222222   \n",
       "11232411           190      5  190706            0.125            0.222222   \n",
       "5222662            733      3  733954            0.250            0.111111   \n",
       "216141             719      2  719948            0.250            0.000000   \n",
       "6243994            920      3  921432            0.000            0.666667   \n",
       "14718826           946      4  947475            0.250            0.000000   \n",
       "2237993            736     13  737347            0.250            0.000000   \n",
       "8550219            618      3  618689            0.500            0.000000   \n",
       "9353907            495     13  495966            0.875            0.222222   \n",
       "1554046            426      3  426564            0.375            0.333333   \n",
       "4483553            155     10  155316            0.000            0.000000   \n",
       "4874492            594      0  595295            0.625            0.000000   \n",
       "7528745            457      3  457500            0.250            0.000000   \n",
       "13378383           433      3  433444            0.500            0.000000   \n",
       "16444145           576     13  576923            0.000            0.000000   \n",
       "6172365             66      3   66198            0.250            0.000000   \n",
       "9770760            804      3  805241            0.750            0.000000   \n",
       "12113767           442      3  442634            1.000            0.000000   \n",
       "6258419             16      3   16047            1.000            0.666667   \n",
       "13003783           602     15  602761            0.750            0.111111   \n",
       "12753324            70     10   70103            0.000            0.000000   \n",
       "7772192            159      5  159335            0.000            0.000000   \n",
       "14753590           160      5  160765            1.000            0.888889   \n",
       "\n",
       "                         previous_user  \n",
       "13216722                          None  \n",
       "15577615                          None  \n",
       "5985698                           None  \n",
       "16342824                          None  \n",
       "5693574                           None  \n",
       "9251462                           None  \n",
       "2145079                           None  \n",
       "966759                            None  \n",
       "4497938                           None  \n",
       "13970911                          None  \n",
       "12804041                          None  \n",
       "3316652                           None  \n",
       "6868433                           None  \n",
       "3523627                           None  \n",
       "3330332                           None  \n",
       "13987344                          None  \n",
       "8052294                           None  \n",
       "4499222                           None  \n",
       "12786946                          None  \n",
       "4515798                           None  \n",
       "8063475                           None  \n",
       "16345935                          None  \n",
       "6871959                           None  \n",
       "5688462                           None  \n",
       "11591473                          None  \n",
       "16326676                          None  \n",
       "959657                            None  \n",
       "12802170                          None  \n",
       "10437120                          None  \n",
       "15143427                          None  \n",
       "...                                ...  \n",
       "14325690  uXPBSOm7UWAq3tnatig0jWbgTbY=  \n",
       "1221925   3jymlWWJbQwYO7Q1ZsUAU/sHNHg=  \n",
       "5579922   OIrUCd4cPFitLXD6LOBurIZvP1A=  \n",
       "8730203   D75EIH8kwyJU9tP+x+8pLSbT/8M=  \n",
       "15042877  5hzUeHiupRWE+TNYkdNqr3Ua6o4=  \n",
       "969313    mN4zLwMPLm0CjKn8pY5jZSZ7wbw=  \n",
       "6356674   aBeCcs73OnRIwpE/gpvkjZZDEwI=  \n",
       "13656390  jyI99HPFYk7X9Dl0WJzdgLLEpuA=  \n",
       "11232411  LALILWSncasKyhzJgOyMOY24YK8=  \n",
       "5222662   jf3q+Ja6qh760VbDCxBYqS8CZFM=  \n",
       "216141    Y+YKSbo2U2fkRNHqxCYOMSPMbqk=  \n",
       "6243994   g6CGMq+OaCDIO/EfeoLKzIOihu0=  \n",
       "14718826  lGnY5q+Zqa/Y8EUH4hrDiXlRJl0=  \n",
       "2237993   HRl1yV0MP/WeoctJb0+/b/WVmiY=  \n",
       "8550219   mi3ksj93FxmWMzc4zmnwjuk8pIU=  \n",
       "9353907   eSJMCzeOlDbGIwDNRHcjBY4EFpI=  \n",
       "1554046   RXJpJYSNMNY003C3o6O93SmyJGE=  \n",
       "4483553   z+My1TrgUH/Ozc8d+FgH5c6U4AU=  \n",
       "4874492   PDOCSM2WHz2Uff0V6l7cLiOSz2Q=  \n",
       "7528745   NG7mYBN3mkyQVtAzy6EGGZl78gY=  \n",
       "13378383  rGKmYUZAKEh0GTCBOOcVbkmy0jM=  \n",
       "16444145  VkOZSPaQ3AHtH+swxOZZP17bwCU=  \n",
       "6172365   AsU0XpOFze7w5TS42jmto059kzg=  \n",
       "9770760   Q2OoqbxlXURovcXKPOWB9FontDM=  \n",
       "12113767  sNy+jXRuZmTL5C2EbkM/SeNWy3I=  \n",
       "6258419   LHfdnEUAuyiVnuz+qpQDPDTtn6A=  \n",
       "13003783  tgGazc9kIMJs5fjYhmGUCVsWI0Q=  \n",
       "12753324  a9t034OvAD+Efqt5q5/OTj8VHS8=  \n",
       "7772192   PytPooiEwh+WGmyWINVB/8D6lfc=  \n",
       "14753590  YiHmmCgm4wq6Yi1BCznorVu88uY=  \n",
       "\n",
       "[16559407 rows x 9 columns]"
      ]
     },
     "execution_count": 3,
     "metadata": {},
     "output_type": "execute_result"
    }
   ],
   "source": [
    "df = pd.read_pickle(\"data/full_data.pkl\")\n",
    "df"
   ]
  },
  {
   "cell_type": "code",
   "execution_count": 4,
   "metadata": {
    "collapsed": true,
    "jupyter": {
     "outputs_hidden": true
    }
   },
   "outputs": [],
   "source": [
    "df_end = df.tail(int(2e6)).copy()"
   ]
  },
  {
   "cell_type": "code",
   "execution_count": 5,
   "metadata": {
    "scrolled": true,
    "tags": []
   },
   "outputs": [],
   "source": [
    "active_set = df_end[df_end.groupby('user').user.transform('size') > 4].copy()"
   ]
  },
  {
   "cell_type": "code",
   "execution_count": 3,
   "metadata": {
    "tags": []
   },
   "outputs": [],
   "source": [
    "active_user_set = set(active_set.user.unique()).union(set(active_set.previous_user.unique()))\n",
    "nb_users = len(active_user_set)"
   ]
  },
  {
   "cell_type": "code",
   "execution_count": 4,
   "metadata": {
    "collapsed": true,
    "jupyter": {
     "outputs_hidden": true
    }
   },
   "outputs": [],
   "source": [
    "user_to_id = dict(zip(list(active_user_set), np.arange(nb_users)))"
   ]
  },
  {
   "cell_type": "code",
   "execution_count": 5,
   "metadata": {
    "tags": []
   },
   "outputs": [],
   "source": [
    "active_set['user_id'] = active_set['user'].map(user_to_id).astype(int)\n",
    "active_set['previous_user_id'] = active_set['previous_user'].map(user_to_id).fillna(-1).astype(int)"
   ]
  },
  {
   "cell_type": "code",
   "execution_count": 6,
   "metadata": {},
   "outputs": [
    {
     "data": {
      "text/plain": [
       "310596"
      ]
     },
     "execution_count": 6,
     "metadata": {},
     "output_type": "execute_result"
    }
   ],
   "source": [
    "nb_users"
   ]
  },
  {
   "cell_type": "code",
   "execution_count": 7,
   "metadata": {},
   "outputs": [
    {
     "data": {
      "text/plain": [
       "101811"
      ]
     },
     "execution_count": 7,
     "metadata": {},
     "output_type": "execute_result"
    }
   ],
   "source": [
    "active_set.user.nunique()"
   ]
  },
  {
   "cell_type": "code",
   "execution_count": 8,
   "metadata": {
    "scrolled": true
   },
   "outputs": [
    {
     "data": {
      "text/plain": [
       "310279"
      ]
     },
     "execution_count": 8,
     "metadata": {},
     "output_type": "execute_result"
    }
   ],
   "source": [
    "active_set.previous_user.nunique()"
   ]
  },
  {
   "cell_type": "code",
   "execution_count": 9,
   "metadata": {
    "collapsed": true,
    "jupyter": {
     "outputs_hidden": true
    }
   },
   "outputs": [],
   "source": [
    "cumcount = active_set.groupby('user').cumcount(ascending=False)\n",
    "train_set = active_set[cumcount > 1]\n",
    "validation_set = active_set[cumcount == 1]\n",
    "test_set = active_set[cumcount == 0]"
   ]
  },
  {
   "cell_type": "code",
   "execution_count": 10,
   "metadata": {
    "collapsed": true,
    "jupyter": {
     "outputs_hidden": true
    }
   },
   "outputs": [],
   "source": [
    "train_input = Variable(torch.LongTensor(train_set[['user_id','previous_user_id']].values))\n",
    "validation_input = Variable(torch.LongTensor(validation_set[['user_id','previous_user_id']].values))\n",
    "test_input = Variable(torch.LongTensor(test_set[['user_id','previous_user_id']].values))"
   ]
  },
  {
   "cell_type": "code",
   "execution_count": 11,
   "metadata": {
    "collapsed": true,
    "jupyter": {
     "outputs_hidden": true
    }
   },
   "outputs": [],
   "source": [
    "train_target = Variable(torch.FloatTensor(train_set.local_agreement.values))\n",
    "validation_target = Variable(torch.FloatTensor(validation_set.local_agreement.values))\n",
    "test_target = Variable(torch.FloatTensor(test_set.local_agreement.values))"
   ]
  },
  {
   "cell_type": "code",
   "execution_count": 19,
   "metadata": {
    "collapsed": true,
    "jupyter": {
     "outputs_hidden": true
    },
    "scrolled": true
   },
   "outputs": [],
   "source": [
    "avg_local = train_set.groupby('user_id').local_agreement.mean()"
   ]
  },
  {
   "cell_type": "code",
   "execution_count": 22,
   "metadata": {},
   "outputs": [
    {
     "data": {
      "text/plain": [
       "0.3235874904960119"
      ]
     },
     "execution_count": 22,
     "metadata": {},
     "output_type": "execute_result"
    }
   ],
   "source": [
    "# baseline rmse\n",
    "np.sqrt(np.square(test_set.local_agreement.values - avg_local[test_set.user_id].values).mean())"
   ]
  },
  {
   "cell_type": "code",
   "execution_count": 23,
   "metadata": {
    "collapsed": true,
    "jupyter": {
     "outputs_hidden": true
    }
   },
   "outputs": [],
   "source": [
    "def train_model(model, nb_epochs = 50, learning_rate = 0.75, mini_batch_size = 64, opt = optim.SGD):\n",
    "    criterion = nn.MSELoss()\n",
    "    optimizer = opt(model.parameters(), lr = learning_rate)\n",
    "    scheduler = optim.lr_scheduler.ReduceLROnPlateau(optimizer)\n",
    "    \n",
    "    best_error = validation_input.size(0)+1\n",
    "    res = []\n",
    "    \n",
    "    for e in tqdm_notebook(range(nb_epochs)):\n",
    "        sum_loss = 0\n",
    "        \n",
    "        for b in tqdm_notebook(range(0, train_input.size(0), mini_batch_size)):\n",
    "            if (b+mini_batch_size) > train_input.size(0):\n",
    "                output = model(train_input[b:])\n",
    "                loss = criterion(output, train_target[b:])\n",
    "            else:\n",
    "                output = model(train_input.narrow(0, b, mini_batch_size))\n",
    "                loss = criterion(output, train_target.narrow(0, b, mini_batch_size))\n",
    "        \n",
    "            sum_loss = sum_loss + loss.data[0]\n",
    "            model.zero_grad()\n",
    "            loss.backward()\n",
    "            optimizer.step()\n",
    "\n",
    "        train_error = np.sqrt((model(train_input).squeeze() - train_target).data.pow(2).mean())\n",
    "        validation_error = np.sqrt((model(validation_input).squeeze() - validation_target).data.pow(2).mean())\n",
    "        scheduler.step(validation_error)\n",
    "        \n",
    "        print(\"  Epoch {:>3} : loss = {:1.8f} | training error = {:>4} | validation error = {:>4}\".format(e+1, sum_loss, train_error, validation_error))\n",
    "        res.append(validation_error)\n",
    "        \n",
    "        if (validation_error < best_error) or ( (validation_error == best_error) and ((e+1) < best_epoch) ):\n",
    "            best_error = validation_error\n",
    "            best_epoch = e+1\n",
    "            \n",
    "    return [ res, best_error, best_epoch ]"
   ]
  },
  {
   "cell_type": "markdown",
   "metadata": {},
   "source": [
    "## Simple model (only biases)"
   ]
  },
  {
   "cell_type": "code",
   "execution_count": 24,
   "metadata": {
    "collapsed": true,
    "jupyter": {
     "outputs_hidden": true
    }
   },
   "outputs": [],
   "source": [
    "class Simple_Embedding(nn.Module):\n",
    "    def __init__(self, n_users):\n",
    "        super(Simple_Embedding, self).__init__()\n",
    "        self.user_bias = nn.Embedding(n_users,1)\n",
    "        self.user_bias.weight.data.normal_(0.5,0.5)\n",
    "\n",
    "    def forward(self, users):\n",
    "        return self.user_bias(users[:,0])"
   ]
  },
  {
   "cell_type": "code",
   "execution_count": 25,
   "metadata": {
    "scrolled": true
   },
   "outputs": [
    {
     "data": {
      "application/vnd.jupyter.widget-view+json": {
       "model_id": "7848d52aa26d464a9956f75c17bc0bda",
       "version_major": 2,
       "version_minor": 0
      },
      "text/plain": [
       "HBox(children=(IntProgress(value=0, max=200), HTML(value='')))"
      ]
     },
     "metadata": {},
     "output_type": "display_data"
    },
    {
     "data": {
      "application/vnd.jupyter.widget-view+json": {
       "model_id": "c5f5e7154f4f44e89ad0c229d457afb6",
       "version_major": 2,
       "version_minor": 0
      },
      "text/plain": [
       "HBox(children=(IntProgress(value=0, max=5571), HTML(value='')))"
      ]
     },
     "metadata": {},
     "output_type": "display_data"
    },
    {
     "name": "stdout",
     "output_type": "stream",
     "text": [
      "  Epoch   1 : loss = 1749.45596620 | training error = 0.521007462883823 | validation error = 0.56383668862079\n"
     ]
    },
    {
     "data": {
      "application/vnd.jupyter.widget-view+json": {
       "model_id": "71a3ba6d94954b5292027b5a9c8a7ab3",
       "version_major": 2,
       "version_minor": 0
      },
      "text/plain": [
       "HBox(children=(IntProgress(value=0, max=5571), HTML(value='')))"
      ]
     },
     "metadata": {},
     "output_type": "display_data"
    },
    {
     "name": "stdout",
     "output_type": "stream",
     "text": [
      "  Epoch   2 : loss = 1366.27786447 | training error = 0.46911296496028915 | validation error = 0.533704557404938\n"
     ]
    },
    {
     "data": {
      "application/vnd.jupyter.widget-view+json": {
       "model_id": "e41f96c764b54c75adf41bdbb138e6b9",
       "version_major": 2,
       "version_minor": 0
      },
      "text/plain": [
       "HBox(children=(IntProgress(value=0, max=5571), HTML(value='')))"
      ]
     },
     "metadata": {},
     "output_type": "display_data"
    },
    {
     "name": "stdout",
     "output_type": "stream",
     "text": [
      "  Epoch   3 : loss = 1137.03493439 | training error = 0.43320170566567745 | validation error = 0.5096040174304804\n"
     ]
    },
    {
     "data": {
      "application/vnd.jupyter.widget-view+json": {
       "model_id": "544cdeb08b4f46a084e362082cd40cb0",
       "version_major": 2,
       "version_minor": 0
      },
      "text/plain": [
       "HBox(children=(IntProgress(value=0, max=5571), HTML(value='')))"
      ]
     },
     "metadata": {},
     "output_type": "display_data"
    },
    {
     "name": "stdout",
     "output_type": "stream",
     "text": [
      "  Epoch   4 : loss = 986.76639669 | training error = 0.40686529534677685 | validation error = 0.48962081709854544\n"
     ]
    },
    {
     "data": {
      "application/vnd.jupyter.widget-view+json": {
       "model_id": "a373b4cd6eb04db69aa4bd3c60d57e3a",
       "version_major": 2,
       "version_minor": 0
      },
      "text/plain": [
       "HBox(children=(IntProgress(value=0, max=5571), HTML(value='')))"
      ]
     },
     "metadata": {},
     "output_type": "display_data"
    },
    {
     "name": "stdout",
     "output_type": "stream",
     "text": [
      "  Epoch   5 : loss = 881.09811167 | training error = 0.3866634967691235 | validation error = 0.4726403145206681\n"
     ]
    },
    {
     "data": {
      "application/vnd.jupyter.widget-view+json": {
       "model_id": "7f34fab711464e41ad36a8ffce7c1777",
       "version_major": 2,
       "version_minor": 0
      },
      "text/plain": [
       "HBox(children=(IntProgress(value=0, max=5571), HTML(value='')))"
      ]
     },
     "metadata": {},
     "output_type": "display_data"
    },
    {
     "name": "stdout",
     "output_type": "stream",
     "text": [
      "  Epoch   6 : loss = 802.84731320 | training error = 0.3706430243294449 | validation error = 0.45796042610856563\n"
     ]
    },
    {
     "data": {
      "application/vnd.jupyter.widget-view+json": {
       "model_id": "b1a1a988ddbf429c8921afa17488e70c",
       "version_major": 2,
       "version_minor": 0
      },
      "text/plain": [
       "HBox(children=(IntProgress(value=0, max=5571), HTML(value='')))"
      ]
     },
     "metadata": {},
     "output_type": "display_data"
    },
    {
     "name": "stdout",
     "output_type": "stream",
     "text": [
      "  Epoch   7 : loss = 742.65802643 | training error = 0.35762092556688285 | validation error = 0.4451079095571494\n"
     ]
    },
    {
     "data": {
      "application/vnd.jupyter.widget-view+json": {
       "model_id": "564622cae8c347e7be8c8cfecdd34182",
       "version_major": 2,
       "version_minor": 0
      },
      "text/plain": [
       "HBox(children=(IntProgress(value=0, max=5571), HTML(value='')))"
      ]
     },
     "metadata": {},
     "output_type": "display_data"
    },
    {
     "name": "stdout",
     "output_type": "stream",
     "text": [
      "  Epoch   8 : loss = 695.02505919 | training error = 0.3468353483509994 | validation error = 0.4337460024476181\n"
     ]
    },
    {
     "data": {
      "application/vnd.jupyter.widget-view+json": {
       "model_id": "afe4e3a09525437890a621b67692f40b",
       "version_major": 2,
       "version_minor": 0
      },
      "text/plain": [
       "HBox(children=(IntProgress(value=0, max=5571), HTML(value='')))"
      ]
     },
     "metadata": {},
     "output_type": "display_data"
    },
    {
     "name": "stdout",
     "output_type": "stream",
     "text": [
      "  Epoch   9 : loss = 656.48990315 | training error = 0.3377692286008644 | validation error = 0.42362480250021\n"
     ]
    },
    {
     "data": {
      "application/vnd.jupyter.widget-view+json": {
       "model_id": "f80f932c030d49ab835b2562c446fe1b",
       "version_major": 2,
       "version_minor": 0
      },
      "text/plain": [
       "HBox(children=(IntProgress(value=0, max=5571), HTML(value='')))"
      ]
     },
     "metadata": {},
     "output_type": "display_data"
    },
    {
     "name": "stdout",
     "output_type": "stream",
     "text": [
      "  Epoch  10 : loss = 624.76202022 | training error = 0.3300565222189029 | validation error = 0.41455275945176556\n"
     ]
    },
    {
     "data": {
      "application/vnd.jupyter.widget-view+json": {
       "model_id": "b29a8c765ff5490896656aee9bc9344a",
       "version_major": 2,
       "version_minor": 0
      },
      "text/plain": [
       "HBox(children=(IntProgress(value=0, max=5571), HTML(value='')))"
      ]
     },
     "metadata": {},
     "output_type": "display_data"
    },
    {
     "name": "stdout",
     "output_type": "stream",
     "text": [
      "  Epoch  11 : loss = 598.25943404 | training error = 0.3234293279366782 | validation error = 0.4063792651495783\n"
     ]
    },
    {
     "data": {
      "application/vnd.jupyter.widget-view+json": {
       "model_id": "adc4b26c39d24047821cdba9b0b568cd",
       "version_major": 2,
       "version_minor": 0
      },
      "text/plain": [
       "HBox(children=(IntProgress(value=0, max=5571), HTML(value='')))"
      ]
     },
     "metadata": {},
     "output_type": "display_data"
    },
    {
     "name": "stdout",
     "output_type": "stream",
     "text": [
      "  Epoch  12 : loss = 575.85237283 | training error = 0.31768632114113265 | validation error = 0.39898344898417704\n"
     ]
    },
    {
     "data": {
      "application/vnd.jupyter.widget-view+json": {
       "model_id": "6dc3ef0f0f684f6e96d26abd6b03dd15",
       "version_major": 2,
       "version_minor": 0
      },
      "text/plain": [
       "HBox(children=(IntProgress(value=0, max=5571), HTML(value='')))"
      ]
     },
     "metadata": {},
     "output_type": "display_data"
    },
    {
     "name": "stdout",
     "output_type": "stream",
     "text": [
      "  Epoch  13 : loss = 556.71177122 | training error = 0.312672930332599 | validation error = 0.39226664790766075\n"
     ]
    },
    {
     "data": {
      "application/vnd.jupyter.widget-view+json": {
       "model_id": "0d3feef3ce9243f8b655b2a3fac3bb93",
       "version_major": 2,
       "version_minor": 0
      },
      "text/plain": [
       "HBox(children=(IntProgress(value=0, max=5571), HTML(value='')))"
      ]
     },
     "metadata": {},
     "output_type": "display_data"
    },
    {
     "name": "stdout",
     "output_type": "stream",
     "text": [
      "  Epoch  14 : loss = 540.21536345 | training error = 0.30826834783343354 | validation error = 0.3861471700190994\n"
     ]
    },
    {
     "data": {
      "application/vnd.jupyter.widget-view+json": {
       "model_id": "be3556cbe83d4c1ab0fb69fbcc575198",
       "version_major": 2,
       "version_minor": 0
      },
      "text/plain": [
       "HBox(children=(IntProgress(value=0, max=5571), HTML(value='')))"
      ]
     },
     "metadata": {},
     "output_type": "display_data"
    },
    {
     "name": "stdout",
     "output_type": "stream",
     "text": [
      "  Epoch  15 : loss = 525.88707675 | training error = 0.30437671590364646 | validation error = 0.3805565429153448\n"
     ]
    },
    {
     "data": {
      "application/vnd.jupyter.widget-view+json": {
       "model_id": "4045c630dfdf4dc086a1f56adc69ba71",
       "version_major": 2,
       "version_minor": 0
      },
      "text/plain": [
       "HBox(children=(IntProgress(value=0, max=5571), HTML(value='')))"
      ]
     },
     "metadata": {},
     "output_type": "display_data"
    },
    {
     "name": "stdout",
     "output_type": "stream",
     "text": [
      "  Epoch  16 : loss = 513.35661689 | training error = 0.30092097094320525 | validation error = 0.37543676172139273\n"
     ]
    },
    {
     "data": {
      "application/vnd.jupyter.widget-view+json": {
       "model_id": "384ff23bbb714343b5a11d828e18636d",
       "version_major": 2,
       "version_minor": 0
      },
      "text/plain": [
       "HBox(children=(IntProgress(value=0, max=5571), HTML(value='')))"
      ]
     },
     "metadata": {},
     "output_type": "display_data"
    },
    {
     "name": "stdout",
     "output_type": "stream",
     "text": [
      "  Epoch  17 : loss = 502.33179616 | training error = 0.2978384434754005 | validation error = 0.37073823203972855\n"
     ]
    },
    {
     "data": {
      "application/vnd.jupyter.widget-view+json": {
       "model_id": "9eeedd9aa76840fbae295c1db1979b00",
       "version_major": 2,
       "version_minor": 0
      },
      "text/plain": [
       "HBox(children=(IntProgress(value=0, max=5571), HTML(value='')))"
      ]
     },
     "metadata": {},
     "output_type": "display_data"
    },
    {
     "name": "stdout",
     "output_type": "stream",
     "text": [
      "  Epoch  18 : loss = 492.57907579 | training error = 0.29507764696171473 | validation error = 0.3664182017573336\n"
     ]
    },
    {
     "data": {
      "application/vnd.jupyter.widget-view+json": {
       "model_id": "c8488111272741b595c618fd6cee7263",
       "version_major": 2,
       "version_minor": 0
      },
      "text/plain": [
       "HBox(children=(IntProgress(value=0, max=5571), HTML(value='')))"
      ]
     },
     "metadata": {},
     "output_type": "display_data"
    },
    {
     "name": "stdout",
     "output_type": "stream",
     "text": [
      "  Epoch  19 : loss = 483.90967071 | training error = 0.292595894680004 | validation error = 0.3624395483035007\n"
     ]
    },
    {
     "data": {
      "application/vnd.jupyter.widget-view+json": {
       "model_id": "b5082a73704548a494d99b11808fe661",
       "version_major": 2,
       "version_minor": 0
      },
      "text/plain": [
       "HBox(children=(IntProgress(value=0, max=5571), HTML(value='')))"
      ]
     },
     "metadata": {},
     "output_type": "display_data"
    },
    {
     "name": "stdout",
     "output_type": "stream",
     "text": [
      "  Epoch  20 : loss = 476.16938239 | training error = 0.29035750362835355 | validation error = 0.3587698290186807\n"
     ]
    },
    {
     "data": {
      "application/vnd.jupyter.widget-view+json": {
       "model_id": "631dbfe4efe2463bac6a8ea06ac7cf9c",
       "version_major": 2,
       "version_minor": 0
      },
      "text/plain": [
       "HBox(children=(IntProgress(value=0, max=5571), HTML(value='')))"
      ]
     },
     "metadata": {},
     "output_type": "display_data"
    },
    {
     "name": "stdout",
     "output_type": "stream",
     "text": [
      "  Epoch  21 : loss = 469.23112690 | training error = 0.2883324223134376 | validation error = 0.35538052594924335\n"
     ]
    },
    {
     "data": {
      "application/vnd.jupyter.widget-view+json": {
       "model_id": "0446a56bcfcb4ef2a80f92db243cb83d",
       "version_major": 2,
       "version_minor": 0
      },
      "text/plain": [
       "HBox(children=(IntProgress(value=0, max=5571), HTML(value='')))"
      ]
     },
     "metadata": {},
     "output_type": "display_data"
    },
    {
     "name": "stdout",
     "output_type": "stream",
     "text": [
      "  Epoch  22 : loss = 462.98924746 | training error = 0.2864951697886711 | validation error = 0.35224644095097174\n"
     ]
    },
    {
     "data": {
      "application/vnd.jupyter.widget-view+json": {
       "model_id": "5bff20df51a34683ba19197378aa902a",
       "version_major": 2,
       "version_minor": 0
      },
      "text/plain": [
       "HBox(children=(IntProgress(value=0, max=5571), HTML(value='')))"
      ]
     },
     "metadata": {},
     "output_type": "display_data"
    },
    {
     "name": "stdout",
     "output_type": "stream",
     "text": [
      "  Epoch  23 : loss = 457.35524195 | training error = 0.28482400598135565 | validation error = 0.3493452044697812\n"
     ]
    },
    {
     "data": {
      "application/vnd.jupyter.widget-view+json": {
       "model_id": "3598bd189a5249138052fb051833f6f9",
       "version_major": 2,
       "version_minor": 0
      },
      "text/plain": [
       "HBox(children=(IntProgress(value=0, max=5571), HTML(value='')))"
      ]
     },
     "metadata": {},
     "output_type": "display_data"
    },
    {
     "name": "stdout",
     "output_type": "stream",
     "text": [
      "  Epoch  24 : loss = 452.25445985 | training error = 0.283300277067116 | validation error = 0.3466568745398603\n"
     ]
    },
    {
     "data": {
      "application/vnd.jupyter.widget-view+json": {
       "model_id": "18c209d3b3b54bf2b5d603f76f380132",
       "version_major": 2,
       "version_minor": 0
      },
      "text/plain": [
       "HBox(children=(IntProgress(value=0, max=5571), HTML(value='')))"
      ]
     },
     "metadata": {},
     "output_type": "display_data"
    },
    {
     "name": "stdout",
     "output_type": "stream",
     "text": [
      "  Epoch  25 : loss = 447.62351601 | training error = 0.2819078928105062 | validation error = 0.3441636040629388\n"
     ]
    },
    {
     "data": {
      "application/vnd.jupyter.widget-view+json": {
       "model_id": "832f40dd28ca40de85b3f0d4bafff498",
       "version_major": 2,
       "version_minor": 0
      },
      "text/plain": [
       "HBox(children=(IntProgress(value=0, max=5571), HTML(value='')))"
      ]
     },
     "metadata": {},
     "output_type": "display_data"
    },
    {
     "name": "stdout",
     "output_type": "stream",
     "text": [
      "  Epoch  26 : loss = 443.40829122 | training error = 0.28063290700386373 | validation error = 0.34184936648183095\n"
     ]
    },
    {
     "data": {
      "application/vnd.jupyter.widget-view+json": {
       "model_id": "4563ee3d3cdc4a88bb121ed2b949b5dd",
       "version_major": 2,
       "version_minor": 0
      },
      "text/plain": [
       "HBox(children=(IntProgress(value=0, max=5571), HTML(value='')))"
      ]
     },
     "metadata": {},
     "output_type": "display_data"
    },
    {
     "name": "stdout",
     "output_type": "stream",
     "text": [
      "  Epoch  27 : loss = 439.56229824 | training error = 0.2794631775689839 | validation error = 0.3396997226720343\n"
     ]
    },
    {
     "data": {
      "application/vnd.jupyter.widget-view+json": {
       "model_id": "5591941cfc2c4341bf4df1ac6eec660f",
       "version_major": 2,
       "version_minor": 0
      },
      "text/plain": [
       "HBox(children=(IntProgress(value=0, max=5571), HTML(value='')))"
      ]
     },
     "metadata": {},
     "output_type": "display_data"
    },
    {
     "name": "stdout",
     "output_type": "stream",
     "text": [
      "  Epoch  28 : loss = 436.04541014 | training error = 0.2783880887580816 | validation error = 0.33770162830361095\n"
     ]
    },
    {
     "data": {
      "application/vnd.jupyter.widget-view+json": {
       "model_id": "07b887bb49414d8397223c1ad90eb34c",
       "version_major": 2,
       "version_minor": 0
      },
      "text/plain": [
       "HBox(children=(IntProgress(value=0, max=5571), HTML(value='')))"
      ]
     },
     "metadata": {},
     "output_type": "display_data"
    },
    {
     "name": "stdout",
     "output_type": "stream",
     "text": [
      "  Epoch  29 : loss = 432.82283773 | training error = 0.27739832321265334 | validation error = 0.3358432650816979\n"
     ]
    },
    {
     "data": {
      "application/vnd.jupyter.widget-view+json": {
       "model_id": "9da5693ec390438195fad42d82fe414a",
       "version_major": 2,
       "version_minor": 0
      },
      "text/plain": [
       "HBox(children=(IntProgress(value=0, max=5571), HTML(value='')))"
      ]
     },
     "metadata": {},
     "output_type": "display_data"
    },
    {
     "name": "stdout",
     "output_type": "stream",
     "text": [
      "  Epoch  30 : loss = 429.86427208 | training error = 0.27648567362067805 | validation error = 0.3341139023498934\n"
     ]
    },
    {
     "data": {
      "application/vnd.jupyter.widget-view+json": {
       "model_id": "eb700c60036c4a7b8db7ee01ee97d7e3",
       "version_major": 2,
       "version_minor": 0
      },
      "text/plain": [
       "HBox(children=(IntProgress(value=0, max=5571), HTML(value='')))"
      ]
     },
     "metadata": {},
     "output_type": "display_data"
    },
    {
     "name": "stdout",
     "output_type": "stream",
     "text": [
      "  Epoch  31 : loss = 427.14321509 | training error = 0.2756428855412272 | validation error = 0.33250377327490727\n"
     ]
    },
    {
     "data": {
      "application/vnd.jupyter.widget-view+json": {
       "model_id": "4d11d139f656400c906535fab1c73d68",
       "version_major": 2,
       "version_minor": 0
      },
      "text/plain": [
       "HBox(children=(IntProgress(value=0, max=5571), HTML(value='')))"
      ]
     },
     "metadata": {},
     "output_type": "display_data"
    },
    {
     "name": "stdout",
     "output_type": "stream",
     "text": [
      "  Epoch  32 : loss = 424.63638462 | training error = 0.2748635266447027 | validation error = 0.331003970637748\n"
     ]
    },
    {
     "data": {
      "application/vnd.jupyter.widget-view+json": {
       "model_id": "ffba8dda15404bc38177ae0954acb5ef",
       "version_major": 2,
       "version_minor": 0
      },
      "text/plain": [
       "HBox(children=(IntProgress(value=0, max=5571), HTML(value='')))"
      ]
     },
     "metadata": {},
     "output_type": "display_data"
    },
    {
     "name": "stdout",
     "output_type": "stream",
     "text": [
      "  Epoch  33 : loss = 422.32327848 | training error = 0.2741418761386453 | validation error = 0.3296063555412904\n"
     ]
    },
    {
     "data": {
      "application/vnd.jupyter.widget-view+json": {
       "model_id": "89dde34c373f4d7a8ac9ae3dcc310b07",
       "version_major": 2,
       "version_minor": 0
      },
      "text/plain": [
       "HBox(children=(IntProgress(value=0, max=5571), HTML(value='')))"
      ]
     },
     "metadata": {},
     "output_type": "display_data"
    },
    {
     "name": "stdout",
     "output_type": "stream",
     "text": [
      "  Epoch  34 : loss = 420.18575962 | training error = 0.2734728319106243 | validation error = 0.3283034790837425\n"
     ]
    },
    {
     "data": {
      "application/vnd.jupyter.widget-view+json": {
       "model_id": "75591709cea54dd6a7ac219a0e953d3c",
       "version_major": 2,
       "version_minor": 0
      },
      "text/plain": [
       "HBox(children=(IntProgress(value=0, max=5571), HTML(value='')))"
      ]
     },
     "metadata": {},
     "output_type": "display_data"
    },
    {
     "name": "stdout",
     "output_type": "stream",
     "text": [
      "  Epoch  35 : loss = 418.20775440 | training error = 0.27285183140231734 | validation error = 0.32708851101720116\n"
     ]
    },
    {
     "data": {
      "application/vnd.jupyter.widget-view+json": {
       "model_id": "c8f2890f1df349f19f0ae1036718b85e",
       "version_major": 2,
       "version_minor": 0
      },
      "text/plain": [
       "HBox(children=(IntProgress(value=0, max=5571), HTML(value='')))"
      ]
     },
     "metadata": {},
     "output_type": "display_data"
    },
    {
     "name": "stdout",
     "output_type": "stream",
     "text": [
      "  Epoch  36 : loss = 416.37495174 | training error = 0.2722747842106037 | validation error = 0.32595517996438883\n"
     ]
    },
    {
     "data": {
      "application/vnd.jupyter.widget-view+json": {
       "model_id": "6a63633cf2c44d1a86c0e00f544e8996",
       "version_major": 2,
       "version_minor": 0
      },
      "text/plain": [
       "HBox(children=(IntProgress(value=0, max=5571), HTML(value='')))"
      ]
     },
     "metadata": {},
     "output_type": "display_data"
    },
    {
     "name": "stdout",
     "output_type": "stream",
     "text": [
      "  Epoch  37 : loss = 414.67458847 | training error = 0.27173801467595315 | validation error = 0.32489772009126466\n"
     ]
    },
    {
     "data": {
      "application/vnd.jupyter.widget-view+json": {
       "model_id": "49b03eebe4b644d08593836984068337",
       "version_major": 2,
       "version_minor": 0
      },
      "text/plain": [
       "HBox(children=(IntProgress(value=0, max=5571), HTML(value='')))"
      ]
     },
     "metadata": {},
     "output_type": "display_data"
    },
    {
     "name": "stdout",
     "output_type": "stream",
     "text": [
      "  Epoch  38 : loss = 413.09524926 | training error = 0.27123821216788213 | validation error = 0.3239108223509623\n"
     ]
    },
    {
     "data": {
      "application/vnd.jupyter.widget-view+json": {
       "model_id": "df51a5f8d1b54ebc85e2acf920c86362",
       "version_major": 2,
       "version_minor": 0
      },
      "text/plain": [
       "HBox(children=(IntProgress(value=0, max=5571), HTML(value='')))"
      ]
     },
     "metadata": {},
     "output_type": "display_data"
    },
    {
     "name": "stdout",
     "output_type": "stream",
     "text": [
      "  Epoch  39 : loss = 411.62669225 | training error = 0.27077238863881087 | validation error = 0.3229895922903545\n"
     ]
    },
    {
     "data": {
      "application/vnd.jupyter.widget-view+json": {
       "model_id": "5147e8b6d8ae48acaae00c2360931a34",
       "version_major": 2,
       "version_minor": 0
      },
      "text/plain": [
       "HBox(children=(IntProgress(value=0, max=5571), HTML(value='')))"
      ]
     },
     "metadata": {},
     "output_type": "display_data"
    },
    {
     "name": "stdout",
     "output_type": "stream",
     "text": [
      "  Epoch  40 : loss = 410.25971624 | training error = 0.2703378415844003 | validation error = 0.3221295137270423\n"
     ]
    },
    {
     "data": {
      "application/vnd.jupyter.widget-view+json": {
       "model_id": "5dbd8e302e0349fb964681b5bb57ab64",
       "version_major": 2,
       "version_minor": 0
      },
      "text/plain": [
       "HBox(children=(IntProgress(value=0, max=5571), HTML(value='')))"
      ]
     },
     "metadata": {},
     "output_type": "display_data"
    },
    {
     "name": "stdout",
     "output_type": "stream",
     "text": [
      "  Epoch  41 : loss = 408.98602493 | training error = 0.2699321221027921 | validation error = 0.3213264132142538\n"
     ]
    },
    {
     "data": {
      "application/vnd.jupyter.widget-view+json": {
       "model_id": "d74ce72c3ef84101b64e63be1b9ebfc6",
       "version_major": 2,
       "version_minor": 0
      },
      "text/plain": [
       "HBox(children=(IntProgress(value=0, max=5571), HTML(value='')))"
      ]
     },
     "metadata": {},
     "output_type": "display_data"
    },
    {
     "name": "stdout",
     "output_type": "stream",
     "text": [
      "  Epoch  42 : loss = 407.79813139 | training error = 0.26955300686661304 | validation error = 0.32057643213515574\n"
     ]
    },
    {
     "data": {
      "application/vnd.jupyter.widget-view+json": {
       "model_id": "d6acb3eea2ad483f81edc04df4c27082",
       "version_major": 2,
       "version_minor": 0
      },
      "text/plain": [
       "HBox(children=(IntProgress(value=0, max=5571), HTML(value='')))"
      ]
     },
     "metadata": {},
     "output_type": "display_data"
    },
    {
     "name": "stdout",
     "output_type": "stream",
     "text": [
      "  Epoch  43 : loss = 406.68926360 | training error = 0.26919847403905267 | validation error = 0.31987599755103757\n"
     ]
    },
    {
     "data": {
      "application/vnd.jupyter.widget-view+json": {
       "model_id": "dc8e8fa87e3d4c76a377e91fb22b4e4c",
       "version_major": 2,
       "version_minor": 0
      },
      "text/plain": [
       "HBox(children=(IntProgress(value=0, max=5571), HTML(value='')))"
      ]
     },
     "metadata": {},
     "output_type": "display_data"
    },
    {
     "name": "stdout",
     "output_type": "stream",
     "text": [
      "  Epoch  44 : loss = 405.65327443 | training error = 0.268866681719344 | validation error = 0.3192217995264491\n"
     ]
    },
    {
     "data": {
      "application/vnd.jupyter.widget-view+json": {
       "model_id": "42cc1aab0b85440c8bf529a0e76bdcbc",
       "version_major": 2,
       "version_minor": 0
      },
      "text/plain": [
       "HBox(children=(IntProgress(value=0, max=5571), HTML(value='')))"
      ]
     },
     "metadata": {},
     "output_type": "display_data"
    },
    {
     "name": "stdout",
     "output_type": "stream",
     "text": [
      "  Epoch  45 : loss = 404.68458929 | training error = 0.26855594932274846 | validation error = 0.3186107687377768\n"
     ]
    },
    {
     "data": {
      "application/vnd.jupyter.widget-view+json": {
       "model_id": "fe97f18b4271402d886d6e512f6d3283",
       "version_major": 2,
       "version_minor": 0
      },
      "text/plain": [
       "HBox(children=(IntProgress(value=0, max=5571), HTML(value='')))"
      ]
     },
     "metadata": {},
     "output_type": "display_data"
    },
    {
     "name": "stdout",
     "output_type": "stream",
     "text": [
      "  Epoch  46 : loss = 403.77813037 | training error = 0.2682647411750193 | validation error = 0.31804005648422534\n"
     ]
    },
    {
     "data": {
      "application/vnd.jupyter.widget-view+json": {
       "model_id": "83bdfdc0045648329f0f16a4b029cc21",
       "version_major": 2,
       "version_minor": 0
      },
      "text/plain": [
       "HBox(children=(IntProgress(value=0, max=5571), HTML(value='')))"
      ]
     },
     "metadata": {},
     "output_type": "display_data"
    },
    {
     "name": "stdout",
     "output_type": "stream",
     "text": [
      "  Epoch  47 : loss = 402.92927398 | training error = 0.267991651893985 | validation error = 0.317507016858997\n"
     ]
    },
    {
     "data": {
      "application/vnd.jupyter.widget-view+json": {
       "model_id": "d3178087145345eaa192ca01cbfcc5a7",
       "version_major": 2,
       "version_minor": 0
      },
      "text/plain": [
       "HBox(children=(IntProgress(value=0, max=5571), HTML(value='')))"
      ]
     },
     "metadata": {},
     "output_type": "display_data"
    },
    {
     "name": "stdout",
     "output_type": "stream",
     "text": [
      "  Epoch  48 : loss = 402.13379545 | training error = 0.26773539345634983 | validation error = 0.31700919088395846\n"
     ]
    },
    {
     "data": {
      "application/vnd.jupyter.widget-view+json": {
       "model_id": "3b11463da5b54953a9c8fb31529b5876",
       "version_major": 2,
       "version_minor": 0
      },
      "text/plain": [
       "HBox(children=(IntProgress(value=0, max=5571), HTML(value='')))"
      ]
     },
     "metadata": {},
     "output_type": "display_data"
    },
    {
     "name": "stdout",
     "output_type": "stream",
     "text": [
      "  Epoch  49 : loss = 401.38783541 | training error = 0.2674947840321947 | validation error = 0.3165442918704067\n"
     ]
    },
    {
     "data": {
      "application/vnd.jupyter.widget-view+json": {
       "model_id": "bea852ee2afc4d82b56c2bb599a1c444",
       "version_major": 2,
       "version_minor": 0
      },
      "text/plain": [
       "HBox(children=(IntProgress(value=0, max=5571), HTML(value='')))"
      ]
     },
     "metadata": {},
     "output_type": "display_data"
    },
    {
     "name": "stdout",
     "output_type": "stream",
     "text": [
      "  Epoch  50 : loss = 400.68785833 | training error = 0.26726873765613596 | validation error = 0.3161101908815038\n"
     ]
    },
    {
     "data": {
      "application/vnd.jupyter.widget-view+json": {
       "model_id": "5c0304bcd72b47dd8932ce4a48d1f412",
       "version_major": 2,
       "version_minor": 0
      },
      "text/plain": [
       "HBox(children=(IntProgress(value=0, max=5571), HTML(value='')))"
      ]
     },
     "metadata": {},
     "output_type": "display_data"
    },
    {
     "name": "stdout",
     "output_type": "stream",
     "text": [
      "  Epoch  51 : loss = 400.03062310 | training error = 0.26705625532388294 | validation error = 0.3157049058163336\n"
     ]
    },
    {
     "data": {
      "application/vnd.jupyter.widget-view+json": {
       "model_id": "33882e4a63f44de9b10670ebd732e02c",
       "version_major": 2,
       "version_minor": 0
      },
      "text/plain": [
       "HBox(children=(IntProgress(value=0, max=5571), HTML(value='')))"
      ]
     },
     "metadata": {},
     "output_type": "display_data"
    },
    {
     "name": "stdout",
     "output_type": "stream",
     "text": [
      "  Epoch  52 : loss = 399.41315439 | training error = 0.26685641671494353 | validation error = 0.3153265896230112\n"
     ]
    },
    {
     "data": {
      "application/vnd.jupyter.widget-view+json": {
       "model_id": "8177437a307e4663a6cf75dc66e04dc6",
       "version_major": 2,
       "version_minor": 0
      },
      "text/plain": [
       "HBox(children=(IntProgress(value=0, max=5571), HTML(value='')))"
      ]
     },
     "metadata": {},
     "output_type": "display_data"
    },
    {
     "name": "stdout",
     "output_type": "stream",
     "text": [
      "  Epoch  53 : loss = 398.83271440 | training error = 0.26666837344244504 | validation error = 0.3149735205647454\n"
     ]
    },
    {
     "data": {
      "application/vnd.jupyter.widget-view+json": {
       "model_id": "30436b1551a942069a2e2f78011a4bc6",
       "version_major": 2,
       "version_minor": 0
      },
      "text/plain": [
       "HBox(children=(IntProgress(value=0, max=5571), HTML(value='')))"
      ]
     },
     "metadata": {},
     "output_type": "display_data"
    },
    {
     "name": "stdout",
     "output_type": "stream",
     "text": [
      "  Epoch  54 : loss = 398.28678646 | training error = 0.26649134224265864 | validation error = 0.314644092018674\n"
     ]
    },
    {
     "data": {
      "application/vnd.jupyter.widget-view+json": {
       "model_id": "ab72da85521a41e9a53bf116ed237211",
       "version_major": 2,
       "version_minor": 0
      },
      "text/plain": [
       "HBox(children=(IntProgress(value=0, max=5571), HTML(value='')))"
      ]
     },
     "metadata": {},
     "output_type": "display_data"
    },
    {
     "name": "stdout",
     "output_type": "stream",
     "text": [
      "  Epoch  55 : loss = 397.77304979 | training error = 0.26632459927215124 | validation error = 0.31433680498217736\n"
     ]
    },
    {
     "data": {
      "application/vnd.jupyter.widget-view+json": {
       "model_id": "4ee2c4c7efb346e09002d64db496ea4b",
       "version_major": 2,
       "version_minor": 0
      },
      "text/plain": [
       "HBox(children=(IntProgress(value=0, max=5571), HTML(value='')))"
      ]
     },
     "metadata": {},
     "output_type": "display_data"
    },
    {
     "name": "stdout",
     "output_type": "stream",
     "text": [
      "  Epoch  56 : loss = 397.28936209 | training error = 0.26616747504578414 | validation error = 0.31405025999240865\n"
     ]
    },
    {
     "data": {
      "application/vnd.jupyter.widget-view+json": {
       "model_id": "d208666a6f8d46dc81d21628d330f0c0",
       "version_major": 2,
       "version_minor": 0
      },
      "text/plain": [
       "HBox(children=(IntProgress(value=0, max=5571), HTML(value='')))"
      ]
     },
     "metadata": {},
     "output_type": "display_data"
    },
    {
     "name": "stdout",
     "output_type": "stream",
     "text": [
      "  Epoch  57 : loss = 396.83374751 | training error = 0.2660193496760993 | validation error = 0.3137831492552015\n"
     ]
    },
    {
     "data": {
      "application/vnd.jupyter.widget-view+json": {
       "model_id": "95b602b2af3847d3983792e42e32822d",
       "version_major": 2,
       "version_minor": 0
      },
      "text/plain": [
       "HBox(children=(IntProgress(value=0, max=5571), HTML(value='')))"
      ]
     },
     "metadata": {},
     "output_type": "display_data"
    },
    {
     "name": "stdout",
     "output_type": "stream",
     "text": [
      "  Epoch  58 : loss = 396.40437478 | training error = 0.2658796485947056 | validation error = 0.31353425080205855\n"
     ]
    },
    {
     "data": {
      "application/vnd.jupyter.widget-view+json": {
       "model_id": "42bc1dd5cd2f4d599ab45e93c3f32aa3",
       "version_major": 2,
       "version_minor": 0
      },
      "text/plain": [
       "HBox(children=(IntProgress(value=0, max=5571), HTML(value='')))"
      ]
     },
     "metadata": {},
     "output_type": "display_data"
    },
    {
     "name": "stdout",
     "output_type": "stream",
     "text": [
      "  Epoch  59 : loss = 395.99955317 | training error = 0.26574783890985915 | validation error = 0.3133024218915074\n"
     ]
    },
    {
     "data": {
      "application/vnd.jupyter.widget-view+json": {
       "model_id": "e5bb454b95a14522b7a49359713b744f",
       "version_major": 2,
       "version_minor": 0
      },
      "text/plain": [
       "HBox(children=(IntProgress(value=0, max=5571), HTML(value='')))"
      ]
     },
     "metadata": {},
     "output_type": "display_data"
    },
    {
     "name": "stdout",
     "output_type": "stream",
     "text": [
      "  Epoch  60 : loss = 395.61771083 | training error = 0.26562342586307613 | validation error = 0.3130865941878683\n"
     ]
    },
    {
     "data": {
      "application/vnd.jupyter.widget-view+json": {
       "model_id": "42464cb602f649ecb079341846dd8733",
       "version_major": 2,
       "version_minor": 0
      },
      "text/plain": [
       "HBox(children=(IntProgress(value=0, max=5571), HTML(value='')))"
      ]
     },
     "metadata": {},
     "output_type": "display_data"
    },
    {
     "name": "stdout",
     "output_type": "stream",
     "text": [
      "  Epoch  61 : loss = 395.25740020 | training error = 0.26550594966540003 | validation error = 0.312885767331078\n"
     ]
    },
    {
     "data": {
      "application/vnd.jupyter.widget-view+json": {
       "model_id": "c6e1b2720d2d461f98fde5e7b6c5cd74",
       "version_major": 2,
       "version_minor": 0
      },
      "text/plain": [
       "HBox(children=(IntProgress(value=0, max=5571), HTML(value='')))"
      ]
     },
     "metadata": {},
     "output_type": "display_data"
    },
    {
     "name": "stdout",
     "output_type": "stream",
     "text": [
      "  Epoch  62 : loss = 394.91726625 | training error = 0.26539498278275275 | validation error = 0.31269900534275585\n"
     ]
    },
    {
     "data": {
      "application/vnd.jupyter.widget-view+json": {
       "model_id": "2ac70dc1adc64906aefafa56633abd3f",
       "version_major": 2,
       "version_minor": 0
      },
      "text/plain": [
       "HBox(children=(IntProgress(value=0, max=5571), HTML(value='')))"
      ]
     },
     "metadata": {},
     "output_type": "display_data"
    },
    {
     "name": "stdout",
     "output_type": "stream",
     "text": [
      "  Epoch  63 : loss = 394.59605645 | training error = 0.2652901273307635 | validation error = 0.3125254315294024\n"
     ]
    },
    {
     "data": {
      "application/vnd.jupyter.widget-view+json": {
       "model_id": "c65ca87a99694b839df2eafb511f83f4",
       "version_major": 2,
       "version_minor": 0
      },
      "text/plain": [
       "HBox(children=(IntProgress(value=0, max=5571), HTML(value='')))"
      ]
     },
     "metadata": {},
     "output_type": "display_data"
    },
    {
     "name": "stdout",
     "output_type": "stream",
     "text": [
      "  Epoch  64 : loss = 394.29260310 | training error = 0.2651910126846971 | validation error = 0.31236422538333436\n"
     ]
    },
    {
     "data": {
      "application/vnd.jupyter.widget-view+json": {
       "model_id": "efd224bd2fc049c78b27a5660796f3c2",
       "version_major": 2,
       "version_minor": 0
      },
      "text/plain": [
       "HBox(children=(IntProgress(value=0, max=5571), HTML(value='')))"
      ]
     },
     "metadata": {},
     "output_type": "display_data"
    },
    {
     "name": "stdout",
     "output_type": "stream",
     "text": [
      "  Epoch  65 : loss = 394.00582623 | training error = 0.2650972934804521 | validation error = 0.31221461717209653\n"
     ]
    },
    {
     "data": {
      "application/vnd.jupyter.widget-view+json": {
       "model_id": "947491daf2274a7b83f100b95ddc5f39",
       "version_major": 2,
       "version_minor": 0
      },
      "text/plain": [
       "HBox(children=(IntProgress(value=0, max=5571), HTML(value='')))"
      ]
     },
     "metadata": {},
     "output_type": "display_data"
    },
    {
     "name": "stdout",
     "output_type": "stream",
     "text": [
      "  Epoch  66 : loss = 393.73471398 | training error = 0.26500864747252517 | validation error = 0.31207588595216423\n"
     ]
    },
    {
     "data": {
      "application/vnd.jupyter.widget-view+json": {
       "model_id": "cd22b37b30b743b2a76bc5d6d093745a",
       "version_major": 2,
       "version_minor": 0
      },
      "text/plain": [
       "HBox(children=(IntProgress(value=0, max=5571), HTML(value='')))"
      ]
     },
     "metadata": {},
     "output_type": "display_data"
    },
    {
     "name": "stdout",
     "output_type": "stream",
     "text": [
      "  Epoch  67 : loss = 393.47832162 | training error = 0.26492477398066205 | validation error = 0.311947356091981\n"
     ]
    },
    {
     "data": {
      "application/vnd.jupyter.widget-view+json": {
       "model_id": "2c9b93e73ba148a4b1a8a785654172ec",
       "version_major": 2,
       "version_minor": 0
      },
      "text/plain": [
       "HBox(children=(IntProgress(value=0, max=5571), HTML(value='')))"
      ]
     },
     "metadata": {},
     "output_type": "display_data"
    },
    {
     "name": "stdout",
     "output_type": "stream",
     "text": [
      "  Epoch  68 : loss = 393.23577433 | training error = 0.26484539222093895 | validation error = 0.3118283933872516\n"
     ]
    },
    {
     "data": {
      "application/vnd.jupyter.widget-view+json": {
       "model_id": "2a486c0d314c48b6a376bdc14e33d19c",
       "version_major": 2,
       "version_minor": 0
      },
      "text/plain": [
       "HBox(children=(IntProgress(value=0, max=5571), HTML(value='')))"
      ]
     },
     "metadata": {},
     "output_type": "display_data"
    },
    {
     "name": "stdout",
     "output_type": "stream",
     "text": [
      "  Epoch  69 : loss = 393.00625053 | training error = 0.2647702396600576 | validation error = 0.31171840306568704\n"
     ]
    },
    {
     "data": {
      "application/vnd.jupyter.widget-view+json": {
       "model_id": "e5af3cf3add64038834e4ecc2ef4f06d",
       "version_major": 2,
       "version_minor": 0
      },
      "text/plain": [
       "HBox(children=(IntProgress(value=0, max=5571), HTML(value='')))"
      ]
     },
     "metadata": {},
     "output_type": "display_data"
    },
    {
     "name": "stdout",
     "output_type": "stream",
     "text": [
      "  Epoch  70 : loss = 392.78898543 | training error = 0.26469907093548073 | validation error = 0.3116168275018099\n"
     ]
    },
    {
     "data": {
      "application/vnd.jupyter.widget-view+json": {
       "model_id": "af277c6c2ea74c6abf8e3e062231a74f",
       "version_major": 2,
       "version_minor": 0
      },
      "text/plain": [
       "HBox(children=(IntProgress(value=0, max=5571), HTML(value='')))"
      ]
     },
     "metadata": {},
     "output_type": "display_data"
    },
    {
     "name": "stdout",
     "output_type": "stream",
     "text": [
      "  Epoch  71 : loss = 392.58326829 | training error = 0.2646316564018029 | validation error = 0.3115231428377094\n"
     ]
    },
    {
     "data": {
      "application/vnd.jupyter.widget-view+json": {
       "model_id": "f6fb9e08aec149f1b1996848833f5c8c",
       "version_major": 2,
       "version_minor": 0
      },
      "text/plain": [
       "HBox(children=(IntProgress(value=0, max=5571), HTML(value='')))"
      ]
     },
     "metadata": {},
     "output_type": "display_data"
    },
    {
     "name": "stdout",
     "output_type": "stream",
     "text": [
      "  Epoch  72 : loss = 392.38842616 | training error = 0.2645677810055469 | validation error = 0.3114368576474494\n"
     ]
    },
    {
     "data": {
      "application/vnd.jupyter.widget-view+json": {
       "model_id": "b224e0e23b364292be61402e05ad98cd",
       "version_major": 2,
       "version_minor": 0
      },
      "text/plain": [
       "HBox(children=(IntProgress(value=0, max=5571), HTML(value='')))"
      ]
     },
     "metadata": {},
     "output_type": "display_data"
    },
    {
     "name": "stdout",
     "output_type": "stream",
     "text": [
      "  Epoch  73 : loss = 392.20383130 | training error = 0.2645072433643423 | validation error = 0.3113575099856879\n"
     ]
    },
    {
     "data": {
      "application/vnd.jupyter.widget-view+json": {
       "model_id": "edc8b89d71f44c8ba14bff6349a4fab3",
       "version_major": 2,
       "version_minor": 0
      },
      "text/plain": [
       "HBox(children=(IntProgress(value=0, max=5571), HTML(value='')))"
      ]
     },
     "metadata": {},
     "output_type": "display_data"
    },
    {
     "name": "stdout",
     "output_type": "stream",
     "text": [
      "  Epoch  74 : loss = 392.02890290 | training error = 0.26444985478131433 | validation error = 0.31128466675971944\n"
     ]
    },
    {
     "data": {
      "application/vnd.jupyter.widget-view+json": {
       "model_id": "1ad20356cf1f4556beb40b393161dfe2",
       "version_major": 2,
       "version_minor": 0
      },
      "text/plain": [
       "HBox(children=(IntProgress(value=0, max=5571), HTML(value='')))"
      ]
     },
     "metadata": {},
     "output_type": "display_data"
    },
    {
     "name": "stdout",
     "output_type": "stream",
     "text": [
      "  Epoch  75 : loss = 391.86308901 | training error = 0.2643954381743806 | validation error = 0.31121792089099354\n"
     ]
    },
    {
     "data": {
      "application/vnd.jupyter.widget-view+json": {
       "model_id": "72a895daf2034187a7725eda9a5bb37a",
       "version_major": 2,
       "version_minor": 0
      },
      "text/plain": [
       "HBox(children=(IntProgress(value=0, max=5571), HTML(value='')))"
      ]
     },
     "metadata": {},
     "output_type": "display_data"
    },
    {
     "name": "stdout",
     "output_type": "stream",
     "text": [
      "  Epoch  76 : loss = 391.70587447 | training error = 0.26434382749683194 | validation error = 0.3111568900010102\n"
     ]
    },
    {
     "data": {
      "application/vnd.jupyter.widget-view+json": {
       "model_id": "c2cd95235a8d4319b9e2deaaeac253b3",
       "version_major": 2,
       "version_minor": 0
      },
      "text/plain": [
       "HBox(children=(IntProgress(value=0, max=5571), HTML(value='')))"
      ]
     },
     "metadata": {},
     "output_type": "display_data"
    },
    {
     "name": "stdout",
     "output_type": "stream",
     "text": [
      "  Epoch  77 : loss = 391.55677957 | training error = 0.2642948668777042 | validation error = 0.3111012142270509\n"
     ]
    },
    {
     "data": {
      "application/vnd.jupyter.widget-view+json": {
       "model_id": "b0f3ef332fb34d60809e4567ca9b105d",
       "version_major": 2,
       "version_minor": 0
      },
      "text/plain": [
       "HBox(children=(IntProgress(value=0, max=5571), HTML(value='')))"
      ]
     },
     "metadata": {},
     "output_type": "display_data"
    },
    {
     "name": "stdout",
     "output_type": "stream",
     "text": [
      "  Epoch  78 : loss = 391.41535245 | training error = 0.26424840989030235 | validation error = 0.3110505564653912\n"
     ]
    },
    {
     "data": {
      "application/vnd.jupyter.widget-view+json": {
       "model_id": "e10eed0baf034b7db97a91da0077e7cf",
       "version_major": 2,
       "version_minor": 0
      },
      "text/plain": [
       "HBox(children=(IntProgress(value=0, max=5571), HTML(value='')))"
      ]
     },
     "metadata": {},
     "output_type": "display_data"
    },
    {
     "name": "stdout",
     "output_type": "stream",
     "text": [
      "  Epoch  79 : loss = 391.28116458 | training error = 0.2642043189809697 | validation error = 0.31100459901160915\n"
     ]
    },
    {
     "data": {
      "application/vnd.jupyter.widget-view+json": {
       "model_id": "9cb19d32ba58491fb0d522b1850b11a9",
       "version_major": 2,
       "version_minor": 0
      },
      "text/plain": [
       "HBox(children=(IntProgress(value=0, max=5571), HTML(value='')))"
      ]
     },
     "metadata": {},
     "output_type": "display_data"
    },
    {
     "name": "stdout",
     "output_type": "stream",
     "text": [
      "  Epoch  80 : loss = 391.15382146 | training error = 0.26416246489851225 | validation error = 0.3109630435180951\n"
     ]
    },
    {
     "data": {
      "application/vnd.jupyter.widget-view+json": {
       "model_id": "8806cea5abbf4e2686ce179b5f63c763",
       "version_major": 2,
       "version_minor": 0
      },
      "text/plain": [
       "HBox(children=(IntProgress(value=0, max=5571), HTML(value='')))"
      ]
     },
     "metadata": {},
     "output_type": "display_data"
    },
    {
     "name": "stdout",
     "output_type": "stream",
     "text": [
      "  Epoch  81 : loss = 391.03294079 | training error = 0.2641227259897219 | validation error = 0.3109256094165442\n"
     ]
    },
    {
     "data": {
      "application/vnd.jupyter.widget-view+json": {
       "model_id": "f705a0d0fd9b4cfba9397e4de9285e09",
       "version_major": 2,
       "version_minor": 0
      },
      "text/plain": [
       "HBox(children=(IntProgress(value=0, max=5571), HTML(value='')))"
      ]
     },
     "metadata": {},
     "output_type": "display_data"
    },
    {
     "name": "stdout",
     "output_type": "stream",
     "text": [
      "  Epoch  82 : loss = 390.91818099 | training error = 0.26408498788191953 | validation error = 0.31089203275775457\n"
     ]
    },
    {
     "data": {
      "application/vnd.jupyter.widget-view+json": {
       "model_id": "608912d4f4d34043bd7f6d9900e95d2e",
       "version_major": 2,
       "version_minor": 0
      },
      "text/plain": [
       "HBox(children=(IntProgress(value=0, max=5571), HTML(value='')))"
      ]
     },
     "metadata": {},
     "output_type": "display_data"
    },
    {
     "name": "stdout",
     "output_type": "stream",
     "text": [
      "  Epoch  83 : loss = 390.80919948 | training error = 0.2640491429129639 | validation error = 0.31086206597243\n"
     ]
    },
    {
     "data": {
      "application/vnd.jupyter.widget-view+json": {
       "model_id": "8d78578bbb834d4c9ac88c4180814c5c",
       "version_major": 2,
       "version_minor": 0
      },
      "text/plain": [
       "HBox(children=(IntProgress(value=0, max=5571), HTML(value='')))"
      ]
     },
     "metadata": {},
     "output_type": "display_data"
    },
    {
     "name": "stdout",
     "output_type": "stream",
     "text": [
      "  Epoch  84 : loss = 390.70569068 | training error = 0.2640150897276933 | validation error = 0.31083547580480814\n"
     ]
    },
    {
     "data": {
      "application/vnd.jupyter.widget-view+json": {
       "model_id": "a3824bf3293744a994040f920f57815d",
       "version_major": 2,
       "version_minor": 0
      },
      "text/plain": [
       "HBox(children=(IntProgress(value=0, max=5571), HTML(value='')))"
      ]
     },
     "metadata": {},
     "output_type": "display_data"
    },
    {
     "name": "stdout",
     "output_type": "stream",
     "text": [
      "  Epoch  85 : loss = 390.60736024 | training error = 0.26398273277786255 | validation error = 0.3108120428254213\n"
     ]
    },
    {
     "data": {
      "application/vnd.jupyter.widget-view+json": {
       "model_id": "ee6925f147c8402890c87f5cb78a7699",
       "version_major": 2,
       "version_minor": 0
      },
      "text/plain": [
       "HBox(children=(IntProgress(value=0, max=5571), HTML(value='')))"
      ]
     },
     "metadata": {},
     "output_type": "display_data"
    },
    {
     "name": "stdout",
     "output_type": "stream",
     "text": [
      "  Epoch  86 : loss = 390.51393127 | training error = 0.26395198217955274 | validation error = 0.31079156063928043\n"
     ]
    },
    {
     "data": {
      "application/vnd.jupyter.widget-view+json": {
       "model_id": "1d37235f3d3b4bcdb318433ce5e8a963",
       "version_major": 2,
       "version_minor": 0
      },
      "text/plain": [
       "HBox(children=(IntProgress(value=0, max=5571), HTML(value='')))"
      ]
     },
     "metadata": {},
     "output_type": "display_data"
    },
    {
     "name": "stdout",
     "output_type": "stream",
     "text": [
      "  Epoch  87 : loss = 390.42514426 | training error = 0.2639227530576328 | validation error = 0.31077383534008407\n"
     ]
    },
    {
     "data": {
      "application/vnd.jupyter.widget-view+json": {
       "model_id": "7ed807857c3040608e9cb4dd7197078c",
       "version_major": 2,
       "version_minor": 0
      },
      "text/plain": [
       "HBox(children=(IntProgress(value=0, max=5571), HTML(value='')))"
      ]
     },
     "metadata": {},
     "output_type": "display_data"
    },
    {
     "name": "stdout",
     "output_type": "stream",
     "text": [
      "  Epoch  88 : loss = 390.34074994 | training error = 0.2638949654000715 | validation error = 0.31075868443898025\n"
     ]
    },
    {
     "data": {
      "application/vnd.jupyter.widget-view+json": {
       "model_id": "f3060ae6ccbd47178aa60b73c0802fba",
       "version_major": 2,
       "version_minor": 0
      },
      "text/plain": [
       "HBox(children=(IntProgress(value=0, max=5571), HTML(value='')))"
      ]
     },
     "metadata": {},
     "output_type": "display_data"
    },
    {
     "name": "stdout",
     "output_type": "stream",
     "text": [
      "  Epoch  89 : loss = 390.26052089 | training error = 0.26386854382462377 | validation error = 0.3107459359175689\n"
     ]
    },
    {
     "data": {
      "application/vnd.jupyter.widget-view+json": {
       "model_id": "cc9747adc8284e738b0473094bc3ab24",
       "version_major": 2,
       "version_minor": 0
      },
      "text/plain": [
       "HBox(children=(IntProgress(value=0, max=5571), HTML(value='')))"
      ]
     },
     "metadata": {},
     "output_type": "display_data"
    },
    {
     "name": "stdout",
     "output_type": "stream",
     "text": [
      "  Epoch  90 : loss = 390.18423761 | training error = 0.26384341713477494 | validation error = 0.31073542895074924\n"
     ]
    },
    {
     "data": {
      "application/vnd.jupyter.widget-view+json": {
       "model_id": "26802149e233493ebd9fddb0a05ad92d",
       "version_major": 2,
       "version_minor": 0
      },
      "text/plain": [
       "HBox(children=(IntProgress(value=0, max=5571), HTML(value='')))"
      ]
     },
     "metadata": {},
     "output_type": "display_data"
    },
    {
     "name": "stdout",
     "output_type": "stream",
     "text": [
      "  Epoch  91 : loss = 390.11169415 | training error = 0.2638195180979622 | validation error = 0.31072701115289325\n"
     ]
    },
    {
     "data": {
      "application/vnd.jupyter.widget-view+json": {
       "model_id": "abe9f9bea7154688983ba9f5364a36e5",
       "version_major": 2,
       "version_minor": 0
      },
      "text/plain": [
       "HBox(children=(IntProgress(value=0, max=5571), HTML(value='')))"
      ]
     },
     "metadata": {},
     "output_type": "display_data"
    },
    {
     "name": "stdout",
     "output_type": "stream",
     "text": [
      "  Epoch  92 : loss = 390.04269502 | training error = 0.2637967832939505 | validation error = 0.3107205397572339\n"
     ]
    },
    {
     "data": {
      "application/vnd.jupyter.widget-view+json": {
       "model_id": "5e4c496ba64c4518906acefe95e29457",
       "version_major": 2,
       "version_minor": 0
      },
      "text/plain": [
       "HBox(children=(IntProgress(value=0, max=5571), HTML(value='')))"
      ]
     },
     "metadata": {},
     "output_type": "display_data"
    },
    {
     "name": "stdout",
     "output_type": "stream",
     "text": [
      "  Epoch  93 : loss = 389.97705907 | training error = 0.2637751527884544 | validation error = 0.3107158801775708\n"
     ]
    },
    {
     "data": {
      "application/vnd.jupyter.widget-view+json": {
       "model_id": "5aff6ed683b748a8bd6f56aacd8d1f5a",
       "version_major": 2,
       "version_minor": 0
      },
      "text/plain": [
       "HBox(children=(IntProgress(value=0, max=5571), HTML(value='')))"
      ]
     },
     "metadata": {},
     "output_type": "display_data"
    },
    {
     "name": "stdout",
     "output_type": "stream",
     "text": [
      "  Epoch  94 : loss = 389.91461198 | training error = 0.2637545699204483 | validation error = 0.3107129062323721\n"
     ]
    },
    {
     "data": {
      "application/vnd.jupyter.widget-view+json": {
       "model_id": "77061e41428d4fb1a1e1ce83f9d6342d",
       "version_major": 2,
       "version_minor": 0
      },
      "text/plain": [
       "HBox(children=(IntProgress(value=0, max=5571), HTML(value='')))"
      ]
     },
     "metadata": {},
     "output_type": "display_data"
    },
    {
     "name": "stdout",
     "output_type": "stream",
     "text": [
      "  Epoch  95 : loss = 389.85519112 | training error = 0.26373498121357697 | validation error = 0.310711499074615\n"
     ]
    },
    {
     "data": {
      "application/vnd.jupyter.widget-view+json": {
       "model_id": "01e5663087f34b4cae25d60be096a71f",
       "version_major": 2,
       "version_minor": 0
      },
      "text/plain": [
       "HBox(children=(IntProgress(value=0, max=5571), HTML(value='')))"
      ]
     },
     "metadata": {},
     "output_type": "display_data"
    },
    {
     "name": "stdout",
     "output_type": "stream",
     "text": [
      "  Epoch  96 : loss = 389.79863719 | training error = 0.26371633606053996 | validation error = 0.31071154652674216\n"
     ]
    },
    {
     "data": {
      "application/vnd.jupyter.widget-view+json": {
       "model_id": "51c18de3d2b54a6a8b97ac2a12fcfb0f",
       "version_major": 2,
       "version_minor": 0
      },
      "text/plain": [
       "HBox(children=(IntProgress(value=0, max=5571), HTML(value='')))"
      ]
     },
     "metadata": {},
     "output_type": "display_data"
    },
    {
     "name": "stdout",
     "output_type": "stream",
     "text": [
      "  Epoch  97 : loss = 389.74481115 | training error = 0.26369858661918 | validation error = 0.3107129437098496\n"
     ]
    },
    {
     "data": {
      "application/vnd.jupyter.widget-view+json": {
       "model_id": "f686107e8e4d4225a228682073b4b0e7",
       "version_major": 2,
       "version_minor": 0
      },
      "text/plain": [
       "HBox(children=(IntProgress(value=0, max=5571), HTML(value='')))"
      ]
     },
     "metadata": {},
     "output_type": "display_data"
    },
    {
     "name": "stdout",
     "output_type": "stream",
     "text": [
      "  Epoch  98 : loss = 389.69356807 | training error = 0.26368168765947414 | validation error = 0.31071559120977416\n"
     ]
    },
    {
     "data": {
      "application/vnd.jupyter.widget-view+json": {
       "model_id": "7f538838fa21442199fd605466877252",
       "version_major": 2,
       "version_minor": 0
      },
      "text/plain": [
       "HBox(children=(IntProgress(value=0, max=5571), HTML(value='')))"
      ]
     },
     "metadata": {},
     "output_type": "display_data"
    },
    {
     "name": "stdout",
     "output_type": "stream",
     "text": [
      "  Epoch  99 : loss = 389.64478255 | training error = 0.2636655963063551 | validation error = 0.31071939624830086\n"
     ]
    },
    {
     "data": {
      "application/vnd.jupyter.widget-view+json": {
       "model_id": "b3fc61c4356b4cb68dc03eeddc20bb84",
       "version_major": 2,
       "version_minor": 0
      },
      "text/plain": [
       "HBox(children=(IntProgress(value=0, max=5571), HTML(value='')))"
      ]
     },
     "metadata": {},
     "output_type": "display_data"
    },
    {
     "name": "stdout",
     "output_type": "stream",
     "text": [
      "  Epoch 100 : loss = 389.59832588 | training error = 0.2636502721105127 | validation error = 0.31072427175446987\n"
     ]
    },
    {
     "data": {
      "application/vnd.jupyter.widget-view+json": {
       "model_id": "898794effd534b64a62d07e8dceda784",
       "version_major": 2,
       "version_minor": 0
      },
      "text/plain": [
       "HBox(children=(IntProgress(value=0, max=5571), HTML(value='')))"
      ]
     },
     "metadata": {},
     "output_type": "display_data"
    },
    {
     "name": "stdout",
     "output_type": "stream",
     "text": [
      "  Epoch 101 : loss = 389.55408412 | training error = 0.26363567667036625 | validation error = 0.31073013495212365\n"
     ]
    },
    {
     "data": {
      "application/vnd.jupyter.widget-view+json": {
       "model_id": "89854566983e44f2940681ba9d5af22c",
       "version_major": 2,
       "version_minor": 0
      },
      "text/plain": [
       "HBox(children=(IntProgress(value=0, max=5571), HTML(value='')))"
      ]
     },
     "metadata": {},
     "output_type": "display_data"
    },
    {
     "name": "stdout",
     "output_type": "stream",
     "text": [
      "  Epoch 102 : loss = 389.51194733 | training error = 0.26362177368854856 | validation error = 0.3107369088991079\n"
     ]
    },
    {
     "data": {
      "application/vnd.jupyter.widget-view+json": {
       "model_id": "89840bb39d714e6e9b2eb671cc0278a4",
       "version_major": 2,
       "version_minor": 0
      },
      "text/plain": [
       "HBox(children=(IntProgress(value=0, max=5571), HTML(value='')))"
      ]
     },
     "metadata": {},
     "output_type": "display_data"
    },
    {
     "name": "stdout",
     "output_type": "stream",
     "text": [
      "  Epoch 103 : loss = 387.38850670 | training error = 0.26361459825019173 | validation error = 0.3107486240204465\n"
     ]
    },
    {
     "data": {
      "application/vnd.jupyter.widget-view+json": {
       "model_id": "61727db65bf04483aff9464e9c4938b2",
       "version_major": 2,
       "version_minor": 0
      },
      "text/plain": [
       "HBox(children=(IntProgress(value=0, max=5571), HTML(value='')))"
      ]
     },
     "metadata": {},
     "output_type": "display_data"
    },
    {
     "name": "stdout",
     "output_type": "stream",
     "text": [
      "  Epoch 104 : loss = 387.36824969 | training error = 0.2636079109356183 | validation error = 0.31076001629834304\n"
     ]
    },
    {
     "data": {
      "application/vnd.jupyter.widget-view+json": {
       "model_id": "1ba31d8f62324c9489a2a10c11e8fb8f",
       "version_major": 2,
       "version_minor": 0
      },
      "text/plain": [
       "HBox(children=(IntProgress(value=0, max=5571), HTML(value='')))"
      ]
     },
     "metadata": {},
     "output_type": "display_data"
    },
    {
     "name": "stdout",
     "output_type": "stream",
     "text": [
      "  Epoch 105 : loss = 387.34935663 | training error = 0.263601668350774 | validation error = 0.310771096424311\n"
     ]
    },
    {
     "data": {
      "application/vnd.jupyter.widget-view+json": {
       "model_id": "52d62e95825d4668802832c5d94b7e26",
       "version_major": 2,
       "version_minor": 0
      },
      "text/plain": [
       "HBox(children=(IntProgress(value=0, max=5571), HTML(value='')))"
      ]
     },
     "metadata": {},
     "output_type": "display_data"
    },
    {
     "name": "stdout",
     "output_type": "stream",
     "text": [
      "  Epoch 106 : loss = 387.33170622 | training error = 0.2635958309418797 | validation error = 0.3107818735324703\n"
     ]
    },
    {
     "data": {
      "application/vnd.jupyter.widget-view+json": {
       "model_id": "616e618f716540c69541c889166d8b61",
       "version_major": 2,
       "version_minor": 0
      },
      "text/plain": [
       "HBox(children=(IntProgress(value=0, max=5571), HTML(value='')))"
      ]
     },
     "metadata": {},
     "output_type": "display_data"
    },
    {
     "name": "stdout",
     "output_type": "stream",
     "text": [
      "  Epoch 107 : loss = 387.31519665 | training error = 0.2635903630897839 | validation error = 0.31079235836668206\n"
     ]
    },
    {
     "data": {
      "application/vnd.jupyter.widget-view+json": {
       "model_id": "f8a58d81c6554d95a6926aa5f336dac3",
       "version_major": 2,
       "version_minor": 0
      },
      "text/plain": [
       "HBox(children=(IntProgress(value=0, max=5571), HTML(value='')))"
      ]
     },
     "metadata": {},
     "output_type": "display_data"
    },
    {
     "name": "stdout",
     "output_type": "stream",
     "text": [
      "  Epoch 108 : loss = 387.29971500 | training error = 0.26358523258758 | validation error = 0.3108025597281437\n"
     ]
    },
    {
     "data": {
      "application/vnd.jupyter.widget-view+json": {
       "model_id": "2e0cbe7630ed42bba442d36f6857f709",
       "version_major": 2,
       "version_minor": 0
      },
      "text/plain": [
       "HBox(children=(IntProgress(value=0, max=5571), HTML(value='')))"
      ]
     },
     "metadata": {},
     "output_type": "display_data"
    },
    {
     "name": "stdout",
     "output_type": "stream",
     "text": [
      "  Epoch 109 : loss = 387.28517665 | training error = 0.26358041004001614 | validation error = 0.3108124873431251\n"
     ]
    },
    {
     "data": {
      "application/vnd.jupyter.widget-view+json": {
       "model_id": "e1a22c298aa94a069c62b5903de14371",
       "version_major": 2,
       "version_minor": 0
      },
      "text/plain": [
       "HBox(children=(IntProgress(value=0, max=5571), HTML(value='')))"
      ]
     },
     "metadata": {},
     "output_type": "display_data"
    },
    {
     "name": "stdout",
     "output_type": "stream",
     "text": [
      "  Epoch 110 : loss = 387.27150281 | training error = 0.2635758689528716 | validation error = 0.31082215073971226\n"
     ]
    },
    {
     "data": {
      "application/vnd.jupyter.widget-view+json": {
       "model_id": "3c6654933bdd41d595f2826d70c42ee7",
       "version_major": 2,
       "version_minor": 0
      },
      "text/plain": [
       "HBox(children=(IntProgress(value=0, max=5571), HTML(value='')))"
      ]
     },
     "metadata": {},
     "output_type": "display_data"
    },
    {
     "name": "stdout",
     "output_type": "stream",
     "text": [
      "  Epoch 111 : loss = 387.25861519 | training error = 0.2635715852560257 | validation error = 0.31083155863782763\n"
     ]
    },
    {
     "data": {
      "application/vnd.jupyter.widget-view+json": {
       "model_id": "f17205dc6db741c6b06c124c55920018",
       "version_major": 2,
       "version_minor": 0
      },
      "text/plain": [
       "HBox(children=(IntProgress(value=0, max=5571), HTML(value='')))"
      ]
     },
     "metadata": {},
     "output_type": "display_data"
    },
    {
     "name": "stdout",
     "output_type": "stream",
     "text": [
      "  Epoch 112 : loss = 387.24644802 | training error = 0.2635675371540057 | validation error = 0.310840719923972\n"
     ]
    },
    {
     "data": {
      "application/vnd.jupyter.widget-view+json": {
       "model_id": "c97ec2c03f3149aeaa59958d2abc6f78",
       "version_major": 2,
       "version_minor": 0
      },
      "text/plain": [
       "HBox(children=(IntProgress(value=0, max=5571), HTML(value='')))"
      ]
     },
     "metadata": {},
     "output_type": "display_data"
    },
    {
     "name": "stdout",
     "output_type": "stream",
     "text": [
      "  Epoch 113 : loss = 387.23494405 | training error = 0.2635637048449046 | validation error = 0.310849643092083\n"
     ]
    },
    {
     "data": {
      "application/vnd.jupyter.widget-view+json": {
       "model_id": "cc558b496b3945b883c9df6e9369ac1b",
       "version_major": 2,
       "version_minor": 0
      },
      "text/plain": [
       "HBox(children=(IntProgress(value=0, max=5571), HTML(value='')))"
      ]
     },
     "metadata": {},
     "output_type": "display_data"
    },
    {
     "name": "stdout",
     "output_type": "stream",
     "text": [
      "  Epoch 114 : loss = 386.98735750 | training error = 0.26356329348497975 | validation error = 0.31085063538621294\n"
     ]
    },
    {
     "data": {
      "application/vnd.jupyter.widget-view+json": {
       "model_id": "d01702e3cae54444919a480138e88054",
       "version_major": 2,
       "version_minor": 0
      },
      "text/plain": [
       "HBox(children=(IntProgress(value=0, max=5571), HTML(value='')))"
      ]
     },
     "metadata": {},
     "output_type": "display_data"
    },
    {
     "name": "stdout",
     "output_type": "stream",
     "text": [
      "  Epoch 115 : loss = 386.98616234 | training error = 0.26356288459576693 | validation error = 0.31085162499791\n"
     ]
    },
    {
     "data": {
      "application/vnd.jupyter.widget-view+json": {
       "model_id": "9aed9aa4e3024d838b0364c4b43f9a01",
       "version_major": 2,
       "version_minor": 0
      },
      "text/plain": [
       "HBox(children=(IntProgress(value=0, max=5571), HTML(value='')))"
      ]
     },
     "metadata": {},
     "output_type": "display_data"
    },
    {
     "name": "stdout",
     "output_type": "stream",
     "text": [
      "  Epoch 116 : loss = 386.98497158 | training error = 0.26356247809907773 | validation error = 0.31085261191998054\n"
     ]
    },
    {
     "data": {
      "application/vnd.jupyter.widget-view+json": {
       "model_id": "5df31f01c2bd40a0ad4befd74805dbbb",
       "version_major": 2,
       "version_minor": 0
      },
      "text/plain": [
       "HBox(children=(IntProgress(value=0, max=5571), HTML(value='')))"
      ]
     },
     "metadata": {},
     "output_type": "display_data"
    },
    {
     "name": "stdout",
     "output_type": "stream",
     "text": [
      "  Epoch 117 : loss = 386.98378896 | training error = 0.26356207404508486 | validation error = 0.3108535963084776\n"
     ]
    },
    {
     "data": {
      "application/vnd.jupyter.widget-view+json": {
       "model_id": "1e3cc61d00474ae08d94f29dd363f324",
       "version_major": 2,
       "version_minor": 0
      },
      "text/plain": [
       "HBox(children=(IntProgress(value=0, max=5571), HTML(value='')))"
      ]
     },
     "metadata": {},
     "output_type": "display_data"
    },
    {
     "name": "stdout",
     "output_type": "stream",
     "text": [
      "  Epoch 118 : loss = 386.98261311 | training error = 0.26356167238466843 | validation error = 0.31085457831538804\n"
     ]
    },
    {
     "data": {
      "application/vnd.jupyter.widget-view+json": {
       "model_id": "750e9c7b08984b809a2e95d0d5288a24",
       "version_major": 2,
       "version_minor": 0
      },
      "text/plain": [
       "HBox(children=(IntProgress(value=0, max=5571), HTML(value='')))"
      ]
     },
     "metadata": {},
     "output_type": "display_data"
    },
    {
     "name": "stdout",
     "output_type": "stream",
     "text": [
      "  Epoch 119 : loss = 386.98144288 | training error = 0.26356127306912613 | validation error = 0.31085555761838424\n"
     ]
    },
    {
     "data": {
      "application/vnd.jupyter.widget-view+json": {
       "model_id": "797a649b6415427f93e2082a4195b1fc",
       "version_major": 2,
       "version_minor": 0
      },
      "text/plain": [
       "HBox(children=(IntProgress(value=0, max=5571), HTML(value='')))"
      ]
     },
     "metadata": {},
     "output_type": "display_data"
    },
    {
     "name": "stdout",
     "output_type": "stream",
     "text": [
      "  Epoch 120 : loss = 386.98028100 | training error = 0.26356087607115614 | validation error = 0.3108565342959773\n"
     ]
    },
    {
     "data": {
      "application/vnd.jupyter.widget-view+json": {
       "model_id": "6d0c90f738f84f1db088cf4a2fad763c",
       "version_major": 2,
       "version_minor": 0
      },
      "text/plain": [
       "HBox(children=(IntProgress(value=0, max=5571), HTML(value='')))"
      ]
     },
     "metadata": {},
     "output_type": "display_data"
    },
    {
     "name": "stdout",
     "output_type": "stream",
     "text": [
      "  Epoch 121 : loss = 386.97912700 | training error = 0.26356048141840616 | validation error = 0.31085750835743126\n"
     ]
    },
    {
     "data": {
      "application/vnd.jupyter.widget-view+json": {
       "model_id": "097bb46859f340afa6c3228d2b9b95de",
       "version_major": 2,
       "version_minor": 0
      },
      "text/plain": [
       "HBox(children=(IntProgress(value=0, max=5571), HTML(value='')))"
      ]
     },
     "metadata": {},
     "output_type": "display_data"
    },
    {
     "name": "stdout",
     "output_type": "stream",
     "text": [
      "  Epoch 122 : loss = 386.97798021 | training error = 0.26356008901723327 | validation error = 0.3108584797730743\n"
     ]
    },
    {
     "data": {
      "application/vnd.jupyter.widget-view+json": {
       "model_id": "b6f4d29d0fab40209e9ba6b70e609f02",
       "version_major": 2,
       "version_minor": 0
      },
      "text/plain": [
       "HBox(children=(IntProgress(value=0, max=5571), HTML(value='')))"
      ]
     },
     "metadata": {},
     "output_type": "display_data"
    },
    {
     "name": "stdout",
     "output_type": "stream",
     "text": [
      "  Epoch 123 : loss = 386.97683510 | training error = 0.2635596989401341 | validation error = 0.31085944876623556\n"
     ]
    },
    {
     "data": {
      "application/vnd.jupyter.widget-view+json": {
       "model_id": "537ed0a5415d47889938f9ab5732e56a",
       "version_major": 2,
       "version_minor": 0
      },
      "text/plain": [
       "HBox(children=(IntProgress(value=0, max=5571), HTML(value='')))"
      ]
     },
     "metadata": {},
     "output_type": "display_data"
    },
    {
     "name": "stdout",
     "output_type": "stream",
     "text": [
      "  Epoch 124 : loss = 386.97569899 | training error = 0.26355931105324587 | validation error = 0.3108604150342962\n"
     ]
    },
    {
     "data": {
      "application/vnd.jupyter.widget-view+json": {
       "model_id": "a2df659540944c9d8cefd54170bc600e",
       "version_major": 2,
       "version_minor": 0
      },
      "text/plain": [
       "HBox(children=(IntProgress(value=0, max=5571), HTML(value='')))"
      ]
     },
     "metadata": {},
     "output_type": "display_data"
    },
    {
     "name": "stdout",
     "output_type": "stream",
     "text": [
      "  Epoch 125 : loss = 386.95061825 | training error = 0.263559271960948 | validation error = 0.31086051283474425\n"
     ]
    },
    {
     "data": {
      "application/vnd.jupyter.widget-view+json": {
       "model_id": "20b21bf4277240a584ef7300a3a89b69",
       "version_major": 2,
       "version_minor": 0
      },
      "text/plain": [
       "HBox(children=(IntProgress(value=0, max=5571), HTML(value='')))"
      ]
     },
     "metadata": {},
     "output_type": "display_data"
    },
    {
     "name": "stdout",
     "output_type": "stream",
     "text": [
      "  Epoch 126 : loss = 386.95050328 | training error = 0.26355923286594074 | validation error = 0.31086061063539133\n"
     ]
    },
    {
     "data": {
      "application/vnd.jupyter.widget-view+json": {
       "model_id": "f727a66a246b4c53ba3a537179300af1",
       "version_major": 2,
       "version_minor": 0
      },
      "text/plain": [
       "HBox(children=(IntProgress(value=0, max=5571), HTML(value='')))"
      ]
     },
     "metadata": {},
     "output_type": "display_data"
    },
    {
     "name": "stdout",
     "output_type": "stream",
     "text": [
      "  Epoch 127 : loss = 386.95038886 | training error = 0.2635591937893391 | validation error = 0.3108607082161855\n"
     ]
    },
    {
     "data": {
      "application/vnd.jupyter.widget-view+json": {
       "model_id": "4a9d4460e8bd4e2093301a9e0ac5d993",
       "version_major": 2,
       "version_minor": 0
      },
      "text/plain": [
       "HBox(children=(IntProgress(value=0, max=5571), HTML(value='')))"
      ]
     },
     "metadata": {},
     "output_type": "display_data"
    },
    {
     "name": "stdout",
     "output_type": "stream",
     "text": [
      "  Epoch 128 : loss = 386.95027594 | training error = 0.26355915470586433 | validation error = 0.31086080596384563\n"
     ]
    },
    {
     "data": {
      "application/vnd.jupyter.widget-view+json": {
       "model_id": "61ceabdf90634b418007ffba1c93df29",
       "version_major": 2,
       "version_minor": 0
      },
      "text/plain": [
       "HBox(children=(IntProgress(value=0, max=5571), HTML(value='')))"
      ]
     },
     "metadata": {},
     "output_type": "display_data"
    },
    {
     "name": "stdout",
     "output_type": "stream",
     "text": [
      "  Epoch 129 : loss = 386.95016065 | training error = 0.26355911569852875 | validation error = 0.31086090370821123\n"
     ]
    },
    {
     "data": {
      "application/vnd.jupyter.widget-view+json": {
       "model_id": "5d84f6293b3f435a85aab3b7f5d4ab2a",
       "version_major": 2,
       "version_minor": 0
      },
      "text/plain": [
       "HBox(children=(IntProgress(value=0, max=5571), HTML(value='')))"
      ]
     },
     "metadata": {},
     "output_type": "display_data"
    },
    {
     "name": "stdout",
     "output_type": "stream",
     "text": [
      "  Epoch 130 : loss = 386.95004526 | training error = 0.2635590767241828 | validation error = 0.3108610013132011\n"
     ]
    },
    {
     "data": {
      "application/vnd.jupyter.widget-view+json": {
       "model_id": "2e3340789faf45cebafeee99d91d96aa",
       "version_major": 2,
       "version_minor": 0
      },
      "text/plain": [
       "HBox(children=(IntProgress(value=0, max=5571), HTML(value='')))"
      ]
     },
     "metadata": {},
     "output_type": "display_data"
    },
    {
     "name": "stdout",
     "output_type": "stream",
     "text": [
      "  Epoch 131 : loss = 386.94993347 | training error = 0.2635590377009296 | validation error = 0.31086109886846086\n"
     ]
    },
    {
     "data": {
      "application/vnd.jupyter.widget-view+json": {
       "model_id": "26583e11a400413c8daf8fea2f556768",
       "version_major": 2,
       "version_minor": 0
      },
      "text/plain": [
       "HBox(children=(IntProgress(value=0, max=5571), HTML(value='')))"
      ]
     },
     "metadata": {},
     "output_type": "display_data"
    },
    {
     "name": "stdout",
     "output_type": "stream",
     "text": [
      "  Epoch 132 : loss = 386.94981904 | training error = 0.2635589987402323 | validation error = 0.3108611964471092\n"
     ]
    },
    {
     "data": {
      "application/vnd.jupyter.widget-view+json": {
       "model_id": "547daeee6a8647168c3eb1d305bc5a16",
       "version_major": 2,
       "version_minor": 0
      },
      "text/plain": [
       "HBox(children=(IntProgress(value=0, max=5571), HTML(value='')))"
      ]
     },
     "metadata": {},
     "output_type": "display_data"
    },
    {
     "name": "stdout",
     "output_type": "stream",
     "text": [
      "  Epoch 133 : loss = 386.94970649 | training error = 0.2635589598337185 | validation error = 0.3108612940153118\n"
     ]
    },
    {
     "data": {
      "application/vnd.jupyter.widget-view+json": {
       "model_id": "975083443c084944ba44daa46f38351e",
       "version_major": 2,
       "version_minor": 0
      },
      "text/plain": [
       "HBox(children=(IntProgress(value=0, max=5571), HTML(value='')))"
      ]
     },
     "metadata": {},
     "output_type": "display_data"
    },
    {
     "name": "stdout",
     "output_type": "stream",
     "text": [
      "  Epoch 134 : loss = 386.94959188 | training error = 0.2635589209789423 | validation error = 0.3108613915297686\n"
     ]
    },
    {
     "data": {
      "application/vnd.jupyter.widget-view+json": {
       "model_id": "3a9a8f5d19154c7eb952042a1490ea61",
       "version_major": 2,
       "version_minor": 0
      },
      "text/plain": [
       "HBox(children=(IntProgress(value=0, max=5571), HTML(value='')))"
      ]
     },
     "metadata": {},
     "output_type": "display_data"
    },
    {
     "name": "stdout",
     "output_type": "stream",
     "text": [
      "  Epoch 135 : loss = 386.94947959 | training error = 0.26355888209611417 | validation error = 0.3108614889169287\n"
     ]
    },
    {
     "data": {
      "application/vnd.jupyter.widget-view+json": {
       "model_id": "dc674821b737458e94f307b2823f8d13",
       "version_major": 2,
       "version_minor": 0
      },
      "text/plain": [
       "HBox(children=(IntProgress(value=0, max=5571), HTML(value='')))"
      ]
     },
     "metadata": {},
     "output_type": "display_data"
    },
    {
     "name": "stdout",
     "output_type": "stream",
     "text": [
      "  Epoch 136 : loss = 386.94696363 | training error = 0.26355887817471335 | validation error = 0.310861498781142\n"
     ]
    },
    {
     "data": {
      "application/vnd.jupyter.widget-view+json": {
       "model_id": "e0c2dc204f3443dc9aecb342315b85c6",
       "version_major": 2,
       "version_minor": 0
      },
      "text/plain": [
       "HBox(children=(IntProgress(value=0, max=5571), HTML(value='')))"
      ]
     },
     "metadata": {},
     "output_type": "display_data"
    },
    {
     "name": "stdout",
     "output_type": "stream",
     "text": [
      "  Epoch 137 : loss = 386.94695038 | training error = 0.2635588742832765 | validation error = 0.31086150864560824\n"
     ]
    },
    {
     "data": {
      "application/vnd.jupyter.widget-view+json": {
       "model_id": "7523b4b52a2e4c5fa2f35061ce0a143d",
       "version_major": 2,
       "version_minor": 0
      },
      "text/plain": [
       "HBox(children=(IntProgress(value=0, max=5571), HTML(value='')))"
      ]
     },
     "metadata": {},
     "output_type": "display_data"
    },
    {
     "name": "stdout",
     "output_type": "stream",
     "text": [
      "  Epoch 138 : loss = 386.94693939 | training error = 0.26355887034986314 | validation error = 0.3108615185197102\n"
     ]
    },
    {
     "data": {
      "application/vnd.jupyter.widget-view+json": {
       "model_id": "d957d289e49d472782b845ebd5a9de00",
       "version_major": 2,
       "version_minor": 0
      },
      "text/plain": [
       "HBox(children=(IntProgress(value=0, max=5571), HTML(value='')))"
      ]
     },
     "metadata": {},
     "output_type": "display_data"
    },
    {
     "name": "stdout",
     "output_type": "stream",
     "text": [
      "  Epoch 139 : loss = 386.94693066 | training error = 0.26355886648363286 | validation error = 0.31086152829192487\n"
     ]
    },
    {
     "data": {
      "application/vnd.jupyter.widget-view+json": {
       "model_id": "e3235030f3e04ef99e54894f4ebae020",
       "version_major": 2,
       "version_minor": 0
      },
      "text/plain": [
       "HBox(children=(IntProgress(value=0, max=5571), HTML(value='')))"
      ]
     },
     "metadata": {},
     "output_type": "display_data"
    },
    {
     "name": "stdout",
     "output_type": "stream",
     "text": [
      "  Epoch 140 : loss = 386.94692092 | training error = 0.263558862570238 | validation error = 0.3108615381793377\n"
     ]
    },
    {
     "data": {
      "application/vnd.jupyter.widget-view+json": {
       "model_id": "6a1e863d1bd64b1386a9c1c30dbd53cc",
       "version_major": 2,
       "version_minor": 0
      },
      "text/plain": [
       "HBox(children=(IntProgress(value=0, max=5571), HTML(value='')))"
      ]
     },
     "metadata": {},
     "output_type": "display_data"
    },
    {
     "name": "stdout",
     "output_type": "stream",
     "text": [
      "  Epoch 141 : loss = 386.94690711 | training error = 0.263558858677104 | validation error = 0.3108615480837065\n"
     ]
    },
    {
     "data": {
      "application/vnd.jupyter.widget-view+json": {
       "model_id": "39c5008d77ff4d96a178877cb8274c04",
       "version_major": 2,
       "version_minor": 0
      },
      "text/plain": [
       "HBox(children=(IntProgress(value=0, max=5571), HTML(value='')))"
      ]
     },
     "metadata": {},
     "output_type": "display_data"
    },
    {
     "name": "stdout",
     "output_type": "stream",
     "text": [
      "  Epoch 142 : loss = 386.94689506 | training error = 0.2635588547435139 | validation error = 0.31086155798872905\n"
     ]
    },
    {
     "data": {
      "application/vnd.jupyter.widget-view+json": {
       "model_id": "059a6604ff724bc8a9a9a3fb4e7e2d16",
       "version_major": 2,
       "version_minor": 0
      },
      "text/plain": [
       "HBox(children=(IntProgress(value=0, max=5571), HTML(value='')))"
      ]
     },
     "metadata": {},
     "output_type": "display_data"
    },
    {
     "name": "stdout",
     "output_type": "stream",
     "text": [
      "  Epoch 143 : loss = 386.94688425 | training error = 0.26355885087647896 | validation error = 0.31086156778308555\n"
     ]
    },
    {
     "data": {
      "application/vnd.jupyter.widget-view+json": {
       "model_id": "5ef21cbe90a04a76b7e6dd99d6cf1f7c",
       "version_major": 2,
       "version_minor": 0
      },
      "text/plain": [
       "HBox(children=(IntProgress(value=0, max=5571), HTML(value='')))"
      ]
     },
     "metadata": {},
     "output_type": "display_data"
    },
    {
     "name": "stdout",
     "output_type": "stream",
     "text": [
      "  Epoch 144 : loss = 386.94687279 | training error = 0.2635588469784234 | validation error = 0.3108615776391221\n"
     ]
    },
    {
     "data": {
      "application/vnd.jupyter.widget-view+json": {
       "model_id": "845e7e4ea8fe4b63a13ceb537224c5e6",
       "version_major": 2,
       "version_minor": 0
      },
      "text/plain": [
       "HBox(children=(IntProgress(value=0, max=5571), HTML(value='')))"
      ]
     },
     "metadata": {},
     "output_type": "display_data"
    },
    {
     "name": "stdout",
     "output_type": "stream",
     "text": [
      "  Epoch 145 : loss = 386.94686130 | training error = 0.2635588430649744 | validation error = 0.31086158751244536\n"
     ]
    },
    {
     "data": {
      "application/vnd.jupyter.widget-view+json": {
       "model_id": "985e95eec92b477c99201a8ef8a247ba",
       "version_major": 2,
       "version_minor": 0
      },
      "text/plain": [
       "HBox(children=(IntProgress(value=0, max=5571), HTML(value='')))"
      ]
     },
     "metadata": {},
     "output_type": "display_data"
    },
    {
     "name": "stdout",
     "output_type": "stream",
     "text": [
      "  Epoch 146 : loss = 386.94684966 | training error = 0.26355883914987505 | validation error = 0.3108615974000643\n"
     ]
    },
    {
     "data": {
      "application/vnd.jupyter.widget-view+json": {
       "model_id": "49c5366776624a549dc013bd39c8087d",
       "version_major": 2,
       "version_minor": 0
      },
      "text/plain": [
       "HBox(children=(IntProgress(value=0, max=5571), HTML(value='')))"
      ]
     },
     "metadata": {},
     "output_type": "display_data"
    },
    {
     "name": "stdout",
     "output_type": "stream",
     "text": [
      "  Epoch 147 : loss = 386.94659681 | training error = 0.263558838406019 | validation error = 0.3108615961553539\n"
     ]
    },
    {
     "data": {
      "application/vnd.jupyter.widget-view+json": {
       "model_id": "6950a889e17f487e888d12c8077b08b1",
       "version_major": 2,
       "version_minor": 0
      },
      "text/plain": [
       "HBox(children=(IntProgress(value=0, max=5571), HTML(value='')))"
      ]
     },
     "metadata": {},
     "output_type": "display_data"
    },
    {
     "name": "stdout",
     "output_type": "stream",
     "text": [
      "  Epoch 148 : loss = 386.94659500 | training error = 0.2635588377414691 | validation error = 0.310861594979911\n"
     ]
    },
    {
     "data": {
      "application/vnd.jupyter.widget-view+json": {
       "model_id": "e0b89cc166494f48b64e1f16e09581a4",
       "version_major": 2,
       "version_minor": 0
      },
      "text/plain": [
       "HBox(children=(IntProgress(value=0, max=5571), HTML(value='')))"
      ]
     },
     "metadata": {},
     "output_type": "display_data"
    },
    {
     "name": "stdout",
     "output_type": "stream",
     "text": [
      "  Epoch 149 : loss = 386.94659238 | training error = 0.26355883699720856 | validation error = 0.310861593652142\n"
     ]
    },
    {
     "data": {
      "application/vnd.jupyter.widget-view+json": {
       "model_id": "0b29d76682454269a1bf4c7ab3c5032b",
       "version_major": 2,
       "version_minor": 0
      },
      "text/plain": [
       "HBox(children=(IntProgress(value=0, max=5571), HTML(value='')))"
      ]
     },
     "metadata": {},
     "output_type": "display_data"
    },
    {
     "name": "stdout",
     "output_type": "stream",
     "text": [
      "  Epoch 150 : loss = 386.94659135 | training error = 0.263558836269919 | validation error = 0.3108615924025889\n"
     ]
    },
    {
     "data": {
      "application/vnd.jupyter.widget-view+json": {
       "model_id": "cf102346e0594466b908b2dc07d4cd36",
       "version_major": 2,
       "version_minor": 0
      },
      "text/plain": [
       "HBox(children=(IntProgress(value=0, max=5571), HTML(value='')))"
      ]
     },
     "metadata": {},
     "output_type": "display_data"
    },
    {
     "name": "stdout",
     "output_type": "stream",
     "text": [
      "  Epoch 151 : loss = 386.94658850 | training error = 0.2635588355499414 | validation error = 0.3108615911753195\n"
     ]
    },
    {
     "data": {
      "application/vnd.jupyter.widget-view+json": {
       "model_id": "a0032ffb1e4d4fe48d7f23e8d437c0cb",
       "version_major": 2,
       "version_minor": 0
      },
      "text/plain": [
       "HBox(children=(IntProgress(value=0, max=5571), HTML(value='')))"
      ]
     },
     "metadata": {},
     "output_type": "display_data"
    },
    {
     "name": "stdout",
     "output_type": "stream",
     "text": [
      "  Epoch 152 : loss = 386.94658749 | training error = 0.26355883484955045 | validation error = 0.31086158990721213\n"
     ]
    },
    {
     "data": {
      "application/vnd.jupyter.widget-view+json": {
       "model_id": "7cb8e5c3125848e4a2e34c1832d4f236",
       "version_major": 2,
       "version_minor": 0
      },
      "text/plain": [
       "HBox(children=(IntProgress(value=0, max=5571), HTML(value='')))"
      ]
     },
     "metadata": {},
     "output_type": "display_data"
    },
    {
     "name": "stdout",
     "output_type": "stream",
     "text": [
      "  Epoch 153 : loss = 386.94658425 | training error = 0.26355883414383635 | validation error = 0.31086158866740626\n"
     ]
    },
    {
     "data": {
      "application/vnd.jupyter.widget-view+json": {
       "model_id": "85bb1c1ff63a41e195705b5ee876f1f7",
       "version_major": 2,
       "version_minor": 0
      },
      "text/plain": [
       "HBox(children=(IntProgress(value=0, max=5571), HTML(value='')))"
      ]
     },
     "metadata": {},
     "output_type": "display_data"
    },
    {
     "name": "stdout",
     "output_type": "stream",
     "text": [
      "  Epoch 154 : loss = 386.94658394 | training error = 0.26355883338923913 | validation error = 0.31086158743930264\n"
     ]
    },
    {
     "data": {
      "application/vnd.jupyter.widget-view+json": {
       "model_id": "afc3dda2e0024d2195aa8db1126e9c4a",
       "version_major": 2,
       "version_minor": 0
      },
      "text/plain": [
       "HBox(children=(IntProgress(value=0, max=5571), HTML(value='')))"
      ]
     },
     "metadata": {},
     "output_type": "display_data"
    },
    {
     "name": "stdout",
     "output_type": "stream",
     "text": [
      "  Epoch 155 : loss = 386.94658238 | training error = 0.26355883266006425 | validation error = 0.3108615861337335\n"
     ]
    },
    {
     "data": {
      "application/vnd.jupyter.widget-view+json": {
       "model_id": "36a5bb7052bb42a98b5bf00f3016475a",
       "version_major": 2,
       "version_minor": 0
      },
      "text/plain": [
       "HBox(children=(IntProgress(value=0, max=5571), HTML(value='')))"
      ]
     },
     "metadata": {},
     "output_type": "display_data"
    },
    {
     "name": "stdout",
     "output_type": "stream",
     "text": [
      "  Epoch 156 : loss = 386.94657992 | training error = 0.2635588319774184 | validation error = 0.3108615849452986\n"
     ]
    },
    {
     "data": {
      "application/vnd.jupyter.widget-view+json": {
       "model_id": "10a5ce0a9b124f58b984d9af642c50a3",
       "version_major": 2,
       "version_minor": 0
      },
      "text/plain": [
       "HBox(children=(IntProgress(value=0, max=5571), HTML(value='')))"
      ]
     },
     "metadata": {},
     "output_type": "display_data"
    },
    {
     "name": "stdout",
     "output_type": "stream",
     "text": [
      "  Epoch 157 : loss = 386.94657941 | training error = 0.2635588312410221 | validation error = 0.31086158366135047\n"
     ]
    },
    {
     "data": {
      "application/vnd.jupyter.widget-view+json": {
       "model_id": "11fbdfc59ab247938e54ee1c4ff4787d",
       "version_major": 2,
       "version_minor": 0
      },
      "text/plain": [
       "HBox(children=(IntProgress(value=0, max=5571), HTML(value='')))"
      ]
     },
     "metadata": {},
     "output_type": "display_data"
    },
    {
     "name": "stdout",
     "output_type": "stream",
     "text": [
      "  Epoch 158 : loss = 386.94654999 | training error = 0.2635588312365457 | validation error = 0.3108615836479952\n"
     ]
    },
    {
     "data": {
      "application/vnd.jupyter.widget-view+json": {
       "model_id": "0f35eb499b674c85aee814d79702d063",
       "version_major": 2,
       "version_minor": 0
      },
      "text/plain": [
       "HBox(children=(IntProgress(value=0, max=5571), HTML(value='')))"
      ]
     },
     "metadata": {},
     "output_type": "display_data"
    },
    {
     "name": "stdout",
     "output_type": "stream",
     "text": [
      "  Epoch 159 : loss = 386.94654997 | training error = 0.2635588312365597 | validation error = 0.3108615836415862\n"
     ]
    },
    {
     "data": {
      "application/vnd.jupyter.widget-view+json": {
       "model_id": "12122e3e7b87425391123f1e50763348",
       "version_major": 2,
       "version_minor": 0
      },
      "text/plain": [
       "HBox(children=(IntProgress(value=0, max=5571), HTML(value='')))"
      ]
     },
     "metadata": {},
     "output_type": "display_data"
    },
    {
     "name": "stdout",
     "output_type": "stream",
     "text": [
      "  Epoch 160 : loss = 386.94655007 | training error = 0.2635588312382289 | validation error = 0.3108615836266859\n"
     ]
    },
    {
     "data": {
      "application/vnd.jupyter.widget-view+json": {
       "model_id": "f2c26eff6b5a47269749cf444d6918f3",
       "version_major": 2,
       "version_minor": 0
      },
      "text/plain": [
       "HBox(children=(IntProgress(value=0, max=5571), HTML(value='')))"
      ]
     },
     "metadata": {},
     "output_type": "display_data"
    },
    {
     "name": "stdout",
     "output_type": "stream",
     "text": [
      "  Epoch 161 : loss = 386.94655025 | training error = 0.2635588312396661 | validation error = 0.3108615836165212\n"
     ]
    },
    {
     "data": {
      "application/vnd.jupyter.widget-view+json": {
       "model_id": "dd1c5c31c9d9472092eecad763323930",
       "version_major": 2,
       "version_minor": 0
      },
      "text/plain": [
       "HBox(children=(IntProgress(value=0, max=5571), HTML(value='')))"
      ]
     },
     "metadata": {},
     "output_type": "display_data"
    },
    {
     "name": "stdout",
     "output_type": "stream",
     "text": [
      "  Epoch 162 : loss = 386.94655021 | training error = 0.26355883123992524 | validation error = 0.31086158360313654\n"
     ]
    },
    {
     "data": {
      "application/vnd.jupyter.widget-view+json": {
       "model_id": "091670186efe43c9b9bdfb7760638807",
       "version_major": 2,
       "version_minor": 0
      },
      "text/plain": [
       "HBox(children=(IntProgress(value=0, max=5571), HTML(value='')))"
      ]
     },
     "metadata": {},
     "output_type": "display_data"
    },
    {
     "name": "stdout",
     "output_type": "stream",
     "text": [
      "  Epoch 163 : loss = 386.94655037 | training error = 0.26355883123918655 | validation error = 0.3108615835914212\n"
     ]
    },
    {
     "data": {
      "application/vnd.jupyter.widget-view+json": {
       "model_id": "ac009c62da4e47f69cf5d3ccd2d7ec38",
       "version_major": 2,
       "version_minor": 0
      },
      "text/plain": [
       "HBox(children=(IntProgress(value=0, max=5571), HTML(value='')))"
      ]
     },
     "metadata": {},
     "output_type": "display_data"
    },
    {
     "name": "stdout",
     "output_type": "stream",
     "text": [
      "  Epoch 164 : loss = 386.94655034 | training error = 0.2635588312424888 | validation error = 0.3108615835805383\n"
     ]
    },
    {
     "data": {
      "application/vnd.jupyter.widget-view+json": {
       "model_id": "560932f905be40e2a9c6dddc539321f3",
       "version_major": 2,
       "version_minor": 0
      },
      "text/plain": [
       "HBox(children=(IntProgress(value=0, max=5571), HTML(value='')))"
      ]
     },
     "metadata": {},
     "output_type": "display_data"
    },
    {
     "name": "stdout",
     "output_type": "stream",
     "text": [
      "  Epoch 165 : loss = 386.94655026 | training error = 0.2635588312429611 | validation error = 0.3108615835669784\n"
     ]
    },
    {
     "data": {
      "application/vnd.jupyter.widget-view+json": {
       "model_id": "1ab0fd4962ac4f6192a9fdf5fd7315ba",
       "version_major": 2,
       "version_minor": 0
      },
      "text/plain": [
       "HBox(children=(IntProgress(value=0, max=5571), HTML(value='')))"
      ]
     },
     "metadata": {},
     "output_type": "display_data"
    },
    {
     "name": "stdout",
     "output_type": "stream",
     "text": [
      "  Epoch 166 : loss = 386.94655025 | training error = 0.26355883123937335 | validation error = 0.31086158356046417\n"
     ]
    },
    {
     "data": {
      "application/vnd.jupyter.widget-view+json": {
       "model_id": "68a14ca7100c4e3590185e4a3ada462d",
       "version_major": 2,
       "version_minor": 0
      },
      "text/plain": [
       "HBox(children=(IntProgress(value=0, max=5571), HTML(value='')))"
      ]
     },
     "metadata": {},
     "output_type": "display_data"
    },
    {
     "name": "stdout",
     "output_type": "stream",
     "text": [
      "  Epoch 167 : loss = 386.94655030 | training error = 0.2635588312371683 | validation error = 0.3108615835469658\n"
     ]
    },
    {
     "data": {
      "application/vnd.jupyter.widget-view+json": {
       "model_id": "595c80f4986a4dc1ae19046d87019ffa",
       "version_major": 2,
       "version_minor": 0
      },
      "text/plain": [
       "HBox(children=(IntProgress(value=0, max=5571), HTML(value='')))"
      ]
     },
     "metadata": {},
     "output_type": "display_data"
    },
    {
     "name": "stdout",
     "output_type": "stream",
     "text": [
      "  Epoch 168 : loss = 386.94655037 | training error = 0.2635588312385662 | validation error = 0.31086158353059395\n"
     ]
    },
    {
     "data": {
      "application/vnd.jupyter.widget-view+json": {
       "model_id": "5036bf04ab9c4265a1dca98ba8cb590f",
       "version_major": 2,
       "version_minor": 0
      },
      "text/plain": [
       "HBox(children=(IntProgress(value=0, max=5571), HTML(value='')))"
      ]
     },
     "metadata": {},
     "output_type": "display_data"
    },
    {
     "name": "stdout",
     "output_type": "stream",
     "text": [
      "  Epoch 169 : loss = 386.94655035 | training error = 0.26355883123856916 | validation error = 0.31086158353059445\n"
     ]
    },
    {
     "data": {
      "application/vnd.jupyter.widget-view+json": {
       "model_id": "f7b875780beb4cb6bb71cf917bc12ccc",
       "version_major": 2,
       "version_minor": 0
      },
      "text/plain": [
       "HBox(children=(IntProgress(value=0, max=5571), HTML(value='')))"
      ]
     },
     "metadata": {},
     "output_type": "display_data"
    },
    {
     "name": "stdout",
     "output_type": "stream",
     "text": [
      "  Epoch 170 : loss = 386.94655035 | training error = 0.26355883123857105 | validation error = 0.31086158353059473\n"
     ]
    },
    {
     "data": {
      "application/vnd.jupyter.widget-view+json": {
       "model_id": "786e73e7ef3c49e1a458c19bef96499f",
       "version_major": 2,
       "version_minor": 0
      },
      "text/plain": [
       "HBox(children=(IntProgress(value=0, max=5571), HTML(value='')))"
      ]
     },
     "metadata": {},
     "output_type": "display_data"
    },
    {
     "name": "stdout",
     "output_type": "stream",
     "text": [
      "  Epoch 171 : loss = 386.94655035 | training error = 0.2635588312385737 | validation error = 0.31086158353059534\n"
     ]
    },
    {
     "data": {
      "application/vnd.jupyter.widget-view+json": {
       "model_id": "647cff17dc5d46f987394b385f080c19",
       "version_major": 2,
       "version_minor": 0
      },
      "text/plain": [
       "HBox(children=(IntProgress(value=0, max=5571), HTML(value='')))"
      ]
     },
     "metadata": {},
     "output_type": "display_data"
    },
    {
     "name": "stdout",
     "output_type": "stream",
     "text": [
      "  Epoch 172 : loss = 386.94655035 | training error = 0.2635588312385765 | validation error = 0.3108615835305958\n"
     ]
    },
    {
     "data": {
      "application/vnd.jupyter.widget-view+json": {
       "model_id": "a44ac6b3ce4e495ba76affe467e56e5f",
       "version_major": 2,
       "version_minor": 0
      },
      "text/plain": [
       "HBox(children=(IntProgress(value=0, max=5571), HTML(value='')))"
      ]
     },
     "metadata": {},
     "output_type": "display_data"
    },
    {
     "name": "stdout",
     "output_type": "stream",
     "text": [
      "  Epoch 173 : loss = 386.94655035 | training error = 0.26355883123857876 | validation error = 0.3108615835305961\n"
     ]
    },
    {
     "data": {
      "application/vnd.jupyter.widget-view+json": {
       "model_id": "42f19083fea248c4bdf3a5ce0944dc10",
       "version_major": 2,
       "version_minor": 0
      },
      "text/plain": [
       "HBox(children=(IntProgress(value=0, max=5571), HTML(value='')))"
      ]
     },
     "metadata": {},
     "output_type": "display_data"
    },
    {
     "name": "stdout",
     "output_type": "stream",
     "text": [
      "  Epoch 174 : loss = 386.94655035 | training error = 0.2635588312385812 | validation error = 0.3108615835305966\n"
     ]
    },
    {
     "data": {
      "application/vnd.jupyter.widget-view+json": {
       "model_id": "27031931759e43798611db05d7ddc3aa",
       "version_major": 2,
       "version_minor": 0
      },
      "text/plain": [
       "HBox(children=(IntProgress(value=0, max=5571), HTML(value='')))"
      ]
     },
     "metadata": {},
     "output_type": "display_data"
    },
    {
     "name": "stdout",
     "output_type": "stream",
     "text": [
      "  Epoch 175 : loss = 386.94655035 | training error = 0.26355883123858403 | validation error = 0.3108615835305971\n"
     ]
    },
    {
     "data": {
      "application/vnd.jupyter.widget-view+json": {
       "model_id": "cb17f2f601614a31927bf27357bd5451",
       "version_major": 2,
       "version_minor": 0
      },
      "text/plain": [
       "HBox(children=(IntProgress(value=0, max=5571), HTML(value='')))"
      ]
     },
     "metadata": {},
     "output_type": "display_data"
    },
    {
     "name": "stdout",
     "output_type": "stream",
     "text": [
      "  Epoch 176 : loss = 386.94655035 | training error = 0.2635588312385859 | validation error = 0.3108615835305974\n"
     ]
    },
    {
     "data": {
      "application/vnd.jupyter.widget-view+json": {
       "model_id": "ea2e4a6da51a434db512a473883342d4",
       "version_major": 2,
       "version_minor": 0
      },
      "text/plain": [
       "HBox(children=(IntProgress(value=0, max=5571), HTML(value='')))"
      ]
     },
     "metadata": {},
     "output_type": "display_data"
    },
    {
     "name": "stdout",
     "output_type": "stream",
     "text": [
      "  Epoch 177 : loss = 386.94655035 | training error = 0.2635588312385885 | validation error = 0.3108615835305979\n"
     ]
    },
    {
     "data": {
      "application/vnd.jupyter.widget-view+json": {
       "model_id": "034127c85c454ce39dbe04a7674e4e36",
       "version_major": 2,
       "version_minor": 0
      },
      "text/plain": [
       "HBox(children=(IntProgress(value=0, max=5571), HTML(value='')))"
      ]
     },
     "metadata": {},
     "output_type": "display_data"
    },
    {
     "name": "stdout",
     "output_type": "stream",
     "text": [
      "  Epoch 178 : loss = 386.94655035 | training error = 0.2635588312385917 | validation error = 0.31086158353059834\n"
     ]
    },
    {
     "data": {
      "application/vnd.jupyter.widget-view+json": {
       "model_id": "a41b74f643734c49adb3c1c0969a0c68",
       "version_major": 2,
       "version_minor": 0
      },
      "text/plain": [
       "HBox(children=(IntProgress(value=0, max=5571), HTML(value='')))"
      ]
     },
     "metadata": {},
     "output_type": "display_data"
    },
    {
     "name": "stdout",
     "output_type": "stream",
     "text": [
      "  Epoch 179 : loss = 386.94655035 | training error = 0.2635588312385938 | validation error = 0.31086158353059884\n"
     ]
    },
    {
     "data": {
      "application/vnd.jupyter.widget-view+json": {
       "model_id": "59065d580e724b14b76dbea093f074c9",
       "version_major": 2,
       "version_minor": 0
      },
      "text/plain": [
       "HBox(children=(IntProgress(value=0, max=5571), HTML(value='')))"
      ]
     },
     "metadata": {},
     "output_type": "display_data"
    },
    {
     "name": "stdout",
     "output_type": "stream",
     "text": [
      "  Epoch 180 : loss = 386.94655035 | training error = 0.2635588312385938 | validation error = 0.31086158353059884\n"
     ]
    },
    {
     "data": {
      "application/vnd.jupyter.widget-view+json": {
       "model_id": "073e60e62c66440693476c81077040ec",
       "version_major": 2,
       "version_minor": 0
      },
      "text/plain": [
       "HBox(children=(IntProgress(value=0, max=5571), HTML(value='')))"
      ]
     },
     "metadata": {},
     "output_type": "display_data"
    },
    {
     "name": "stdout",
     "output_type": "stream",
     "text": [
      "  Epoch 181 : loss = 386.94655035 | training error = 0.2635588312385938 | validation error = 0.31086158353059884\n"
     ]
    },
    {
     "data": {
      "application/vnd.jupyter.widget-view+json": {
       "model_id": "0d155e0800c74c55a018a3a9fd48b5a3",
       "version_major": 2,
       "version_minor": 0
      },
      "text/plain": [
       "HBox(children=(IntProgress(value=0, max=5571), HTML(value='')))"
      ]
     },
     "metadata": {},
     "output_type": "display_data"
    },
    {
     "name": "stdout",
     "output_type": "stream",
     "text": [
      "  Epoch 182 : loss = 386.94655035 | training error = 0.2635588312385938 | validation error = 0.31086158353059884\n"
     ]
    },
    {
     "data": {
      "application/vnd.jupyter.widget-view+json": {
       "model_id": "0f242a1f5d014470bd05fc7f8647b100",
       "version_major": 2,
       "version_minor": 0
      },
      "text/plain": [
       "HBox(children=(IntProgress(value=0, max=5571), HTML(value='')))"
      ]
     },
     "metadata": {},
     "output_type": "display_data"
    },
    {
     "name": "stdout",
     "output_type": "stream",
     "text": [
      "  Epoch 183 : loss = 386.94655035 | training error = 0.2635588312385938 | validation error = 0.31086158353059884\n"
     ]
    },
    {
     "data": {
      "application/vnd.jupyter.widget-view+json": {
       "model_id": "db954e91bb90485eac9fc2b565f11cbb",
       "version_major": 2,
       "version_minor": 0
      },
      "text/plain": [
       "HBox(children=(IntProgress(value=0, max=5571), HTML(value='')))"
      ]
     },
     "metadata": {},
     "output_type": "display_data"
    },
    {
     "name": "stdout",
     "output_type": "stream",
     "text": [
      "  Epoch 184 : loss = 386.94655035 | training error = 0.2635588312385938 | validation error = 0.31086158353059884\n"
     ]
    },
    {
     "data": {
      "application/vnd.jupyter.widget-view+json": {
       "model_id": "c250dd91080f4ebbafff42a7cd0bdd59",
       "version_major": 2,
       "version_minor": 0
      },
      "text/plain": [
       "HBox(children=(IntProgress(value=0, max=5571), HTML(value='')))"
      ]
     },
     "metadata": {},
     "output_type": "display_data"
    },
    {
     "name": "stdout",
     "output_type": "stream",
     "text": [
      "  Epoch 185 : loss = 386.94655035 | training error = 0.2635588312385938 | validation error = 0.31086158353059884\n"
     ]
    },
    {
     "data": {
      "application/vnd.jupyter.widget-view+json": {
       "model_id": "0cc2c06c616540f5a9e9d5f84583f722",
       "version_major": 2,
       "version_minor": 0
      },
      "text/plain": [
       "HBox(children=(IntProgress(value=0, max=5571), HTML(value='')))"
      ]
     },
     "metadata": {},
     "output_type": "display_data"
    },
    {
     "name": "stdout",
     "output_type": "stream",
     "text": [
      "  Epoch 186 : loss = 386.94655035 | training error = 0.2635588312385938 | validation error = 0.31086158353059884\n"
     ]
    },
    {
     "data": {
      "application/vnd.jupyter.widget-view+json": {
       "model_id": "4baa50838f9c43b4872e486aa5821e1e",
       "version_major": 2,
       "version_minor": 0
      },
      "text/plain": [
       "HBox(children=(IntProgress(value=0, max=5571), HTML(value='')))"
      ]
     },
     "metadata": {},
     "output_type": "display_data"
    },
    {
     "name": "stdout",
     "output_type": "stream",
     "text": [
      "  Epoch 187 : loss = 386.94655035 | training error = 0.2635588312385938 | validation error = 0.31086158353059884\n"
     ]
    },
    {
     "data": {
      "application/vnd.jupyter.widget-view+json": {
       "model_id": "7e20c81f78cf4fc9aa86114dc8058ce1",
       "version_major": 2,
       "version_minor": 0
      },
      "text/plain": [
       "HBox(children=(IntProgress(value=0, max=5571), HTML(value='')))"
      ]
     },
     "metadata": {},
     "output_type": "display_data"
    },
    {
     "name": "stdout",
     "output_type": "stream",
     "text": [
      "  Epoch 188 : loss = 386.94655035 | training error = 0.2635588312385938 | validation error = 0.31086158353059884\n"
     ]
    },
    {
     "data": {
      "application/vnd.jupyter.widget-view+json": {
       "model_id": "cfb3386843a94a3fa53cf958dbe2bcb8",
       "version_major": 2,
       "version_minor": 0
      },
      "text/plain": [
       "HBox(children=(IntProgress(value=0, max=5571), HTML(value='')))"
      ]
     },
     "metadata": {},
     "output_type": "display_data"
    },
    {
     "name": "stdout",
     "output_type": "stream",
     "text": [
      "  Epoch 189 : loss = 386.94655035 | training error = 0.2635588312385938 | validation error = 0.31086158353059884\n"
     ]
    },
    {
     "data": {
      "application/vnd.jupyter.widget-view+json": {
       "model_id": "2933e9ac2de047cab37e9f5e77b5e36f",
       "version_major": 2,
       "version_minor": 0
      },
      "text/plain": [
       "HBox(children=(IntProgress(value=0, max=5571), HTML(value='')))"
      ]
     },
     "metadata": {},
     "output_type": "display_data"
    },
    {
     "name": "stdout",
     "output_type": "stream",
     "text": [
      "  Epoch 190 : loss = 386.94655035 | training error = 0.2635588312385938 | validation error = 0.31086158353059884\n"
     ]
    },
    {
     "data": {
      "application/vnd.jupyter.widget-view+json": {
       "model_id": "be5dbd4bfbe84ce68007d605d3a28369",
       "version_major": 2,
       "version_minor": 0
      },
      "text/plain": [
       "HBox(children=(IntProgress(value=0, max=5571), HTML(value='')))"
      ]
     },
     "metadata": {},
     "output_type": "display_data"
    },
    {
     "name": "stdout",
     "output_type": "stream",
     "text": [
      "  Epoch 191 : loss = 386.94655035 | training error = 0.2635588312385938 | validation error = 0.31086158353059884\n"
     ]
    },
    {
     "data": {
      "application/vnd.jupyter.widget-view+json": {
       "model_id": "ebd29d7e7ddf4583a708f78f7ff2a203",
       "version_major": 2,
       "version_minor": 0
      },
      "text/plain": [
       "HBox(children=(IntProgress(value=0, max=5571), HTML(value='')))"
      ]
     },
     "metadata": {},
     "output_type": "display_data"
    },
    {
     "name": "stdout",
     "output_type": "stream",
     "text": [
      "  Epoch 192 : loss = 386.94655035 | training error = 0.2635588312385938 | validation error = 0.31086158353059884\n"
     ]
    },
    {
     "data": {
      "application/vnd.jupyter.widget-view+json": {
       "model_id": "7ccf39fda38041718cd89ce4096f88c4",
       "version_major": 2,
       "version_minor": 0
      },
      "text/plain": [
       "HBox(children=(IntProgress(value=0, max=5571), HTML(value='')))"
      ]
     },
     "metadata": {},
     "output_type": "display_data"
    },
    {
     "name": "stdout",
     "output_type": "stream",
     "text": [
      "  Epoch 193 : loss = 386.94655035 | training error = 0.2635588312385938 | validation error = 0.31086158353059884\n"
     ]
    },
    {
     "data": {
      "application/vnd.jupyter.widget-view+json": {
       "model_id": "7307bc7b07434e9da0787cafbcfd9c3f",
       "version_major": 2,
       "version_minor": 0
      },
      "text/plain": [
       "HBox(children=(IntProgress(value=0, max=5571), HTML(value='')))"
      ]
     },
     "metadata": {},
     "output_type": "display_data"
    },
    {
     "name": "stdout",
     "output_type": "stream",
     "text": [
      "  Epoch 194 : loss = 386.94655035 | training error = 0.2635588312385938 | validation error = 0.31086158353059884\n"
     ]
    },
    {
     "data": {
      "application/vnd.jupyter.widget-view+json": {
       "model_id": "421fbc681aa74974bb3a77a504815259",
       "version_major": 2,
       "version_minor": 0
      },
      "text/plain": [
       "HBox(children=(IntProgress(value=0, max=5571), HTML(value='')))"
      ]
     },
     "metadata": {},
     "output_type": "display_data"
    },
    {
     "name": "stdout",
     "output_type": "stream",
     "text": [
      "  Epoch 195 : loss = 386.94655035 | training error = 0.2635588312385938 | validation error = 0.31086158353059884\n"
     ]
    },
    {
     "data": {
      "application/vnd.jupyter.widget-view+json": {
       "model_id": "f125d18cd9e8440db8b55c5643826669",
       "version_major": 2,
       "version_minor": 0
      },
      "text/plain": [
       "HBox(children=(IntProgress(value=0, max=5571), HTML(value='')))"
      ]
     },
     "metadata": {},
     "output_type": "display_data"
    },
    {
     "name": "stdout",
     "output_type": "stream",
     "text": [
      "  Epoch 196 : loss = 386.94655035 | training error = 0.2635588312385938 | validation error = 0.31086158353059884\n"
     ]
    },
    {
     "data": {
      "application/vnd.jupyter.widget-view+json": {
       "model_id": "026967a27091441891d903b4b3dd86e2",
       "version_major": 2,
       "version_minor": 0
      },
      "text/plain": [
       "HBox(children=(IntProgress(value=0, max=5571), HTML(value='')))"
      ]
     },
     "metadata": {},
     "output_type": "display_data"
    },
    {
     "name": "stdout",
     "output_type": "stream",
     "text": [
      "  Epoch 197 : loss = 386.94655035 | training error = 0.2635588312385938 | validation error = 0.31086158353059884\n"
     ]
    },
    {
     "data": {
      "application/vnd.jupyter.widget-view+json": {
       "model_id": "839096560cdc47eb8ca79b8df87e30f4",
       "version_major": 2,
       "version_minor": 0
      },
      "text/plain": [
       "HBox(children=(IntProgress(value=0, max=5571), HTML(value='')))"
      ]
     },
     "metadata": {},
     "output_type": "display_data"
    },
    {
     "name": "stdout",
     "output_type": "stream",
     "text": [
      "  Epoch 198 : loss = 386.94655035 | training error = 0.2635588312385938 | validation error = 0.31086158353059884\n"
     ]
    },
    {
     "data": {
      "application/vnd.jupyter.widget-view+json": {
       "model_id": "92028d42efdb47d99799f617e8fd6697",
       "version_major": 2,
       "version_minor": 0
      },
      "text/plain": [
       "HBox(children=(IntProgress(value=0, max=5571), HTML(value='')))"
      ]
     },
     "metadata": {},
     "output_type": "display_data"
    },
    {
     "name": "stdout",
     "output_type": "stream",
     "text": [
      "  Epoch 199 : loss = 386.94655035 | training error = 0.2635588312385938 | validation error = 0.31086158353059884\n"
     ]
    },
    {
     "data": {
      "application/vnd.jupyter.widget-view+json": {
       "model_id": "686afd37002c4489aa1dfdac9430bda4",
       "version_major": 2,
       "version_minor": 0
      },
      "text/plain": [
       "HBox(children=(IntProgress(value=0, max=5571), HTML(value='')))"
      ]
     },
     "metadata": {},
     "output_type": "display_data"
    },
    {
     "name": "stdout",
     "output_type": "stream",
     "text": [
      "  Epoch 200 : loss = 386.94655035 | training error = 0.2635588312385938 | validation error = 0.31086158353059884\n",
      "\n"
     ]
    }
   ],
   "source": [
    "simple_embedding = Simple_Embedding(nb_users)\n",
    "\n",
    "simple_res = train_model(simple_embedding, nb_epochs=200, mini_batch_size=256, learning_rate=0.9)"
   ]
  },
  {
   "cell_type": "code",
   "execution_count": 26,
   "metadata": {},
   "outputs": [
    {
     "data": {
      "text/plain": [
       "0.3217737426873887"
      ]
     },
     "execution_count": 26,
     "metadata": {},
     "output_type": "execute_result"
    }
   ],
   "source": [
    "#rmse\n",
    "np.sqrt((simple_embedding(test_input).squeeze() - test_target).data.pow(2).mean())"
   ]
  },
  {
   "cell_type": "code",
   "execution_count": 28,
   "metadata": {
    "collapsed": true,
    "jupyter": {
     "outputs_hidden": true
    }
   },
   "outputs": [],
   "source": [
    "user_biases = simple_embedding.user_bias.weight.data[LongTensor(avg_local.index.astype(int).values)].squeeze()"
   ]
  },
  {
   "cell_type": "code",
   "execution_count": 29,
   "metadata": {},
   "outputs": [
    {
     "data": {
      "text/plain": [
       "-0.0007190167199754479"
      ]
     },
     "execution_count": 29,
     "metadata": {},
     "output_type": "execute_result"
    }
   ],
   "source": [
    "# average difference between mean local agreement of the user and its scalar embedding\n",
    "(Tensor(avg_local.values) - user_biases).mean()"
   ]
  },
  {
   "cell_type": "code",
   "execution_count": 27,
   "metadata": {},
   "outputs": [
    {
     "data": {
      "image/png": "[encoded data removed]",
      "text/plain": [
       "<matplotlib.figure.Figure at 0x125c610f0>"
      ]
     },
     "metadata": {},
     "output_type": "display_data"
    }
   ],
   "source": [
    "plt.figure()\n",
    "plt.plot(range(len(simple_res[0])),simple_res[0])\n",
    "plt.xlabel(\"Nb of epochs\")\n",
    "plt.ylabel(\"Test error\")\n",
    "plt.savefig(\"figures/simple_model_results.pdf\")\n",
    "plt.show()"
   ]
  },
  {
   "cell_type": "markdown",
   "metadata": {},
   "source": [
    "## User embeddings dot product"
   ]
  },
  {
   "cell_type": "code",
   "execution_count": 31,
   "metadata": {
    "collapsed": true,
    "jupyter": {
     "outputs_hidden": true
    }
   },
   "outputs": [],
   "source": [
    "class Dot_Embedding(nn.Module):\n",
    "    def __init__(self, n_users, K=10):\n",
    "        super(Dot_Embedding, self).__init__()\n",
    "        self.user_embs = nn.Embedding(n_users,K)\n",
    "        self.user_embs.weight.data.normal_(0.5,0.5)\n",
    "        self.user_bias = nn.Embedding(n_users,1)\n",
    "        self.user_bias.weight.data.normal_(0.5,0.5)\n",
    "        self.sig = nn.Sigmoid()\n",
    "\n",
    "    def forward(self, users):\n",
    "        new_users = self.user_embs(users[:,0])\n",
    "        previous_users = self.user_embs(users[:,1])\n",
    "        \n",
    "        res = (new_users*previous_users).sum(1)\n",
    "        res += self.user_bias(users[:,0]).squeeze()\n",
    "        return self.sig(res)"
   ]
  },
  {
   "cell_type": "code",
   "execution_count": 32,
   "metadata": {
    "collapsed": true,
    "jupyter": {
     "outputs_hidden": true
    }
   },
   "outputs": [],
   "source": [
    "user_dot = Dot_Embedding(nb_users)"
   ]
  },
  {
   "cell_type": "code",
   "execution_count": 33,
   "metadata": {
    "scrolled": true
   },
   "outputs": [
    {
     "data": {
      "application/vnd.jupyter.widget-view+json": {
       "model_id": "05b4305b8fd84db6a4e03576eda215be",
       "version_major": 2,
       "version_minor": 0
      },
      "text/plain": [
       "HBox(children=(IntProgress(value=0, max=50), HTML(value='')))"
      ]
     },
     "metadata": {},
     "output_type": "display_data"
    },
    {
     "data": {
      "application/vnd.jupyter.widget-view+json": {
       "model_id": "2728bc0caf7848aaab1a576f36f098a1",
       "version_major": 2,
       "version_minor": 0
      },
      "text/plain": [
       "HBox(children=(IntProgress(value=0, max=22281), HTML(value='')))"
      ]
     },
     "metadata": {},
     "output_type": "display_data"
    },
    {
     "name": "stdout",
     "output_type": "stream",
     "text": [
      "  Epoch   1 : loss = 7664.91569020 | training error = 0.5803870251282442 | validation error = 0.5646358393527571\n"
     ]
    },
    {
     "data": {
      "application/vnd.jupyter.widget-view+json": {
       "model_id": "daade2b2d4e5405db23e0238f71cca43",
       "version_major": 2,
       "version_minor": 0
      },
      "text/plain": [
       "HBox(children=(IntProgress(value=0, max=22281), HTML(value='')))"
      ]
     },
     "metadata": {},
     "output_type": "display_data"
    },
    {
     "name": "stdout",
     "output_type": "stream",
     "text": [
      "  Epoch   2 : loss = 7356.68331286 | training error = 0.5676625439352966 | validation error = 0.5587051816785399\n"
     ]
    },
    {
     "data": {
      "application/vnd.jupyter.widget-view+json": {
       "model_id": "65fb677f61944687b3652c3100c52777",
       "version_major": 2,
       "version_minor": 0
      },
      "text/plain": [
       "HBox(children=(IntProgress(value=0, max=22281), HTML(value='')))"
      ]
     },
     "metadata": {},
     "output_type": "display_data"
    },
    {
     "name": "stdout",
     "output_type": "stream",
     "text": [
      "  Epoch   3 : loss = 7024.52414398 | training error = 0.5541497131379751 | validation error = 0.5525097472687205\n"
     ]
    },
    {
     "data": {
      "application/vnd.jupyter.widget-view+json": {
       "model_id": "dfce45c8997140cda1f3528a2ca27b7f",
       "version_major": 2,
       "version_minor": 0
      },
      "text/plain": [
       "HBox(children=(IntProgress(value=0, max=22281), HTML(value='')))"
      ]
     },
     "metadata": {},
     "output_type": "display_data"
    },
    {
     "name": "stdout",
     "output_type": "stream",
     "text": [
      "  Epoch   4 : loss = 6689.44578382 | training error = 0.5405422827032684 | validation error = 0.5462538851968335\n"
     ]
    },
    {
     "data": {
      "application/vnd.jupyter.widget-view+json": {
       "model_id": "97aeff248456400688c9d50c6dda3231",
       "version_major": 2,
       "version_minor": 0
      },
      "text/plain": [
       "HBox(children=(IntProgress(value=0, max=22281), HTML(value='')))"
      ]
     },
     "metadata": {},
     "output_type": "display_data"
    },
    {
     "name": "stdout",
     "output_type": "stream",
     "text": [
      "  Epoch   5 : loss = 6365.59461780 | training error = 0.5272678012347257 | validation error = 0.5401058085146602\n"
     ]
    },
    {
     "data": {
      "application/vnd.jupyter.widget-view+json": {
       "model_id": "0384109588984fe7ade17764125263b2",
       "version_major": 2,
       "version_minor": 0
      },
      "text/plain": [
       "HBox(children=(IntProgress(value=0, max=22281), HTML(value='')))"
      ]
     },
     "metadata": {},
     "output_type": "display_data"
    },
    {
     "name": "stdout",
     "output_type": "stream",
     "text": [
      "  Epoch   6 : loss = 6060.88264874 | training error = 0.5146133862689176 | validation error = 0.5341669343581749\n"
     ]
    },
    {
     "data": {
      "application/vnd.jupyter.widget-view+json": {
       "model_id": "b025144302d040658e8bf98eec1cbb14",
       "version_major": 2,
       "version_minor": 0
      },
      "text/plain": [
       "HBox(children=(IntProgress(value=0, max=22281), HTML(value='')))"
      ]
     },
     "metadata": {},
     "output_type": "display_data"
    },
    {
     "name": "stdout",
     "output_type": "stream",
     "text": [
      "  Epoch   7 : loss = 5779.65824547 | training error = 0.5027367117485171 | validation error = 0.5284873900455569\n"
     ]
    },
    {
     "data": {
      "application/vnd.jupyter.widget-view+json": {
       "model_id": "6bce6b1d61524695b8276d7fe0b91a58",
       "version_major": 2,
       "version_minor": 0
      },
      "text/plain": [
       "HBox(children=(IntProgress(value=0, max=22281), HTML(value='')))"
      ]
     },
     "metadata": {},
     "output_type": "display_data"
    },
    {
     "name": "stdout",
     "output_type": "stream",
     "text": [
      "  Epoch   8 : loss = 5522.69724393 | training error = 0.4916662229519279 | validation error = 0.5230879491010137\n"
     ]
    },
    {
     "data": {
      "application/vnd.jupyter.widget-view+json": {
       "model_id": "4767c55ff561436497357eddb17f68c5",
       "version_major": 2,
       "version_minor": 0
      },
      "text/plain": [
       "HBox(children=(IntProgress(value=0, max=22281), HTML(value='')))"
      ]
     },
     "metadata": {},
     "output_type": "display_data"
    },
    {
     "name": "stdout",
     "output_type": "stream",
     "text": [
      "  Epoch   9 : loss = 5288.74676207 | training error = 0.4813767216489812 | validation error = 0.5179735153058584\n"
     ]
    },
    {
     "data": {
      "application/vnd.jupyter.widget-view+json": {
       "model_id": "f94d3e8329764001b28a09d0c57010b2",
       "version_major": 2,
       "version_minor": 0
      },
      "text/plain": [
       "HBox(children=(IntProgress(value=0, max=22281), HTML(value='')))"
      ]
     },
     "metadata": {},
     "output_type": "display_data"
    },
    {
     "name": "stdout",
     "output_type": "stream",
     "text": [
      "  Epoch  10 : loss = 5075.99079438 | training error = 0.4718254802337884 | validation error = 0.513134945214732\n"
     ]
    },
    {
     "data": {
      "application/vnd.jupyter.widget-view+json": {
       "model_id": "e44dfdc93bee46e0aa1063bad0fbc55e",
       "version_major": 2,
       "version_minor": 0
      },
      "text/plain": [
       "HBox(children=(IntProgress(value=0, max=22281), HTML(value='')))"
      ]
     },
     "metadata": {},
     "output_type": "display_data"
    },
    {
     "name": "stdout",
     "output_type": "stream",
     "text": [
      "  Epoch  11 : loss = 4882.23118373 | training error = 0.4629426803127171 | validation error = 0.5085505690609725\n"
     ]
    },
    {
     "data": {
      "application/vnd.jupyter.widget-view+json": {
       "model_id": "ff231dfb3eff4e368668056154de0151",
       "version_major": 2,
       "version_minor": 0
      },
      "text/plain": [
       "HBox(children=(IntProgress(value=0, max=22281), HTML(value='')))"
      ]
     },
     "metadata": {},
     "output_type": "display_data"
    },
    {
     "name": "stdout",
     "output_type": "stream",
     "text": [
      "  Epoch  12 : loss = 4705.14168901 | training error = 0.454657223560245 | validation error = 0.5041989096618543\n"
     ]
    },
    {
     "data": {
      "application/vnd.jupyter.widget-view+json": {
       "model_id": "b12ecaf40ff748f59b088567c8966ba2",
       "version_major": 2,
       "version_minor": 0
      },
      "text/plain": [
       "HBox(children=(IntProgress(value=0, max=22281), HTML(value='')))"
      ]
     },
     "metadata": {},
     "output_type": "display_data"
    },
    {
     "name": "stdout",
     "output_type": "stream",
     "text": [
      "  Epoch  13 : loss = 4542.68934062 | training error = 0.4469100367972588 | validation error = 0.5000650214685599\n"
     ]
    },
    {
     "data": {
      "application/vnd.jupyter.widget-view+json": {
       "model_id": "a92e982efa0c4ff6a580e624176a4836",
       "version_major": 2,
       "version_minor": 0
      },
      "text/plain": [
       "HBox(children=(IntProgress(value=0, max=22281), HTML(value='')))"
      ]
     },
     "metadata": {},
     "output_type": "display_data"
    },
    {
     "name": "stdout",
     "output_type": "stream",
     "text": [
      "  Epoch  14 : loss = 4393.17770232 | training error = 0.43964844395841024 | validation error = 0.4961343094125613\n"
     ]
    },
    {
     "data": {
      "application/vnd.jupyter.widget-view+json": {
       "model_id": "8962ce23684e46498c45922215d24095",
       "version_major": 2,
       "version_minor": 0
      },
      "text/plain": [
       "HBox(children=(IntProgress(value=0, max=22281), HTML(value='')))"
      ]
     },
     "metadata": {},
     "output_type": "display_data"
    },
    {
     "name": "stdout",
     "output_type": "stream",
     "text": [
      "  Epoch  15 : loss = 4255.15908575 | training error = 0.43282911151734055 | validation error = 0.49239399425000036\n"
     ]
    },
    {
     "data": {
      "application/vnd.jupyter.widget-view+json": {
       "model_id": "add2b3473b0d4ea7aaa16d9e375b7dec",
       "version_major": 2,
       "version_minor": 0
      },
      "text/plain": [
       "HBox(children=(IntProgress(value=0, max=22281), HTML(value='')))"
      ]
     },
     "metadata": {},
     "output_type": "display_data"
    },
    {
     "name": "stdout",
     "output_type": "stream",
     "text": [
      "  Epoch  16 : loss = 4127.40436678 | training error = 0.42641020185752543 | validation error = 0.48883222887751704\n"
     ]
    },
    {
     "data": {
      "application/vnd.jupyter.widget-view+json": {
       "model_id": "005eca9d441a4988bccebf2351061c44",
       "version_major": 2,
       "version_minor": 0
      },
      "text/plain": [
       "HBox(children=(IntProgress(value=0, max=22281), HTML(value='')))"
      ]
     },
     "metadata": {},
     "output_type": "display_data"
    },
    {
     "name": "stdout",
     "output_type": "stream",
     "text": [
      "  Epoch  17 : loss = 4008.75450828 | training error = 0.4203510974466863 | validation error = 0.48543686472441006\n"
     ]
    },
    {
     "data": {
      "application/vnd.jupyter.widget-view+json": {
       "model_id": "47547e2ce606467c9aa73fc4276643e4",
       "version_major": 2,
       "version_minor": 0
      },
      "text/plain": [
       "HBox(children=(IntProgress(value=0, max=22281), HTML(value='')))"
      ]
     },
     "metadata": {},
     "output_type": "display_data"
    },
    {
     "name": "stdout",
     "output_type": "stream",
     "text": [
      "  Epoch  18 : loss = 3898.19179571 | training error = 0.41461705215863875 | validation error = 0.4821964531181145\n"
     ]
    },
    {
     "data": {
      "application/vnd.jupyter.widget-view+json": {
       "model_id": "0437c7b6b8e941fd8bae0c1e332a1198",
       "version_major": 2,
       "version_minor": 0
      },
      "text/plain": [
       "HBox(children=(IntProgress(value=0, max=22281), HTML(value='')))"
      ]
     },
     "metadata": {},
     "output_type": "display_data"
    },
    {
     "name": "stdout",
     "output_type": "stream",
     "text": [
      "  Epoch  19 : loss = 3794.87148316 | training error = 0.4091799137660413 | validation error = 0.4791007367798712\n"
     ]
    },
    {
     "data": {
      "application/vnd.jupyter.widget-view+json": {
       "model_id": "66e2dd8accc34c4e982ef2f12209c64e",
       "version_major": 2,
       "version_minor": 0
      },
      "text/plain": [
       "HBox(children=(IntProgress(value=0, max=22281), HTML(value='')))"
      ]
     },
     "metadata": {},
     "output_type": "display_data"
    },
    {
     "name": "stdout",
     "output_type": "stream",
     "text": [
      "  Epoch  20 : loss = 3698.09145794 | training error = 0.4040151392239151 | validation error = 0.47614013310279335\n"
     ]
    },
    {
     "data": {
      "application/vnd.jupyter.widget-view+json": {
       "model_id": "ca2a7c8ba6d04758a95dd9af08e418d5",
       "version_major": 2,
       "version_minor": 0
      },
      "text/plain": [
       "HBox(children=(IntProgress(value=0, max=22281), HTML(value='')))"
      ]
     },
     "metadata": {},
     "output_type": "display_data"
    },
    {
     "name": "stdout",
     "output_type": "stream",
     "text": [
      "  Epoch  21 : loss = 3607.22760681 | training error = 0.39910003726103427 | validation error = 0.4733051565154224\n"
     ]
    },
    {
     "data": {
      "application/vnd.jupyter.widget-view+json": {
       "model_id": "fcb230e8c24b44e5a46e2b08eb8e369b",
       "version_major": 2,
       "version_minor": 0
      },
      "text/plain": [
       "HBox(children=(IntProgress(value=0, max=22281), HTML(value='')))"
      ]
     },
     "metadata": {},
     "output_type": "display_data"
    },
    {
     "name": "stdout",
     "output_type": "stream",
     "text": [
      "  Epoch  22 : loss = 3521.72530503 | training error = 0.39441431068769883 | validation error = 0.4705868042649938\n"
     ]
    },
    {
     "data": {
      "application/vnd.jupyter.widget-view+json": {
       "model_id": "3419a62f710b494db65e8df6d2add38f",
       "version_major": 2,
       "version_minor": 0
      },
      "text/plain": [
       "HBox(children=(IntProgress(value=0, max=22281), HTML(value='')))"
      ]
     },
     "metadata": {},
     "output_type": "display_data"
    },
    {
     "name": "stdout",
     "output_type": "stream",
     "text": [
      "  Epoch  23 : loss = 3441.09377467 | training error = 0.38993948908410664 | validation error = 0.46797689401117104\n"
     ]
    },
    {
     "data": {
      "application/vnd.jupyter.widget-view+json": {
       "model_id": "f36dd86f6ec84f81bf9331e67febf690",
       "version_major": 2,
       "version_minor": 0
      },
      "text/plain": [
       "HBox(children=(IntProgress(value=0, max=22281), HTML(value='')))"
      ]
     },
     "metadata": {},
     "output_type": "display_data"
    },
    {
     "name": "stdout",
     "output_type": "stream",
     "text": [
      "  Epoch  24 : loss = 3364.89223912 | training error = 0.38565850965469894 | validation error = 0.46546803155833844\n"
     ]
    },
    {
     "data": {
      "application/vnd.jupyter.widget-view+json": {
       "model_id": "baaf47352fa54c659c2d051bca2cd899",
       "version_major": 2,
       "version_minor": 0
      },
      "text/plain": [
       "HBox(children=(IntProgress(value=0, max=22281), HTML(value='')))"
      ]
     },
     "metadata": {},
     "output_type": "display_data"
    },
    {
     "name": "stdout",
     "output_type": "stream",
     "text": [
      "  Epoch  25 : loss = 3292.72177814 | training error = 0.3815555183804747 | validation error = 0.4630534735637539\n"
     ]
    },
    {
     "data": {
      "application/vnd.jupyter.widget-view+json": {
       "model_id": "166f957208f748269769adb69367b845",
       "version_major": 2,
       "version_minor": 0
      },
      "text/plain": [
       "HBox(children=(IntProgress(value=0, max=22281), HTML(value='')))"
      ]
     },
     "metadata": {},
     "output_type": "display_data"
    },
    {
     "name": "stdout",
     "output_type": "stream",
     "text": [
      "  Epoch  26 : loss = 3224.22075390 | training error = 0.3776159388600566 | validation error = 0.4607270844734518\n"
     ]
    },
    {
     "data": {
      "application/vnd.jupyter.widget-view+json": {
       "model_id": "4040ee1b79df4d9591db52e605987b06",
       "version_major": 2,
       "version_minor": 0
      },
      "text/plain": [
       "HBox(children=(IntProgress(value=0, max=22281), HTML(value='')))"
      ]
     },
     "metadata": {},
     "output_type": "display_data"
    },
    {
     "name": "stdout",
     "output_type": "stream",
     "text": [
      "  Epoch  27 : loss = 3159.06663531 | training error = 0.37382682262634914 | validation error = 0.45848339601484445\n"
     ]
    },
    {
     "data": {
      "application/vnd.jupyter.widget-view+json": {
       "model_id": "370b6cf7101e4e1caac0abbb7b03dc10",
       "version_major": 2,
       "version_minor": 0
      },
      "text/plain": [
       "HBox(children=(IntProgress(value=0, max=22281), HTML(value='')))"
      ]
     },
     "metadata": {},
     "output_type": "display_data"
    },
    {
     "name": "stdout",
     "output_type": "stream",
     "text": [
      "  Epoch  28 : loss = 3096.97837402 | training error = 0.3701769950574184 | validation error = 0.4563176653082033\n"
     ]
    },
    {
     "data": {
      "application/vnd.jupyter.widget-view+json": {
       "model_id": "62c777a2c5a24f4b84ae08d0d9b652ba",
       "version_major": 2,
       "version_minor": 0
      },
      "text/plain": [
       "HBox(children=(IntProgress(value=0, max=22281), HTML(value='')))"
      ]
     },
     "metadata": {},
     "output_type": "display_data"
    },
    {
     "name": "stdout",
     "output_type": "stream",
     "text": [
      "  Epoch  29 : loss = 3037.71469573 | training error = 0.366657006158243 | validation error = 0.4542258587098599\n"
     ]
    },
    {
     "data": {
      "application/vnd.jupyter.widget-view+json": {
       "model_id": "e10a8147f5a046648cf52f0188bec424",
       "version_major": 2,
       "version_minor": 0
      },
      "text/plain": [
       "HBox(children=(IntProgress(value=0, max=22281), HTML(value='')))"
      ]
     },
     "metadata": {},
     "output_type": "display_data"
    },
    {
     "name": "stdout",
     "output_type": "stream",
     "text": [
      "  Epoch  30 : loss = 2981.07083755 | training error = 0.36325905271791487 | validation error = 0.4522045461092274\n"
     ]
    },
    {
     "data": {
      "application/vnd.jupyter.widget-view+json": {
       "model_id": "dc910114eaa84e6799c20e69587c3d90",
       "version_major": 2,
       "version_minor": 0
      },
      "text/plain": [
       "HBox(children=(IntProgress(value=0, max=22281), HTML(value='')))"
      ]
     },
     "metadata": {},
     "output_type": "display_data"
    },
    {
     "name": "stdout",
     "output_type": "stream",
     "text": [
      "  Epoch  31 : loss = 2926.87449454 | training error = 0.35997671385729346 | validation error = 0.4502507186530416\n"
     ]
    },
    {
     "data": {
      "application/vnd.jupyter.widget-view+json": {
       "model_id": "ef2a43809fa64f4db64c599a0b10d48a",
       "version_major": 2,
       "version_minor": 0
      },
      "text/plain": [
       "HBox(children=(IntProgress(value=0, max=22281), HTML(value='')))"
      ]
     },
     "metadata": {},
     "output_type": "display_data"
    },
    {
     "name": "stdout",
     "output_type": "stream",
     "text": [
      "  Epoch  32 : loss = 2874.97656878 | training error = 0.3568042295233975 | validation error = 0.44836154945321627\n"
     ]
    },
    {
     "data": {
      "application/vnd.jupyter.widget-view+json": {
       "model_id": "b7bef16542b64982a3d6d773f10ca91b",
       "version_major": 2,
       "version_minor": 0
      },
      "text/plain": [
       "HBox(children=(IntProgress(value=0, max=22281), HTML(value='')))"
      ]
     },
     "metadata": {},
     "output_type": "display_data"
    },
    {
     "name": "stdout",
     "output_type": "stream",
     "text": [
      "  Epoch  33 : loss = 2825.23771803 | training error = 0.3537358129863063 | validation error = 0.44653421406833615\n"
     ]
    },
    {
     "data": {
      "application/vnd.jupyter.widget-view+json": {
       "model_id": "e422eec54e4c4ac4b61c270d20c87515",
       "version_major": 2,
       "version_minor": 0
      },
      "text/plain": [
       "HBox(children=(IntProgress(value=0, max=22281), HTML(value='')))"
      ]
     },
     "metadata": {},
     "output_type": "display_data"
    },
    {
     "name": "stdout",
     "output_type": "stream",
     "text": [
      "  Epoch  34 : loss = 2777.52221991 | training error = 0.3507656661680885 | validation error = 0.44476585020657533\n"
     ]
    },
    {
     "data": {
      "application/vnd.jupyter.widget-view+json": {
       "model_id": "8049719ad4414edb9c923cb2a5870892",
       "version_major": 2,
       "version_minor": 0
      },
      "text/plain": [
       "HBox(children=(IntProgress(value=0, max=22281), HTML(value='')))"
      ]
     },
     "metadata": {},
     "output_type": "display_data"
    },
    {
     "name": "stdout",
     "output_type": "stream",
     "text": [
      "  Epoch  35 : loss = 2731.70112573 | training error = 0.3478883005578209 | validation error = 0.443053645939705\n"
     ]
    },
    {
     "data": {
      "application/vnd.jupyter.widget-view+json": {
       "model_id": "e72b761542f94d5a8eca98e39a6aa784",
       "version_major": 2,
       "version_minor": 0
      },
      "text/plain": [
       "HBox(children=(IntProgress(value=0, max=22281), HTML(value='')))"
      ]
     },
     "metadata": {},
     "output_type": "display_data"
    },
    {
     "name": "stdout",
     "output_type": "stream",
     "text": [
      "  Epoch  36 : loss = 2687.65611427 | training error = 0.3450987322706779 | validation error = 0.4413949843486402\n"
     ]
    },
    {
     "data": {
      "application/vnd.jupyter.widget-view+json": {
       "model_id": "12675ebd66a74ff68e72dd9962828d61",
       "version_major": 2,
       "version_minor": 0
      },
      "text/plain": [
       "HBox(children=(IntProgress(value=0, max=22281), HTML(value='')))"
      ]
     },
     "metadata": {},
     "output_type": "display_data"
    },
    {
     "name": "stdout",
     "output_type": "stream",
     "text": [
      "  Epoch  37 : loss = 2645.28045913 | training error = 0.3423924622586607 | validation error = 0.4397875281338671\n"
     ]
    },
    {
     "data": {
      "application/vnd.jupyter.widget-view+json": {
       "model_id": "4dadf33c1a914060942b1d959b516d9a",
       "version_major": 2,
       "version_minor": 0
      },
      "text/plain": [
       "HBox(children=(IntProgress(value=0, max=22281), HTML(value='')))"
      ]
     },
     "metadata": {},
     "output_type": "display_data"
    },
    {
     "name": "stdout",
     "output_type": "stream",
     "text": [
      "  Epoch  38 : loss = 2604.47683854 | training error = 0.33976527704729304 | validation error = 0.4382291519863233\n"
     ]
    },
    {
     "data": {
      "application/vnd.jupyter.widget-view+json": {
       "model_id": "9cee5f1b0ba84562b5c7ef3f036dc30d",
       "version_major": 2,
       "version_minor": 0
      },
      "text/plain": [
       "HBox(children=(IntProgress(value=0, max=22281), HTML(value='')))"
      ]
     },
     "metadata": {},
     "output_type": "display_data"
    },
    {
     "name": "stdout",
     "output_type": "stream",
     "text": [
      "  Epoch  39 : loss = 2565.15416303 | training error = 0.33721313312234996 | validation error = 0.4367178123660898\n"
     ]
    },
    {
     "data": {
      "application/vnd.jupyter.widget-view+json": {
       "model_id": "565b736a39314e70878111f637220cd0",
       "version_major": 2,
       "version_minor": 0
      },
      "text/plain": [
       "HBox(children=(IntProgress(value=0, max=22281), HTML(value='')))"
      ]
     },
     "metadata": {},
     "output_type": "display_data"
    },
    {
     "name": "stdout",
     "output_type": "stream",
     "text": [
      "  Epoch  40 : loss = 2527.22701207 | training error = 0.33473223769683014 | validation error = 0.43525151329761697\n"
     ]
    },
    {
     "data": {
      "application/vnd.jupyter.widget-view+json": {
       "model_id": "8028c20eba344c359be4001fb84411e9",
       "version_major": 2,
       "version_minor": 0
      },
      "text/plain": [
       "HBox(children=(IntProgress(value=0, max=22281), HTML(value='')))"
      ]
     },
     "metadata": {},
     "output_type": "display_data"
    },
    {
     "name": "stdout",
     "output_type": "stream",
     "text": [
      "  Epoch  41 : loss = 2490.61697458 | training error = 0.33231915832391934 | validation error = 0.43382838816795943\n"
     ]
    },
    {
     "data": {
      "application/vnd.jupyter.widget-view+json": {
       "model_id": "7db35a9a5c284d50a20621cb72b5da29",
       "version_major": 2,
       "version_minor": 0
      },
      "text/plain": [
       "HBox(children=(IntProgress(value=0, max=22281), HTML(value='')))"
      ]
     },
     "metadata": {},
     "output_type": "display_data"
    },
    {
     "name": "stdout",
     "output_type": "stream",
     "text": [
      "  Epoch  42 : loss = 2455.25345762 | training error = 0.32997084894164885 | validation error = 0.43244678780218104\n"
     ]
    },
    {
     "data": {
      "application/vnd.jupyter.widget-view+json": {
       "model_id": "d3ad69dcce54467da0322f5f9c58b0b3",
       "version_major": 2,
       "version_minor": 0
      },
      "text/plain": [
       "HBox(children=(IntProgress(value=0, max=22281), HTML(value='')))"
      ]
     },
     "metadata": {},
     "output_type": "display_data"
    },
    {
     "name": "stdout",
     "output_type": "stream",
     "text": [
      "  Epoch  43 : loss = 2421.07302797 | training error = 0.3276845723929124 | validation error = 0.4311052820505472\n"
     ]
    },
    {
     "data": {
      "application/vnd.jupyter.widget-view+json": {
       "model_id": "ce15240c1e1c4b84a0cecf0d32fe76b9",
       "version_major": 2,
       "version_minor": 0
      },
      "text/plain": [
       "HBox(children=(IntProgress(value=0, max=22281), HTML(value='')))"
      ]
     },
     "metadata": {},
     "output_type": "display_data"
    },
    {
     "name": "stdout",
     "output_type": "stream",
     "text": [
      "  Epoch  44 : loss = 2388.01768298 | training error = 0.32545778089352195 | validation error = 0.42980256311968756\n"
     ]
    },
    {
     "data": {
      "application/vnd.jupyter.widget-view+json": {
       "model_id": "46730168470745b99b2f24c8b4b07d0a",
       "version_major": 2,
       "version_minor": 0
      },
      "text/plain": [
       "HBox(children=(IntProgress(value=0, max=22281), HTML(value='')))"
      ]
     },
     "metadata": {},
     "output_type": "display_data"
    },
    {
     "name": "stdout",
     "output_type": "stream",
     "text": [
      "  Epoch  45 : loss = 2356.03303070 | training error = 0.32328802213401314 | validation error = 0.4285373259228408\n"
     ]
    },
    {
     "data": {
      "application/vnd.jupyter.widget-view+json": {
       "model_id": "9c4b3a85e63e4c4fbe2267adc15bbb91",
       "version_major": 2,
       "version_minor": 0
      },
      "text/plain": [
       "HBox(children=(IntProgress(value=0, max=22281), HTML(value='')))"
      ]
     },
     "metadata": {},
     "output_type": "display_data"
    },
    {
     "name": "stdout",
     "output_type": "stream",
     "text": [
      "  Epoch  46 : loss = 2325.06708312 | training error = 0.3211728813620686 | validation error = 0.4273082189688579\n"
     ]
    },
    {
     "data": {
      "application/vnd.jupyter.widget-view+json": {
       "model_id": "571379b190bd4dc9b98213e069f6f7ee",
       "version_major": 2,
       "version_minor": 0
      },
      "text/plain": [
       "HBox(children=(IntProgress(value=0, max=22281), HTML(value='')))"
      ]
     },
     "metadata": {},
     "output_type": "display_data"
    },
    {
     "name": "stdout",
     "output_type": "stream",
     "text": [
      "  Epoch  47 : loss = 2295.06957696 | training error = 0.31910996418536774 | validation error = 0.42611386367256815\n"
     ]
    },
    {
     "data": {
      "application/vnd.jupyter.widget-view+json": {
       "model_id": "ba373d610ba34ce09498fedb9eac9d54",
       "version_major": 2,
       "version_minor": 0
      },
      "text/plain": [
       "HBox(children=(IntProgress(value=0, max=22281), HTML(value='')))"
      ]
     },
     "metadata": {},
     "output_type": "display_data"
    },
    {
     "name": "stdout",
     "output_type": "stream",
     "text": [
      "  Epoch  48 : loss = 2265.99201904 | training error = 0.3170969367398428 | validation error = 0.42495290107244377\n"
     ]
    },
    {
     "data": {
      "application/vnd.jupyter.widget-view+json": {
       "model_id": "4b9a4f11bec54872ad1a504ea348e361",
       "version_major": 2,
       "version_minor": 0
      },
      "text/plain": [
       "HBox(children=(IntProgress(value=0, max=22281), HTML(value='')))"
      ]
     },
     "metadata": {},
     "output_type": "display_data"
    },
    {
     "name": "stdout",
     "output_type": "stream",
     "text": [
      "  Epoch  49 : loss = 2237.78842497 | training error = 0.3151315940272002 | validation error = 0.42382403364272186\n"
     ]
    },
    {
     "data": {
      "application/vnd.jupyter.widget-view+json": {
       "model_id": "80a9a87553ef44ed918a2f34afd93cbb",
       "version_major": 2,
       "version_minor": 0
      },
      "text/plain": [
       "HBox(children=(IntProgress(value=0, max=22281), HTML(value='')))"
      ]
     },
     "metadata": {},
     "output_type": "display_data"
    },
    {
     "name": "stdout",
     "output_type": "stream",
     "text": [
      "  Epoch  50 : loss = 2210.41610680 | training error = 0.3132119081683217 | validation error = 0.4227260435641895\n",
      "\n"
     ]
    }
   ],
   "source": [
    "#best user dot\n",
    "dot_res = train_model(user_dot)"
   ]
  },
  {
   "cell_type": "code",
   "execution_count": 35,
   "metadata": {
    "scrolled": true
   },
   "outputs": [],
   "source": [
    "with open(\"results/best_user_dot.pkl\", \"wb\") as f:\n",
    "    pickle.dump(dot_res, f)"
   ]
  },
  {
   "cell_type": "code",
   "execution_count": 37,
   "metadata": {},
   "outputs": [
    {
     "name": "stderr",
     "output_type": "stream",
     "text": [
      "/usr/local/Cellar/python3/3.6.3/Frameworks/Python.framework/Versions/3.6/lib/python3.6/site-packages/torch/serialization.py:159: UserWarning: Couldn't retrieve source code for container of type Dot_Embedding. It won't be checked for correctness upon loading.\n",
      "  \"type \" + obj.__name__ + \". It won't be checked \"\n"
     ]
    }
   ],
   "source": [
    "with open(\"models/best_user_dot.m\", \"wb\") as f:\n",
    "    torch.save(user_dot, f)"
   ]
  },
  {
   "cell_type": "code",
   "execution_count": 39,
   "metadata": {},
   "outputs": [
    {
     "data": {
      "text/plain": [
       "0.42435217727723273"
      ]
     },
     "execution_count": 39,
     "metadata": {},
     "output_type": "execute_result"
    }
   ],
   "source": [
    "#rmse\n",
    "np.sqrt((user_dot(test_input).squeeze() - test_target).data.pow(2).mean())"
   ]
  },
  {
   "cell_type": "code",
   "execution_count": 42,
   "metadata": {},
   "outputs": [
    {
     "data": {
      "image/png": "[encoded data removed]",
      "text/plain": [
       "<matplotlib.figure.Figure at 0x126fd55f8>"
      ]
     },
     "metadata": {},
     "output_type": "display_data"
    }
   ],
   "source": [
    "plt.figure()\n",
    "plt.plot(range(len(dot_res[0])),dot_res[0])\n",
    "plt.xlabel(\"Nb of epochs\")\n",
    "plt.ylabel(\"Test error\")\n",
    "plt.tight_layout()\n",
    "plt.savefig(\"figures/user_dot_results.pdf\")\n",
    "plt.show()"
   ]
  },
  {
   "cell_type": "markdown",
   "metadata": {},
   "source": [
    "## Batch size"
   ]
  },
  {
   "cell_type": "code",
   "execution_count": 49,
   "metadata": {
    "scrolled": true
   },
   "outputs": [
    {
     "data": {
      "application/vnd.jupyter.widget-view+json": {
       "model_id": "b1bab5ced3874891ae05f24f409c189d",
       "version_major": 2,
       "version_minor": 0
      },
      "text/plain": [
       "HBox(children=(IntProgress(value=0, max=4), HTML(value='')))"
      ]
     },
     "metadata": {},
     "output_type": "display_data"
    },
    {
     "name": "stdout",
     "output_type": "stream",
     "text": [
      "BATCH SIZE 128\n",
      "---------------\n"
     ]
    },
    {
     "data": {
      "application/vnd.jupyter.widget-view+json": {
       "model_id": "e128dba5f99343b68772eba3b45bd9f4",
       "version_major": 2,
       "version_minor": 0
      },
      "text/plain": [
       "HBox(children=(IntProgress(value=0, max=20), HTML(value='')))"
      ]
     },
     "metadata": {},
     "output_type": "display_data"
    },
    {
     "data": {
      "application/vnd.jupyter.widget-view+json": {
       "model_id": "2a2d6da006d9464596d20b3dd1bcaf0f",
       "version_major": 2,
       "version_minor": 0
      },
      "text/plain": [
       "HBox(children=(IntProgress(value=0, max=11141), HTML(value='')))"
      ]
     },
     "metadata": {},
     "output_type": "display_data"
    },
    {
     "name": "stdout",
     "output_type": "stream",
     "text": [
      "\n",
      "  Epoch   1 : loss = 35182.53379250 | training error = 1.0721123414963754 | validation error = 1.5737430312052296\n"
     ]
    },
    {
     "data": {
      "application/vnd.jupyter.widget-view+json": {
       "model_id": "fb92dc2a0d634b02b13a42b29b36ecbd",
       "version_major": 2,
       "version_minor": 0
      },
      "text/plain": [
       "HBox(children=(IntProgress(value=0, max=11141), HTML(value='')))"
      ]
     },
     "metadata": {},
     "output_type": "display_data"
    },
    {
     "name": "stdout",
     "output_type": "stream",
     "text": [
      "  Epoch   2 : loss = 10309.88753614 | training error = 0.788633873991675 | validation error = 1.3024988143540315\n"
     ]
    },
    {
     "data": {
      "application/vnd.jupyter.widget-view+json": {
       "model_id": "d8578e436b5b4948bac16f0bc5cabfc7",
       "version_major": 2,
       "version_minor": 0
      },
      "text/plain": [
       "HBox(children=(IntProgress(value=0, max=11141), HTML(value='')))"
      ]
     },
     "metadata": {},
     "output_type": "display_data"
    },
    {
     "name": "stdout",
     "output_type": "stream",
     "text": [
      "  Epoch   3 : loss = 6207.95364170 | training error = 0.6494445839992602 | validation error = 1.166101229307502\n"
     ]
    },
    {
     "data": {
      "application/vnd.jupyter.widget-view+json": {
       "model_id": "d4adcccc613b47dc8aeda298dce2be10",
       "version_major": 2,
       "version_minor": 0
      },
      "text/plain": [
       "HBox(children=(IntProgress(value=0, max=11141), HTML(value='')))"
      ]
     },
     "metadata": {},
     "output_type": "display_data"
    },
    {
     "name": "stdout",
     "output_type": "stream",
     "text": [
      "  Epoch   4 : loss = 4409.54351640 | training error = 0.5636122941437196 | validation error = 1.0817215891050727\n"
     ]
    },
    {
     "data": {
      "application/vnd.jupyter.widget-view+json": {
       "model_id": "5c9788343daf4327a15a382cbfb43cec",
       "version_major": 2,
       "version_minor": 0
      },
      "text/plain": [
       "HBox(children=(IntProgress(value=0, max=11141), HTML(value='')))"
      ]
     },
     "metadata": {},
     "output_type": "display_data"
    },
    {
     "name": "stdout",
     "output_type": "stream",
     "text": [
      "  Epoch   5 : loss = 3409.27645007 | training error = 0.5046514531994213 | validation error = 1.0239391567910738\n"
     ]
    },
    {
     "data": {
      "application/vnd.jupyter.widget-view+json": {
       "model_id": "7a8fe18c07e146439e5310236c897734",
       "version_major": 2,
       "version_minor": 0
      },
      "text/plain": [
       "HBox(children=(IntProgress(value=0, max=11141), HTML(value='')))"
      ]
     },
     "metadata": {},
     "output_type": "display_data"
    },
    {
     "name": "stdout",
     "output_type": "stream",
     "text": [
      "  Epoch   6 : loss = 2779.76971414 | training error = 0.46143991909984833 | validation error = 0.9818551049432004\n"
     ]
    },
    {
     "data": {
      "application/vnd.jupyter.widget-view+json": {
       "model_id": "1ce0c4fe2f80447ea5efd6eb0d8a425b",
       "version_major": 2,
       "version_minor": 0
      },
      "text/plain": [
       "HBox(children=(IntProgress(value=0, max=11141), HTML(value='')))"
      ]
     },
     "metadata": {},
     "output_type": "display_data"
    },
    {
     "name": "stdout",
     "output_type": "stream",
     "text": [
      "  Epoch   7 : loss = 2351.34387447 | training error = 0.42834222860662924 | validation error = 0.9498932926362682\n"
     ]
    },
    {
     "data": {
      "application/vnd.jupyter.widget-view+json": {
       "model_id": "0176fd5ea5fe4612b7a3d21e297f740a",
       "version_major": 2,
       "version_minor": 0
      },
      "text/plain": [
       "HBox(children=(IntProgress(value=0, max=11141), HTML(value='')))"
      ]
     },
     "metadata": {},
     "output_type": "display_data"
    },
    {
     "name": "stdout",
     "output_type": "stream",
     "text": [
      "  Epoch   8 : loss = 2043.26901773 | training error = 0.40215292685596615 | validation error = 0.9248648813088929\n"
     ]
    },
    {
     "data": {
      "application/vnd.jupyter.widget-view+json": {
       "model_id": "2f48cc0a05074a8eae0b8836725803a6",
       "version_major": 2,
       "version_minor": 0
      },
      "text/plain": [
       "HBox(children=(IntProgress(value=0, max=11141), HTML(value='')))"
      ]
     },
     "metadata": {},
     "output_type": "display_data"
    },
    {
     "name": "stdout",
     "output_type": "stream",
     "text": [
      "  Epoch   9 : loss = 1812.39969663 | training error = 0.3808996642527155 | validation error = 0.9048001866505849\n"
     ]
    },
    {
     "data": {
      "application/vnd.jupyter.widget-view+json": {
       "model_id": "421187e524024a72bd3a0a14c621a169",
       "version_major": 2,
       "version_minor": 0
      },
      "text/plain": [
       "HBox(children=(IntProgress(value=0, max=11141), HTML(value='')))"
      ]
     },
     "metadata": {},
     "output_type": "display_data"
    },
    {
     "name": "stdout",
     "output_type": "stream",
     "text": [
      "  Epoch  10 : loss = 1633.70387857 | training error = 0.36329743117839264 | validation error = 0.8884115343340903\n"
     ]
    },
    {
     "data": {
      "application/vnd.jupyter.widget-view+json": {
       "model_id": "9a0c9257972a4bd8a0e9aa555bcffbb4",
       "version_major": 2,
       "version_minor": 0
      },
      "text/plain": [
       "HBox(children=(IntProgress(value=0, max=11141), HTML(value='')))"
      ]
     },
     "metadata": {},
     "output_type": "display_data"
    },
    {
     "name": "stdout",
     "output_type": "stream",
     "text": [
      "  Epoch  11 : loss = 1491.73460691 | training error = 0.3484716060475588 | validation error = 0.8748195458571072\n"
     ]
    },
    {
     "data": {
      "application/vnd.jupyter.widget-view+json": {
       "model_id": "2472d3e4a53342f38e51ea8666ef8ba8",
       "version_major": 2,
       "version_minor": 0
      },
      "text/plain": [
       "HBox(children=(IntProgress(value=0, max=11141), HTML(value='')))"
      ]
     },
     "metadata": {},
     "output_type": "display_data"
    },
    {
     "name": "stdout",
     "output_type": "stream",
     "text": [
      "  Epoch  12 : loss = 1376.48718232 | training error = 0.33580582766822376 | validation error = 0.8634024504814086\n"
     ]
    },
    {
     "data": {
      "application/vnd.jupyter.widget-view+json": {
       "model_id": "e291d09f0bf6480096737b620cb69468",
       "version_major": 2,
       "version_minor": 0
      },
      "text/plain": [
       "HBox(children=(IntProgress(value=0, max=11141), HTML(value='')))"
      ]
     },
     "metadata": {},
     "output_type": "display_data"
    },
    {
     "name": "stdout",
     "output_type": "stream",
     "text": [
      "  Epoch  13 : loss = 1281.22266612 | training error = 0.32485317978299727 | validation error = 0.8537079883114329\n"
     ]
    },
    {
     "data": {
      "application/vnd.jupyter.widget-view+json": {
       "model_id": "e60feb335b6845d1b5f1d42b8e76289c",
       "version_major": 2,
       "version_minor": 0
      },
      "text/plain": [
       "HBox(children=(IntProgress(value=0, max=11141), HTML(value='')))"
      ]
     },
     "metadata": {},
     "output_type": "display_data"
    },
    {
     "name": "stdout",
     "output_type": "stream",
     "text": [
      "  Epoch  14 : loss = 1201.25167201 | training error = 0.3152817655043632 | validation error = 0.845399329863814\n"
     ]
    },
    {
     "data": {
      "application/vnd.jupyter.widget-view+json": {
       "model_id": "59b9970c5e9d4c1da21d2204c07be86d",
       "version_major": 2,
       "version_minor": 0
      },
      "text/plain": [
       "HBox(children=(IntProgress(value=0, max=11141), HTML(value='')))"
      ]
     },
     "metadata": {},
     "output_type": "display_data"
    },
    {
     "name": "stdout",
     "output_type": "stream",
     "text": [
      "  Epoch  15 : loss = 1133.21984963 | training error = 0.3068400132655744 | validation error = 0.8382205507336355\n"
     ]
    },
    {
     "data": {
      "application/vnd.jupyter.widget-view+json": {
       "model_id": "e56d74577b134671b7d3d0d26294a29b",
       "version_major": 2,
       "version_minor": 0
      },
      "text/plain": [
       "HBox(children=(IntProgress(value=0, max=11141), HTML(value='')))"
      ]
     },
     "metadata": {},
     "output_type": "display_data"
    },
    {
     "name": "stdout",
     "output_type": "stream",
     "text": [
      "  Epoch  16 : loss = 1074.67031068 | training error = 0.29933382028763855 | validation error = 0.8319738204318554\n"
     ]
    },
    {
     "data": {
      "application/vnd.jupyter.widget-view+json": {
       "model_id": "8d461327135948b9b0f93c19cc9e8180",
       "version_major": 2,
       "version_minor": 0
      },
      "text/plain": [
       "HBox(children=(IntProgress(value=0, max=11141), HTML(value='')))"
      ]
     },
     "metadata": {},
     "output_type": "display_data"
    },
    {
     "name": "stdout",
     "output_type": "stream",
     "text": [
      "  Epoch  17 : loss = 1023.76603876 | training error = 0.2926110712379088 | validation error = 0.8265039146154114\n"
     ]
    },
    {
     "data": {
      "application/vnd.jupyter.widget-view+json": {
       "model_id": "bb34a6dcd8534b0d9369de9529300710",
       "version_major": 2,
       "version_minor": 0
      },
      "text/plain": [
       "HBox(children=(IntProgress(value=0, max=11141), HTML(value='')))"
      ]
     },
     "metadata": {},
     "output_type": "display_data"
    },
    {
     "name": "stdout",
     "output_type": "stream",
     "text": [
      "  Epoch  18 : loss = 979.10839328 | training error = 0.28655089551265434 | validation error = 0.821687424378456\n"
     ]
    },
    {
     "data": {
      "application/vnd.jupyter.widget-view+json": {
       "model_id": "eee2605a74774e5da9979d0eb9398f5d",
       "version_major": 2,
       "version_minor": 0
      },
      "text/plain": [
       "HBox(children=(IntProgress(value=0, max=11141), HTML(value='')))"
      ]
     },
     "metadata": {},
     "output_type": "display_data"
    },
    {
     "name": "stdout",
     "output_type": "stream",
     "text": [
      "  Epoch  19 : loss = 939.61525534 | training error = 0.28105605424428837 | validation error = 0.817425086426186\n"
     ]
    },
    {
     "data": {
      "application/vnd.jupyter.widget-view+json": {
       "model_id": "b9f6122d724c49888625f861e3803a5e",
       "version_major": 2,
       "version_minor": 0
      },
      "text/plain": [
       "HBox(children=(IntProgress(value=0, max=11141), HTML(value='')))"
      ]
     },
     "metadata": {},
     "output_type": "display_data"
    },
    {
     "name": "stdout",
     "output_type": "stream",
     "text": [
      "  Epoch  20 : loss = 904.43731167 | training error = 0.2760474460943057 | validation error = 0.8136362188355468\n",
      "==============================\n",
      "BATCH SIZE 512\n",
      "---------------\n"
     ]
    },
    {
     "name": "stderr",
     "output_type": "stream",
     "text": [
      "/usr/local/Cellar/python3/3.6.3/Frameworks/Python.framework/Versions/3.6/lib/python3.6/site-packages/torch/serialization.py:159: UserWarning: Couldn't retrieve source code for container of type Dot_Embedding. It won't be checked for correctness upon loading.\n",
      "  \"type \" + obj.__name__ + \". It won't be checked \"\n"
     ]
    },
    {
     "data": {
      "application/vnd.jupyter.widget-view+json": {
       "model_id": "3cf8062d0668409fb07faa458572d966",
       "version_major": 2,
       "version_minor": 0
      },
      "text/plain": [
       "HBox(children=(IntProgress(value=0, max=20), HTML(value='')))"
      ]
     },
     "metadata": {},
     "output_type": "display_data"
    },
    {
     "data": {
      "application/vnd.jupyter.widget-view+json": {
       "model_id": "22f4f9fdd427432bbd9fbe71943d927f",
       "version_major": 2,
       "version_minor": 0
      },
      "text/plain": [
       "HBox(children=(IntProgress(value=0, max=2786), HTML(value='')))"
      ]
     },
     "metadata": {},
     "output_type": "display_data"
    },
    {
     "name": "stdout",
     "output_type": "stream",
     "text": [
      "  Epoch   1 : loss = 15436.11041117 | training error = 1.85451638699637 | validation error = 2.224049916152881\n"
     ]
    },
    {
     "data": {
      "application/vnd.jupyter.widget-view+json": {
       "model_id": "b39ca04a0bfe40c99e1a9dccc8491cab",
       "version_major": 2,
       "version_minor": 0
      },
      "text/plain": [
       "HBox(children=(IntProgress(value=0, max=2786), HTML(value='')))"
      ]
     },
     "metadata": {},
     "output_type": "display_data"
    },
    {
     "name": "stdout",
     "output_type": "stream",
     "text": [
      "  Epoch   2 : loss = 7761.68336642 | training error = 1.4680332946578807 | validation error = 1.918659260704216\n"
     ]
    },
    {
     "data": {
      "application/vnd.jupyter.widget-view+json": {
       "model_id": "d7e535e50ebb41d18df82cdf372efacc",
       "version_major": 2,
       "version_minor": 0
      },
      "text/plain": [
       "HBox(children=(IntProgress(value=0, max=2786), HTML(value='')))"
      ]
     },
     "metadata": {},
     "output_type": "display_data"
    },
    {
     "name": "stdout",
     "output_type": "stream",
     "text": [
      "  Epoch   3 : loss = 5258.36145040 | training error = 1.2537422353630467 | validation error = 1.7346223827965757\n"
     ]
    },
    {
     "data": {
      "application/vnd.jupyter.widget-view+json": {
       "model_id": "cbaa794143424852b5f29aad9cd166c3",
       "version_major": 2,
       "version_minor": 0
      },
      "text/plain": [
       "HBox(children=(IntProgress(value=0, max=2786), HTML(value='')))"
      ]
     },
     "metadata": {},
     "output_type": "display_data"
    },
    {
     "name": "stdout",
     "output_type": "stream",
     "text": [
      "  Epoch   4 : loss = 3982.59787364 | training error = 1.1118788566008426 | validation error = 1.6069721498668244\n"
     ]
    },
    {
     "data": {
      "application/vnd.jupyter.widget-view+json": {
       "model_id": "ddfa70acf6424438b10266f418089f70",
       "version_major": 2,
       "version_minor": 0
      },
      "text/plain": [
       "HBox(children=(IntProgress(value=0, max=2786), HTML(value='')))"
      ]
     },
     "metadata": {},
     "output_type": "display_data"
    },
    {
     "name": "stdout",
     "output_type": "stream",
     "text": [
      "  Epoch   5 : loss = 3202.51431839 | training error = 1.008655352337825 | validation error = 1.5114057712944373\n"
     ]
    },
    {
     "data": {
      "application/vnd.jupyter.widget-view+json": {
       "model_id": "2f5c0c786c2548f2895182e76b7ff70a",
       "version_major": 2,
       "version_minor": 0
      },
      "text/plain": [
       "HBox(children=(IntProgress(value=0, max=2786), HTML(value='')))"
      ]
     },
     "metadata": {},
     "output_type": "display_data"
    },
    {
     "name": "stdout",
     "output_type": "stream",
     "text": [
      "  Epoch   6 : loss = 2674.25547463 | training error = 0.929020246432766 | validation error = 1.436309645514198\n"
     ]
    },
    {
     "data": {
      "application/vnd.jupyter.widget-view+json": {
       "model_id": "bc7784c630ce41489b10d69a82e22195",
       "version_major": 2,
       "version_minor": 0
      },
      "text/plain": [
       "HBox(children=(IntProgress(value=0, max=2786), HTML(value='')))"
      ]
     },
     "metadata": {},
     "output_type": "display_data"
    },
    {
     "name": "stdout",
     "output_type": "stream",
     "text": [
      "  Epoch   7 : loss = 2292.27523106 | training error = 0.8650952991037136 | validation error = 1.3752832203865601\n"
     ]
    },
    {
     "data": {
      "application/vnd.jupyter.widget-view+json": {
       "model_id": "f2fab18ed64d48668ac9135e9ff23226",
       "version_major": 2,
       "version_minor": 0
      },
      "text/plain": [
       "HBox(children=(IntProgress(value=0, max=2786), HTML(value='')))"
      ]
     },
     "metadata": {},
     "output_type": "display_data"
    },
    {
     "name": "stdout",
     "output_type": "stream",
     "text": [
      "  Epoch   8 : loss = 2003.12237601 | training error = 0.8122900073574512 | validation error = 1.3244491020844285\n"
     ]
    },
    {
     "data": {
      "application/vnd.jupyter.widget-view+json": {
       "model_id": "074668eb8eda4396a209f94eaf4b16f4",
       "version_major": 2,
       "version_minor": 0
      },
      "text/plain": [
       "HBox(children=(IntProgress(value=0, max=2786), HTML(value='')))"
      ]
     },
     "metadata": {},
     "output_type": "display_data"
    },
    {
     "name": "stdout",
     "output_type": "stream",
     "text": [
      "  Epoch   9 : loss = 1776.70317714 | training error = 0.7677165500550143 | validation error = 1.281293669174266\n"
     ]
    },
    {
     "data": {
      "application/vnd.jupyter.widget-view+json": {
       "model_id": "55047446779f4f87a5ef2bd73ac38123",
       "version_major": 2,
       "version_minor": 0
      },
      "text/plain": [
       "HBox(children=(IntProgress(value=0, max=2786), HTML(value='')))"
      ]
     },
     "metadata": {},
     "output_type": "display_data"
    },
    {
     "name": "stdout",
     "output_type": "stream",
     "text": [
      "  Epoch  10 : loss = 1594.72578003 | training error = 0.7294506591470008 | validation error = 1.2441018014277505\n"
     ]
    },
    {
     "data": {
      "application/vnd.jupyter.widget-view+json": {
       "model_id": "96cb8524daa14da9a4de396d388346b6",
       "version_major": 2,
       "version_minor": 0
      },
      "text/plain": [
       "HBox(children=(IntProgress(value=0, max=2786), HTML(value='')))"
      ]
     },
     "metadata": {},
     "output_type": "display_data"
    },
    {
     "name": "stdout",
     "output_type": "stream",
     "text": [
      "  Epoch  11 : loss = 1445.40648788 | training error = 0.6961513404133878 | validation error = 1.2116552857952751\n"
     ]
    },
    {
     "data": {
      "application/vnd.jupyter.widget-view+json": {
       "model_id": "b0b8945cf1544a26bc616f8ca89e117d",
       "version_major": 2,
       "version_minor": 0
      },
      "text/plain": [
       "HBox(children=(IntProgress(value=0, max=2786), HTML(value='')))"
      ]
     },
     "metadata": {},
     "output_type": "display_data"
    },
    {
     "name": "stdout",
     "output_type": "stream",
     "text": [
      "  Epoch  12 : loss = 1320.79980477 | training error = 0.6668498887523083 | validation error = 1.1830603733326261\n"
     ]
    },
    {
     "data": {
      "application/vnd.jupyter.widget-view+json": {
       "model_id": "4a207faf067f4735be15a45bbc1a23c1",
       "version_major": 2,
       "version_minor": 0
      },
      "text/plain": [
       "HBox(children=(IntProgress(value=0, max=2786), HTML(value='')))"
      ]
     },
     "metadata": {},
     "output_type": "display_data"
    },
    {
     "name": "stdout",
     "output_type": "stream",
     "text": [
      "  Epoch  13 : loss = 1215.34706285 | training error = 0.6408256232096036 | validation error = 1.1576436378018928\n"
     ]
    },
    {
     "data": {
      "application/vnd.jupyter.widget-view+json": {
       "model_id": "bea29a5e0458467dbe527fd614f9efed",
       "version_major": 2,
       "version_minor": 0
      },
      "text/plain": [
       "HBox(children=(IntProgress(value=0, max=2786), HTML(value='')))"
      ]
     },
     "metadata": {},
     "output_type": "display_data"
    },
    {
     "name": "stdout",
     "output_type": "stream",
     "text": [
      "  Epoch  14 : loss = 1125.03959261 | training error = 0.6175290455401646 | validation error = 1.1348861827358363\n"
     ]
    },
    {
     "data": {
      "application/vnd.jupyter.widget-view+json": {
       "model_id": "e824d050106947718e370cbf341ab300",
       "version_major": 2,
       "version_minor": 0
      },
      "text/plain": [
       "HBox(children=(IntProgress(value=0, max=2786), HTML(value='')))"
      ]
     },
     "metadata": {},
     "output_type": "display_data"
    },
    {
     "name": "stdout",
     "output_type": "stream",
     "text": [
      "  Epoch  15 : loss = 1046.91182258 | training error = 0.5965323785778542 | validation error = 1.1143805034952723\n"
     ]
    },
    {
     "data": {
      "application/vnd.jupyter.widget-view+json": {
       "model_id": "97b6807596504f5e9c07093b4a33736c",
       "version_major": 2,
       "version_minor": 0
      },
      "text/plain": [
       "HBox(children=(IntProgress(value=0, max=2786), HTML(value='')))"
      ]
     },
     "metadata": {},
     "output_type": "display_data"
    },
    {
     "name": "stdout",
     "output_type": "stream",
     "text": [
      "  Epoch  16 : loss = 978.72186993 | training error = 0.5774966160676217 | validation error = 1.0958013031461693\n"
     ]
    },
    {
     "data": {
      "application/vnd.jupyter.widget-view+json": {
       "model_id": "711469657af04bcbbf4aa08c7660439c",
       "version_major": 2,
       "version_minor": 0
      },
      "text/plain": [
       "HBox(children=(IntProgress(value=0, max=2786), HTML(value='')))"
      ]
     },
     "metadata": {},
     "output_type": "display_data"
    },
    {
     "name": "stdout",
     "output_type": "stream",
     "text": [
      "  Epoch  17 : loss = 918.74300715 | training error = 0.560148928005175 | validation error = 1.0788851813768086\n"
     ]
    },
    {
     "data": {
      "application/vnd.jupyter.widget-view+json": {
       "model_id": "17a0d5d1b95f49428e7f199dbc7dfe48",
       "version_major": 2,
       "version_minor": 0
      },
      "text/plain": [
       "HBox(children=(IntProgress(value=0, max=2786), HTML(value='')))"
      ]
     },
     "metadata": {},
     "output_type": "display_data"
    },
    {
     "name": "stdout",
     "output_type": "stream",
     "text": [
      "  Epoch  18 : loss = 865.62357607 | training error = 0.5442667678769473 | validation error = 1.0634161876821073\n"
     ]
    },
    {
     "data": {
      "application/vnd.jupyter.widget-view+json": {
       "model_id": "5d79a47827474ffaab6ffd2a736e2e2f",
       "version_major": 2,
       "version_minor": 0
      },
      "text/plain": [
       "HBox(children=(IntProgress(value=0, max=2786), HTML(value='')))"
      ]
     },
     "metadata": {},
     "output_type": "display_data"
    },
    {
     "name": "stdout",
     "output_type": "stream",
     "text": [
      "  Epoch  19 : loss = 818.29032635 | training error = 0.5296664449167455 | validation error = 1.0492153131911583\n"
     ]
    },
    {
     "data": {
      "application/vnd.jupyter.widget-view+json": {
       "model_id": "f56ef665cf4a4a148b30212551666e1c",
       "version_major": 2,
       "version_minor": 0
      },
      "text/plain": [
       "HBox(children=(IntProgress(value=0, max=2786), HTML(value='')))"
      ]
     },
     "metadata": {},
     "output_type": "display_data"
    },
    {
     "name": "stdout",
     "output_type": "stream",
     "text": [
      "  Epoch  20 : loss = 775.88029261 | training error = 0.5161947394339589 | validation error = 1.036132706029609\n",
      "==============================\n",
      "BATCH SIZE 2048\n",
      "---------------\n"
     ]
    },
    {
     "data": {
      "application/vnd.jupyter.widget-view+json": {
       "model_id": "8d0addad9f904cc88d6bf2b8f17dd0cb",
       "version_major": 2,
       "version_minor": 0
      },
      "text/plain": [
       "HBox(children=(IntProgress(value=0, max=20), HTML(value='')))"
      ]
     },
     "metadata": {},
     "output_type": "display_data"
    },
    {
     "data": {
      "application/vnd.jupyter.widget-view+json": {
       "model_id": "74c13c2ff48b4c19809950262d061c41",
       "version_major": 2,
       "version_minor": 0
      },
      "text/plain": [
       "HBox(children=(IntProgress(value=0, max=697), HTML(value='')))"
      ]
     },
     "metadata": {},
     "output_type": "display_data"
    },
    {
     "name": "stdout",
     "output_type": "stream",
     "text": [
      "  Epoch   1 : loss = 5292.00395107 | training error = 2.5264115879223503 | validation error = 2.676955808176674\n"
     ]
    },
    {
     "data": {
      "application/vnd.jupyter.widget-view+json": {
       "model_id": "e7d73be4a1504de7a9c2a50e744efcd7",
       "version_major": 2,
       "version_minor": 0
      },
      "text/plain": [
       "HBox(children=(IntProgress(value=0, max=697), HTML(value='')))"
      ]
     },
     "metadata": {},
     "output_type": "display_data"
    },
    {
     "name": "stdout",
     "output_type": "stream",
     "text": [
      "  Epoch   2 : loss = 3956.06767607 | training error = 2.2321794475853194 | validation error = 2.483092986303149\n"
     ]
    },
    {
     "data": {
      "application/vnd.jupyter.widget-view+json": {
       "model_id": "736a7474733a49949d5bf13b435ed04e",
       "version_major": 2,
       "version_minor": 0
      },
      "text/plain": [
       "HBox(children=(IntProgress(value=0, max=697), HTML(value='')))"
      ]
     },
     "metadata": {},
     "output_type": "display_data"
    },
    {
     "name": "stdout",
     "output_type": "stream",
     "text": [
      "  Epoch   3 : loss = 3169.08522725 | training error = 2.0230327819266707 | validation error = 2.337048387454415\n"
     ]
    },
    {
     "data": {
      "application/vnd.jupyter.widget-view+json": {
       "model_id": "1f9ed63f356a4a2db50c33f557eb3db1",
       "version_major": 2,
       "version_minor": 0
      },
      "text/plain": [
       "HBox(children=(IntProgress(value=0, max=697), HTML(value='')))"
      ]
     },
     "metadata": {},
     "output_type": "display_data"
    },
    {
     "name": "stdout",
     "output_type": "stream",
     "text": [
      "  Epoch   4 : loss = 2647.09649348 | training error = 1.8643306306869665 | validation error = 2.221088243158919\n"
     ]
    },
    {
     "data": {
      "application/vnd.jupyter.widget-view+json": {
       "model_id": "6c2df53111c64dd183bc6153d706bedf",
       "version_major": 2,
       "version_minor": 0
      },
      "text/plain": [
       "HBox(children=(IntProgress(value=0, max=697), HTML(value='')))"
      ]
     },
     "metadata": {},
     "output_type": "display_data"
    },
    {
     "name": "stdout",
     "output_type": "stream",
     "text": [
      "  Epoch   5 : loss = 2274.79827714 | training error = 1.7385176852584068 | validation error = 2.1256992974212636\n"
     ]
    },
    {
     "data": {
      "application/vnd.jupyter.widget-view+json": {
       "model_id": "3bf98b6176444566ac0a34eef373c4b5",
       "version_major": 2,
       "version_minor": 0
      },
      "text/plain": [
       "HBox(children=(IntProgress(value=0, max=697), HTML(value='')))"
      ]
     },
     "metadata": {},
     "output_type": "display_data"
    },
    {
     "name": "stdout",
     "output_type": "stream",
     "text": [
      "  Epoch   6 : loss = 1995.55116487 | training error = 1.6355546386295372 | validation error = 2.0451905321775654\n"
     ]
    },
    {
     "data": {
      "application/vnd.jupyter.widget-view+json": {
       "model_id": "fb7c655765ee4efab291fa9c44a36a96",
       "version_major": 2,
       "version_minor": 0
      },
      "text/plain": [
       "HBox(children=(IntProgress(value=0, max=697), HTML(value='')))"
      ]
     },
     "metadata": {},
     "output_type": "display_data"
    },
    {
     "name": "stdout",
     "output_type": "stream",
     "text": [
      "  Epoch   7 : loss = 1778.14019227 | training error = 1.5492205641516674 | validation error = 1.9758994801947614\n"
     ]
    },
    {
     "data": {
      "application/vnd.jupyter.widget-view+json": {
       "model_id": "276ce8cc082b4b94abd942efcf7944fb",
       "version_major": 2,
       "version_minor": 0
      },
      "text/plain": [
       "HBox(children=(IntProgress(value=0, max=697), HTML(value='')))"
      ]
     },
     "metadata": {},
     "output_type": "display_data"
    },
    {
     "name": "stdout",
     "output_type": "stream",
     "text": [
      "  Epoch   8 : loss = 1603.92518747 | training error = 1.4754286282121682 | validation error = 1.9153386990940793\n"
     ]
    },
    {
     "data": {
      "application/vnd.jupyter.widget-view+json": {
       "model_id": "c2ecb550149c410382bf59068b96e96b",
       "version_major": 2,
       "version_minor": 0
      },
      "text/plain": [
       "HBox(children=(IntProgress(value=0, max=697), HTML(value='')))"
      ]
     },
     "metadata": {},
     "output_type": "display_data"
    },
    {
     "name": "stdout",
     "output_type": "stream",
     "text": [
      "  Epoch   9 : loss = 1461.08384180 | training error = 1.4113704875081923 | validation error = 1.8617466797156672\n"
     ]
    },
    {
     "data": {
      "application/vnd.jupyter.widget-view+json": {
       "model_id": "b091b882b3494091ac5e17146ac90425",
       "version_major": 2,
       "version_minor": 0
      },
      "text/plain": [
       "HBox(children=(IntProgress(value=0, max=697), HTML(value='')))"
      ]
     },
     "metadata": {},
     "output_type": "display_data"
    },
    {
     "name": "stdout",
     "output_type": "stream",
     "text": [
      "  Epoch  10 : loss = 1341.75648654 | training error = 1.3550456607399268 | validation error = 1.8138334474862416\n"
     ]
    },
    {
     "data": {
      "application/vnd.jupyter.widget-view+json": {
       "model_id": "3665ba7982cb439ba0e16c7838e2725b",
       "version_major": 2,
       "version_minor": 0
      },
      "text/plain": [
       "HBox(children=(IntProgress(value=0, max=697), HTML(value='')))"
      ]
     },
     "metadata": {},
     "output_type": "display_data"
    },
    {
     "name": "stdout",
     "output_type": "stream",
     "text": [
      "  Epoch  11 : loss = 1240.51436001 | training error = 1.3049863543720526 | validation error = 1.7706279527307316\n"
     ]
    },
    {
     "data": {
      "application/vnd.jupyter.widget-view+json": {
       "model_id": "f2e8ab1d97c14d20b2e4e80140b9e41a",
       "version_major": 2,
       "version_minor": 0
      },
      "text/plain": [
       "HBox(children=(IntProgress(value=0, max=697), HTML(value='')))"
      ]
     },
     "metadata": {},
     "output_type": "display_data"
    },
    {
     "name": "stdout",
     "output_type": "stream",
     "text": [
      "  Epoch  12 : loss = 1153.48714358 | training error = 1.260088519319099 | validation error = 1.7313821486617216\n"
     ]
    },
    {
     "data": {
      "application/vnd.jupyter.widget-view+json": {
       "model_id": "a364daa775724b7f882aba159f7a0aa6",
       "version_major": 2,
       "version_minor": 0
      },
      "text/plain": [
       "HBox(children=(IntProgress(value=0, max=697), HTML(value='')))"
      ]
     },
     "metadata": {},
     "output_type": "display_data"
    },
    {
     "name": "stdout",
     "output_type": "stream",
     "text": [
      "  Epoch  13 : loss = 1077.84110475 | training error = 1.2195038895354051 | validation error = 1.695508364203762\n"
     ]
    },
    {
     "data": {
      "application/vnd.jupyter.widget-view+json": {
       "model_id": "7171682bc4e344f196b92403c964ff7e",
       "version_major": 2,
       "version_minor": 0
      },
      "text/plain": [
       "HBox(children=(IntProgress(value=0, max=697), HTML(value='')))"
      ]
     },
     "metadata": {},
     "output_type": "display_data"
    },
    {
     "name": "stdout",
     "output_type": "stream",
     "text": [
      "  Epoch  14 : loss = 1011.45336914 | training error = 1.182568647878596 | validation error = 1.6625370631254388\n"
     ]
    },
    {
     "data": {
      "application/vnd.jupyter.widget-view+json": {
       "model_id": "fb623e94955444a4a364ab82d116e37d",
       "version_major": 2,
       "version_minor": 0
      },
      "text/plain": [
       "HBox(children=(IntProgress(value=0, max=697), HTML(value='')))"
      ]
     },
     "metadata": {},
     "output_type": "display_data"
    },
    {
     "name": "stdout",
     "output_type": "stream",
     "text": [
      "  Epoch  15 : loss = 952.70169520 | training error = 1.1487549049419163 | validation error = 1.6320875532132526\n"
     ]
    },
    {
     "data": {
      "application/vnd.jupyter.widget-view+json": {
       "model_id": "db6cd26dba7a4466928b516b66da6116",
       "version_major": 2,
       "version_minor": 0
      },
      "text/plain": [
       "HBox(children=(IntProgress(value=0, max=697), HTML(value='')))"
      ]
     },
     "metadata": {},
     "output_type": "display_data"
    },
    {
     "name": "stdout",
     "output_type": "stream",
     "text": [
      "  Epoch  16 : loss = 900.32502085 | training error = 1.117636881403158 | validation error = 1.603847178255199\n"
     ]
    },
    {
     "data": {
      "application/vnd.jupyter.widget-view+json": {
       "model_id": "1aa338591d5443868b27450da6f86922",
       "version_major": 2,
       "version_minor": 0
      },
      "text/plain": [
       "HBox(children=(IntProgress(value=0, max=697), HTML(value='')))"
      ]
     },
     "metadata": {},
     "output_type": "display_data"
    },
    {
     "name": "stdout",
     "output_type": "stream",
     "text": [
      "  Epoch  17 : loss = 853.32765090 | training error = 1.088866806422414 | validation error = 1.5775562233457543\n"
     ]
    },
    {
     "data": {
      "application/vnd.jupyter.widget-view+json": {
       "model_id": "5c263de03419480da305ce5a0211d2af",
       "version_major": 2,
       "version_minor": 0
      },
      "text/plain": [
       "HBox(children=(IntProgress(value=0, max=697), HTML(value='')))"
      ]
     },
     "metadata": {},
     "output_type": "display_data"
    },
    {
     "name": "stdout",
     "output_type": "stream",
     "text": [
      "  Epoch  18 : loss = 810.91280055 | training error = 1.0621574144555201 | validation error = 1.552996758080763\n"
     ]
    },
    {
     "data": {
      "application/vnd.jupyter.widget-view+json": {
       "model_id": "8bd5aea3ef634c49abbdd9f2fe83a541",
       "version_major": 2,
       "version_minor": 0
      },
      "text/plain": [
       "HBox(children=(IntProgress(value=0, max=697), HTML(value='')))"
      ]
     },
     "metadata": {},
     "output_type": "display_data"
    },
    {
     "name": "stdout",
     "output_type": "stream",
     "text": [
      "  Epoch  19 : loss = 772.43508106 | training error = 1.0372690040995822 | validation error = 1.5299842496699647\n"
     ]
    },
    {
     "data": {
      "application/vnd.jupyter.widget-view+json": {
       "model_id": "2bbc19c505c942c2a22d6b4679bba46a",
       "version_major": 2,
       "version_minor": 0
      },
      "text/plain": [
       "HBox(children=(IntProgress(value=0, max=697), HTML(value='')))"
      ]
     },
     "metadata": {},
     "output_type": "display_data"
    },
    {
     "name": "stdout",
     "output_type": "stream",
     "text": [
      "  Epoch  20 : loss = 737.36612684 | training error = 1.0139997316724343 | validation error = 1.5083611643696122\n",
      "==============================\n",
      "BATCH SIZE 8192\n",
      "---------------\n"
     ]
    },
    {
     "data": {
      "application/vnd.jupyter.widget-view+json": {
       "model_id": "b5d81b9e56894452bb7c5e01d3fa62af",
       "version_major": 2,
       "version_minor": 0
      },
      "text/plain": [
       "HBox(children=(IntProgress(value=0, max=20), HTML(value='')))"
      ]
     },
     "metadata": {},
     "output_type": "display_data"
    },
    {
     "data": {
      "application/vnd.jupyter.widget-view+json": {
       "model_id": "210a9386e78f4a9f8c6e711529e94062",
       "version_major": 2,
       "version_minor": 0
      },
      "text/plain": [
       "HBox(children=(IntProgress(value=0, max=175), HTML(value='')))"
      ]
     },
     "metadata": {},
     "output_type": "display_data"
    },
    {
     "name": "stdout",
     "output_type": "stream",
     "text": [
      "  Epoch   1 : loss = 1478.66373062 | training error = 2.8351972783999564 | validation error = 2.8738077139982185\n"
     ]
    },
    {
     "data": {
      "application/vnd.jupyter.widget-view+json": {
       "model_id": "f369f693da4b47388d60ee3f2d1155c5",
       "version_major": 2,
       "version_minor": 0
      },
      "text/plain": [
       "HBox(children=(IntProgress(value=0, max=175), HTML(value='')))"
      ]
     },
     "metadata": {},
     "output_type": "display_data"
    },
    {
     "name": "stdout",
     "output_type": "stream",
     "text": [
      "  Epoch   2 : loss = 1349.41362715 | training error = 2.7153181639264 | validation error = 2.801713104624139\n"
     ]
    },
    {
     "data": {
      "application/vnd.jupyter.widget-view+json": {
       "model_id": "500e23c4a00b45ab92e46715a0059d9b",
       "version_major": 2,
       "version_minor": 0
      },
      "text/plain": [
       "HBox(children=(IntProgress(value=0, max=175), HTML(value='')))"
      ]
     },
     "metadata": {},
     "output_type": "display_data"
    },
    {
     "name": "stdout",
     "output_type": "stream",
     "text": [
      "  Epoch   3 : loss = 1241.81433964 | training error = 2.610177566951658 | validation error = 2.736937843145113\n"
     ]
    },
    {
     "data": {
      "application/vnd.jupyter.widget-view+json": {
       "model_id": "db5b4715454d4899891f9f1d2f447e85",
       "version_major": 2,
       "version_minor": 0
      },
      "text/plain": [
       "HBox(children=(IntProgress(value=0, max=175), HTML(value='')))"
      ]
     },
     "metadata": {},
     "output_type": "display_data"
    },
    {
     "name": "stdout",
     "output_type": "stream",
     "text": [
      "  Epoch   4 : loss = 1150.63051319 | training error = 2.516842413646392 | validation error = 2.6781828643639725\n"
     ]
    },
    {
     "data": {
      "application/vnd.jupyter.widget-view+json": {
       "model_id": "c91729f6afb94c1c94397599ec281c0b",
       "version_major": 2,
       "version_minor": 0
      },
      "text/plain": [
       "HBox(children=(IntProgress(value=0, max=175), HTML(value='')))"
      ]
     },
     "metadata": {},
     "output_type": "display_data"
    },
    {
     "name": "stdout",
     "output_type": "stream",
     "text": [
      "  Epoch   5 : loss = 1072.26246738 | training error = 2.4331804133712094 | validation error = 2.624480708513362\n"
     ]
    },
    {
     "data": {
      "application/vnd.jupyter.widget-view+json": {
       "model_id": "cedd3d12729b43af96b63702559129ce",
       "version_major": 2,
       "version_minor": 0
      },
      "text/plain": [
       "HBox(children=(IntProgress(value=0, max=175), HTML(value='')))"
      ]
     },
     "metadata": {},
     "output_type": "display_data"
    },
    {
     "name": "stdout",
     "output_type": "stream",
     "text": [
      "  Epoch   6 : loss = 1004.12509513 | training error = 2.3575848602234704 | validation error = 2.5750848030266784\n"
     ]
    },
    {
     "data": {
      "application/vnd.jupyter.widget-view+json": {
       "model_id": "f9733e24f90742e8b1b385c38cff5a5a",
       "version_major": 2,
       "version_minor": 0
      },
      "text/plain": [
       "HBox(children=(IntProgress(value=0, max=175), HTML(value='')))"
      ]
     },
     "metadata": {},
     "output_type": "display_data"
    },
    {
     "name": "stdout",
     "output_type": "stream",
     "text": [
      "  Epoch   7 : loss = 944.30365849 | training error = 2.2888118683882555 | validation error = 2.5294039107903163\n"
     ]
    },
    {
     "data": {
      "application/vnd.jupyter.widget-view+json": {
       "model_id": "850322ccec574ee18dda0c68530a9536",
       "version_major": 2,
       "version_minor": 0
      },
      "text/plain": [
       "HBox(children=(IntProgress(value=0, max=175), HTML(value='')))"
      ]
     },
     "metadata": {},
     "output_type": "display_data"
    },
    {
     "name": "stdout",
     "output_type": "stream",
     "text": [
      "  Epoch   8 : loss = 891.34254265 | training error = 2.2258776264407087 | validation error = 2.4869604801507292\n"
     ]
    },
    {
     "data": {
      "application/vnd.jupyter.widget-view+json": {
       "model_id": "3334fa5c69ce4195afba2aecc76a9e10",
       "version_major": 2,
       "version_minor": 0
      },
      "text/plain": [
       "HBox(children=(IntProgress(value=0, max=175), HTML(value='')))"
      ]
     },
     "metadata": {},
     "output_type": "display_data"
    },
    {
     "name": "stdout",
     "output_type": "stream",
     "text": [
      "  Epoch   9 : loss = 844.11268353 | training error = 2.167990289707351 | validation error = 2.4473626423789234\n"
     ]
    },
    {
     "data": {
      "application/vnd.jupyter.widget-view+json": {
       "model_id": "0f54a610e29345f4872cb8ff1b649005",
       "version_major": 2,
       "version_minor": 0
      },
      "text/plain": [
       "HBox(children=(IntProgress(value=0, max=175), HTML(value='')))"
      ]
     },
     "metadata": {},
     "output_type": "display_data"
    },
    {
     "name": "stdout",
     "output_type": "stream",
     "text": [
      "  Epoch  10 : loss = 801.72256589 | training error = 2.11450311532721 | validation error = 2.4102846061953604\n"
     ]
    },
    {
     "data": {
      "application/vnd.jupyter.widget-view+json": {
       "model_id": "57b1f775890843f9b0a040e5c6135ac1",
       "version_major": 2,
       "version_minor": 0
      },
      "text/plain": [
       "HBox(children=(IntProgress(value=0, max=175), HTML(value='')))"
      ]
     },
     "metadata": {},
     "output_type": "display_data"
    },
    {
     "name": "stdout",
     "output_type": "stream",
     "text": [
      "  Epoch  11 : loss = 763.45953310 | training error = 2.0648812347676024 | validation error = 2.3754524959781906\n"
     ]
    },
    {
     "data": {
      "application/vnd.jupyter.widget-view+json": {
       "model_id": "3c948767b1c14859b4283c366684d2b5",
       "version_major": 2,
       "version_minor": 0
      },
      "text/plain": [
       "HBox(children=(IntProgress(value=0, max=175), HTML(value='')))"
      ]
     },
     "metadata": {},
     "output_type": "display_data"
    },
    {
     "name": "stdout",
     "output_type": "stream",
     "text": [
      "  Epoch  12 : loss = 728.74407864 | training error = 2.0186774710856947 | validation error = 2.342633866136831\n"
     ]
    },
    {
     "data": {
      "application/vnd.jupyter.widget-view+json": {
       "model_id": "e05c19f761ea4ef89e223bc4705b4997",
       "version_major": 2,
       "version_minor": 0
      },
      "text/plain": [
       "HBox(children=(IntProgress(value=0, max=175), HTML(value='')))"
      ]
     },
     "metadata": {},
     "output_type": "display_data"
    },
    {
     "name": "stdout",
     "output_type": "stream",
     "text": [
      "  Epoch  13 : loss = 697.10195947 | training error = 1.9755143942838316 | validation error = 2.311629751275638\n"
     ]
    },
    {
     "data": {
      "application/vnd.jupyter.widget-view+json": {
       "model_id": "0c3cd52878e847a4ac529d55d4422a6f",
       "version_major": 2,
       "version_minor": 0
      },
      "text/plain": [
       "HBox(children=(IntProgress(value=0, max=175), HTML(value='')))"
      ]
     },
     "metadata": {},
     "output_type": "display_data"
    },
    {
     "name": "stdout",
     "output_type": "stream",
     "text": [
      "  Epoch  14 : loss = 668.14004529 | training error = 1.9350707471679907 | validation error = 2.2822685694586844\n"
     ]
    },
    {
     "data": {
      "application/vnd.jupyter.widget-view+json": {
       "model_id": "845edeccf87644e58116494ae4bd19ce",
       "version_major": 2,
       "version_minor": 0
      },
      "text/plain": [
       "HBox(children=(IntProgress(value=0, max=175), HTML(value='')))"
      ]
     },
     "metadata": {},
     "output_type": "display_data"
    },
    {
     "name": "stdout",
     "output_type": "stream",
     "text": [
      "  Epoch  15 : loss = 641.52959168 | training error = 1.8970710082523963 | validation error = 2.2544013381657786\n"
     ]
    },
    {
     "data": {
      "application/vnd.jupyter.widget-view+json": {
       "model_id": "27a085ca9809485d9a448425f8a306f5",
       "version_major": 2,
       "version_minor": 0
      },
      "text/plain": [
       "HBox(children=(IntProgress(value=0, max=175), HTML(value='')))"
      ]
     },
     "metadata": {},
     "output_type": "display_data"
    },
    {
     "name": "stdout",
     "output_type": "stream",
     "text": [
      "  Epoch  16 : loss = 616.99376988 | training error = 1.86127727641842 | validation error = 2.2278979151659866\n"
     ]
    },
    {
     "data": {
      "application/vnd.jupyter.widget-view+json": {
       "model_id": "c5bde8176bf2423291add5e3dffa1812",
       "version_major": 2,
       "version_minor": 0
      },
      "text/plain": [
       "HBox(children=(IntProgress(value=0, max=175), HTML(value='')))"
      ]
     },
     "metadata": {},
     "output_type": "display_data"
    },
    {
     "name": "stdout",
     "output_type": "stream",
     "text": [
      "  Epoch  17 : loss = 594.29787040 | training error = 1.8274828677707144 | validation error = 2.2026439793147703\n"
     ]
    },
    {
     "data": {
      "application/vnd.jupyter.widget-view+json": {
       "model_id": "fdf84825b0674013bc791ad2575e5586",
       "version_major": 2,
       "version_minor": 0
      },
      "text/plain": [
       "HBox(children=(IntProgress(value=0, max=175), HTML(value='')))"
      ]
     },
     "metadata": {},
     "output_type": "display_data"
    },
    {
     "name": "stdout",
     "output_type": "stream",
     "text": [
      "  Epoch  18 : loss = 573.24073672 | training error = 1.7955072021918597 | validation error = 2.1785385849401915\n"
     ]
    },
    {
     "data": {
      "application/vnd.jupyter.widget-view+json": {
       "model_id": "60a920d6ad9f4d07816e8afeef4816be",
       "version_major": 2,
       "version_minor": 0
      },
      "text/plain": [
       "HBox(children=(IntProgress(value=0, max=175), HTML(value='')))"
      ]
     },
     "metadata": {},
     "output_type": "display_data"
    },
    {
     "name": "stdout",
     "output_type": "stream",
     "text": [
      "  Epoch  19 : loss = 553.65028954 | training error = 1.7651917026431336 | validation error = 2.155492190972304\n"
     ]
    },
    {
     "data": {
      "application/vnd.jupyter.widget-view+json": {
       "model_id": "08c547678dc7472fbec011770af1df23",
       "version_major": 2,
       "version_minor": 0
      },
      "text/plain": [
       "HBox(children=(IntProgress(value=0, max=175), HTML(value='')))"
      ]
     },
     "metadata": {},
     "output_type": "display_data"
    },
    {
     "name": "stdout",
     "output_type": "stream",
     "text": [
      "  Epoch  20 : loss = 535.37724334 | training error = 1.7363964473895275 | validation error = 2.133425017672459\n",
      "==============================\n",
      "\n"
     ]
    }
   ],
   "source": [
    "batch_sizes = [ 2**n for n in range(7,14,2) ]\n",
    "\n",
    "batch_results = []\n",
    "for b_size in tqdm_notebook(batch_sizes):\n",
    "    print(\"BATCH SIZE\", b_size)\n",
    "    print(\"-\"*15)\n",
    "    model = Dot_Embedding(nb_users)\n",
    "    batch_results.append(train_model(model, nb_epochs=20, mini_batch_size=b_size))\n",
    "    with open(\"../models/user_dot_batch_size_\"+str(b_size)+\".m\", \"wb\") as f:\n",
    "        torch.save(model, f)\n",
    "    print(\"=\"*30)"
   ]
  },
  {
   "cell_type": "code",
   "execution_count": 50,
   "metadata": {
    "collapsed": true,
    "jupyter": {
     "outputs_hidden": true
    }
   },
   "outputs": [],
   "source": [
    "with open(\"../results/user_dot_bsize_results.pkl\", \"wb\") as f:\n",
    "    pickle.dump(batch_results,f)"
   ]
  },
  {
   "cell_type": "code",
   "execution_count": 85,
   "metadata": {
    "scrolled": true
   },
   "outputs": [
    {
     "data": {
      "image/png": "[encoded data removed]",
      "text/plain": [
       "<matplotlib.figure.Figure at 0x1a390dd30>"
      ]
     },
     "metadata": {},
     "output_type": "display_data"
    }
   ],
   "source": [
    "fig, ax = plt.subplots(len(batch_sizes),1,figsize=(5,20))\n",
    "i=0\n",
    "for res,bs in zip(batch_results,batch_sizes):\n",
    "    ax[i].plot(range(len(res[0])),res[0])\n",
    "    ax[i].set_ylabel(\"Test error\")\n",
    "    ax[i].set_xticks([0] + list(range(4,len(res[0])+1,5)))\n",
    "    ax[i].set_xticklabels([1] + list(range(5,len(res[0])+1,5)))\n",
    "    ax[i].set_title(\"Batch size \"+str(bs))\n",
    "    i+=1\n",
    "plt.xlabel(\"Nb of epochs\")\n",
    "plt.tight_layout()\n",
    "plt.savefig(\"../figures/user_dot_bsize_results.pdf\")\n",
    "plt.show()"
   ]
  },
  {
   "cell_type": "markdown",
   "metadata": {},
   "source": [
    "## Learning rate"
   ]
  },
  {
   "cell_type": "code",
   "execution_count": 36,
   "metadata": {
    "scrolled": true
   },
   "outputs": [
    {
     "data": {
      "application/vnd.jupyter.widget-view+json": {
       "model_id": "1f56c64bbf3c46f5a3dd0809317e8f09",
       "version_major": 2,
       "version_minor": 0
      },
      "text/plain": [
       "HBox(children=(IntProgress(value=0, max=4), HTML(value='')))"
      ]
     },
     "metadata": {},
     "output_type": "display_data"
    },
    {
     "name": "stdout",
     "output_type": "stream",
     "text": [
      "LEARNING RATE 0.75\n",
      "---------------\n"
     ]
    },
    {
     "data": {
      "application/vnd.jupyter.widget-view+json": {
       "model_id": "220fdd1af69244ec994212a867b3740a",
       "version_major": 2,
       "version_minor": 0
      },
      "text/plain": [
       "HBox(children=(IntProgress(value=0, max=25), HTML(value='')))"
      ]
     },
     "metadata": {},
     "output_type": "display_data"
    },
    {
     "data": {
      "application/vnd.jupyter.widget-view+json": {
       "model_id": "1ae76517458149e489cc891a1f46f2ca",
       "version_major": 2,
       "version_minor": 0
      },
      "text/plain": [
       "HBox(children=(IntProgress(value=0, max=2786), HTML(value='')))"
      ]
     },
     "metadata": {},
     "output_type": "display_data"
    },
    {
     "name": "stdout",
     "output_type": "stream",
     "text": [
      "\n",
      "  Epoch   1 : loss = 15537.16185927 | training error = 1.856255456194613 | validation error = 2.2247203506800948\n"
     ]
    },
    {
     "data": {
      "application/vnd.jupyter.widget-view+json": {
       "model_id": "0ec28108870b4879b60369338e2eb2fc",
       "version_major": 2,
       "version_minor": 0
      },
      "text/plain": [
       "HBox(children=(IntProgress(value=0, max=2786), HTML(value='')))"
      ]
     },
     "metadata": {},
     "output_type": "display_data"
    },
    {
     "name": "stdout",
     "output_type": "stream",
     "text": [
      "  Epoch   2 : loss = 7772.72338170 | training error = 1.4689097204443633 | validation error = 1.919883568486297\n"
     ]
    },
    {
     "data": {
      "application/vnd.jupyter.widget-view+json": {
       "model_id": "e2b76e1489534062905a8fae33cf1287",
       "version_major": 2,
       "version_minor": 0
      },
      "text/plain": [
       "HBox(children=(IntProgress(value=0, max=2786), HTML(value='')))"
      ]
     },
     "metadata": {},
     "output_type": "display_data"
    },
    {
     "name": "stdout",
     "output_type": "stream",
     "text": [
      "  Epoch   3 : loss = 5265.61180758 | training error = 1.2546790796549416 | validation error = 1.7364873081013066\n"
     ]
    },
    {
     "data": {
      "application/vnd.jupyter.widget-view+json": {
       "model_id": "77fc5a1db6b7411ca9a859c37c97cc17",
       "version_major": 2,
       "version_minor": 0
      },
      "text/plain": [
       "HBox(children=(IntProgress(value=0, max=2786), HTML(value='')))"
      ]
     },
     "metadata": {},
     "output_type": "display_data"
    },
    {
     "name": "stdout",
     "output_type": "stream",
     "text": [
      "  Epoch   4 : loss = 3989.39109591 | training error = 1.1128776036426677 | validation error = 1.6092863210008843\n"
     ]
    },
    {
     "data": {
      "application/vnd.jupyter.widget-view+json": {
       "model_id": "ad98c79805194cca9789788e6fd5109b",
       "version_major": 2,
       "version_minor": 0
      },
      "text/plain": [
       "HBox(children=(IntProgress(value=0, max=2786), HTML(value='')))"
      ]
     },
     "metadata": {},
     "output_type": "display_data"
    },
    {
     "name": "stdout",
     "output_type": "stream",
     "text": [
      "  Epoch   5 : loss = 3208.73349316 | training error = 1.009648248476514 | validation error = 1.5140198620791125\n"
     ]
    },
    {
     "data": {
      "application/vnd.jupyter.widget-view+json": {
       "model_id": "db0e327ddbb74d838d79c65ab5ce69ed",
       "version_major": 2,
       "version_minor": 0
      },
      "text/plain": [
       "HBox(children=(IntProgress(value=0, max=2786), HTML(value='')))"
      ]
     },
     "metadata": {},
     "output_type": "display_data"
    },
    {
     "name": "stdout",
     "output_type": "stream",
     "text": [
      "  Epoch   6 : loss = 2679.73742276 | training error = 0.929961090393771 | validation error = 1.439124448873627\n"
     ]
    },
    {
     "data": {
      "application/vnd.jupyter.widget-view+json": {
       "model_id": "d0b34ff07644471d903e4dfab82cb930",
       "version_major": 2,
       "version_minor": 0
      },
      "text/plain": [
       "HBox(children=(IntProgress(value=0, max=2786), HTML(value='')))"
      ]
     },
     "metadata": {},
     "output_type": "display_data"
    },
    {
     "name": "stdout",
     "output_type": "stream",
     "text": [
      "  Epoch   7 : loss = 2296.99533615 | training error = 0.8659607823080828 | validation error = 1.378233771754731\n"
     ]
    },
    {
     "data": {
      "application/vnd.jupyter.widget-view+json": {
       "model_id": "3214f15292f54d10b6d54c0ce41344de",
       "version_major": 2,
       "version_minor": 0
      },
      "text/plain": [
       "HBox(children=(IntProgress(value=0, max=2786), HTML(value='')))"
      ]
     },
     "metadata": {},
     "output_type": "display_data"
    },
    {
     "name": "stdout",
     "output_type": "stream",
     "text": [
      "  Epoch   8 : loss = 2007.13437691 | training error = 0.8130716891798373 | validation error = 1.3274922364708477\n"
     ]
    },
    {
     "data": {
      "application/vnd.jupyter.widget-view+json": {
       "model_id": "90d157381d0a4ce1b77e2cbec6848c85",
       "version_major": 2,
       "version_minor": 0
      },
      "text/plain": [
       "HBox(children=(IntProgress(value=0, max=2786), HTML(value='')))"
      ]
     },
     "metadata": {},
     "output_type": "display_data"
    },
    {
     "name": "stdout",
     "output_type": "stream",
     "text": [
      "  Epoch   9 : loss = 1780.09103972 | training error = 0.7684144944715271 | validation error = 1.2844001006753778\n"
     ]
    },
    {
     "data": {
      "application/vnd.jupyter.widget-view+json": {
       "model_id": "36d44be529d74a15a517f713e8047571",
       "version_major": 2,
       "version_minor": 0
      },
      "text/plain": [
       "HBox(children=(IntProgress(value=0, max=2786), HTML(value='')))"
      ]
     },
     "metadata": {},
     "output_type": "display_data"
    },
    {
     "name": "stdout",
     "output_type": "stream",
     "text": [
      "  Epoch  10 : loss = 1597.57866010 | training error = 0.730069404981543 | validation error = 1.247251245797498\n"
     ]
    },
    {
     "data": {
      "application/vnd.jupyter.widget-view+json": {
       "model_id": "8464ff72bb88408e92c1c3d21e9419e1",
       "version_major": 2,
       "version_minor": 0
      },
      "text/plain": [
       "HBox(children=(IntProgress(value=0, max=2786), HTML(value='')))"
      ]
     },
     "metadata": {},
     "output_type": "display_data"
    },
    {
     "name": "stdout",
     "output_type": "stream",
     "text": [
      "  Epoch  11 : loss = 1447.80784879 | training error = 0.6966975216769344 | validation error = 1.2148334283380189\n"
     ]
    },
    {
     "data": {
      "application/vnd.jupyter.widget-view+json": {
       "model_id": "844b2d2b57b445ee86d4d3b7b63e405a",
       "version_major": 2,
       "version_minor": 0
      },
      "text/plain": [
       "HBox(children=(IntProgress(value=0, max=2786), HTML(value='')))"
      ]
     },
     "metadata": {},
     "output_type": "display_data"
    },
    {
     "name": "stdout",
     "output_type": "stream",
     "text": [
      "  Epoch  12 : loss = 1322.82321934 | training error = 0.6673308787894661 | validation error = 1.1862569673193994\n"
     ]
    },
    {
     "data": {
      "application/vnd.jupyter.widget-view+json": {
       "model_id": "92cc3ea8f31c4d56a20986e8f3d1b996",
       "version_major": 2,
       "version_minor": 0
      },
      "text/plain": [
       "HBox(children=(IntProgress(value=0, max=2786), HTML(value='')))"
      ]
     },
     "metadata": {},
     "output_type": "display_data"
    },
    {
     "name": "stdout",
     "output_type": "stream",
     "text": [
      "  Epoch  13 : loss = 1217.05551523 | training error = 0.6412487841336347 | validation error = 1.160851262243643\n"
     ]
    },
    {
     "data": {
      "application/vnd.jupyter.widget-view+json": {
       "model_id": "9c8ccd56e1f445afae19bd1eb8e91833",
       "version_major": 2,
       "version_minor": 0
      },
      "text/plain": [
       "HBox(children=(IntProgress(value=0, max=2786), HTML(value='')))"
      ]
     },
     "metadata": {},
     "output_type": "display_data"
    },
    {
     "name": "stdout",
     "output_type": "stream",
     "text": [
      "  Epoch  14 : loss = 1126.48598611 | training error = 0.617901340007065 | validation error = 1.1380994321478608\n"
     ]
    },
    {
     "data": {
      "application/vnd.jupyter.widget-view+json": {
       "model_id": "c75e2af353364f45914fff8558925e73",
       "version_major": 2,
       "version_minor": 0
      },
      "text/plain": [
       "HBox(children=(IntProgress(value=0, max=2786), HTML(value='')))"
      ]
     },
     "metadata": {},
     "output_type": "display_data"
    },
    {
     "name": "stdout",
     "output_type": "stream",
     "text": [
      "  Epoch  15 : loss = 1048.14027165 | training error = 0.5968601853496149 | validation error = 1.1175954361793978\n"
     ]
    },
    {
     "data": {
      "application/vnd.jupyter.widget-view+json": {
       "model_id": "f3fac58d3aa74a0f85dde15852856e2c",
       "version_major": 2,
       "version_minor": 0
      },
      "text/plain": [
       "HBox(children=(IntProgress(value=0, max=2786), HTML(value='')))"
      ]
     },
     "metadata": {},
     "output_type": "display_data"
    },
    {
     "name": "stdout",
     "output_type": "stream",
     "text": [
      "  Epoch  16 : loss = 979.76890867 | training error = 0.5777856648106925 | validation error = 1.0990150576225222\n"
     ]
    },
    {
     "data": {
      "application/vnd.jupyter.widget-view+json": {
       "model_id": "dd40d76cff91486daf0d0236aad20f63",
       "version_major": 2,
       "version_minor": 0
      },
      "text/plain": [
       "HBox(children=(IntProgress(value=0, max=2786), HTML(value='')))"
      ]
     },
     "metadata": {},
     "output_type": "display_data"
    },
    {
     "name": "stdout",
     "output_type": "stream",
     "text": [
      "  Epoch  17 : loss = 919.63888270 | training error = 0.5604043004002691 | validation error = 1.082095713203859\n"
     ]
    },
    {
     "data": {
      "application/vnd.jupyter.widget-view+json": {
       "model_id": "dbade406300b4526a4ecbf901804fbec",
       "version_major": 2,
       "version_minor": 0
      },
      "text/plain": [
       "HBox(children=(IntProgress(value=0, max=2786), HTML(value='')))"
      ]
     },
     "metadata": {},
     "output_type": "display_data"
    },
    {
     "name": "stdout",
     "output_type": "stream",
     "text": [
      "  Epoch  18 : loss = 866.39325673 | training error = 0.5444929332819589 | validation error = 1.0666220708467418\n"
     ]
    },
    {
     "data": {
      "application/vnd.jupyter.widget-view+json": {
       "model_id": "995f84c0fbee45729a8cd7df628deb7b",
       "version_major": 2,
       "version_minor": 0
      },
      "text/plain": [
       "HBox(children=(IntProgress(value=0, max=2786), HTML(value='')))"
      ]
     },
     "metadata": {},
     "output_type": "display_data"
    },
    {
     "name": "stdout",
     "output_type": "stream",
     "text": [
      "  Epoch  19 : loss = 818.95446451 | training error = 0.529867309112009 | validation error = 1.0524155941730449\n"
     ]
    },
    {
     "data": {
      "application/vnd.jupyter.widget-view+json": {
       "model_id": "e1979fa458a7435a9edcf3f5dede75f9",
       "version_major": 2,
       "version_minor": 0
      },
      "text/plain": [
       "HBox(children=(IntProgress(value=0, max=2786), HTML(value='')))"
      ]
     },
     "metadata": {},
     "output_type": "display_data"
    },
    {
     "name": "stdout",
     "output_type": "stream",
     "text": [
      "  Epoch  20 : loss = 776.45597604 | training error = 0.5163737060235998 | validation error = 1.0393268023910465\n"
     ]
    },
    {
     "data": {
      "application/vnd.jupyter.widget-view+json": {
       "model_id": "25875b3edfad40cda961fedaca3daf66",
       "version_major": 2,
       "version_minor": 0
      },
      "text/plain": [
       "HBox(children=(IntProgress(value=0, max=2786), HTML(value='')))"
      ]
     },
     "metadata": {},
     "output_type": "display_data"
    },
    {
     "name": "stdout",
     "output_type": "stream",
     "text": [
      "  Epoch  21 : loss = 738.19316647 | training error = 0.5038826778437887 | validation error = 1.0272294362348178\n"
     ]
    },
    {
     "data": {
      "application/vnd.jupyter.widget-view+json": {
       "model_id": "67c9017e443142409664770c01c3af35",
       "version_major": 2,
       "version_minor": 0
      },
      "text/plain": [
       "HBox(children=(IntProgress(value=0, max=2786), HTML(value='')))"
      ]
     },
     "metadata": {},
     "output_type": "display_data"
    },
    {
     "name": "stdout",
     "output_type": "stream",
     "text": [
      "  Epoch  22 : loss = 703.58730489 | training error = 0.49228431045097915 | validation error = 1.0160160052009377\n"
     ]
    },
    {
     "data": {
      "application/vnd.jupyter.widget-view+json": {
       "model_id": "9cddafc91bf64114896781f01c2bf269",
       "version_major": 2,
       "version_minor": 0
      },
      "text/plain": [
       "HBox(children=(IntProgress(value=0, max=2786), HTML(value='')))"
      ]
     },
     "metadata": {},
     "output_type": "display_data"
    },
    {
     "name": "stdout",
     "output_type": "stream",
     "text": [
      "  Epoch  23 : loss = 672.15874230 | training error = 0.4814845745021608 | validation error = 1.00559434428497\n"
     ]
    },
    {
     "data": {
      "application/vnd.jupyter.widget-view+json": {
       "model_id": "a8868e31fc434de1af5702ef32f1c234",
       "version_major": 2,
       "version_minor": 0
      },
      "text/plain": [
       "HBox(children=(IntProgress(value=0, max=2786), HTML(value='')))"
      ]
     },
     "metadata": {},
     "output_type": "display_data"
    },
    {
     "name": "stdout",
     "output_type": "stream",
     "text": [
      "  Epoch  24 : loss = 643.50672961 | training error = 0.4714024805212944 | validation error = 0.9958849104204944\n"
     ]
    },
    {
     "data": {
      "application/vnd.jupyter.widget-view+json": {
       "model_id": "ac5738af46534644add20cf850014759",
       "version_major": 2,
       "version_minor": 0
      },
      "text/plain": [
       "HBox(children=(IntProgress(value=0, max=2786), HTML(value='')))"
      ]
     },
     "metadata": {},
     "output_type": "display_data"
    },
    {
     "name": "stdout",
     "output_type": "stream",
     "text": [
      "  Epoch  25 : loss = 617.29386123 | training error = 0.46196784134157615 | validation error = 0.986818647175015"
     ]
    },
    {
     "name": "stderr",
     "output_type": "stream",
     "text": [
      "/usr/local/Cellar/python3/3.6.3/Frameworks/Python.framework/Versions/3.6/lib/python3.6/site-packages/torch/serialization.py:159: UserWarning: Couldn't retrieve source code for container of type Dot_Embedding. It won't be checked for correctness upon loading.\n",
      "  \"type \" + obj.__name__ + \". It won't be checked \"\n"
     ]
    },
    {
     "name": "stdout",
     "output_type": "stream",
     "text": [
      "\n",
      "==============================\n",
      "LEARNING RATE 0.5\n",
      "---------------\n"
     ]
    },
    {
     "data": {
      "application/vnd.jupyter.widget-view+json": {
       "model_id": "590629e939b24cd680fbcb1fbe0c1e65",
       "version_major": 2,
       "version_minor": 0
      },
      "text/plain": [
       "HBox(children=(IntProgress(value=0, max=25), HTML(value='')))"
      ]
     },
     "metadata": {},
     "output_type": "display_data"
    },
    {
     "data": {
      "application/vnd.jupyter.widget-view+json": {
       "model_id": "f88f352d147243a9a7c87fcee4c2d8d0",
       "version_major": 2,
       "version_minor": 0
      },
      "text/plain": [
       "HBox(children=(IntProgress(value=0, max=2786), HTML(value='')))"
      ]
     },
     "metadata": {},
     "output_type": "display_data"
    },
    {
     "name": "stdout",
     "output_type": "stream",
     "text": [
      "  Epoch   1 : loss = 17423.48252249 | training error = 2.08265042088632 | validation error = 2.385576936532379\n"
     ]
    },
    {
     "data": {
      "application/vnd.jupyter.widget-view+json": {
       "model_id": "6d738eef542e4a7fa2dba55dce67ba3f",
       "version_major": 2,
       "version_minor": 0
      },
      "text/plain": [
       "HBox(children=(IntProgress(value=0, max=2786), HTML(value='')))"
      ]
     },
     "metadata": {},
     "output_type": "display_data"
    },
    {
     "name": "stdout",
     "output_type": "stream",
     "text": [
      "  Epoch   2 : loss = 10011.02947307 | training error = 1.6992618113169293 | validation error = 2.1025398424090143\n"
     ]
    },
    {
     "data": {
      "application/vnd.jupyter.widget-view+json": {
       "model_id": "fcaf3271d8f8411691b1114dcdb664db",
       "version_major": 2,
       "version_minor": 0
      },
      "text/plain": [
       "HBox(children=(IntProgress(value=0, max=2786), HTML(value='')))"
      ]
     },
     "metadata": {},
     "output_type": "display_data"
    },
    {
     "name": "stdout",
     "output_type": "stream",
     "text": [
      "  Epoch   3 : loss = 7093.36733836 | training error = 1.4730899408093643 | validation error = 1.9210921485791286\n"
     ]
    },
    {
     "data": {
      "application/vnd.jupyter.widget-view+json": {
       "model_id": "3443e662237a48bd88caa54bfad9f3d5",
       "version_major": 2,
       "version_minor": 0
      },
      "text/plain": [
       "HBox(children=(IntProgress(value=0, max=2786), HTML(value='')))"
      ]
     },
     "metadata": {},
     "output_type": "display_data"
    },
    {
     "name": "stdout",
     "output_type": "stream",
     "text": [
      "  Epoch   4 : loss = 5507.48052561 | training error = 1.3189647262002324 | validation error = 1.7906323048805017\n"
     ]
    },
    {
     "data": {
      "application/vnd.jupyter.widget-view+json": {
       "model_id": "dc51356f8ca94718a7d99e0bb9e56910",
       "version_major": 2,
       "version_minor": 0
      },
      "text/plain": [
       "HBox(children=(IntProgress(value=0, max=2786), HTML(value='')))"
      ]
     },
     "metadata": {},
     "output_type": "display_data"
    },
    {
     "name": "stdout",
     "output_type": "stream",
     "text": [
      "  Epoch   5 : loss = 4504.21877819 | training error = 1.2048884434659932 | validation error = 1.6904589695916195\n"
     ]
    },
    {
     "data": {
      "application/vnd.jupyter.widget-view+json": {
       "model_id": "052f8fcff08545d680e74f6915b96053",
       "version_major": 2,
       "version_minor": 0
      },
      "text/plain": [
       "HBox(children=(IntProgress(value=0, max=2786), HTML(value='')))"
      ]
     },
     "metadata": {},
     "output_type": "display_data"
    },
    {
     "name": "stdout",
     "output_type": "stream",
     "text": [
      "  Epoch   6 : loss = 3809.52196249 | training error = 1.1158208986221372 | validation error = 1.6101745387504984\n"
     ]
    },
    {
     "data": {
      "application/vnd.jupyter.widget-view+json": {
       "model_id": "2c6b77046ff54009966cdbc3a39079f2",
       "version_major": 2,
       "version_minor": 0
      },
      "text/plain": [
       "HBox(children=(IntProgress(value=0, max=2786), HTML(value='')))"
      ]
     },
     "metadata": {},
     "output_type": "display_data"
    },
    {
     "name": "stdout",
     "output_type": "stream",
     "text": [
      "  Epoch   7 : loss = 3298.73239361 | training error = 1.0436440543180168 | validation error = 1.543856481553289\n"
     ]
    },
    {
     "data": {
      "application/vnd.jupyter.widget-view+json": {
       "model_id": "8fc7f7a8c077455db14b4a59a5ea6618",
       "version_major": 2,
       "version_minor": 0
      },
      "text/plain": [
       "HBox(children=(IntProgress(value=0, max=2786), HTML(value='')))"
      ]
     },
     "metadata": {},
     "output_type": "display_data"
    },
    {
     "name": "stdout",
     "output_type": "stream",
     "text": [
      "  Epoch   8 : loss = 2906.77274497 | training error = 0.9835367153026228 | validation error = 1.48782883072525\n"
     ]
    },
    {
     "data": {
      "application/vnd.jupyter.widget-view+json": {
       "model_id": "3ee9fb8c48304b118b51bf9eab970bc0",
       "version_major": 2,
       "version_minor": 0
      },
      "text/plain": [
       "HBox(children=(IntProgress(value=0, max=2786), HTML(value='')))"
      ]
     },
     "metadata": {},
     "output_type": "display_data"
    },
    {
     "name": "stdout",
     "output_type": "stream",
     "text": [
      "  Epoch   9 : loss = 2596.23846760 | training error = 0.9324272819020957 | validation error = 1.4396628185039113\n"
     ]
    },
    {
     "data": {
      "application/vnd.jupyter.widget-view+json": {
       "model_id": "fa588a2086fe458abad837ed648a4e32",
       "version_major": 2,
       "version_minor": 0
      },
      "text/plain": [
       "HBox(children=(IntProgress(value=0, max=2786), HTML(value='')))"
      ]
     },
     "metadata": {},
     "output_type": "display_data"
    },
    {
     "name": "stdout",
     "output_type": "stream",
     "text": [
      "  Epoch  10 : loss = 2344.04495642 | training error = 0.8882506994645113 | validation error = 1.3976754461330234\n"
     ]
    },
    {
     "data": {
      "application/vnd.jupyter.widget-view+json": {
       "model_id": "9adc0779523047499ee46c243d3b4c6a",
       "version_major": 2,
       "version_minor": 0
      },
      "text/plain": [
       "HBox(children=(IntProgress(value=0, max=2786), HTML(value='')))"
      ]
     },
     "metadata": {},
     "output_type": "display_data"
    },
    {
     "name": "stdout",
     "output_type": "stream",
     "text": [
      "  Epoch  11 : loss = 2135.14200113 | training error = 0.8495584101530098 | validation error = 1.3606558520486918\n"
     ]
    },
    {
     "data": {
      "application/vnd.jupyter.widget-view+json": {
       "model_id": "6b3d67536b204de3b0b8e4642526f25b",
       "version_major": 2,
       "version_minor": 0
      },
      "text/plain": [
       "HBox(children=(IntProgress(value=0, max=2786), HTML(value='')))"
      ]
     },
     "metadata": {},
     "output_type": "display_data"
    },
    {
     "name": "stdout",
     "output_type": "stream",
     "text": [
      "  Epoch  12 : loss = 1959.28146038 | training error = 0.8152988118963658 | validation error = 1.327705955091661\n"
     ]
    },
    {
     "data": {
      "application/vnd.jupyter.widget-view+json": {
       "model_id": "4147181a70454abe8f21023484c1cbb2",
       "version_major": 2,
       "version_minor": 0
      },
      "text/plain": [
       "HBox(children=(IntProgress(value=0, max=2786), HTML(value='')))"
      ]
     },
     "metadata": {},
     "output_type": "display_data"
    },
    {
     "name": "stdout",
     "output_type": "stream",
     "text": [
      "  Epoch  13 : loss = 1809.23337725 | training error = 0.784686544603731 | validation error = 1.2981426827383316\n"
     ]
    },
    {
     "data": {
      "application/vnd.jupyter.widget-view+json": {
       "model_id": "6d4af8fa9a994774ad141cdd667b9ffd",
       "version_major": 2,
       "version_minor": 0
      },
      "text/plain": [
       "HBox(children=(IntProgress(value=0, max=2786), HTML(value='')))"
      ]
     },
     "metadata": {},
     "output_type": "display_data"
    },
    {
     "name": "stdout",
     "output_type": "stream",
     "text": [
      "  Epoch  14 : loss = 1679.74551618 | training error = 0.7571209779476956 | validation error = 1.2714353646298324\n"
     ]
    },
    {
     "data": {
      "application/vnd.jupyter.widget-view+json": {
       "model_id": "9e872c9529484fc2a6aab1f2be6ee8be",
       "version_major": 2,
       "version_minor": 0
      },
      "text/plain": [
       "HBox(children=(IntProgress(value=0, max=2786), HTML(value='')))"
      ]
     },
     "metadata": {},
     "output_type": "display_data"
    },
    {
     "name": "stdout",
     "output_type": "stream",
     "text": [
      "  Epoch  15 : loss = 1566.90668045 | training error = 0.7321333771126884 | validation error = 1.247164195061024\n"
     ]
    },
    {
     "data": {
      "application/vnd.jupyter.widget-view+json": {
       "model_id": "128f886473f6446a8548567b54f6e035",
       "version_major": 2,
       "version_minor": 0
      },
      "text/plain": [
       "HBox(children=(IntProgress(value=0, max=2786), HTML(value='')))"
      ]
     },
     "metadata": {},
     "output_type": "display_data"
    },
    {
     "name": "stdout",
     "output_type": "stream",
     "text": [
      "  Epoch  16 : loss = 1467.74227374 | training error = 0.709351515014994 | validation error = 1.2249918377405102\n"
     ]
    },
    {
     "data": {
      "application/vnd.jupyter.widget-view+json": {
       "model_id": "9b702658d6454aef9625afa0f195eac6",
       "version_major": 2,
       "version_minor": 0
      },
      "text/plain": [
       "HBox(children=(IntProgress(value=0, max=2786), HTML(value='')))"
      ]
     },
     "metadata": {},
     "output_type": "display_data"
    },
    {
     "name": "stdout",
     "output_type": "stream",
     "text": [
      "  Epoch  17 : loss = 1379.94835149 | training error = 0.688475287087621 | validation error = 1.2046434928186727\n"
     ]
    },
    {
     "data": {
      "application/vnd.jupyter.widget-view+json": {
       "model_id": "ce99f887fb8a4927b69b1a960f69a94d",
       "version_major": 2,
       "version_minor": 0
      },
      "text/plain": [
       "HBox(children=(IntProgress(value=0, max=2786), HTML(value='')))"
      ]
     },
     "metadata": {},
     "output_type": "display_data"
    },
    {
     "name": "stdout",
     "output_type": "stream",
     "text": [
      "  Epoch  18 : loss = 1301.71176401 | training error = 0.66925950158359 | validation error = 1.1858925887315894\n"
     ]
    },
    {
     "data": {
      "application/vnd.jupyter.widget-view+json": {
       "model_id": "8408c0447a504d17909bb60ba541b625",
       "version_major": 2,
       "version_minor": 0
      },
      "text/plain": [
       "HBox(children=(IntProgress(value=0, max=2786), HTML(value='')))"
      ]
     },
     "metadata": {},
     "output_type": "display_data"
    },
    {
     "name": "stdout",
     "output_type": "stream",
     "text": [
      "  Epoch  19 : loss = 1231.58556238 | training error = 0.651501458930118 | validation error = 1.168550321827828\n"
     ]
    },
    {
     "data": {
      "application/vnd.jupyter.widget-view+json": {
       "model_id": "b8d6c8fc03cd41a98f252a381c65ce8f",
       "version_major": 2,
       "version_minor": 0
      },
      "text/plain": [
       "HBox(children=(IntProgress(value=0, max=2786), HTML(value='')))"
      ]
     },
     "metadata": {},
     "output_type": "display_data"
    },
    {
     "name": "stdout",
     "output_type": "stream",
     "text": [
      "  Epoch  20 : loss = 1168.40044977 | training error = 0.6350318238805216 | validation error = 1.152457840893853\n"
     ]
    },
    {
     "data": {
      "application/vnd.jupyter.widget-view+json": {
       "model_id": "58ba61f8dd1a453e9a0f6b9e47ebd751",
       "version_major": 2,
       "version_minor": 0
      },
      "text/plain": [
       "HBox(children=(IntProgress(value=0, max=2786), HTML(value='')))"
      ]
     },
     "metadata": {},
     "output_type": "display_data"
    },
    {
     "name": "stdout",
     "output_type": "stream",
     "text": [
      "  Epoch  21 : loss = 1111.20115806 | training error = 0.6197078005670639 | validation error = 1.1374803570041128\n"
     ]
    },
    {
     "data": {
      "application/vnd.jupyter.widget-view+json": {
       "model_id": "bd0d2bb2c1ba4920a9ba8de38b7d9042",
       "version_major": 2,
       "version_minor": 0
      },
      "text/plain": [
       "HBox(children=(IntProgress(value=0, max=2786), HTML(value='')))"
      ]
     },
     "metadata": {},
     "output_type": "display_data"
    },
    {
     "name": "stdout",
     "output_type": "stream",
     "text": [
      "  Epoch  22 : loss = 1059.19932206 | training error = 0.605407950185086 | validation error = 1.1235025988181015\n"
     ]
    },
    {
     "data": {
      "application/vnd.jupyter.widget-view+json": {
       "model_id": "a24dd037c3e24c2a812cbf191b6fd928",
       "version_major": 2,
       "version_minor": 0
      },
      "text/plain": [
       "HBox(children=(IntProgress(value=0, max=2786), HTML(value='')))"
      ]
     },
     "metadata": {},
     "output_type": "display_data"
    },
    {
     "name": "stdout",
     "output_type": "stream",
     "text": [
      "  Epoch  23 : loss = 1011.73848733 | training error = 0.5920282060667938 | validation error = 1.1104252992493895\n"
     ]
    },
    {
     "data": {
      "application/vnd.jupyter.widget-view+json": {
       "model_id": "5eb39907922d4aeab04facf63ead4fba",
       "version_major": 2,
       "version_minor": 0
      },
      "text/plain": [
       "HBox(children=(IntProgress(value=0, max=2786), HTML(value='')))"
      ]
     },
     "metadata": {},
     "output_type": "display_data"
    },
    {
     "name": "stdout",
     "output_type": "stream",
     "text": [
      "  Epoch  24 : loss = 968.26760834 | training error = 0.5794787659254299 | validation error = 1.098162419704162\n"
     ]
    },
    {
     "data": {
      "application/vnd.jupyter.widget-view+json": {
       "model_id": "0d74a69c3c0449648193da47e89a8054",
       "version_major": 2,
       "version_minor": 0
      },
      "text/plain": [
       "HBox(children=(IntProgress(value=0, max=2786), HTML(value='')))"
      ]
     },
     "metadata": {},
     "output_type": "display_data"
    },
    {
     "name": "stdout",
     "output_type": "stream",
     "text": [
      "  Epoch  25 : loss = 928.32058968 | training error = 0.5676816437701288 | validation error = 1.0866389537253387\n",
      "==============================\n",
      "LEARNING RATE 0.25\n",
      "---------------\n"
     ]
    },
    {
     "data": {
      "application/vnd.jupyter.widget-view+json": {
       "model_id": "096c3c2a61d94c1691f51678262c0a04",
       "version_major": 2,
       "version_minor": 0
      },
      "text/plain": [
       "HBox(children=(IntProgress(value=0, max=25), HTML(value='')))"
      ]
     },
     "metadata": {},
     "output_type": "display_data"
    },
    {
     "data": {
      "application/vnd.jupyter.widget-view+json": {
       "model_id": "4a637cf8b94e4ae8a81390041654a7db",
       "version_major": 2,
       "version_minor": 0
      },
      "text/plain": [
       "HBox(children=(IntProgress(value=0, max=2786), HTML(value='')))"
      ]
     },
     "metadata": {},
     "output_type": "display_data"
    },
    {
     "name": "stdout",
     "output_type": "stream",
     "text": [
      "  Epoch   1 : loss = 20134.03517723 | training error = 2.410793765651386 | validation error = 2.6110612234972\n"
     ]
    },
    {
     "data": {
      "application/vnd.jupyter.widget-view+json": {
       "model_id": "f6d5ac2a702c469387a739b0df4170a2",
       "version_major": 2,
       "version_minor": 0
      },
      "text/plain": [
       "HBox(children=(IntProgress(value=0, max=2786), HTML(value='')))"
      ]
     },
     "metadata": {},
     "output_type": "display_data"
    },
    {
     "name": "stdout",
     "output_type": "stream",
     "text": [
      "  Epoch   2 : loss = 14096.26126361 | training error = 2.0821962346296745 | validation error = 2.3888200878676975\n"
     ]
    },
    {
     "data": {
      "application/vnd.jupyter.widget-view+json": {
       "model_id": "9d6569a04c7540d7b91e47c12b641f24",
       "version_major": 2,
       "version_minor": 0
      },
      "text/plain": [
       "HBox(children=(IntProgress(value=0, max=2786), HTML(value='')))"
      ]
     },
     "metadata": {},
     "output_type": "display_data"
    },
    {
     "name": "stdout",
     "output_type": "stream",
     "text": [
      "  Epoch   3 : loss = 10890.72784829 | training error = 1.861181739202238 | validation error = 2.2290225125292586\n"
     ]
    },
    {
     "data": {
      "application/vnd.jupyter.widget-view+json": {
       "model_id": "42de450809f943f6ad06fc1ac846dc44",
       "version_major": 2,
       "version_minor": 0
      },
      "text/plain": [
       "HBox(children=(IntProgress(value=0, max=2786), HTML(value='')))"
      ]
     },
     "metadata": {},
     "output_type": "display_data"
    },
    {
     "name": "stdout",
     "output_type": "stream",
     "text": [
      "  Epoch   4 : loss = 8890.25002557 | training error = 1.699331786296631 | validation error = 2.105972641900637\n"
     ]
    },
    {
     "data": {
      "application/vnd.jupyter.widget-view+json": {
       "model_id": "d12c5f97e8384a2b85795228a2cee9f7",
       "version_major": 2,
       "version_minor": 0
      },
      "text/plain": [
       "HBox(children=(IntProgress(value=0, max=2786), HTML(value='')))"
      ]
     },
     "metadata": {},
     "output_type": "display_data"
    },
    {
     "name": "stdout",
     "output_type": "stream",
     "text": [
      "  Epoch   5 : loss = 7519.39995509 | training error = 1.5741163435456513 | validation error = 2.0069335789244205\n"
     ]
    },
    {
     "data": {
      "application/vnd.jupyter.widget-view+json": {
       "model_id": "768dbd545483439c9e680dc6ca9734ec",
       "version_major": 2,
       "version_minor": 0
      },
      "text/plain": [
       "HBox(children=(IntProgress(value=0, max=2786), HTML(value='')))"
      ]
     },
     "metadata": {},
     "output_type": "display_data"
    },
    {
     "name": "stdout",
     "output_type": "stream",
     "text": [
      "  Epoch   6 : loss = 6519.53732118 | training error = 1.473414854246569 | validation error = 1.9247048399683984\n"
     ]
    },
    {
     "data": {
      "application/vnd.jupyter.widget-view+json": {
       "model_id": "a5c5cf273cd04ec7b5fc8b149709ac50",
       "version_major": 2,
       "version_minor": 0
      },
      "text/plain": [
       "HBox(children=(IntProgress(value=0, max=2786), HTML(value='')))"
      ]
     },
     "metadata": {},
     "output_type": "display_data"
    },
    {
     "name": "stdout",
     "output_type": "stream",
     "text": [
      "  Epoch   7 : loss = 5756.82631040 | training error = 1.3900574814329216 | validation error = 1.8548423167425385\n"
     ]
    },
    {
     "data": {
      "application/vnd.jupyter.widget-view+json": {
       "model_id": "861a9c18728d4a8a97f27e4ccf45b3e5",
       "version_major": 2,
       "version_minor": 0
      },
      "text/plain": [
       "HBox(children=(IntProgress(value=0, max=2786), HTML(value='')))"
      ]
     },
     "metadata": {},
     "output_type": "display_data"
    },
    {
     "name": "stdout",
     "output_type": "stream",
     "text": [
      "  Epoch   8 : loss = 5155.02656779 | training error = 1.319502638713577 | validation error = 1.7944226179849678\n"
     ]
    },
    {
     "data": {
      "application/vnd.jupyter.widget-view+json": {
       "model_id": "bab0369d5ab74b0e857e5d4cb7227370",
       "version_major": 2,
       "version_minor": 0
      },
      "text/plain": [
       "HBox(children=(IntProgress(value=0, max=2786), HTML(value='')))"
      ]
     },
     "metadata": {},
     "output_type": "display_data"
    },
    {
     "name": "stdout",
     "output_type": "stream",
     "text": [
      "  Epoch   9 : loss = 4667.51751065 | training error = 1.2587190639860324 | validation error = 1.7414267536029393\n"
     ]
    },
    {
     "data": {
      "application/vnd.jupyter.widget-view+json": {
       "model_id": "8d01fc0b29c142d9911e12abc085d7b9",
       "version_major": 2,
       "version_minor": 0
      },
      "text/plain": [
       "HBox(children=(IntProgress(value=0, max=2786), HTML(value='')))"
      ]
     },
     "metadata": {},
     "output_type": "display_data"
    },
    {
     "name": "stdout",
     "output_type": "stream",
     "text": [
      "  Epoch  10 : loss = 4264.18276934 | training error = 1.2055976174645024 | validation error = 1.6944056072146831\n"
     ]
    },
    {
     "data": {
      "application/vnd.jupyter.widget-view+json": {
       "model_id": "56fd4cf5668b429c9c3ca585f0f3719d",
       "version_major": 2,
       "version_minor": 0
      },
      "text/plain": [
       "HBox(children=(IntProgress(value=0, max=2786), HTML(value='')))"
      ]
     },
     "metadata": {},
     "output_type": "display_data"
    },
    {
     "name": "stdout",
     "output_type": "stream",
     "text": [
      "  Epoch  11 : loss = 3924.69360013 | training error = 1.1586200088816716 | validation error = 1.6522861040224\n"
     ]
    },
    {
     "data": {
      "application/vnd.jupyter.widget-view+json": {
       "model_id": "112d2c78ca6a474cbfd8aa3085cfb9e1",
       "version_major": 2,
       "version_minor": 0
      },
      "text/plain": [
       "HBox(children=(IntProgress(value=0, max=2786), HTML(value='')))"
      ]
     },
     "metadata": {},
     "output_type": "display_data"
    },
    {
     "name": "stdout",
     "output_type": "stream",
     "text": [
      "  Epoch  12 : loss = 3634.82453153 | training error = 1.1166618240006274 | validation error = 1.614252816316243\n"
     ]
    },
    {
     "data": {
      "application/vnd.jupyter.widget-view+json": {
       "model_id": "30b6de58b7f64f27817e5582fbd17a10",
       "version_major": 2,
       "version_minor": 0
      },
      "text/plain": [
       "HBox(children=(IntProgress(value=0, max=2786), HTML(value='')))"
      ]
     },
     "metadata": {},
     "output_type": "display_data"
    },
    {
     "name": "stdout",
     "output_type": "stream",
     "text": [
      "  Epoch  13 : loss = 3384.31699706 | training error = 1.0788700977790955 | validation error = 1.579672514497718\n"
     ]
    },
    {
     "data": {
      "application/vnd.jupyter.widget-view+json": {
       "model_id": "b84ae4f375c2437196696b5cff5becd3",
       "version_major": 2,
       "version_minor": 0
      },
      "text/plain": [
       "HBox(children=(IntProgress(value=0, max=2786), HTML(value='')))"
      ]
     },
     "metadata": {},
     "output_type": "display_data"
    },
    {
     "name": "stdout",
     "output_type": "stream",
     "text": [
      "  Epoch  14 : loss = 3165.58184320 | training error = 1.0445843011743605 | validation error = 1.5480442630913287\n"
     ]
    },
    {
     "data": {
      "application/vnd.jupyter.widget-view+json": {
       "model_id": "6ef24b31a0aa4bbe8e07ff143234fe42",
       "version_major": 2,
       "version_minor": 0
      },
      "text/plain": [
       "HBox(children=(IntProgress(value=0, max=2786), HTML(value='')))"
      ]
     },
     "metadata": {},
     "output_type": "display_data"
    },
    {
     "name": "stdout",
     "output_type": "stream",
     "text": [
      "  Epoch  15 : loss = 2972.88041145 | training error = 1.0132837101130168 | validation error = 1.518965410209795\n"
     ]
    },
    {
     "data": {
      "application/vnd.jupyter.widget-view+json": {
       "model_id": "677cf9ae22c54b8fb12c98b79d1b0648",
       "version_major": 2,
       "version_minor": 0
      },
      "text/plain": [
       "HBox(children=(IntProgress(value=0, max=2786), HTML(value='')))"
      ]
     },
     "metadata": {},
     "output_type": "display_data"
    },
    {
     "name": "stdout",
     "output_type": "stream",
     "text": [
      "  Epoch  16 : loss = 2801.79029640 | training error = 0.9845513551827524 | validation error = 1.4921077843884516\n"
     ]
    },
    {
     "data": {
      "application/vnd.jupyter.widget-view+json": {
       "model_id": "5b5a1b2c159e44098b50757111f2a668",
       "version_major": 2,
       "version_minor": 0
      },
      "text/plain": [
       "HBox(children=(IntProgress(value=0, max=2786), HTML(value='')))"
      ]
     },
     "metadata": {},
     "output_type": "display_data"
    },
    {
     "name": "stdout",
     "output_type": "stream",
     "text": [
      "  Epoch  17 : loss = 2648.84632186 | training error = 0.9580487230835044 | validation error = 1.467200632069749\n"
     ]
    },
    {
     "data": {
      "application/vnd.jupyter.widget-view+json": {
       "model_id": "7499e5d9f9c546209e362765a5eb1302",
       "version_major": 2,
       "version_minor": 0
      },
      "text/plain": [
       "HBox(children=(IntProgress(value=0, max=2786), HTML(value='')))"
      ]
     },
     "metadata": {},
     "output_type": "display_data"
    },
    {
     "name": "stdout",
     "output_type": "stream",
     "text": [
      "  Epoch  18 : loss = 2511.29343492 | training error = 0.9334976267781157 | validation error = 1.4440181462121042\n"
     ]
    },
    {
     "data": {
      "application/vnd.jupyter.widget-view+json": {
       "model_id": "ef468fcf48284ac786921df0aa4f1a9d",
       "version_major": 2,
       "version_minor": 0
      },
      "text/plain": [
       "HBox(children=(IntProgress(value=0, max=2786), HTML(value='')))"
      ]
     },
     "metadata": {},
     "output_type": "display_data"
    },
    {
     "name": "stdout",
     "output_type": "stream",
     "text": [
      "  Epoch  19 : loss = 2386.91248250 | training error = 0.910666949127747 | validation error = 1.4223701784463347\n"
     ]
    },
    {
     "data": {
      "application/vnd.jupyter.widget-view+json": {
       "model_id": "542a557d98074f08bcc430af7487ec09",
       "version_major": 2,
       "version_minor": 0
      },
      "text/plain": [
       "HBox(children=(IntProgress(value=0, max=2786), HTML(value='')))"
      ]
     },
     "metadata": {},
     "output_type": "display_data"
    },
    {
     "name": "stdout",
     "output_type": "stream",
     "text": [
      "  Epoch  20 : loss = 2273.89518389 | training error = 0.8893627981634351 | validation error = 1.402095228034865\n"
     ]
    },
    {
     "data": {
      "application/vnd.jupyter.widget-view+json": {
       "model_id": "28310ae16b474467b549cc95f3744468",
       "version_major": 2,
       "version_minor": 0
      },
      "text/plain": [
       "HBox(children=(IntProgress(value=0, max=2786), HTML(value='')))"
      ]
     },
     "metadata": {},
     "output_type": "display_data"
    },
    {
     "name": "stdout",
     "output_type": "stream",
     "text": [
      "  Epoch  21 : loss = 2170.75252980 | training error = 0.8694210712230726 | validation error = 1.3830550372129182\n"
     ]
    },
    {
     "data": {
      "application/vnd.jupyter.widget-view+json": {
       "model_id": "0ac2e4a8fa3342a7a4964441ab7502b0",
       "version_major": 2,
       "version_minor": 0
      },
      "text/plain": [
       "HBox(children=(IntProgress(value=0, max=2786), HTML(value='')))"
      ]
     },
     "metadata": {},
     "output_type": "display_data"
    },
    {
     "name": "stdout",
     "output_type": "stream",
     "text": [
      "  Epoch  22 : loss = 2076.24697679 | training error = 0.8507017665021077 | validation error = 1.3651304166189582\n"
     ]
    },
    {
     "data": {
      "application/vnd.jupyter.widget-view+json": {
       "model_id": "1d03efb94a4f4800801c65994c054db5",
       "version_major": 2,
       "version_minor": 0
      },
      "text/plain": [
       "HBox(children=(IntProgress(value=0, max=2786), HTML(value='')))"
      ]
     },
     "metadata": {},
     "output_type": "display_data"
    },
    {
     "name": "stdout",
     "output_type": "stream",
     "text": [
      "  Epoch  23 : loss = 1989.34100688 | training error = 0.8330845731598812 | validation error = 1.348217950088257\n"
     ]
    },
    {
     "data": {
      "application/vnd.jupyter.widget-view+json": {
       "model_id": "1b694e5781944c4cbc45dee5420ed3fb",
       "version_major": 2,
       "version_minor": 0
      },
      "text/plain": [
       "HBox(children=(IntProgress(value=0, max=2786), HTML(value='')))"
      ]
     },
     "metadata": {},
     "output_type": "display_data"
    },
    {
     "name": "stdout",
     "output_type": "stream",
     "text": [
      "  Epoch  24 : loss = 1909.15813247 | training error = 0.8164654135356026 | validation error = 1.3322273660577335\n"
     ]
    },
    {
     "data": {
      "application/vnd.jupyter.widget-view+json": {
       "model_id": "4484ee02ec304c9ab7926558248aaf95",
       "version_major": 2,
       "version_minor": 0
      },
      "text/plain": [
       "HBox(children=(IntProgress(value=0, max=2786), HTML(value='')))"
      ]
     },
     "metadata": {},
     "output_type": "display_data"
    },
    {
     "name": "stdout",
     "output_type": "stream",
     "text": [
      "  Epoch  25 : loss = 1834.95256037 | training error = 0.8007537040729622 | validation error = 1.3170794489933806\n",
      "==============================\n",
      "LEARNING RATE 0.1\n",
      "---------------\n"
     ]
    },
    {
     "data": {
      "application/vnd.jupyter.widget-view+json": {
       "model_id": "0ae9760d82db496da1bc9a14f35a0807",
       "version_major": 2,
       "version_minor": 0
      },
      "text/plain": [
       "HBox(children=(IntProgress(value=0, max=25), HTML(value='')))"
      ]
     },
     "metadata": {},
     "output_type": "display_data"
    },
    {
     "data": {
      "application/vnd.jupyter.widget-view+json": {
       "model_id": "9bec2172317a4d7299b00ab7e5e7bb05",
       "version_major": 2,
       "version_minor": 0
      },
      "text/plain": [
       "HBox(children=(IntProgress(value=0, max=2786), HTML(value='')))"
      ]
     },
     "metadata": {},
     "output_type": "display_data"
    },
    {
     "name": "stdout",
     "output_type": "stream",
     "text": [
      "  Epoch   1 : loss = 22628.22120905 | training error = 2.7100220858289523 | validation error = 2.797012793602513\n"
     ]
    },
    {
     "data": {
      "application/vnd.jupyter.widget-view+json": {
       "model_id": "a20eb475a18443819417b283fd1ed976",
       "version_major": 2,
       "version_minor": 0
      },
      "text/plain": [
       "HBox(children=(IntProgress(value=0, max=2786), HTML(value='')))"
      ]
     },
     "metadata": {},
     "output_type": "display_data"
    },
    {
     "name": "stdout",
     "output_type": "stream",
     "text": [
      "  Epoch   2 : loss = 18953.64414883 | training error = 2.501042998612559 | validation error = 2.666975744369926\n"
     ]
    },
    {
     "data": {
      "application/vnd.jupyter.widget-view+json": {
       "model_id": "adebe54b1d9941ea8f9cfe19f0c519f5",
       "version_major": 2,
       "version_minor": 0
      },
      "text/plain": [
       "HBox(children=(IntProgress(value=0, max=2786), HTML(value='')))"
      ]
     },
     "metadata": {},
     "output_type": "display_data"
    },
    {
     "name": "stdout",
     "output_type": "stream",
     "text": [
      "  Epoch   3 : loss = 16334.04412365 | training error = 2.335221662408305 | validation error = 2.5593939350138033\n"
     ]
    },
    {
     "data": {
      "application/vnd.jupyter.widget-view+json": {
       "model_id": "ea6051bc1897457585918389742ee591",
       "version_major": 2,
       "version_minor": 0
      },
      "text/plain": [
       "HBox(children=(IntProgress(value=0, max=2786), HTML(value='')))"
      ]
     },
     "metadata": {},
     "output_type": "display_data"
    },
    {
     "name": "stdout",
     "output_type": "stream",
     "text": [
      "  Epoch   4 : loss = 14363.26396990 | training error = 2.199228010926722 | validation error = 2.4680235059648683\n"
     ]
    },
    {
     "data": {
      "application/vnd.jupyter.widget-view+json": {
       "model_id": "cb5f546a74ed48319099fcca4a57891f",
       "version_major": 2,
       "version_minor": 0
      },
      "text/plain": [
       "HBox(children=(IntProgress(value=0, max=2786), HTML(value='')))"
      ]
     },
     "metadata": {},
     "output_type": "display_data"
    },
    {
     "name": "stdout",
     "output_type": "stream",
     "text": [
      "  Epoch   5 : loss = 12824.01524806 | training error = 2.0849826349134495 | validation error = 2.388919191854494\n"
     ]
    },
    {
     "data": {
      "application/vnd.jupyter.widget-view+json": {
       "model_id": "db7a54befc0746dd8630761c12794380",
       "version_major": 2,
       "version_minor": 0
      },
      "text/plain": [
       "HBox(children=(IntProgress(value=0, max=2786), HTML(value='')))"
      ]
     },
     "metadata": {},
     "output_type": "display_data"
    },
    {
     "name": "stdout",
     "output_type": "stream",
     "text": [
      "  Epoch   6 : loss = 11587.44764256 | training error = 1.9872089754558404 | validation error = 2.3194069532469483\n"
     ]
    },
    {
     "data": {
      "application/vnd.jupyter.widget-view+json": {
       "model_id": "4d5f431d3c8a49c8b403359c394e1486",
       "version_major": 2,
       "version_minor": 0
      },
      "text/plain": [
       "HBox(children=(IntProgress(value=0, max=2786), HTML(value='')))"
      ]
     },
     "metadata": {},
     "output_type": "display_data"
    },
    {
     "name": "stdout",
     "output_type": "stream",
     "text": [
      "  Epoch   7 : loss = 10571.74678767 | training error = 1.902277008390736 | validation error = 2.2575875067118982\n"
     ]
    },
    {
     "data": {
      "application/vnd.jupyter.widget-view+json": {
       "model_id": "94dc3455427949c0a5ea6f691963ba1a",
       "version_major": 2,
       "version_minor": 0
      },
      "text/plain": [
       "HBox(children=(IntProgress(value=0, max=2786), HTML(value='')))"
      ]
     },
     "metadata": {},
     "output_type": "display_data"
    },
    {
     "name": "stdout",
     "output_type": "stream",
     "text": [
      "  Epoch   8 : loss = 9722.28422570 | training error = 1.827589751712073 | validation error = 2.202063785028068\n"
     ]
    },
    {
     "data": {
      "application/vnd.jupyter.widget-view+json": {
       "model_id": "9d427721ed204a93a09bacdc2799295e",
       "version_major": 2,
       "version_minor": 0
      },
      "text/plain": [
       "HBox(children=(IntProgress(value=0, max=2786), HTML(value='')))"
      ]
     },
     "metadata": {},
     "output_type": "display_data"
    },
    {
     "name": "stdout",
     "output_type": "stream",
     "text": [
      "  Epoch   9 : loss = 9001.12486887 | training error = 1.7612310064876175 | validation error = 2.1517791669677724\n"
     ]
    },
    {
     "data": {
      "application/vnd.jupyter.widget-view+json": {
       "model_id": "8ce57a711616479580db209583c3e25c",
       "version_major": 2,
       "version_minor": 0
      },
      "text/plain": [
       "HBox(children=(IntProgress(value=0, max=2786), HTML(value='')))"
      ]
     },
     "metadata": {},
     "output_type": "display_data"
    },
    {
     "name": "stdout",
     "output_type": "stream",
     "text": [
      "  Epoch  10 : loss = 8381.07819402 | training error = 1.7017508961997891 | validation error = 2.1059160774064694\n"
     ]
    },
    {
     "data": {
      "application/vnd.jupyter.widget-view+json": {
       "model_id": "65c4f51df9254dec82b61abd871ac511",
       "version_major": 2,
       "version_minor": 0
      },
      "text/plain": [
       "HBox(children=(IntProgress(value=0, max=2786), HTML(value='')))"
      ]
     },
     "metadata": {},
     "output_type": "display_data"
    },
    {
     "name": "stdout",
     "output_type": "stream",
     "text": [
      "  Epoch  11 : loss = 7842.13753229 | training error = 1.6480291463021433 | validation error = 2.063829648439557\n"
     ]
    },
    {
     "data": {
      "application/vnd.jupyter.widget-view+json": {
       "model_id": "42018c305851462c860f0c15d0c9a6b6",
       "version_major": 2,
       "version_minor": 0
      },
      "text/plain": [
       "HBox(children=(IntProgress(value=0, max=2786), HTML(value='')))"
      ]
     },
     "metadata": {},
     "output_type": "display_data"
    },
    {
     "name": "stdout",
     "output_type": "stream",
     "text": [
      "  Epoch  12 : loss = 7369.25079262 | training error = 1.599184595227398 | validation error = 2.0250028126242703\n"
     ]
    },
    {
     "data": {
      "application/vnd.jupyter.widget-view+json": {
       "model_id": "341f6e5bc5cb4568962c17fb9cc351f1",
       "version_major": 2,
       "version_minor": 0
      },
      "text/plain": [
       "HBox(children=(IntProgress(value=0, max=2786), HTML(value='')))"
      ]
     },
     "metadata": {},
     "output_type": "display_data"
    },
    {
     "name": "stdout",
     "output_type": "stream",
     "text": [
      "  Epoch  13 : loss = 6950.87642956 | training error = 1.5545134375402847 | validation error = 1.989015039524269\n"
     ]
    },
    {
     "data": {
      "application/vnd.jupyter.widget-view+json": {
       "model_id": "950b50252f9440d5a4caf08dc77a05fd",
       "version_major": 2,
       "version_minor": 0
      },
      "text/plain": [
       "HBox(children=(IntProgress(value=0, max=2786), HTML(value='')))"
      ]
     },
     "metadata": {},
     "output_type": "display_data"
    },
    {
     "name": "stdout",
     "output_type": "stream",
     "text": [
      "  Epoch  14 : loss = 6578.01544690 | training error = 1.513445933143054 | validation error = 1.9555200255289777\n"
     ]
    },
    {
     "data": {
      "application/vnd.jupyter.widget-view+json": {
       "model_id": "6cc5702e08844a29bb330acd70f7f488",
       "version_major": 2,
       "version_minor": 0
      },
      "text/plain": [
       "HBox(children=(IntProgress(value=0, max=2786), HTML(value='')))"
      ]
     },
     "metadata": {},
     "output_type": "display_data"
    },
    {
     "name": "stdout",
     "output_type": "stream",
     "text": [
      "  Epoch  15 : loss = 6243.54944015 | training error = 1.4755153686314453 | validation error = 1.924229419886167\n"
     ]
    },
    {
     "data": {
      "application/vnd.jupyter.widget-view+json": {
       "model_id": "f58446080368459b942f62800778d114",
       "version_major": 2,
       "version_minor": 0
      },
      "text/plain": [
       "HBox(children=(IntProgress(value=0, max=2786), HTML(value='')))"
      ]
     },
     "metadata": {},
     "output_type": "display_data"
    },
    {
     "name": "stdout",
     "output_type": "stream",
     "text": [
      "  Epoch  16 : loss = 5941.77322245 | training error = 1.440335378064627 | validation error = 1.8949007581398047\n"
     ]
    },
    {
     "data": {
      "application/vnd.jupyter.widget-view+json": {
       "model_id": "aa4eb87a0b554b5b95173d60c8f5083d",
       "version_major": 2,
       "version_minor": 0
      },
      "text/plain": [
       "HBox(children=(IntProgress(value=0, max=2786), HTML(value='')))"
      ]
     },
     "metadata": {},
     "output_type": "display_data"
    },
    {
     "name": "stdout",
     "output_type": "stream",
     "text": [
      "  Epoch  17 : loss = 5668.06152371 | training error = 1.4075830586227596 | validation error = 1.8673283485002594\n"
     ]
    },
    {
     "data": {
      "application/vnd.jupyter.widget-view+json": {
       "model_id": "a5b10c057b604c7dbec8d59ad44811d4",
       "version_major": 2,
       "version_minor": 0
      },
      "text/plain": [
       "HBox(children=(IntProgress(value=0, max=2786), HTML(value='')))"
      ]
     },
     "metadata": {},
     "output_type": "display_data"
    },
    {
     "name": "stdout",
     "output_type": "stream",
     "text": [
      "  Epoch  18 : loss = 5418.62490886 | training error = 1.3769862294433948 | validation error = 1.8413362940947176\n"
     ]
    },
    {
     "data": {
      "application/vnd.jupyter.widget-view+json": {
       "model_id": "14c9815ce8254247b2dede32b0175892",
       "version_major": 2,
       "version_minor": 0
      },
      "text/plain": [
       "HBox(children=(IntProgress(value=0, max=2786), HTML(value='')))"
      ]
     },
     "metadata": {},
     "output_type": "display_data"
    },
    {
     "name": "stdout",
     "output_type": "stream",
     "text": [
      "  Epoch  19 : loss = 5190.32934818 | training error = 1.3483136662656698 | validation error = 1.8167730918123361\n"
     ]
    },
    {
     "data": {
      "application/vnd.jupyter.widget-view+json": {
       "model_id": "84f581e58c6c4be0a6ae621cbf6a0fa8",
       "version_major": 2,
       "version_minor": 0
      },
      "text/plain": [
       "HBox(children=(IntProgress(value=0, max=2786), HTML(value='')))"
      ]
     },
     "metadata": {},
     "output_type": "display_data"
    },
    {
     "name": "stdout",
     "output_type": "stream",
     "text": [
      "  Epoch  20 : loss = 4980.56046760 | training error = 1.3213675385234718 | validation error = 1.7935073814963742\n"
     ]
    },
    {
     "data": {
      "application/vnd.jupyter.widget-view+json": {
       "model_id": "faf7f95ebccd4463bbc9609b0d66cff9",
       "version_major": 2,
       "version_minor": 0
      },
      "text/plain": [
       "HBox(children=(IntProgress(value=0, max=2786), HTML(value='')))"
      ]
     },
     "metadata": {},
     "output_type": "display_data"
    },
    {
     "name": "stdout",
     "output_type": "stream",
     "text": [
      "  Epoch  21 : loss = 4787.12024248 | training error = 1.2959774750683912 | validation error = 1.7714245674972293\n"
     ]
    },
    {
     "data": {
      "application/vnd.jupyter.widget-view+json": {
       "model_id": "89c10556d7e24d73b7ba6bf37188b1b7",
       "version_major": 2,
       "version_minor": 0
      },
      "text/plain": [
       "HBox(children=(IntProgress(value=0, max=2786), HTML(value='')))"
      ]
     },
     "metadata": {},
     "output_type": "display_data"
    },
    {
     "name": "stdout",
     "output_type": "stream",
     "text": [
      "  Epoch  22 : loss = 4608.14686084 | training error = 1.2719958641500138 | validation error = 1.7504241364016337\n"
     ]
    },
    {
     "data": {
      "application/vnd.jupyter.widget-view+json": {
       "model_id": "c18a4b6512c644afaff45fecc3eef7eb",
       "version_major": 2,
       "version_minor": 0
      },
      "text/plain": [
       "HBox(children=(IntProgress(value=0, max=2786), HTML(value='')))"
      ]
     },
     "metadata": {},
     "output_type": "display_data"
    },
    {
     "name": "stdout",
     "output_type": "stream",
     "text": [
      "  Epoch  23 : loss = 4442.05317727 | training error = 1.2492940980455407 | validation error = 1.7304174615332935\n"
     ]
    },
    {
     "data": {
      "application/vnd.jupyter.widget-view+json": {
       "model_id": "a325bbc25433446ba25b84dc040d3915",
       "version_major": 2,
       "version_minor": 0
      },
      "text/plain": [
       "HBox(children=(IntProgress(value=0, max=2786), HTML(value='')))"
      ]
     },
     "metadata": {},
     "output_type": "display_data"
    },
    {
     "name": "stdout",
     "output_type": "stream",
     "text": [
      "  Epoch  24 : loss = 4287.47777373 | training error = 1.227759552976264 | validation error = 1.7113260335316731\n"
     ]
    },
    {
     "data": {
      "application/vnd.jupyter.widget-view+json": {
       "model_id": "36b77e20b1d247aaa6c02301c766a5f3",
       "version_major": 2,
       "version_minor": 0
      },
      "text/plain": [
       "HBox(children=(IntProgress(value=0, max=2786), HTML(value='')))"
      ]
     },
     "metadata": {},
     "output_type": "display_data"
    },
    {
     "name": "stdout",
     "output_type": "stream",
     "text": [
      "  Epoch  25 : loss = 4143.24555829 | training error = 1.207293117331319 | validation error = 1.6930799977720166\n",
      "==============================\n",
      "\n"
     ]
    }
   ],
   "source": [
    "learning_rates = [ 0.9, 0.8, 0.75, 0.5, 0.25, 0.1 ]\n",
    "\n",
    "lr_results = []\n",
    "for lr in tqdm_notebook(learning_rates):\n",
    "    print(\"LEARNING RATE\", lr)\n",
    "    print(\"-\"*15)\n",
    "    model = Dot_Embedding(nb_users)\n",
    "    lr_results.append(train_model(model, nb_epochs=25, mini_batch_size=512, learning_rate=lr))\n",
    "    with open(\"../models/user_dot_lr_\"+str(lr)+\".m\", \"wb\") as f:\n",
    "        torch.save(model, f)\n",
    "    print(\"=\"*30)"
   ]
  },
  {
   "cell_type": "code",
   "execution_count": 45,
   "metadata": {
    "collapsed": true,
    "jupyter": {
     "outputs_hidden": true
    }
   },
   "outputs": [],
   "source": [
    "with open(\"../results/user_dot_lr_results.pkl\", \"wb\") as f:\n",
    "    pickle.dump((learning_rates, lr_results),f)"
   ]
  },
  {
   "cell_type": "code",
   "execution_count": 44,
   "metadata": {
    "scrolled": true
   },
   "outputs": [
    {
     "data": {
      "image/png": "[encoded data removed]",
      "text/plain": [
       "<matplotlib.figure.Figure at 0x162a0fa90>"
      ]
     },
     "metadata": {},
     "output_type": "display_data"
    },
    {
     "data": {
      "image/png": "[encoded data removed]",
      "text/plain": [
       "<matplotlib.figure.Figure at 0x1a3783e80>"
      ]
     },
     "metadata": {},
     "output_type": "display_data"
    },
    {
     "data": {
      "image/png": "[encoded data removed]",
      "text/plain": [
       "<matplotlib.figure.Figure at 0x162e8d7f0>"
      ]
     },
     "metadata": {},
     "output_type": "display_data"
    },
    {
     "data": {
      "image/png": "[encoded data removed]",
      "text/plain": [
       "<matplotlib.figure.Figure at 0x162f0c320>"
      ]
     },
     "metadata": {},
     "output_type": "display_data"
    },
    {
     "data": {
      "image/png": "[encoded data removed]",
      "text/plain": [
       "<matplotlib.figure.Figure at 0x18c15c048>"
      ]
     },
     "metadata": {},
     "output_type": "display_data"
    },
    {
     "data": {
      "image/png": "[encoded data removed]",
      "text/plain": [
       "<matplotlib.figure.Figure at 0x18c1d2f28>"
      ]
     },
     "metadata": {},
     "output_type": "display_data"
    }
   ],
   "source": [
    "fig, ax = plt.subplots(len(learning_rates),1,figsize=(5,20))\n",
    "i=0\n",
    "for res,lr in zip(lr_results,learning_rates):\n",
    "    ax[i].plot(range(len(res[0])),res[0])\n",
    "    ax[i].set_ylabel(\"Test error\")\n",
    "    ax[i].set_xticks([0] + list(range(4,len(res[0])+1,5)))\n",
    "    ax[i].set_xticklabels([1] + list(range(5,len(res[0])+1,5)))\n",
    "    ax[i].set_title(\"Learning rate \"+str(lr))\n",
    "    i+=1\n",
    "plt.xlabel(\"Nb of epochs\")\n",
    "plt.tight_layout()\n",
    "plt.savefig(\"../figures/user_dot_lr_results.pdf\")\n",
    "plt.show()"
   ]
  },
  {
   "cell_type": "code",
   "execution_count": null,
   "metadata": {
    "collapsed": true,
    "jupyter": {
     "outputs_hidden": true
    }
   },
   "outputs": [],
   "source": []
  }
 ],
 "metadata": {
  "kernelspec": {
   "display_name": "Python 3 (ipykernel)",
   "language": "python",
   "name": "python3"
  },
  "language_info": {
   "codemirror_mode": {
    "name": "ipython",
    "version": 3
   },
   "file_extension": ".py",
   "mimetype": "text/x-python",
   "name": "python",
   "nbconvert_exporter": "python",
   "pygments_lexer": "ipython3",
   "version": "3.10.5"
  }
 },
 "nbformat": 4,
 "nbformat_minor": 4
}
