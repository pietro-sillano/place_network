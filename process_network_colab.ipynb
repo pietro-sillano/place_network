{
 "cells": [
  {
   "cell_type": "markdown",
   "id": "727679bd-424a-4414-b0a5-98fa1414d29b",
   "metadata": {},
   "source": [
    "# da Runnare su COLAB "
   ]
  },
  {
   "cell_type": "code",
   "execution_count": null,
   "id": "56e3cd22-ab19-4ee7-8fe5-b6a3725901fc",
   "metadata": {},
   "outputs": [],
   "source": [
    "from networkx.algorithms import bipartite\n",
    "import networkx as nx"
   ]
  },
  {
   "cell_type": "code",
   "execution_count": null,
   "id": "aca1e9a2-8e9f-4a47-8d71-81ea2cbfe24d",
   "metadata": {},
   "outputs": [],
   "source": [
    "MIN_TILES = 100"
   ]
  },
  {
   "cell_type": "code",
   "execution_count": null,
   "id": "6299a810-29c2-4ae0-84de-66eefa54b84f",
   "metadata": {},
   "outputs": [],
   "source": [
    "G=nx.Graph()\n",
    "fh=open('./output/bipartite_network' + str(MIN_TILES) + '.csv','r')\n",
    "for line in fh.readlines():\n",
    "    s=line.strip().split()\n",
    "    G.add_node(s[0],bipartite=0)\n",
    "    G.add_node(int(s[1]),bipartite=1)\n",
    "    G.add_edge(s[0],int(s[1]))\n",
    "fh.close()  "
   ]
  },
  {
   "cell_type": "code",
   "execution_count": null,
   "id": "4459a94e-8d9c-4327-ba14-a86b531fd707",
   "metadata": {},
   "outputs": [],
   "source": [
    "nx.is_bipartite(G)"
   ]
  },
  {
   "cell_type": "code",
   "execution_count": null,
   "id": "16c465bb-ff98-459e-8df4-747049c7f48b",
   "metadata": {},
   "outputs": [],
   "source": [
    "top = nx.bipartite.sets(G)[1]"
   ]
  },
  {
   "cell_type": "code",
   "execution_count": null,
   "id": "bc5168ba-cd20-42d4-82a6-6a41f89d6d8f",
   "metadata": {},
   "outputs": [],
   "source": [
    "B = bipartite.projected_graph(G,bottom, multigraph=False)"
   ]
  },
  {
   "cell_type": "code",
   "execution_count": null,
   "id": "1b73855f-52df-4267-9301-14d179ae9257",
   "metadata": {},
   "outputs": [],
   "source": [
    "fh = open('users_network' + str(MIN_TILES) + '.csv', \"wb\")\n",
    "nx.write_edgelist(G, fh)"
   ]
  },
  {
   "cell_type": "code",
   "execution_count": null,
   "id": "a77d8b7b-3d74-46a6-a31b-512dd00cc01e",
   "metadata": {},
   "outputs": [],
   "source": [
    "nx.draw(B)"
   ]
  },
  {
   "cell_type": "code",
   "execution_count": null,
   "id": "d6ae82e3-ab47-4aa5-aad9-c99932260829",
   "metadata": {},
   "outputs": [],
   "source": []
  },
  {
   "cell_type": "code",
   "execution_count": null,
   "id": "8dd300cb-17d2-4b40-9331-e1c9b926c84b",
   "metadata": {},
   "outputs": [],
   "source": []
  },
  {
   "cell_type": "code",
   "execution_count": null,
   "id": "401dc24b-cd18-4c1f-bd1e-6e68b625e001",
   "metadata": {},
   "outputs": [],
   "source": []
  }
 ],
 "metadata": {
  "kernelspec": {
   "display_name": "Python 3 (ipykernel)",
   "language": "python",
   "name": "python3"
  },
  "language_info": {
   "codemirror_mode": {
    "name": "ipython",
    "version": 3
   },
   "file_extension": ".py",
   "mimetype": "text/x-python",
   "name": "python",
   "nbconvert_exporter": "python",
   "pygments_lexer": "ipython3",
   "version": "3.10.5"
  }
 },
 "nbformat": 4,
 "nbformat_minor": 5
}
