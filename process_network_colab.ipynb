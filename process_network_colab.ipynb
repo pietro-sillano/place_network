{
  "cells": [
    {
      "cell_type": "markdown",
      "id": "727679bd-424a-4414-b0a5-98fa1414d29b",
      "metadata": {
        "id": "727679bd-424a-4414-b0a5-98fa1414d29b"
      },
      "source": [
        "# da Runnare su COLAB \n",
        "### con 200 ci sono troppi pochi utenti(una decina) e solo da artwork 1: non é possibile fare la bipartite network!\n"
      ]
    },
    {
      "cell_type": "code",
      "source": [
        ""
      ],
      "metadata": {
        "id": "vxyDNfXVo6xB"
      },
      "id": "vxyDNfXVo6xB",
      "execution_count": null,
      "outputs": []
    },
    {
      "cell_type": "code",
      "execution_count": 1,
      "id": "56e3cd22-ab19-4ee7-8fe5-b6a3725901fc",
      "metadata": {
        "id": "56e3cd22-ab19-4ee7-8fe5-b6a3725901fc"
      },
      "outputs": [],
      "source": [
        "from networkx.algorithms import bipartite\n",
        "import networkx as nx"
      ]
    },
    {
      "cell_type": "code",
      "execution_count": 5,
      "id": "aca1e9a2-8e9f-4a47-8d71-81ea2cbfe24d",
      "metadata": {
        "id": "aca1e9a2-8e9f-4a47-8d71-81ea2cbfe24d"
      },
      "outputs": [],
      "source": [
        "MIN_TILES = 200"
      ]
    },
    {
      "cell_type": "code",
      "execution_count": 6,
      "id": "6299a810-29c2-4ae0-84de-66eefa54b84f",
      "metadata": {
        "id": "6299a810-29c2-4ae0-84de-66eefa54b84f"
      },
      "outputs": [],
      "source": [
        "G=nx.Graph()\n",
        "fh=open('bipartite_network' + str(MIN_TILES) + '.csv','r')\n",
        "for line in fh.readlines():\n",
        "    s=line.strip().split()\n",
        "    G.add_node(s[0],bipartite=0)\n",
        "    G.add_node(int(s[1]),bipartite=1)\n",
        "    G.add_edge(s[0],int(s[1]))\n",
        "fh.close()  "
      ]
    },
    {
      "cell_type": "code",
      "execution_count": 7,
      "id": "4459a94e-8d9c-4327-ba14-a86b531fd707",
      "metadata": {
        "id": "4459a94e-8d9c-4327-ba14-a86b531fd707",
        "outputId": "ad6a17f4-f426-43b7-afe4-a1c16b4a5418",
        "colab": {
          "base_uri": "https://localhost:8080/"
        }
      },
      "outputs": [
        {
          "output_type": "execute_result",
          "data": {
            "text/plain": [
              "True"
            ]
          },
          "metadata": {},
          "execution_count": 7
        }
      ],
      "source": [
        "nx.is_bipartite(G)"
      ]
    },
    {
      "cell_type": "code",
      "execution_count": 9,
      "id": "16c465bb-ff98-459e-8df4-747049c7f48b",
      "metadata": {
        "id": "16c465bb-ff98-459e-8df4-747049c7f48b",
        "outputId": "8b51977e-7a74-4215-b5df-7173b1c020d3",
        "colab": {
          "base_uri": "https://localhost:8080/",
          "height": 300
        }
      },
      "outputs": [
        {
          "output_type": "error",
          "ename": "AmbiguousSolution",
          "evalue": "ignored",
          "traceback": [
            "\u001b[0;31m---------------------------------------------------------------------------\u001b[0m",
            "\u001b[0;31mAmbiguousSolution\u001b[0m                         Traceback (most recent call last)",
            "\u001b[0;32m<ipython-input-9-23b607ff8796>\u001b[0m in \u001b[0;36m<module>\u001b[0;34m()\u001b[0m\n\u001b[0;32m----> 1\u001b[0;31m \u001b[0mtop\u001b[0m \u001b[0;34m=\u001b[0m \u001b[0mnx\u001b[0m\u001b[0;34m.\u001b[0m\u001b[0mbipartite\u001b[0m\u001b[0;34m.\u001b[0m\u001b[0msets\u001b[0m\u001b[0;34m(\u001b[0m\u001b[0mG\u001b[0m\u001b[0;34m)\u001b[0m\u001b[0;34m[\u001b[0m\u001b[0;36m0\u001b[0m\u001b[0;34m]\u001b[0m\u001b[0;34m\u001b[0m\u001b[0;34m\u001b[0m\u001b[0m\n\u001b[0m",
            "\u001b[0;32m/usr/local/lib/python3.7/dist-packages/networkx/algorithms/bipartite/basic.py\u001b[0m in \u001b[0;36msets\u001b[0;34m(G, top_nodes)\u001b[0m\n\u001b[1;32m    199\u001b[0m         \u001b[0;32mif\u001b[0m \u001b[0;32mnot\u001b[0m \u001b[0mis_connected\u001b[0m\u001b[0;34m(\u001b[0m\u001b[0mG\u001b[0m\u001b[0;34m)\u001b[0m\u001b[0;34m:\u001b[0m\u001b[0;34m\u001b[0m\u001b[0;34m\u001b[0m\u001b[0m\n\u001b[1;32m    200\u001b[0m             \u001b[0mmsg\u001b[0m \u001b[0;34m=\u001b[0m \u001b[0;34m\"Disconnected graph: Ambiguous solution for bipartite sets.\"\u001b[0m\u001b[0;34m\u001b[0m\u001b[0;34m\u001b[0m\u001b[0m\n\u001b[0;32m--> 201\u001b[0;31m             \u001b[0;32mraise\u001b[0m \u001b[0mnx\u001b[0m\u001b[0;34m.\u001b[0m\u001b[0mAmbiguousSolution\u001b[0m\u001b[0;34m(\u001b[0m\u001b[0mmsg\u001b[0m\u001b[0;34m)\u001b[0m\u001b[0;34m\u001b[0m\u001b[0;34m\u001b[0m\u001b[0m\n\u001b[0m\u001b[1;32m    202\u001b[0m         \u001b[0mc\u001b[0m \u001b[0;34m=\u001b[0m \u001b[0mcolor\u001b[0m\u001b[0;34m(\u001b[0m\u001b[0mG\u001b[0m\u001b[0;34m)\u001b[0m\u001b[0;34m\u001b[0m\u001b[0;34m\u001b[0m\u001b[0m\n\u001b[1;32m    203\u001b[0m         \u001b[0mX\u001b[0m \u001b[0;34m=\u001b[0m \u001b[0;34m{\u001b[0m\u001b[0mn\u001b[0m \u001b[0;32mfor\u001b[0m \u001b[0mn\u001b[0m\u001b[0;34m,\u001b[0m \u001b[0mis_top\u001b[0m \u001b[0;32min\u001b[0m \u001b[0mc\u001b[0m\u001b[0;34m.\u001b[0m\u001b[0mitems\u001b[0m\u001b[0;34m(\u001b[0m\u001b[0;34m)\u001b[0m \u001b[0;32mif\u001b[0m \u001b[0mis_top\u001b[0m\u001b[0;34m}\u001b[0m\u001b[0;34m\u001b[0m\u001b[0;34m\u001b[0m\u001b[0m\n",
            "\u001b[0;31mAmbiguousSolution\u001b[0m: Disconnected graph: Ambiguous solution for bipartite sets."
          ]
        }
      ],
      "source": [
        "top = nx.bipartite.sets(G)[0]"
      ]
    },
    {
      "cell_type": "code",
      "execution_count": null,
      "id": "bc5168ba-cd20-42d4-82a6-6a41f89d6d8f",
      "metadata": {
        "id": "bc5168ba-cd20-42d4-82a6-6a41f89d6d8f"
      },
      "outputs": [],
      "source": [
        "B = bipartite.projected_graph(G,bottom, multigraph=False)"
      ]
    },
    {
      "cell_type": "code",
      "execution_count": null,
      "id": "1b73855f-52df-4267-9301-14d179ae9257",
      "metadata": {
        "id": "1b73855f-52df-4267-9301-14d179ae9257"
      },
      "outputs": [],
      "source": [
        "fh = open('users_network' + str(MIN_TILES) + '.csv', \"wb\")\n",
        "nx.write_edgelist(G, fh)"
      ]
    },
    {
      "cell_type": "code",
      "execution_count": null,
      "id": "a77d8b7b-3d74-46a6-a31b-512dd00cc01e",
      "metadata": {
        "id": "a77d8b7b-3d74-46a6-a31b-512dd00cc01e"
      },
      "outputs": [],
      "source": [
        "nx.draw(B)"
      ]
    },
    {
      "cell_type": "code",
      "execution_count": null,
      "id": "d6ae82e3-ab47-4aa5-aad9-c99932260829",
      "metadata": {
        "id": "d6ae82e3-ab47-4aa5-aad9-c99932260829"
      },
      "outputs": [],
      "source": [
        ""
      ]
    },
    {
      "cell_type": "code",
      "execution_count": null,
      "id": "8dd300cb-17d2-4b40-9331-e1c9b926c84b",
      "metadata": {
        "id": "8dd300cb-17d2-4b40-9331-e1c9b926c84b"
      },
      "outputs": [],
      "source": [
        ""
      ]
    },
    {
      "cell_type": "code",
      "execution_count": null,
      "id": "401dc24b-cd18-4c1f-bd1e-6e68b625e001",
      "metadata": {
        "id": "401dc24b-cd18-4c1f-bd1e-6e68b625e001"
      },
      "outputs": [],
      "source": [
        ""
      ]
    }
  ],
  "metadata": {
    "kernelspec": {
      "display_name": "Python 3 (ipykernel)",
      "language": "python",
      "name": "python3"
    },
    "language_info": {
      "codemirror_mode": {
        "name": "ipython",
        "version": 3
      },
      "file_extension": ".py",
      "mimetype": "text/x-python",
      "name": "python",
      "nbconvert_exporter": "python",
      "pygments_lexer": "ipython3",
      "version": "3.10.5"
    },
    "colab": {
      "name": "process_network_colab.ipynb",
      "provenance": []
    }
  },
  "nbformat": 4,
  "nbformat_minor": 5
}