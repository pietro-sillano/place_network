{
 "cells": [
  {
   "cell_type": "code",
   "execution_count": 3,
   "id": "77a52dc4-1ca5-41f5-81f0-79ef7ebd8672",
   "metadata": {},
   "outputs": [],
   "source": [
    "import numpy as np # linear algebra\n",
    "import pandas as pd # data processing, CSV file I/O (e.g. pd.read_csv)\n",
    "from tqdm.auto import tqdm\n",
    "from matplotlib.path import Path\n",
    "import ast\n",
    "import pickle\n",
    "import matplotlib.pyplot as plt\n",
    "from networkx.algorithms import bipartite\n",
    "import networkx as nx"
   ]
  },
  {
   "cell_type": "code",
   "execution_count": 13,
   "id": "8d48992e-e754-492a-b568-2200686b6b31",
   "metadata": {},
   "outputs": [],
   "source": [
    "#arts = {}\n",
    "#arts['space_duck']  = [[342, 1699], [338, 1703], [333, 1735], [333, 1742], [331, 1742], [330, 1754], [325, 1753], [325, 1747], [321, 1746], [316, 1745], [310, 1745], [293, 1748], [290, 1751], [290, 1755], [291, 1756], [292, 1762], [296, 1766], [303, 1766], [308, 1763], [311, 1763], [313, 1761], [319, 1761], [319, 1757], [322, 1757], [325, 1753], [330, 1753], [333, 1762], [328, 1763], [321, 1768], [316, 1771], [315, 1775], [300, 1782], [297, 1785], [296, 1791], [295, 1792], [295, 1807], [299, 1814], [304, 1815], [311, 1817], [316, 1817], [323, 1819], [326, 1820], [329, 1823], [332, 1824], [336, 1829], [342, 1830], [344, 1832], [346, 1832], [346, 1850], [311, 1850], [311, 1861], [371, 1861], [371, 1850], [346, 1850], [346, 1832], [356, 1832], [365, 1826], [369, 1822], [371, 1814], [374, 1786], [371, 1784], [371, 1782], [365, 1778], [365, 1776], [369, 1776], [376, 1766], [378, 1766], [378, 1774], [383, 1778], [385, 1779], [395, 1779], [400, 1773], [400, 1764], [396, 1760], [391, 1759], [389, 1757], [383, 1757], [379, 1762], [378, 1766], [376, 1766], [376, 1763], [378, 1760], [378, 1753], [379, 1751], [379, 1742], [378, 1741], [378, 1721], [375, 1716], [375, 1712], [371, 1705], [362, 1700], [360, 1699], [341, 1699]]\n",
    "space_duck  = [[342, 1699], [338, 1703], [333, 1735], [333, 1742], [331, 1742], [330, 1754], [325, 1753], [325, 1747], [321, 1746], [316, 1745], [310, 1745], [293, 1748], [290, 1751], [290, 1755], [291, 1756], [292, 1762], [296, 1766], [303, 1766], [308, 1763], [311, 1763], [313, 1761], [319, 1761], [319, 1757], [322, 1757], [325, 1753], [330, 1753], [333, 1762], [328, 1763], [321, 1768], [316, 1771], [315, 1775], [300, 1782], [297, 1785], [296, 1791], [295, 1792], [295, 1807], [299, 1814], [304, 1815], [311, 1817], [316, 1817], [323, 1819], [326, 1820], [329, 1823], [332, 1824], [336, 1829], [342, 1830], [344, 1832], [346, 1832], [346, 1850], [311, 1850], [311, 1861], [371, 1861], [371, 1850], [346, 1850], [346, 1832], [356, 1832], [365, 1826], [369, 1822], [371, 1814], [374, 1786], [371, 1784], [371, 1782], [365, 1778], [365, 1776], [369, 1776], [376, 1766], [378, 1766], [378, 1774], [383, 1778], [385, 1779], [395, 1779], [400, 1773], [400, 1764], [396, 1760], [391, 1759], [389, 1757], [383, 1757], [379, 1762], [378, 1766], [376, 1766], [376, 1763], [378, 1760], [378, 1753], [379, 1751], [379, 1742], [378, 1741], [378, 1721], [375, 1716], [375, 1712], [371, 1705], [362, 1700], [360, 1699], [341, 1699]]\n",
    "pufferfish_pond = [[1999, 1118], [1870, 1120], [1870, 917], [1999, 917]]\n",
    "france = [[125, 497], [175, 497], [175, 288], [171, 284], [171, 275], [148, 275], [148, 300], [141, 307], [141, 320], [152, 320], [152, 328], [125, 328], [125, 345], [132, 345], [132, 386], [125, 386]]\n",
    "butt = [[185, 1928], [183, 1602], [76, 1600], [75, 1930]]\n",
    "battle_heroes = [[683, 1510], [710, 1553], [707, 1555], [707, 1571], [707, 1573], [697, 1574], [675, 1570], [673, 1591], [638, 1595], [627, 1604], [628, 1678], [733, 1684], [732, 1691], [724, 1696], [718, 1702], [716, 1714], [720, 1726], [728, 1733], [742, 1734], [754, 1728], [758, 1715], [757, 1703], [751, 1695], [741, 1690], [740, 1691], [739, 1684], [750, 1682], [750, 1670], [779, 1669], [786, 1674], [787, 1711], [830, 1713], [829, 1706], [834, 1705], [833, 1697], [843, 1695], [837, 1660], [831, 1652], [831, 1632], [808, 1609], [812, 1601], [810, 1592], [796, 1586], [789, 1586], [760, 1590], [752, 1585], [751, 1560], [758, 1558], [758, 1544], [753, 1545], [752, 1534], [745, 1541], [743, 1547], [733, 1565], [730, 1565], [726, 1563], [723, 1561], [698, 1521], [685, 1510]]"
   ]
  },
  {
   "cell_type": "code",
   "execution_count": 16,
   "id": "ef6fbbba-7211-4fad-8044-c3c22fa93a8f",
   "metadata": {},
   "outputs": [
    {
     "data": {
      "text/plain": [
       "[[342, 1699],\n",
       " [338, 1703],\n",
       " [333, 1735],\n",
       " [333, 1742],\n",
       " [331, 1742],\n",
       " [330, 1754],\n",
       " [325, 1753],\n",
       " [325, 1747],\n",
       " [321, 1746],\n",
       " [316, 1745],\n",
       " [310, 1745],\n",
       " [293, 1748],\n",
       " [290, 1751],\n",
       " [290, 1755],\n",
       " [291, 1756],\n",
       " [292, 1762],\n",
       " [296, 1766],\n",
       " [303, 1766],\n",
       " [308, 1763],\n",
       " [311, 1763],\n",
       " [313, 1761],\n",
       " [319, 1761],\n",
       " [319, 1757],\n",
       " [322, 1757],\n",
       " [325, 1753],\n",
       " [330, 1753],\n",
       " [333, 1762],\n",
       " [328, 1763],\n",
       " [321, 1768],\n",
       " [316, 1771],\n",
       " [315, 1775],\n",
       " [300, 1782],\n",
       " [297, 1785],\n",
       " [296, 1791],\n",
       " [295, 1792],\n",
       " [295, 1807],\n",
       " [299, 1814],\n",
       " [304, 1815],\n",
       " [311, 1817],\n",
       " [316, 1817],\n",
       " [323, 1819],\n",
       " [326, 1820],\n",
       " [329, 1823],\n",
       " [332, 1824],\n",
       " [336, 1829],\n",
       " [342, 1830],\n",
       " [344, 1832],\n",
       " [346, 1832],\n",
       " [346, 1850],\n",
       " [311, 1850],\n",
       " [311, 1861],\n",
       " [371, 1861],\n",
       " [371, 1850],\n",
       " [346, 1850],\n",
       " [346, 1832],\n",
       " [356, 1832],\n",
       " [365, 1826],\n",
       " [369, 1822],\n",
       " [371, 1814],\n",
       " [374, 1786],\n",
       " [371, 1784],\n",
       " [371, 1782],\n",
       " [365, 1778],\n",
       " [365, 1776],\n",
       " [369, 1776],\n",
       " [376, 1766],\n",
       " [378, 1766],\n",
       " [378, 1774],\n",
       " [383, 1778],\n",
       " [385, 1779],\n",
       " [395, 1779],\n",
       " [400, 1773],\n",
       " [400, 1764],\n",
       " [396, 1760],\n",
       " [391, 1759],\n",
       " [389, 1757],\n",
       " [383, 1757],\n",
       " [379, 1762],\n",
       " [378, 1766],\n",
       " [376, 1766],\n",
       " [376, 1763],\n",
       " [378, 1760],\n",
       " [378, 1753],\n",
       " [379, 1751],\n",
       " [379, 1742],\n",
       " [378, 1741],\n",
       " [378, 1721],\n",
       " [375, 1716],\n",
       " [375, 1712],\n",
       " [371, 1705],\n",
       " [362, 1700],\n",
       " [360, 1699],\n",
       " [341, 1699]]"
      ]
     },
     "execution_count": 16,
     "metadata": {},
     "output_type": "execute_result"
    }
   ],
   "source": [
    "arts = [space_duck,pufferfish_pond,france,butt,battle_heroes]\n",
    "arts[0]"
   ]
  },
  {
   "cell_type": "code",
   "execution_count": 19,
   "id": "f3a4de62-9627-42e6-9f97-2ec1fe014d5c",
   "metadata": {},
   "outputs": [
    {
     "data": {
      "text/html": [
       "<div>\n",
       "<style scoped>\n",
       "    .dataframe tbody tr th:only-of-type {\n",
       "        vertical-align: middle;\n",
       "    }\n",
       "\n",
       "    .dataframe tbody tr th {\n",
       "        vertical-align: top;\n",
       "    }\n",
       "\n",
       "    .dataframe thead th {\n",
       "        text-align: right;\n",
       "    }\n",
       "</style>\n",
       "<table border=\"1\" class=\"dataframe\">\n",
       "  <thead>\n",
       "    <tr style=\"text-align: right;\">\n",
       "      <th></th>\n",
       "      <th>Unnamed: 0.1</th>\n",
       "      <th>Unnamed: 0</th>\n",
       "      <th>id</th>\n",
       "      <th>name</th>\n",
       "      <th>path</th>\n",
       "      <th>center</th>\n",
       "      <th>area</th>\n",
       "    </tr>\n",
       "  </thead>\n",
       "  <tbody>\n",
       "    <tr>\n",
       "      <th>0</th>\n",
       "      <td>5372</td>\n",
       "      <td>5372</td>\n",
       "      <td>txrg84</td>\n",
       "      <td>Flag of France</td>\n",
       "      <td>{'109-164, T': [[249, 1469], [0, 1469], [0, 19...</td>\n",
       "      <td>{'109-164, T': [125, 1719]}</td>\n",
       "      <td>124500.0</td>\n",
       "    </tr>\n",
       "    <tr>\n",
       "      <th>1</th>\n",
       "      <td>1187</td>\n",
       "      <td>1187</td>\n",
       "      <td>twpyje</td>\n",
       "      <td>Flag of Germany</td>\n",
       "      <td>{'109-166, T': [[0, 1121], [448, 1121], [447, ...</td>\n",
       "      <td>{'109-166, T': [992, 1148]}</td>\n",
       "      <td>96223.0</td>\n",
       "    </tr>\n",
       "    <tr>\n",
       "      <th>2</th>\n",
       "      <td>258</td>\n",
       "      <td>258</td>\n",
       "      <td>000354</td>\n",
       "      <td>The Nordic Union</td>\n",
       "      <td>{'1-166, T': [[187, 93], [187, 97], [207, 97],...</td>\n",
       "      <td>{'1-166, T': [506, 129]}</td>\n",
       "      <td>89953.5</td>\n",
       "    </tr>\n",
       "    <tr>\n",
       "      <th>3</th>\n",
       "      <td>4866</td>\n",
       "      <td>4866</td>\n",
       "      <td>txd8wt</td>\n",
       "      <td>Central Alliance</td>\n",
       "      <td>{'1-166, T': [[448, 890], [512, 890], [512, 90...</td>\n",
       "      <td>{'1-166, T': [447, 994]}</td>\n",
       "      <td>75325.5</td>\n",
       "    </tr>\n",
       "    <tr>\n",
       "      <th>4</th>\n",
       "      <td>7916</td>\n",
       "      <td>7916</td>\n",
       "      <td>ubyhtf</td>\n",
       "      <td>Netherlands</td>\n",
       "      <td>{'56-166, T': [[297, 13], [297, 35], [886, 35]...</td>\n",
       "      <td>{'56-166, T': [1171, 19]}</td>\n",
       "      <td>54044.0</td>\n",
       "    </tr>\n",
       "  </tbody>\n",
       "</table>\n",
       "</div>"
      ],
      "text/plain": [
       "   Unnamed: 0.1  Unnamed: 0      id              name  \\\n",
       "0          5372        5372  txrg84    Flag of France   \n",
       "1          1187        1187  twpyje   Flag of Germany   \n",
       "2           258         258  000354  The Nordic Union   \n",
       "3          4866        4866  txd8wt  Central Alliance   \n",
       "4          7916        7916  ubyhtf       Netherlands   \n",
       "\n",
       "                                                path  \\\n",
       "0  {'109-164, T': [[249, 1469], [0, 1469], [0, 19...   \n",
       "1  {'109-166, T': [[0, 1121], [448, 1121], [447, ...   \n",
       "2  {'1-166, T': [[187, 93], [187, 97], [207, 97],...   \n",
       "3  {'1-166, T': [[448, 890], [512, 890], [512, 90...   \n",
       "4  {'56-166, T': [[297, 13], [297, 35], [886, 35]...   \n",
       "\n",
       "                        center      area  \n",
       "0  {'109-164, T': [125, 1719]}  124500.0  \n",
       "1  {'109-166, T': [992, 1148]}   96223.0  \n",
       "2     {'1-166, T': [506, 129]}   89953.5  \n",
       "3     {'1-166, T': [447, 994]}   75325.5  \n",
       "4    {'56-166, T': [1171, 19]}   54044.0  "
      ]
     },
     "execution_count": 19,
     "metadata": {},
     "output_type": "execute_result"
    }
   ],
   "source": [
    "df = pd.read_csv(\"data/artworks_ordered.csv\")\n",
    "df[:5]"
   ]
  },
  {
   "cell_type": "code",
   "execution_count": 11,
   "id": "6646c099-1ea4-4010-92a6-75fb2dd2d98e",
   "metadata": {},
   "outputs": [
    {
     "data": {
      "text/plain": [
       "Unnamed: 0.1                                                 5372\n",
       "Unnamed: 0                                                   5372\n",
       "id                                                         txrg84\n",
       "name                                               Flag of France\n",
       "path            {'109-164, T': [[249, 1469], [0, 1469], [0, 19...\n",
       "center                                {'109-164, T': [125, 1719]}\n",
       "area                                                     124500.0\n",
       "Name: 0, dtype: object"
      ]
     },
     "execution_count": 11,
     "metadata": {},
     "output_type": "execute_result"
    }
   ],
   "source": [
    "df.iloc[0]"
   ]
  },
  {
   "cell_type": "code",
   "execution_count": null,
   "id": "f6770ecb-e8f8-4efd-952f-91a73023e1b7",
   "metadata": {},
   "outputs": [],
   "source": []
  },
  {
   "cell_type": "code",
   "execution_count": 5,
   "id": "e1aca85a-7943-48f1-b616-de1b822ad827",
   "metadata": {},
   "outputs": [
    {
     "ename": "NameError",
     "evalue": "name 'df' is not defined",
     "output_type": "error",
     "traceback": [
      "\u001b[0;31m---------------------------------------------------------------------------\u001b[0m",
      "\u001b[0;31mNameError\u001b[0m                                 Traceback (most recent call last)",
      "Input \u001b[0;32mIn [5]\u001b[0m, in \u001b[0;36m<cell line: 2>\u001b[0;34m()\u001b[0m\n\u001b[1;32m      1\u001b[0m NUM_ARTS \u001b[38;5;241m=\u001b[39m \u001b[38;5;241m5\u001b[39m\n\u001b[0;32m----> 2\u001b[0m df \u001b[38;5;241m=\u001b[39m \u001b[43mdf\u001b[49m[:NUM_ARTS]\n",
      "\u001b[0;31mNameError\u001b[0m: name 'df' is not defined"
     ]
    }
   ],
   "source": [
    "NUM_ARTS = 5\n",
    "df = df[:NUM_ARTS]"
   ]
  },
  {
   "cell_type": "code",
   "execution_count": 21,
   "id": "d4920002-220d-4d57-bd0f-a9a30d2acf88",
   "metadata": {},
   "outputs": [],
   "source": [
    "artworks = {}\n",
    "id_count = 1\n",
    "for row in df.itertuples():\n",
    "    name = row.name\n",
    "    path = row.path\n",
    "    path = ast.literal_eval(path)\n",
    "    coords = list(path.values())[0]\n",
    "    artworks[id_count] = coords\n",
    "    id_count += 1"
   ]
  },
  {
   "cell_type": "code",
   "execution_count": 18,
   "id": "ccb78670-ae4f-4dd9-bd36-cc210d28f37d",
   "metadata": {},
   "outputs": [],
   "source": [
    "artworks = {}\n",
    "id_count = 1\n",
    "for row in arts:\n",
    "    coords = row\n",
    "    artworks[id_count] = coords\n",
    "    id_count += 1"
   ]
  },
  {
   "cell_type": "code",
   "execution_count": 17,
   "id": "8c291392-bad8-4c4a-a132-f6f77f03cbcc",
   "metadata": {},
   "outputs": [],
   "source": [
    "# Flag of France\n",
    "#art1 = [[125, 497], [175, 497], [175, 288], [171, 284], [171, 275], [148, 275], [148, 300], [141, 307], [141, 320], [152, 320], [152, 328], [125, 328], [125, 345], [132, 345], [132, 386], [125, 386]]\n",
    "#flag of argentina\n",
    "#art2 = [[1533, 1819], [1773, 1819], [1774, 1917], [1532, 1916]]"
   ]
  },
  {
   "cell_type": "code",
   "execution_count": 9,
   "id": "7ab58182-f5d0-4ba7-badb-11c709f47a8d",
   "metadata": {},
   "outputs": [],
   "source": [
    "def find_points(art):\n",
    "    x, y = np.meshgrid(np.arange(2000), np.arange(2000)) # make a canvas with coordinates\n",
    "    x, y = x.flatten(), y.flatten()\n",
    "    points = np.vstack((x,y)).T \n",
    "\n",
    "    p = Path(art) # make a polygon\n",
    "    grid = p.contains_points(points,radius = 0)\n",
    "    mask = grid.reshape(2000,2000) # now you have a mask with points inside a polygon\n",
    "    x,y = mask.nonzero()\n",
    "    coords = []\n",
    "    for xc,yc in zip(x,y):\n",
    "        coords.append((xc,yc))\n",
    "    return coords"
   ]
  },
  {
   "cell_type": "code",
   "execution_count": null,
   "id": "7acd0374-1663-4b8f-aba8-a63fd6b2d003",
   "metadata": {},
   "outputs": [],
   "source": []
  },
  {
   "cell_type": "code",
   "execution_count": null,
   "id": "68b1c742-aee6-46bf-b83f-3f3b8153dbd2",
   "metadata": {},
   "outputs": [],
   "source": [
    "CHUNK_SIZE = 3_000_000\n",
    "MIN_TILES = 2\n",
    "\n",
    "f = open('./output/bipartite_network_' + str(MIN_TILES) + '_'+ str(NUM_ARTS) + '.csv', 'w')\n",
    "counter = 0\n",
    "\n",
    "for key in tqdm(artworks.keys()):\n",
    "    art_pixel = find_points(artworks[key])\n",
    "    s = set(art_pixel)\n",
    "    name = key\n",
    "    user_actions = {}\n",
    "    l = []\n",
    "\n",
    "    with pd.read_csv(\n",
    "            'reddit_place_2022_trimmed.csv',\n",
    "            chunksize=CHUNK_SIZE,\n",
    "            engine=\"c\",\n",
    "            dtype={'timestamp':np.uint32,\n",
    "              'user_id':np.uint32,\n",
    "              'pixel_color':np.uint8,\n",
    "              'x':np.uint16,\n",
    "              'y':np.uint16,}\n",
    "        ) as csv:\n",
    "            for chunk in tqdm(csv):\n",
    "                for row in chunk.itertuples():\n",
    "                    user = row.user_id\n",
    "                    x = row.x\n",
    "                    y = row.y\n",
    "                    if (x,y) in s:\n",
    "                        if  user in user_actions:\n",
    "                            user_actions[user] = user_actions[user] + 1 \n",
    "                        else:\n",
    "                            user_actions[user] = 1\n",
    "               \n",
    "    for user_key in user_actions.keys():\n",
    "        if user_actions[user_key] >= MIN_TILES:\n",
    "            f.write(str(name) + ' ' + str(user_key) + '\\n')\n",
    "            l.append(user_actions[user_key])\n",
    "            counter +=  1\n",
    "            \n",
    "    pickle.dump(l, open('./output/tiles/distrib_tiles_' + str(name) + '.pickle', \"wb\")) \n",
    "    print(counter)\n",
    "f.close()"
   ]
  },
  {
   "cell_type": "markdown",
   "id": "0a7031ec-724d-4267-9e39-8f539d43cad4",
   "metadata": {},
   "source": [
    "# weighted bipartite sets"
   ]
  },
  {
   "cell_type": "code",
   "execution_count": 19,
   "id": "4c8b3f59-71a1-4083-8b61-1bc65032a72d",
   "metadata": {},
   "outputs": [
    {
     "data": {
      "application/vnd.jupyter.widget-view+json": {
       "model_id": "b43a5739ceb34b1eb14dd4252bb55c64",
       "version_major": 2,
       "version_minor": 0
      },
      "text/plain": [
       "  0%|          | 0/5 [00:00<?, ?it/s]"
      ]
     },
     "metadata": {},
     "output_type": "display_data"
    },
    {
     "data": {
      "application/vnd.jupyter.widget-view+json": {
       "model_id": "423ddeee3c6e475f83a5cd96019a1c63",
       "version_major": 2,
       "version_minor": 0
      },
      "text/plain": [
       "0it [00:00, ?it/s]"
      ]
     },
     "metadata": {},
     "output_type": "display_data"
    },
    {
     "name": "stdout",
     "output_type": "stream",
     "text": [
      "7323\n"
     ]
    },
    {
     "data": {
      "application/vnd.jupyter.widget-view+json": {
       "model_id": "eb510312f34e489b82c5204ba3752bfc",
       "version_major": 2,
       "version_minor": 0
      },
      "text/plain": [
       "0it [00:00, ?it/s]"
      ]
     },
     "metadata": {},
     "output_type": "display_data"
    },
    {
     "name": "stdout",
     "output_type": "stream",
     "text": [
      "23010\n"
     ]
    },
    {
     "data": {
      "application/vnd.jupyter.widget-view+json": {
       "model_id": "06d740426e6b4dc68d078299b29ef870",
       "version_major": 2,
       "version_minor": 0
      },
      "text/plain": [
       "0it [00:00, ?it/s]"
      ]
     },
     "metadata": {},
     "output_type": "display_data"
    },
    {
     "name": "stdout",
     "output_type": "stream",
     "text": [
      "35761\n"
     ]
    },
    {
     "data": {
      "application/vnd.jupyter.widget-view+json": {
       "model_id": "26f9eb22840a4e6c887ef0df977a07c8",
       "version_major": 2,
       "version_minor": 0
      },
      "text/plain": [
       "0it [00:00, ?it/s]"
      ]
     },
     "metadata": {},
     "output_type": "display_data"
    },
    {
     "name": "stdout",
     "output_type": "stream",
     "text": [
      "66763\n"
     ]
    },
    {
     "data": {
      "application/vnd.jupyter.widget-view+json": {
       "model_id": "8c88530cc57c4faa947a2811d407c2c3",
       "version_major": 2,
       "version_minor": 0
      },
      "text/plain": [
       "0it [00:00, ?it/s]"
      ]
     },
     "metadata": {},
     "output_type": "display_data"
    },
    {
     "name": "stdout",
     "output_type": "stream",
     "text": [
      "99894\n"
     ]
    }
   ],
   "source": [
    "CHUNK_SIZE = 3_000_000\n",
    "MIN_TILES = 5\n",
    "\n",
    "f = open('./output/bipartite_network_weighted_' + str(MIN_TILES) + '_'+ str(NUM_ARTS) + '.csv', 'w')\n",
    "counter = 0\n",
    "\n",
    "for key in tqdm(artworks.keys()):\n",
    "    art_pixel = find_points(artworks[key])\n",
    "    s = set(art_pixel)\n",
    "    name = key\n",
    "    user_actions = {}\n",
    "    l = []\n",
    "\n",
    "    with pd.read_csv(\n",
    "            'reddit_place_2022_trimmed.csv',\n",
    "            chunksize=CHUNK_SIZE,\n",
    "            engine=\"c\",\n",
    "            dtype={'timestamp':np.uint32,\n",
    "              'user_id':np.uint32,\n",
    "              'pixel_color':np.uint8,\n",
    "              'x':np.uint16,\n",
    "              'y':np.uint16,}\n",
    "        ) as csv:\n",
    "            for chunk in tqdm(csv):\n",
    "                for row in chunk.itertuples():\n",
    "                    user = row.user_id\n",
    "                    x = row.x\n",
    "                    y = row.y\n",
    "                    if (x,y) in s:\n",
    "                        if  user in user_actions:\n",
    "                            user_actions[user] = user_actions[user] + 1 \n",
    "                        else:\n",
    "                            user_actions[user] = 1\n",
    "               \n",
    "    for user_key in user_actions.keys():\n",
    "        if user_actions[user_key] > MIN_TILES:\n",
    "            f.write(str(name) + ' ' + str(user_key) + ' ' + str(user_actions[user_key]) + '\\n')\n",
    "            l.append(user_actions[user_key])\n",
    "            counter +=  1\n",
    "            \n",
    "    pickle.dump(l, open('./output/tiles/distrib_tiles_' + str(name) + '.pickle', \"wb\")) \n",
    "    print(counter)\n",
    "f.close()"
   ]
  },
  {
   "cell_type": "code",
   "execution_count": null,
   "id": "7073e20f-8505-4db1-bea9-4fbb095dec40",
   "metadata": {},
   "outputs": [],
   "source": []
  }
 ],
 "metadata": {
  "kernelspec": {
   "display_name": "Python 3 (ipykernel)",
   "language": "python",
   "name": "python3"
  },
  "language_info": {
   "codemirror_mode": {
    "name": "ipython",
    "version": 3
   },
   "file_extension": ".py",
   "mimetype": "text/x-python",
   "name": "python",
   "nbconvert_exporter": "python",
   "pygments_lexer": "ipython3",
   "version": "3.10.5"
  }
 },
 "nbformat": 4,
 "nbformat_minor": 5
}
