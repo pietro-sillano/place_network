{
 "cells": [
  {
   "cell_type": "code",
   "execution_count": 13,
   "id": "77a52dc4-1ca5-41f5-81f0-79ef7ebd8672",
   "metadata": {},
   "outputs": [],
   "source": [
    "import numpy as np # linear algebra\n",
    "import pandas as pd # data processing, CSV file I/O (e.g. pd.read_csv)\n",
    "from tqdm.auto import tqdm\n",
    "from matplotlib.path import Path\n",
    "import ast\n",
    "import pickle\n",
    "import matplotlib.pyplot as plt\n",
    "from networkx.algorithms import bipartite\n",
    "import networkx as nx"
   ]
  },
  {
   "cell_type": "code",
   "execution_count": 19,
   "id": "f3a4de62-9627-42e6-9f97-2ec1fe014d5c",
   "metadata": {},
   "outputs": [
    {
     "data": {
      "text/html": [
       "<div>\n",
       "<style scoped>\n",
       "    .dataframe tbody tr th:only-of-type {\n",
       "        vertical-align: middle;\n",
       "    }\n",
       "\n",
       "    .dataframe tbody tr th {\n",
       "        vertical-align: top;\n",
       "    }\n",
       "\n",
       "    .dataframe thead th {\n",
       "        text-align: right;\n",
       "    }\n",
       "</style>\n",
       "<table border=\"1\" class=\"dataframe\">\n",
       "  <thead>\n",
       "    <tr style=\"text-align: right;\">\n",
       "      <th></th>\n",
       "      <th>Unnamed: 0.1</th>\n",
       "      <th>Unnamed: 0</th>\n",
       "      <th>id</th>\n",
       "      <th>name</th>\n",
       "      <th>path</th>\n",
       "      <th>center</th>\n",
       "      <th>area</th>\n",
       "    </tr>\n",
       "  </thead>\n",
       "  <tbody>\n",
       "    <tr>\n",
       "      <th>0</th>\n",
       "      <td>5372</td>\n",
       "      <td>5372</td>\n",
       "      <td>txrg84</td>\n",
       "      <td>Flag of France</td>\n",
       "      <td>{'109-164, T': [[249, 1469], [0, 1469], [0, 19...</td>\n",
       "      <td>{'109-164, T': [125, 1719]}</td>\n",
       "      <td>124500.0</td>\n",
       "    </tr>\n",
       "    <tr>\n",
       "      <th>1</th>\n",
       "      <td>1187</td>\n",
       "      <td>1187</td>\n",
       "      <td>twpyje</td>\n",
       "      <td>Flag of Germany</td>\n",
       "      <td>{'109-166, T': [[0, 1121], [448, 1121], [447, ...</td>\n",
       "      <td>{'109-166, T': [992, 1148]}</td>\n",
       "      <td>96223.0</td>\n",
       "    </tr>\n",
       "    <tr>\n",
       "      <th>2</th>\n",
       "      <td>258</td>\n",
       "      <td>258</td>\n",
       "      <td>000354</td>\n",
       "      <td>The Nordic Union</td>\n",
       "      <td>{'1-166, T': [[187, 93], [187, 97], [207, 97],...</td>\n",
       "      <td>{'1-166, T': [506, 129]}</td>\n",
       "      <td>89953.5</td>\n",
       "    </tr>\n",
       "    <tr>\n",
       "      <th>3</th>\n",
       "      <td>4866</td>\n",
       "      <td>4866</td>\n",
       "      <td>txd8wt</td>\n",
       "      <td>Central Alliance</td>\n",
       "      <td>{'1-166, T': [[448, 890], [512, 890], [512, 90...</td>\n",
       "      <td>{'1-166, T': [447, 994]}</td>\n",
       "      <td>75325.5</td>\n",
       "    </tr>\n",
       "    <tr>\n",
       "      <th>4</th>\n",
       "      <td>7916</td>\n",
       "      <td>7916</td>\n",
       "      <td>ubyhtf</td>\n",
       "      <td>Netherlands</td>\n",
       "      <td>{'56-166, T': [[297, 13], [297, 35], [886, 35]...</td>\n",
       "      <td>{'56-166, T': [1171, 19]}</td>\n",
       "      <td>54044.0</td>\n",
       "    </tr>\n",
       "  </tbody>\n",
       "</table>\n",
       "</div>"
      ],
      "text/plain": [
       "   Unnamed: 0.1  Unnamed: 0      id              name  \\\n",
       "0          5372        5372  txrg84    Flag of France   \n",
       "1          1187        1187  twpyje   Flag of Germany   \n",
       "2           258         258  000354  The Nordic Union   \n",
       "3          4866        4866  txd8wt  Central Alliance   \n",
       "4          7916        7916  ubyhtf       Netherlands   \n",
       "\n",
       "                                                path  \\\n",
       "0  {'109-164, T': [[249, 1469], [0, 1469], [0, 19...   \n",
       "1  {'109-166, T': [[0, 1121], [448, 1121], [447, ...   \n",
       "2  {'1-166, T': [[187, 93], [187, 97], [207, 97],...   \n",
       "3  {'1-166, T': [[448, 890], [512, 890], [512, 90...   \n",
       "4  {'56-166, T': [[297, 13], [297, 35], [886, 35]...   \n",
       "\n",
       "                        center      area  \n",
       "0  {'109-164, T': [125, 1719]}  124500.0  \n",
       "1  {'109-166, T': [992, 1148]}   96223.0  \n",
       "2     {'1-166, T': [506, 129]}   89953.5  \n",
       "3     {'1-166, T': [447, 994]}   75325.5  \n",
       "4    {'56-166, T': [1171, 19]}   54044.0  "
      ]
     },
     "execution_count": 19,
     "metadata": {},
     "output_type": "execute_result"
    }
   ],
   "source": [
    "df = pd.read_csv(\"data/artworks_ordered.csv\")\n",
    "df[:5]"
   ]
  },
  {
   "cell_type": "code",
   "execution_count": 11,
   "id": "6646c099-1ea4-4010-92a6-75fb2dd2d98e",
   "metadata": {},
   "outputs": [
    {
     "data": {
      "text/plain": [
       "Unnamed: 0.1                                                 5372\n",
       "Unnamed: 0                                                   5372\n",
       "id                                                         txrg84\n",
       "name                                               Flag of France\n",
       "path            {'109-164, T': [[249, 1469], [0, 1469], [0, 19...\n",
       "center                                {'109-164, T': [125, 1719]}\n",
       "area                                                     124500.0\n",
       "Name: 0, dtype: object"
      ]
     },
     "execution_count": 11,
     "metadata": {},
     "output_type": "execute_result"
    }
   ],
   "source": [
    "df.iloc[0]"
   ]
  },
  {
   "cell_type": "code",
   "execution_count": null,
   "id": "f6770ecb-e8f8-4efd-952f-91a73023e1b7",
   "metadata": {},
   "outputs": [],
   "source": []
  },
  {
   "cell_type": "code",
   "execution_count": 20,
   "id": "e1aca85a-7943-48f1-b616-de1b822ad827",
   "metadata": {},
   "outputs": [],
   "source": [
    "NUM_ARTS = 5\n",
    "df = df[:NUM_ARTS]"
   ]
  },
  {
   "cell_type": "code",
   "execution_count": 21,
   "id": "d4920002-220d-4d57-bd0f-a9a30d2acf88",
   "metadata": {},
   "outputs": [],
   "source": [
    "artworks = {}\n",
    "id_count = 1\n",
    "for row in df.itertuples():\n",
    "    name = row.name\n",
    "    path = row.path\n",
    "    path = ast.literal_eval(path)\n",
    "    coords = list(path.values())[0]\n",
    "    artworks[id_count] = coords\n",
    "    id_count += 1"
   ]
  },
  {
   "cell_type": "code",
   "execution_count": 17,
   "id": "8c291392-bad8-4c4a-a132-f6f77f03cbcc",
   "metadata": {},
   "outputs": [],
   "source": [
    "# Flag of France\n",
    "#art1 = [[125, 497], [175, 497], [175, 288], [171, 284], [171, 275], [148, 275], [148, 300], [141, 307], [141, 320], [152, 320], [152, 328], [125, 328], [125, 345], [132, 345], [132, 386], [125, 386]]\n",
    "#flag of argentina\n",
    "#art2 = [[1533, 1819], [1773, 1819], [1774, 1917], [1532, 1916]]"
   ]
  },
  {
   "cell_type": "code",
   "execution_count": 22,
   "id": "7ab58182-f5d0-4ba7-badb-11c709f47a8d",
   "metadata": {},
   "outputs": [],
   "source": [
    "def find_points(art):\n",
    "    x, y = np.meshgrid(np.arange(2000), np.arange(2000)) # make a canvas with coordinates\n",
    "    x, y = x.flatten(), y.flatten()\n",
    "    points = np.vstack((x,y)).T \n",
    "\n",
    "    p = Path(art) # make a polygon\n",
    "    grid = p.contains_points(points,radius = 0)\n",
    "    mask = grid.reshape(2000,2000) # now you have a mask with points inside a polygon\n",
    "    x,y = mask.nonzero()\n",
    "    coords = []\n",
    "    for xc,yc in zip(x,y):\n",
    "        coords.append((xc,yc))\n",
    "    return coords"
   ]
  },
  {
   "cell_type": "code",
   "execution_count": null,
   "id": "7acd0374-1663-4b8f-aba8-a63fd6b2d003",
   "metadata": {},
   "outputs": [],
   "source": []
  },
  {
   "cell_type": "code",
   "execution_count": null,
   "id": "68b1c742-aee6-46bf-b83f-3f3b8153dbd2",
   "metadata": {},
   "outputs": [],
   "source": [
    "CHUNK_SIZE = 3_000_000\n",
    "MIN_TILES = 100\n",
    "\n",
    "f = open('./output/bipartite_network_' + str(MIN_TILES) + '_'+ str(NUM_ARTS) + '.csv', 'w')\n",
    "counter = 0\n",
    "\n",
    "for key in tqdm(artworks.keys()):\n",
    "    art_pixel = find_points(artworks[key])\n",
    "    s = set(art_pixel)\n",
    "    name = key\n",
    "    user_actions = {}\n",
    "    l = []\n",
    "\n",
    "    with pd.read_csv(\n",
    "            'reddit_place_2022_trimmed.csv',\n",
    "            chunksize=CHUNK_SIZE,\n",
    "            engine=\"c\",\n",
    "            dtype={'timestamp':np.uint32,\n",
    "              'user_id':np.uint32,\n",
    "              'pixel_color':np.uint8,\n",
    "              'x':np.uint16,\n",
    "              'y':np.uint16,}\n",
    "        ) as csv:\n",
    "            for chunk in tqdm(csv):\n",
    "                for row in chunk.itertuples():\n",
    "                    user = row.user_id\n",
    "                    x = row.x\n",
    "                    y = row.y\n",
    "                    if (x,y) in s:\n",
    "                        if  user in user_actions:\n",
    "                            user_actions[user] = user_actions[user] + 1 \n",
    "                        else:\n",
    "                            user_actions[user] = 1\n",
    "               \n",
    "    for user_key in user_actions.keys():\n",
    "        if user_actions[user_key] > MIN_TILES:\n",
    "            f.write(str(name) + ' ' + str(user_key) + '\\n')\n",
    "            l.append(user_actions[user_key])\n",
    "            counter +=  1\n",
    "            \n",
    "    pickle.dump(l, open('./output/tiles/distrib_tiles_' + str(name) + '.pickle', \"wb\")) \n",
    "    print(counter)\n",
    "f.close()"
   ]
  },
  {
   "cell_type": "markdown",
   "id": "0a7031ec-724d-4267-9e39-8f539d43cad4",
   "metadata": {},
   "source": [
    "# weighted bipartite sets"
   ]
  },
  {
   "cell_type": "code",
   "execution_count": 25,
   "id": "4c8b3f59-71a1-4083-8b61-1bc65032a72d",
   "metadata": {},
   "outputs": [
    {
     "data": {
      "application/vnd.jupyter.widget-view+json": {
       "model_id": "e61048d2abdc4370af385548e101955c",
       "version_major": 2,
       "version_minor": 0
      },
      "text/plain": [
       "  0%|          | 0/5 [00:00<?, ?it/s]"
      ]
     },
     "metadata": {},
     "output_type": "display_data"
    },
    {
     "data": {
      "application/vnd.jupyter.widget-view+json": {
       "model_id": "9c4149a6f94a4f378f3ba22c5562088d",
       "version_major": 2,
       "version_minor": 0
      },
      "text/plain": [
       "0it [00:00, ?it/s]"
      ]
     },
     "metadata": {},
     "output_type": "display_data"
    },
    {
     "name": "stdout",
     "output_type": "stream",
     "text": [
      "154301\n"
     ]
    },
    {
     "data": {
      "application/vnd.jupyter.widget-view+json": {
       "model_id": "7c041d3c79a9431aaad42190ea64e51f",
       "version_major": 2,
       "version_minor": 0
      },
      "text/plain": [
       "0it [00:00, ?it/s]"
      ]
     },
     "metadata": {},
     "output_type": "display_data"
    },
    {
     "name": "stdout",
     "output_type": "stream",
     "text": [
      "232756\n"
     ]
    },
    {
     "data": {
      "application/vnd.jupyter.widget-view+json": {
       "model_id": "04cdb9c9428643af9cb8e736d75439bc",
       "version_major": 2,
       "version_minor": 0
      },
      "text/plain": [
       "0it [00:00, ?it/s]"
      ]
     },
     "metadata": {},
     "output_type": "display_data"
    },
    {
     "name": "stdout",
     "output_type": "stream",
     "text": [
      "474945\n"
     ]
    },
    {
     "data": {
      "application/vnd.jupyter.widget-view+json": {
       "model_id": "6c045f4896624e1fa45b6dee20f98012",
       "version_major": 2,
       "version_minor": 0
      },
      "text/plain": [
       "0it [00:00, ?it/s]"
      ]
     },
     "metadata": {},
     "output_type": "display_data"
    },
    {
     "name": "stdout",
     "output_type": "stream",
     "text": [
      "566660\n"
     ]
    },
    {
     "data": {
      "application/vnd.jupyter.widget-view+json": {
       "model_id": "b81b7af6a9e349ccbf92abc00a1eb92c",
       "version_major": 2,
       "version_minor": 0
      },
      "text/plain": [
       "0it [00:00, ?it/s]"
      ]
     },
     "metadata": {},
     "output_type": "display_data"
    },
    {
     "name": "stdout",
     "output_type": "stream",
     "text": [
      "678916\n"
     ]
    }
   ],
   "source": [
    "CHUNK_SIZE = 3_000_000\n",
    "MIN_TILES = 5\n",
    "\n",
    "f = open('./output/bipartite_network_weighted_' + str(MIN_TILES) + '_'+ str(NUM_ARTS) + '.csv', 'w')\n",
    "counter = 0\n",
    "\n",
    "for key in tqdm(artworks.keys()):\n",
    "    art_pixel = find_points(artworks[key])\n",
    "    s = set(art_pixel)\n",
    "    name = key\n",
    "    user_actions = {}\n",
    "    l = []\n",
    "\n",
    "    with pd.read_csv(\n",
    "            'reddit_place_2022_trimmed.csv',\n",
    "            chunksize=CHUNK_SIZE,\n",
    "            engine=\"c\",\n",
    "            dtype={'timestamp':np.uint32,\n",
    "              'user_id':np.uint32,\n",
    "              'pixel_color':np.uint8,\n",
    "              'x':np.uint16,\n",
    "              'y':np.uint16,}\n",
    "        ) as csv:\n",
    "            for chunk in tqdm(csv):\n",
    "                for row in chunk.itertuples():\n",
    "                    user = row.user_id\n",
    "                    x = row.x\n",
    "                    y = row.y\n",
    "                    if (x,y) in s:\n",
    "                        if  user in user_actions:\n",
    "                            user_actions[user] = user_actions[user] + 1 \n",
    "                        else:\n",
    "                            user_actions[user] = 1\n",
    "               \n",
    "    for user_key in user_actions.keys():\n",
    "        if user_actions[user_key] > MIN_TILES:\n",
    "            f.write(str(name) + ' ' + str(user_key) + ' ' + str(user_actions[user_key]) + '\\n')\n",
    "            l.append(user_actions[user_key])\n",
    "            counter +=  1\n",
    "            \n",
    "    pickle.dump(l, open('./output/tiles/distrib_tiles_' + str(name) + '.pickle', \"wb\")) \n",
    "    print(counter)\n",
    "f.close()"
   ]
  },
  {
   "cell_type": "code",
   "execution_count": null,
   "id": "7073e20f-8505-4db1-bea9-4fbb095dec40",
   "metadata": {},
   "outputs": [],
   "source": []
  }
 ],
 "metadata": {
  "kernelspec": {
   "display_name": "Python 3 (ipykernel)",
   "language": "python",
   "name": "python3"
  },
  "language_info": {
   "codemirror_mode": {
    "name": "ipython",
    "version": 3
   },
   "file_extension": ".py",
   "mimetype": "text/x-python",
   "name": "python",
   "nbconvert_exporter": "python",
   "pygments_lexer": "ipython3",
   "version": "3.10.5"
  }
 },
 "nbformat": 4,
 "nbformat_minor": 5
}
