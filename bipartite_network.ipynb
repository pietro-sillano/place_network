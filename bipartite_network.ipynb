{
 "cells": [
  {
   "cell_type": "code",
   "execution_count": 13,
   "id": "77a52dc4-1ca5-41f5-81f0-79ef7ebd8672",
   "metadata": {},
   "outputs": [],
   "source": [
    "import numpy as np # linear algebra\n",
    "import pandas as pd # data processing, CSV file I/O (e.g. pd.read_csv)\n",
    "from tqdm.auto import tqdm\n",
    "from matplotlib.path import Path\n",
    "import ast\n",
    "import pickle\n",
    "import matplotlib.pyplot as plt\n",
    "from networkx.algorithms import bipartite\n",
    "import networkx as nx"
   ]
  },
  {
   "cell_type": "code",
   "execution_count": 14,
   "id": "f3a4de62-9627-42e6-9f97-2ec1fe014d5c",
   "metadata": {},
   "outputs": [
    {
     "data": {
      "text/html": [
       "<div>\n",
       "<style scoped>\n",
       "    .dataframe tbody tr th:only-of-type {\n",
       "        vertical-align: middle;\n",
       "    }\n",
       "\n",
       "    .dataframe tbody tr th {\n",
       "        vertical-align: top;\n",
       "    }\n",
       "\n",
       "    .dataframe thead th {\n",
       "        text-align: right;\n",
       "    }\n",
       "</style>\n",
       "<table border=\"1\" class=\"dataframe\">\n",
       "  <thead>\n",
       "    <tr style=\"text-align: right;\">\n",
       "      <th></th>\n",
       "      <th>Unnamed: 0.1</th>\n",
       "      <th>Unnamed: 0</th>\n",
       "      <th>id</th>\n",
       "      <th>name</th>\n",
       "      <th>path</th>\n",
       "      <th>center</th>\n",
       "      <th>area</th>\n",
       "    </tr>\n",
       "  </thead>\n",
       "  <tbody>\n",
       "    <tr>\n",
       "      <th>0</th>\n",
       "      <td>5372</td>\n",
       "      <td>5372</td>\n",
       "      <td>txrg84</td>\n",
       "      <td>Flag of France</td>\n",
       "      <td>{'109-164, T': [[249, 1469], [0, 1469], [0, 19...</td>\n",
       "      <td>{'109-164, T': [125, 1719]}</td>\n",
       "      <td>124500.0</td>\n",
       "    </tr>\n",
       "    <tr>\n",
       "      <th>1</th>\n",
       "      <td>1187</td>\n",
       "      <td>1187</td>\n",
       "      <td>twpyje</td>\n",
       "      <td>Flag of Germany</td>\n",
       "      <td>{'109-166, T': [[0, 1121], [448, 1121], [447, ...</td>\n",
       "      <td>{'109-166, T': [992, 1148]}</td>\n",
       "      <td>96223.0</td>\n",
       "    </tr>\n",
       "    <tr>\n",
       "      <th>2</th>\n",
       "      <td>258</td>\n",
       "      <td>258</td>\n",
       "      <td>000354</td>\n",
       "      <td>The Nordic Union</td>\n",
       "      <td>{'1-166, T': [[187, 93], [187, 97], [207, 97],...</td>\n",
       "      <td>{'1-166, T': [506, 129]}</td>\n",
       "      <td>89953.5</td>\n",
       "    </tr>\n",
       "    <tr>\n",
       "      <th>3</th>\n",
       "      <td>4866</td>\n",
       "      <td>4866</td>\n",
       "      <td>txd8wt</td>\n",
       "      <td>Central Alliance</td>\n",
       "      <td>{'1-166, T': [[448, 890], [512, 890], [512, 90...</td>\n",
       "      <td>{'1-166, T': [447, 994]}</td>\n",
       "      <td>75325.5</td>\n",
       "    </tr>\n",
       "    <tr>\n",
       "      <th>4</th>\n",
       "      <td>7916</td>\n",
       "      <td>7916</td>\n",
       "      <td>ubyhtf</td>\n",
       "      <td>Netherlands</td>\n",
       "      <td>{'56-166, T': [[297, 13], [297, 35], [886, 35]...</td>\n",
       "      <td>{'56-166, T': [1171, 19]}</td>\n",
       "      <td>54044.0</td>\n",
       "    </tr>\n",
       "  </tbody>\n",
       "</table>\n",
       "</div>"
      ],
      "text/plain": [
       "   Unnamed: 0.1  Unnamed: 0      id              name  \\\n",
       "0          5372        5372  txrg84    Flag of France   \n",
       "1          1187        1187  twpyje   Flag of Germany   \n",
       "2           258         258  000354  The Nordic Union   \n",
       "3          4866        4866  txd8wt  Central Alliance   \n",
       "4          7916        7916  ubyhtf       Netherlands   \n",
       "\n",
       "                                                path  \\\n",
       "0  {'109-164, T': [[249, 1469], [0, 1469], [0, 19...   \n",
       "1  {'109-166, T': [[0, 1121], [448, 1121], [447, ...   \n",
       "2  {'1-166, T': [[187, 93], [187, 97], [207, 97],...   \n",
       "3  {'1-166, T': [[448, 890], [512, 890], [512, 90...   \n",
       "4  {'56-166, T': [[297, 13], [297, 35], [886, 35]...   \n",
       "\n",
       "                        center      area  \n",
       "0  {'109-164, T': [125, 1719]}  124500.0  \n",
       "1  {'109-166, T': [992, 1148]}   96223.0  \n",
       "2     {'1-166, T': [506, 129]}   89953.5  \n",
       "3     {'1-166, T': [447, 994]}   75325.5  \n",
       "4    {'56-166, T': [1171, 19]}   54044.0  "
      ]
     },
     "execution_count": 14,
     "metadata": {},
     "output_type": "execute_result"
    }
   ],
   "source": [
    "df = pd.read_csv(\"artworks_ordered.csv\")\n",
    "df[:5]"
   ]
  },
  {
   "cell_type": "code",
   "execution_count": 15,
   "id": "e1aca85a-7943-48f1-b616-de1b822ad827",
   "metadata": {},
   "outputs": [],
   "source": [
    "df = df[:5]"
   ]
  },
  {
   "cell_type": "code",
   "execution_count": 16,
   "id": "d4920002-220d-4d57-bd0f-a9a30d2acf88",
   "metadata": {},
   "outputs": [],
   "source": [
    "artworks = {}\n",
    "id_count = 1\n",
    "for row in df.itertuples():\n",
    "    name = row.name\n",
    "    path = row.path\n",
    "    path = ast.literal_eval(path)\n",
    "    coords = list(path.values())[0]\n",
    "    artworks[id_count] = coords\n",
    "    id_count += 1"
   ]
  },
  {
   "cell_type": "code",
   "execution_count": 17,
   "id": "8c291392-bad8-4c4a-a132-f6f77f03cbcc",
   "metadata": {},
   "outputs": [],
   "source": [
    "# Flag of France\n",
    "#art1 = [[125, 497], [175, 497], [175, 288], [171, 284], [171, 275], [148, 275], [148, 300], [141, 307], [141, 320], [152, 320], [152, 328], [125, 328], [125, 345], [132, 345], [132, 386], [125, 386]]\n",
    "#flag of argentina\n",
    "#art2 = [[1533, 1819], [1773, 1819], [1774, 1917], [1532, 1916]]"
   ]
  },
  {
   "cell_type": "code",
   "execution_count": 18,
   "id": "7ab58182-f5d0-4ba7-badb-11c709f47a8d",
   "metadata": {},
   "outputs": [],
   "source": [
    "def find_points(art):\n",
    "    x, y = np.meshgrid(np.arange(2000), np.arange(2000)) # make a canvas with coordinates\n",
    "    x, y = x.flatten(), y.flatten()\n",
    "    points = np.vstack((x,y)).T \n",
    "\n",
    "    p = Path(art) # make a polygon\n",
    "    grid = p.contains_points(points,radius = 0)\n",
    "    mask = grid.reshape(2000,2000) # now you have a mask with points inside a polygon\n",
    "    x,y = mask.nonzero()\n",
    "    coords = []\n",
    "    for xc,yc in zip(x,y):\n",
    "        coords.append((xc,yc))\n",
    "    return coords"
   ]
  },
  {
   "cell_type": "code",
   "execution_count": 23,
   "id": "68b1c742-aee6-46bf-b83f-3f3b8153dbd2",
   "metadata": {},
   "outputs": [
    {
     "data": {
      "application/vnd.jupyter.widget-view+json": {
       "model_id": "af08e5d7cb60409cae92758ed9c238de",
       "version_major": 2,
       "version_minor": 0
      },
      "text/plain": [
       "  0%|          | 0/5 [00:00<?, ?it/s]"
      ]
     },
     "metadata": {},
     "output_type": "display_data"
    },
    {
     "data": {
      "application/vnd.jupyter.widget-view+json": {
       "model_id": "1ea0c10ff7434f6ab2dd3d03d5a97712",
       "version_major": 2,
       "version_minor": 0
      },
      "text/plain": [
       "0it [00:00, ?it/s]"
      ]
     },
     "metadata": {},
     "output_type": "display_data"
    },
    {
     "name": "stdout",
     "output_type": "stream",
     "text": [
      "1940\n"
     ]
    },
    {
     "data": {
      "application/vnd.jupyter.widget-view+json": {
       "model_id": "5d2cba3a485c4ad5abcb08e3c59aad39",
       "version_major": 2,
       "version_minor": 0
      },
      "text/plain": [
       "0it [00:00, ?it/s]"
      ]
     },
     "metadata": {},
     "output_type": "display_data"
    },
    {
     "name": "stdout",
     "output_type": "stream",
     "text": [
      "2233\n"
     ]
    },
    {
     "data": {
      "application/vnd.jupyter.widget-view+json": {
       "model_id": "18543adc11da458e9059e8b16a971115",
       "version_major": 2,
       "version_minor": 0
      },
      "text/plain": [
       "0it [00:00, ?it/s]"
      ]
     },
     "metadata": {},
     "output_type": "display_data"
    },
    {
     "name": "stdout",
     "output_type": "stream",
     "text": [
      "5084\n"
     ]
    },
    {
     "data": {
      "application/vnd.jupyter.widget-view+json": {
       "model_id": "74df565332e145de8120992c9adb2240",
       "version_major": 2,
       "version_minor": 0
      },
      "text/plain": [
       "0it [00:00, ?it/s]"
      ]
     },
     "metadata": {},
     "output_type": "display_data"
    },
    {
     "name": "stdout",
     "output_type": "stream",
     "text": [
      "6582\n"
     ]
    },
    {
     "data": {
      "application/vnd.jupyter.widget-view+json": {
       "model_id": "70eecb43ad6c42f6a8ad7592fc6064e6",
       "version_major": 2,
       "version_minor": 0
      },
      "text/plain": [
       "0it [00:00, ?it/s]"
      ]
     },
     "metadata": {},
     "output_type": "display_data"
    },
    {
     "name": "stdout",
     "output_type": "stream",
     "text": [
      "6964\n"
     ]
    }
   ],
   "source": [
    "CHUNK_SIZE = 3_000_000\n",
    "MIN_TILES = 100\n",
    "\n",
    "f = open('./output/bipartite_network' + str(MIN_TILES) + '.csv', 'w')\n",
    "counter = 0\n",
    "\n",
    "for key in tqdm(artworks.keys()):\n",
    "    art_pixel = find_points(artworks[key])\n",
    "    s = set(art_pixel)\n",
    "    name = key\n",
    "    user_actions = {}\n",
    "    l = []\n",
    "\n",
    "    with pd.read_csv(\n",
    "            'reddit_place_2022_trimmed.csv',\n",
    "            chunksize=CHUNK_SIZE,\n",
    "            engine=\"c\",\n",
    "            dtype={'timestamp':np.uint32,\n",
    "              'user_id':np.uint32,\n",
    "              'pixel_color':np.uint8,\n",
    "              'x':np.uint16,\n",
    "              'y':np.uint16,}\n",
    "        ) as csv:\n",
    "            for chunk in tqdm(csv):\n",
    "                for row in chunk.itertuples():\n",
    "                    user = row.user_id\n",
    "                    x = row.x\n",
    "                    y = row.y\n",
    "                    if (x,y) in s:\n",
    "                        if  user in user_actions:\n",
    "                            user_actions[user] = user_actions[user] + 1 \n",
    "                        else:\n",
    "                            user_actions[user] = 1\n",
    "               \n",
    "    for user_key in user_actions.keys():\n",
    "        if user_actions[user_key] > MIN_TILES:\n",
    "            f.write(str(name) + ' ' + str(user_key) + '\\n')\n",
    "            l.append(user_actions[user_key])\n",
    "            counter +=  1\n",
    "            \n",
    "    pickle.dump(l, open('./output/tiles/distrib_tiles_' + str(name) + '.pickle', \"wb\")) \n",
    "    print(counter)\n",
    "f.close()"
   ]
  }
 ],
 "metadata": {
  "kernelspec": {
   "display_name": "Python 3 (ipykernel)",
   "language": "python",
   "name": "python3"
  },
  "language_info": {
   "codemirror_mode": {
    "name": "ipython",
    "version": 3
   },
   "file_extension": ".py",
   "mimetype": "text/x-python",
   "name": "python",
   "nbconvert_exporter": "python",
   "pygments_lexer": "ipython3",
   "version": "3.10.5"
  }
 },
 "nbformat": 4,
 "nbformat_minor": 5
}
