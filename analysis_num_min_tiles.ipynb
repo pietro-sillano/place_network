{
 "cells": [
  {
   "cell_type": "markdown",
   "id": "e0c2342d-c7df-45fa-9d09-e4af9e6cd83c",
   "metadata": {},
   "source": [
    "# analysis_num_min_tiles"
   ]
  },
  {
   "cell_type": "code",
   "execution_count": 8,
   "id": "6f8c847f-8ce6-4e79-955e-a3986b04d18a",
   "metadata": {},
   "outputs": [],
   "source": [
    "import pickle\n",
    "import matplotlib.pyplot as plt\n",
    "import numpy as np\n",
    "from datetime import date"
   ]
  },
  {
   "cell_type": "code",
   "execution_count": 2,
   "id": "43c9a762-550d-4442-aaca-cf0fab8a04f6",
   "metadata": {},
   "outputs": [],
   "source": [
    "l = pickle.load(open('output/tiles/distrib_tiles_1.pickle','rb'))"
   ]
  },
  {
   "cell_type": "code",
   "execution_count": 3,
   "id": "57ae71fb-9a3b-4d87-8eb7-dec398884594",
   "metadata": {},
   "outputs": [
    {
     "data": {
      "text/plain": [
       "201"
      ]
     },
     "execution_count": 3,
     "metadata": {},
     "output_type": "execute_result"
    }
   ],
   "source": [
    "min(l)"
   ]
  },
  {
   "cell_type": "code",
   "execution_count": 4,
   "id": "47c0571b-6303-408d-83f7-185b8a57da5d",
   "metadata": {},
   "outputs": [
    {
     "data": {
      "text/plain": [
       "396"
      ]
     },
     "execution_count": 4,
     "metadata": {},
     "output_type": "execute_result"
    }
   ],
   "source": [
    "max(l)"
   ]
  },
  {
   "cell_type": "code",
   "execution_count": 6,
   "id": "74aba3ca-2816-4bda-9e57-28b2bb8106b5",
   "metadata": {},
   "outputs": [
    {
     "data": {
      "image/png": "[encoded data removed]",
      "text/plain": [
       "<Figure size 432x288 with 1 Axes>"
      ]
     },
     "metadata": {
      "needs_background": "light"
     },
     "output_type": "display_data"
    }
   ],
   "source": [
    "hist, bins, _ = plt.hist(l, bins=10)"
   ]
  },
  {
   "cell_type": "code",
   "execution_count": 9,
   "id": "4247b4aa-d06a-4b6d-829f-c79ef0fa65e9",
   "metadata": {},
   "outputs": [
    {
     "data": {
      "image/png": "[encoded data removed]",
      "text/plain": [
       "<Figure size 432x288 with 1 Axes>"
      ]
     },
     "metadata": {
      "needs_background": "light"
     },
     "output_type": "display_data"
    }
   ],
   "source": [
    "logbins = np.logspace(np.log10(bins[0]),np.log10(bins[-1]),10)\n",
    "plt.hist(l, bins=logbins)\n",
    "plt.xscale('log')\n",
    "plt.yscale('log')\n",
    "plt.show()"
   ]
  },
  {
   "cell_type": "code",
   "execution_count": null,
   "id": "ab2337f9-a6a2-4bb9-a2d6-b8910a5fc878",
   "metadata": {},
   "outputs": [],
   "source": []
  }
 ],
 "metadata": {
  "kernelspec": {
   "display_name": "Python 3 (ipykernel)",
   "language": "python",
   "name": "python3"
  },
  "language_info": {
   "codemirror_mode": {
    "name": "ipython",
    "version": 3
   },
   "file_extension": ".py",
   "mimetype": "text/x-python",
   "name": "python",
   "nbconvert_exporter": "python",
   "pygments_lexer": "ipython3",
   "version": "3.10.5"
  }
 },
 "nbformat": 4,
 "nbformat_minor": 5
}
