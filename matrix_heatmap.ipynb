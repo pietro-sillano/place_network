{
 "cells": [
  {
   "cell_type": "code",
   "execution_count": 4,
   "id": "eed8fb51-b0ef-403f-af4b-574473de3807",
   "metadata": {},
   "outputs": [],
   "source": [
    "import numpy as np\n",
    "from scipy.sparse import csc_array\n",
    "import pickle"
   ]
  },
  {
   "cell_type": "code",
   "execution_count": 5,
   "id": "dd422109-b8b5-4e20-bdf5-ca64cea0ae44",
   "metadata": {},
   "outputs": [],
   "source": [
    "with open('amogi_by_time (1).pickle', 'rb') as handle:\n",
    "    b = pickle.load(handle)"
   ]
  },
  {
   "cell_type": "code",
   "execution_count": 35,
   "id": "7f4d84a0-9dc6-4a84-9f11-3a322889cf75",
   "metadata": {},
   "outputs": [],
   "source": [
    "heatmap = np.zeros(shape = (2000,2000))\n",
    "for key in b.keys():\n",
    "    x = b[key][0]\n",
    "    y = b[key][1]\n",
    "    val = b[key][2]\n",
    "    data = np.ones((len(x)),dtype='uint8')\n",
    "    layer = csc_array((data, (x, y)),shape = (2000,2000)).toarray()\n",
    "    heatmap =+ layer "
   ]
  },
  {
   "cell_type": "code",
   "execution_count": 36,
   "id": "dee245c7-7c84-4889-aa69-3355c2306c1e",
   "metadata": {},
   "outputs": [
    {
     "data": {
      "text/plain": [
       "2"
      ]
     },
     "execution_count": 36,
     "metadata": {},
     "output_type": "execute_result"
    }
   ],
   "source": [
    "len(heatmap.nonzero())"
   ]
  },
  {
   "cell_type": "code",
   "execution_count": 11,
   "id": "5a71b44b-a535-4000-a1b9-c1de325f4b0b",
   "metadata": {},
   "outputs": [],
   "source": [
    "key = 1648822500\n",
    "x = b[key][0]\n",
    "y = b[key][1]\n",
    "val = b[key][2]\n",
    "\n",
    "data = np.ones((len(x)),dtype='uint8')"
   ]
  },
  {
   "cell_type": "code",
   "execution_count": 17,
   "id": "d48a1ed3-d25f-46ab-9c69-be5f83b34d4b",
   "metadata": {},
   "outputs": [
    {
     "data": {
      "text/plain": [
       "(2000, 2000)"
      ]
     },
     "execution_count": 17,
     "metadata": {},
     "output_type": "execute_result"
    }
   ],
   "source": [
    "heatmap = csc_array((data, (x, y)),shape = (2000,2000)).toarray()\n",
    "heatmap.shape"
   ]
  },
  {
   "cell_type": "code",
   "execution_count": null,
   "id": "3790a10f-4c33-4c84-b107-21cd19978441",
   "metadata": {},
   "outputs": [],
   "source": []
  },
  {
   "cell_type": "code",
   "execution_count": null,
   "id": "56e0dd4d-ade5-4a81-bcb8-524610436f61",
   "metadata": {},
   "outputs": [],
   "source": [
    "csc_array((3, 4), dtype=np.int8).toarray()\n",
    "array([[0, 0, 0, 0],\n",
    "       [0, 0, 0, 0],\n",
    "       [0, 0, 0, 0]], dtype=int8)\n",
    "\n",
    "\n",
    "\n",
    "    \n",
    "    \n",
    "    \n",
    "row = np.array([0, 2, 2, 0, 1, 2])\n",
    "col = np.array([0, 0, 1, 2, 2, 2])\n",
    "data = np.array([1, 2, 3, 4, 5, 6])\n",
    "csc_array((data, (row, col)), shape=(3, 3)).toarray()\n",
    "array([[1, 0, 4],\n",
    "       [0, 0, 5],\n",
    "       [2, 3, 6]])"
   ]
  }
 ],
 "metadata": {
  "kernelspec": {
   "display_name": "Python 3 (ipykernel)",
   "language": "python",
   "name": "python3"
  },
  "language_info": {
   "codemirror_mode": {
    "name": "ipython",
    "version": 3
   },
   "file_extension": ".py",
   "mimetype": "text/x-python",
   "name": "python",
   "nbconvert_exporter": "python",
   "pygments_lexer": "ipython3",
   "version": "3.10.5"
  }
 },
 "nbformat": 4,
 "nbformat_minor": 5
}
