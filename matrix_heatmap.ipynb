{
 "cells": [
  {
   "cell_type": "code",
   "execution_count": 8,
   "id": "eed8fb51-b0ef-403f-af4b-574473de3807",
   "metadata": {},
   "outputs": [],
   "source": [
    "import numpy as np\n",
    "from scipy.sparse import csc_array\n",
    "import pickle"
   ]
  },
  {
   "cell_type": "code",
   "execution_count": 9,
   "id": "dd422109-b8b5-4e20-bdf5-ca64cea0ae44",
   "metadata": {},
   "outputs": [],
   "source": [
    "with open('amogi_by_time (1).pickle', 'rb') as handle:\n",
    "    b = pickle.load(handle)"
   ]
  },
  {
   "cell_type": "code",
   "execution_count": 15,
   "id": "e6025ed0-9b84-4c71-b379-93de7d3907bb",
   "metadata": {},
   "outputs": [
    {
     "data": {
      "text/plain": [
       "array([ 10,  10,  13,  23,  40,  57,  75,  93, 103, 111, 112, 114, 115,\n",
       "       121, 122, 130, 145, 163, 165, 245, 257, 269, 269, 276, 279, 282,\n",
       "       284, 296, 304, 325, 326, 330, 334, 336, 338, 346, 349, 350, 361,\n",
       "       369, 373, 375, 379, 381, 387, 388, 393, 397, 398, 403, 404, 406,\n",
       "       406, 406, 417, 421, 431, 444, 446, 463, 463, 466, 477, 481, 485,\n",
       "       493, 498, 499, 500, 501, 507, 510, 515, 517, 525, 525, 528, 530,\n",
       "       535, 536, 538, 539, 540, 544, 545, 547, 550, 561, 566, 567, 573,\n",
       "       580, 587, 592, 605, 614, 622, 628, 630, 633, 644, 664, 672, 696,\n",
       "       707, 720, 727, 727, 730, 732, 732, 743, 744, 745, 752, 755, 759,\n",
       "       761, 763, 766, 774, 775, 781, 786, 790, 796, 796, 800, 803, 814,\n",
       "       867, 879, 885, 886, 894, 895, 919, 926, 928, 930, 943, 944, 952,\n",
       "       961, 967, 969, 970, 972, 972, 972, 973, 977, 977, 977, 977, 977,\n",
       "       977, 977, 977, 977, 977, 977, 977, 977, 977, 977, 977, 977, 977,\n",
       "       977, 977, 977, 977, 977, 977, 977, 977, 977, 977, 977, 977, 977,\n",
       "       977, 977, 977, 977, 977, 977, 977, 977, 977, 977, 977, 977, 977,\n",
       "       977, 977, 977, 977, 977, 977, 977, 977, 977, 977, 977, 977, 977,\n",
       "       977, 977, 977, 977, 977, 977, 977, 977, 977, 977, 977, 977, 977,\n",
       "       977, 977, 977, 977, 977, 977, 977, 977, 977, 977, 977, 977, 977,\n",
       "       977, 977, 977, 977, 977, 977, 977, 977, 977, 977, 977, 977, 977,\n",
       "       977, 977, 977, 977, 977, 977, 977, 977, 977, 977, 977, 981, 982,\n",
       "       982, 982, 982, 982, 982, 982, 982, 982, 982, 982, 982, 982, 982,\n",
       "       982, 982, 982, 982, 982, 982, 982, 982, 982, 982, 982, 982, 982,\n",
       "       982, 982, 982, 982, 982, 982, 982, 982, 982, 982, 982, 982, 982,\n",
       "       982, 982, 982, 982, 982, 982, 982, 982, 982, 982, 982, 982, 982,\n",
       "       982, 982, 982, 982, 982, 982, 982, 982, 982, 982, 982, 982, 982,\n",
       "       982, 987, 987, 987, 987, 987, 987, 987, 987, 987, 987, 987, 987,\n",
       "       987, 987, 987, 987, 987, 987, 987, 987, 987, 987, 987, 992])"
      ]
     },
     "execution_count": 15,
     "metadata": {},
     "output_type": "execute_result"
    }
   ],
   "source": [
    "b[1648822500][0]"
   ]
  },
  {
   "cell_type": "code",
   "execution_count": 18,
   "id": "7f4d84a0-9dc6-4a84-9f11-3a322889cf75",
   "metadata": {},
   "outputs": [
    {
     "name": "stdout",
     "output_type": "stream",
     "text": [
      "350\n"
     ]
    }
   ],
   "source": [
    "heatmap = np.zeros(shape = (2000,2000))\n",
    "for key in b.keys():\n",
    "    x = b[key][0]\n",
    "    y = b[key][1]\n",
    "    val = b[key][2]\n",
    "    data = np.ones((len(x)),dtype='uint8')\n",
    "    layer = csc_array((data, (x, y)),shape = (2000,2000)).toarray()\n",
    "    print(len(layer.nonzero()[0]))\n",
    "    heatmap =+ layer \n",
    "    break"
   ]
  },
  {
   "cell_type": "code",
   "execution_count": 12,
   "id": "dee245c7-7c84-4889-aa69-3355c2306c1e",
   "metadata": {},
   "outputs": [
    {
     "data": {
      "text/plain": [
       "(0,)"
      ]
     },
     "execution_count": 12,
     "metadata": {},
     "output_type": "execute_result"
    }
   ],
   "source": [
    "x,y = heatmap.nonzero()\n",
    "x.shape"
   ]
  },
  {
   "cell_type": "code",
   "execution_count": 11,
   "id": "5a71b44b-a535-4000-a1b9-c1de325f4b0b",
   "metadata": {},
   "outputs": [],
   "source": [
    "key = 1648822500\n",
    "x = b[key][0]\n",
    "y = b[key][1]\n",
    "val = b[key][2]\n",
    "\n",
    "data = np.ones((len(x)),dtype='uint8')"
   ]
  },
  {
   "cell_type": "code",
   "execution_count": 17,
   "id": "d48a1ed3-d25f-46ab-9c69-be5f83b34d4b",
   "metadata": {},
   "outputs": [
    {
     "data": {
      "text/plain": [
       "(2000, 2000)"
      ]
     },
     "execution_count": 17,
     "metadata": {},
     "output_type": "execute_result"
    }
   ],
   "source": [
    "heatmap = csc_array((data, (x, y)),shape = (2000,2000)).toarray()\n",
    "heatmap.shape"
   ]
  },
  {
   "cell_type": "code",
   "execution_count": null,
   "id": "3790a10f-4c33-4c84-b107-21cd19978441",
   "metadata": {},
   "outputs": [],
   "source": []
  },
  {
   "cell_type": "code",
   "execution_count": null,
   "id": "56e0dd4d-ade5-4a81-bcb8-524610436f61",
   "metadata": {},
   "outputs": [],
   "source": [
    "csc_array((3, 4), dtype=np.int8).toarray()\n",
    "array([[0, 0, 0, 0],\n",
    "       [0, 0, 0, 0],\n",
    "       [0, 0, 0, 0]], dtype=int8)\n",
    "\n",
    "\n",
    "\n",
    "    \n",
    "    \n",
    "    \n",
    "row = np.array([0, 2, 2, 0, 1, 2])\n",
    "col = np.array([0, 0, 1, 2, 2, 2])\n",
    "data = np.array([1, 2, 3, 4, 5, 6])\n",
    "csc_array((data, (row, col)), shape=(3, 3)).toarray()\n",
    "array([[1, 0, 4],\n",
    "       [0, 0, 5],\n",
    "       [2, 3, 6]])"
   ]
  }
 ],
 "metadata": {
  "kernelspec": {
   "display_name": "Python 3 (ipykernel)",
   "language": "python",
   "name": "python3"
  },
  "language_info": {
   "codemirror_mode": {
    "name": "ipython",
    "version": 3
   },
   "file_extension": ".py",
   "mimetype": "text/x-python",
   "name": "python",
   "nbconvert_exporter": "python",
   "pygments_lexer": "ipython3",
   "version": "3.10.5"
  }
 },
 "nbformat": 4,
 "nbformat_minor": 5
}
