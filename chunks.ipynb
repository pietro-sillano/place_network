{
 "cells": [
  {
   "cell_type": "code",
   "execution_count": 3,
   "id": "004e951e-b5ea-4072-8317-d35bc260a13b",
   "metadata": {},
   "outputs": [],
   "source": [
    "import numpy as np\n",
    "import pandas as pd"
   ]
  },
  {
   "cell_type": "code",
   "execution_count": 48,
   "id": "76cee99b-d435-4ab5-83ad-5e2fab46e3c3",
   "metadata": {},
   "outputs": [],
   "source": [
    "data = pd.read_csv(\n",
    "    'my-file.csv.gz',\n",
    "    sep='\\t',\n",
    "    chunksize=100,\n",
    "    compression='gzip')"
   ]
  },
  {
   "cell_type": "code",
   "execution_count": 58,
   "id": "14072c0b-b6ca-4dab-be5f-f7d3ca1c48b2",
   "metadata": {},
   "outputs": [],
   "source": [
    "df = pd.read_csv(\n",
    "    'my-file.csv.gz',\n",
    "    sep='\\t',\n",
    "    compression='gzip')"
   ]
  },
  {
   "cell_type": "code",
   "execution_count": 77,
   "id": "301cc341-d1f6-4b41-85de-78f906a7a755",
   "metadata": {},
   "outputs": [],
   "source": [
    "chunk = pd.DataFrame(\n",
    "    {\n",
    "        \"timestamp\": [123, 456, 789,345],\n",
    "        \"coordinate\": [\"0,0\", \"1,1\", \"2,2,3,3\",\"23,23\"],\n",
    "        \"user_id\":[\"user1\",\"user2\",\"user3\",\"user4\"],\n",
    "        \"pixel_color\": [0, 1, 2,3],\n",
    "    }\n",
    ")"
   ]
  },
  {
   "cell_type": "code",
   "execution_count": 79,
   "id": "15b79a9b-1e5b-42ae-ad2c-3f2c7cd3ede6",
   "metadata": {},
   "outputs": [
    {
     "data": {
      "text/html": [
       "<div>\n",
       "<style scoped>\n",
       "    .dataframe tbody tr th:only-of-type {\n",
       "        vertical-align: middle;\n",
       "    }\n",
       "\n",
       "    .dataframe tbody tr th {\n",
       "        vertical-align: top;\n",
       "    }\n",
       "\n",
       "    .dataframe thead th {\n",
       "        text-align: right;\n",
       "    }\n",
       "</style>\n",
       "<table border=\"1\" class=\"dataframe\">\n",
       "  <thead>\n",
       "    <tr style=\"text-align: right;\">\n",
       "      <th></th>\n",
       "      <th>timestamp</th>\n",
       "      <th>coordinate</th>\n",
       "      <th>user_id</th>\n",
       "      <th>pixel_color</th>\n",
       "    </tr>\n",
       "  </thead>\n",
       "  <tbody>\n",
       "    <tr>\n",
       "      <th>0</th>\n",
       "      <td>123</td>\n",
       "      <td>0,0</td>\n",
       "      <td>0</td>\n",
       "      <td>0</td>\n",
       "    </tr>\n",
       "    <tr>\n",
       "      <th>1</th>\n",
       "      <td>456</td>\n",
       "      <td>1,1</td>\n",
       "      <td>1</td>\n",
       "      <td>1</td>\n",
       "    </tr>\n",
       "    <tr>\n",
       "      <th>2</th>\n",
       "      <td>789</td>\n",
       "      <td>2,2,3,3</td>\n",
       "      <td>2</td>\n",
       "      <td>2</td>\n",
       "    </tr>\n",
       "    <tr>\n",
       "      <th>3</th>\n",
       "      <td>345</td>\n",
       "      <td>23,23</td>\n",
       "      <td>3</td>\n",
       "      <td>3</td>\n",
       "    </tr>\n",
       "  </tbody>\n",
       "</table>\n",
       "</div>"
      ],
      "text/plain": [
       "   timestamp coordinate  user_id  pixel_color\n",
       "0        123        0,0        0            0\n",
       "1        456        1,1        1            1\n",
       "2        789    2,2,3,3        2            2\n",
       "3        345      23,23        3            3"
      ]
     },
     "execution_count": 79,
     "metadata": {},
     "output_type": "execute_result"
    }
   ],
   "source": [
    "chunk.user_id = pd.Categorical(chunk.user_id)\n",
    "chunk['user_id'] = chunk.user_id.cat.codes\n",
    "chunk"
   ]
  },
  {
   "cell_type": "code",
   "execution_count": 5,
   "id": "fea7f3fc-2997-4dfa-b097-562e3b9d0ebc",
   "metadata": {},
   "outputs": [
    {
     "name": "stdout",
     "output_type": "stream",
     "text": [
      "9"
     ]
    }
   ],
   "source": [
    "for i, df in enumerate(df_chunks):\n",
    "    for date, d in df.groupby('date'):\n",
    "        date = pd.Timestamp(date)\n",
    "        d.drop_duplicates().to_csv(\n",
    "            f'{date:%Y%m%d}.csv.gz',\n",
    "            compression='gzip',\n",
    "            mode='a',\n",
    "            index=False,\n",
    "            header=False\n",
    "        )\n",
    "    print(f'\\r{i}', end='')"
   ]
  },
  {
   "cell_type": "code",
   "execution_count": 30,
   "id": "fe1fab27-a1c7-4290-98b9-63dd60d6f194",
   "metadata": {},
   "outputs": [
    {
     "data": {
      "text/plain": [
       "<pandas.core.groupby.generic.DataFrameGroupBy object at 0x7fdd2e806620>"
      ]
     },
     "execution_count": 30,
     "metadata": {},
     "output_type": "execute_result"
    }
   ],
   "source": [
    "df_chunks.groupby('date')"
   ]
  },
  {
   "cell_type": "code",
   "execution_count": 33,
   "id": "195dea71-165b-4363-acce-ffa512511195",
   "metadata": {},
   "outputs": [
    {
     "name": "stdout",
     "output_type": "stream",
     "text": [
      "data: 2019-01-03\n",
      "d:       id        date\n",
      "991  217  2019-01-01\n",
      "data: 2019-01-19\n",
      "d:       id        date\n",
      "991  217  2019-01-01\n",
      "data: 2019-01-10\n",
      "d:       id        date\n",
      "991  217  2019-01-01\n",
      "data: 2019-01-03\n",
      "d:       id        date\n",
      "991  217  2019-01-01\n",
      "data: 2019-01-01\n",
      "d:       id        date\n",
      "991  217  2019-01-01\n",
      "data: 2019-01-03\n",
      "d:       id        date\n",
      "991  217  2019-01-01\n",
      "data: 2019-01-29\n",
      "d:       id        date\n",
      "991  217  2019-01-01\n",
      "data: 2019-01-11\n",
      "d:       id        date\n",
      "991  217  2019-01-01\n",
      "data: 2019-01-22\n",
      "d:       id        date\n",
      "991  217  2019-01-01\n",
      "data: 2019-01-01\n",
      "d:       id        date\n",
      "991  217  2019-01-01\n"
     ]
    }
   ],
   "source": [
    "for i, df in enumerate(df_chunks):\n",
    "    for date, d in df.groupby('date'):\n",
    "        print(\"data:\",date)\n",
    "        print(\"d:\",d)\n",
    "        break"
   ]
  },
  {
   "cell_type": "code",
   "execution_count": 6,
   "id": "316bebff-42c7-46d8-b65e-3061c6aa7b06",
   "metadata": {},
   "outputs": [
    {
     "name": "stdout",
     "output_type": "stream",
     "text": [
      "999: 20200730.csv.gz"
     ]
    }
   ],
   "source": [
    "from pathlib import Path\n",
    "\n",
    "path = Path('.')\n",
    "\n",
    "for i, fh in enumerate(path.glob('[0-9]' * 8 + '.csv.gz')):\n",
    "    df = pd.read_csv(fh, header=None)\n",
    "    df.drop_duplicates().to_csv(\n",
    "        'my_filtered.csv.gz',\n",
    "        compression='gzip',\n",
    "        mode='a',\n",
    "        index=False,\n",
    "        header=False\n",
    "    )\n",
    "    print(f'\\r{i}: {fh}', end='')\n",
    "\n",
    "df = pd.read_csv(\n",
    "    'my_filtered.csv.gz',\n",
    "    compression='gzip',\n",
    "    header=None,\n",
    "    names=['id', 'date']\n",
    ")\n"
   ]
  },
  {
   "cell_type": "code",
   "execution_count": 7,
   "id": "720100eb-554f-4e88-9e0b-1019b566a7ab",
   "metadata": {},
   "outputs": [],
   "source": [
    "assert len(df) == len(dfout) - dfout.duplicated().sum()\n",
    "assert df.duplicated().sum() == 0\n"
   ]
  },
  {
   "cell_type": "code",
   "execution_count": null,
   "id": "a89168ea-927b-4344-a2b4-17da4b3bb03f",
   "metadata": {},
   "outputs": [],
   "source": []
  },
  {
   "cell_type": "code",
   "execution_count": 2,
   "id": "0ee59968-05bc-4007-9a26-e24e4daea482",
   "metadata": {},
   "outputs": [],
   "source": [
    "import pandas as pd\n",
    "import collections\n",
    "my_file_name = \"63.csv\"\n",
    "my_chunk_size = 1000\n",
    "\n",
    "data=pd.read_csv(my_file_name, chunksize=my_chunk_size)\n"
   ]
  },
  {
   "cell_type": "code",
   "execution_count": 46,
   "id": "ff5b646f-e7bb-4021-866c-bdabe2ff357e",
   "metadata": {},
   "outputs": [
    {
     "ename": "ValueError",
     "evalue": "dictionary update sequence element #0 has length 88; 2 is required",
     "output_type": "error",
     "traceback": [
      "\u001b[0;31m---------------------------------------------------------------------------\u001b[0m",
      "\u001b[0;31mValueError\u001b[0m                                Traceback (most recent call last)",
      "Input \u001b[0;32mIn [46]\u001b[0m, in \u001b[0;36m<cell line: 2>\u001b[0;34m()\u001b[0m\n\u001b[1;32m      1\u001b[0m uniques \u001b[38;5;241m=\u001b[39m collections\u001b[38;5;241m.\u001b[39mdefaultdict(\u001b[38;5;28mlist\u001b[39m)\n\u001b[1;32m      2\u001b[0m \u001b[38;5;28;01mfor\u001b[39;00m chunk \u001b[38;5;129;01min\u001b[39;00m data: \n\u001b[0;32m----> 3\u001b[0m     \u001b[43muniques\u001b[49m\u001b[38;5;241;43m.\u001b[39;49m\u001b[43mupdate\u001b[49m\u001b[43m(\u001b[49m\u001b[43mchunk\u001b[49m\u001b[43m[\u001b[49m\u001b[38;5;124;43m'\u001b[39;49m\u001b[38;5;124;43muser_id\u001b[39;49m\u001b[38;5;124;43m'\u001b[39;49m\u001b[43m]\u001b[49m\u001b[38;5;241;43m.\u001b[39;49m\u001b[43munique\u001b[49m\u001b[43m(\u001b[49m\u001b[43m)\u001b[49m\u001b[43m)\u001b[49m\n",
      "\u001b[0;31mValueError\u001b[0m: dictionary update sequence element #0 has length 88; 2 is required"
     ]
    }
   ],
   "source": [
    "uniques = collections.defaultdict(list)\n",
    "for chunk in data: \n"
   ]
  },
  {
   "cell_type": "code",
   "execution_count": 45,
   "id": "8d035167-e80f-4e99-b390-0a9306d76a33",
   "metadata": {},
   "outputs": [],
   "source": []
  },
  {
   "cell_type": "code",
   "execution_count": 7,
   "id": "1dee5ccd-6df0-4f01-a1d2-52fa5b377e79",
   "metadata": {},
   "outputs": [
    {
     "name": "stderr",
     "output_type": "stream",
     "text": [
      "23it [00:12,  1.91it/s]\n"
     ]
    }
   ],
   "source": [
    "from tqdm import tqdm\n",
    "\n",
    "CHUNK_SIZE = 100_000\n",
    "mapping = {}\n",
    "counter = 1\n",
    "infile_path = \"78.csv\"\n",
    "#infile_path = \"2022_place_canvas_history.csv\"\n",
    "\n",
    "with pd.read_csv(\n",
    "        infile_path,\n",
    "        usecols=[\"user_id\"],\n",
    "        chunksize=CHUNK_SIZE,\n",
    "        engine=\"c\",\n",
    "    ) as csv:\n",
    "        for chunk in tqdm(csv):\n",
    "            for user in chunk.user_id:\n",
    "                if not user in mapping:\n",
    "                    mapping[user] = counter\n",
    "                    counter += 1\n",
    "            chunk[\"user_id\"] = chunk[\"user_id\"].map(mapping)\n",
    "            df = pd.concat(chunk)\n"
   ]
  },
  {
   "cell_type": "code",
   "execution_count": 8,
   "id": "ce1a723a-1b26-4c4a-a3e2-7b403360fc84",
   "metadata": {},
   "outputs": [
    {
     "data": {
      "text/plain": [
       "1004894"
      ]
     },
     "execution_count": 8,
     "metadata": {},
     "output_type": "execute_result"
    }
   ],
   "source": [
    "len(mapping.keys()) == len()"
   ]
  },
  {
   "cell_type": "code",
   "execution_count": 13,
   "id": "af41cb25-05ed-409b-9362-0c0eea3e51f4",
   "metadata": {},
   "outputs": [
    {
     "data": {
      "text/plain": [
       "35597"
      ]
     },
     "execution_count": 13,
     "metadata": {},
     "output_type": "execute_result"
    }
   ],
   "source": [
    "len(chunk)"
   ]
  },
  {
   "cell_type": "code",
   "execution_count": 12,
   "id": "b2e35653-e014-4dc1-8d55-302ef876d103",
   "metadata": {},
   "outputs": [
    {
     "data": {
      "text/html": [
       "<div>\n",
       "<style scoped>\n",
       "    .dataframe tbody tr th:only-of-type {\n",
       "        vertical-align: middle;\n",
       "    }\n",
       "\n",
       "    .dataframe tbody tr th {\n",
       "        vertical-align: top;\n",
       "    }\n",
       "\n",
       "    .dataframe thead th {\n",
       "        text-align: right;\n",
       "    }\n",
       "</style>\n",
       "<table border=\"1\" class=\"dataframe\">\n",
       "  <thead>\n",
       "    <tr style=\"text-align: right;\">\n",
       "      <th></th>\n",
       "      <th>user_id</th>\n",
       "    </tr>\n",
       "  </thead>\n",
       "  <tbody>\n",
       "    <tr>\n",
       "      <th>2200000</th>\n",
       "      <td>992026</td>\n",
       "    </tr>\n",
       "    <tr>\n",
       "      <th>2200001</th>\n",
       "      <td>139104</td>\n",
       "    </tr>\n",
       "    <tr>\n",
       "      <th>2200002</th>\n",
       "      <td>295221</td>\n",
       "    </tr>\n",
       "    <tr>\n",
       "      <th>2200003</th>\n",
       "      <td>335548</td>\n",
       "    </tr>\n",
       "    <tr>\n",
       "      <th>2200004</th>\n",
       "      <td>474770</td>\n",
       "    </tr>\n",
       "  </tbody>\n",
       "</table>\n",
       "</div>"
      ],
      "text/plain": [
       "         user_id\n",
       "2200000   992026\n",
       "2200001   139104\n",
       "2200002   295221\n",
       "2200003   335548\n",
       "2200004   474770"
      ]
     },
     "execution_count": 12,
     "metadata": {},
     "output_type": "execute_result"
    }
   ],
   "source": [
    "chunk.head()"
   ]
  },
  {
   "cell_type": "code",
   "execution_count": null,
   "id": "659eebc3-4af5-4c6b-9270-4803289224fd",
   "metadata": {},
   "outputs": [],
   "source": []
  }
 ],
 "metadata": {
  "kernelspec": {
   "display_name": "Python 3 (ipykernel)",
   "language": "python",
   "name": "python3"
  },
  "language_info": {
   "codemirror_mode": {
    "name": "ipython",
    "version": 3
   },
   "file_extension": ".py",
   "mimetype": "text/x-python",
   "name": "python",
   "nbconvert_exporter": "python",
   "pygments_lexer": "ipython3",
   "version": "3.10.5"
  }
 },
 "nbformat": 4,
 "nbformat_minor": 5
}
