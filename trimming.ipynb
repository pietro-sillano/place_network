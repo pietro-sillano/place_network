{
  "nbformat": 4,
  "nbformat_minor": 0,
  "metadata": {
    "colab": {
      "name": "trimming.ipynb",
      "provenance": []
    },
    "kernelspec": {
      "name": "python3",
      "display_name": "Python 3"
    },
    "language_info": {
      "name": "python"
    }
  },
  "cells": [
    {
      "cell_type": "code",
      "execution_count": null,
      "metadata": {
        "id": "5QTI1gR7HRvC"
      },
      "outputs": [],
      "source": [
        "! pip install -q kaggle"
      ]
    },
    {
      "cell_type": "code",
      "source": [
        "# upload kaggle json\n",
        " ! mkdir ~/.kaggle"
      ],
      "metadata": {
        "id": "0nadZT9MIaBU"
      },
      "execution_count": null,
      "outputs": []
    },
    {
      "cell_type": "code",
      "source": [
        "! cp kaggle.json ~/.kaggle/"
      ],
      "metadata": {
        "id": "8xvXzvA1Inlg"
      },
      "execution_count": null,
      "outputs": []
    },
    {
      "cell_type": "code",
      "source": [
        "! chmod 600 ~/.kaggle/kaggle.json"
      ],
      "metadata": {
        "id": "zSn8EF9bIpwE"
      },
      "execution_count": null,
      "outputs": []
    },
    {
      "cell_type": "code",
      "source": [
        "! kaggle datasets download -d antoinecarpentier/redditrplacecsv"
      ],
      "metadata": {
        "colab": {
          "base_uri": "https://localhost:8080/"
        },
        "id": "mayKFXNxIrWI",
        "outputId": "d7127c8a-8d8c-400a-c603-c4c9e017194b"
      },
      "execution_count": null,
      "outputs": [
        {
          "output_type": "stream",
          "name": "stdout",
          "text": [
            "Downloading redditrplacecsv.zip to /content\n",
            "100% 11.6G/11.6G [01:22<00:00, 201MB/s]\n",
            "100% 11.6G/11.6G [01:22<00:00, 151MB/s]\n"
          ]
        }
      ]
    },
    {
      "cell_type": "code",
      "source": [
        "! unzip redditrplacecsv.zip\n",
        "\n"
      ],
      "metadata": {
        "colab": {
          "base_uri": "https://localhost:8080/"
        },
        "id": "gVETHHjtIsq8",
        "outputId": "dae96fef-cad4-49c7-a2e8-89885b83fd86"
      },
      "execution_count": null,
      "outputs": [
        {
          "output_type": "stream",
          "name": "stdout",
          "text": [
            "Archive:  redditrplacecsv.zip\n",
            "  inflating: 2022_place_canvas_history.csv  \n"
          ]
        }
      ]
    },
    {
      "cell_type": "code",
      "source": [
        "import pandas as pd\n",
        "from tqdm import tqdm"
      ],
      "metadata": {
        "id": "a6yG1QG4JBCf"
      },
      "execution_count": null,
      "outputs": []
    },
    {
      "cell_type": "code",
      "source": [
        "from datetime import datetime\n",
        "\n",
        "# The length of time in milliseconds after 1970-01-01T00:00:00.000 UTC that\n",
        "# the first pixel was placed in r/Place 2022.\n",
        "START_TIME = 1648806250315\n",
        "\n",
        "\n",
        "def parse_timestamp(timestamp):\n",
        "    \"\"\"Convert a YYYY-MM-DD HH:MM:SS.SSS timestamp to milliseconds after the start of r/Place 2022.\"\"\"\n",
        "    date_format = \"%Y-%m-%d %H:%M:%S.%f\"\n",
        "    try:\n",
        "        # Remove the UTC timezone from the timestamp and convert it to a POSIX timestamp.\n",
        "        timestamp = datetime.strptime(timestamp[:-4], date_format).timestamp()\n",
        "    except ValueError:\n",
        "        # The timestamp is exactly on the second, so there is no decimal (%f).\n",
        "        # This happens 1/1000 of the time.\n",
        "        timestamp = datetime.strptime(timestamp[:-4], date_format[:-3]).timestamp()\n",
        "\n",
        "    # Convert from a float in seconds to an int in milliseconds\n",
        "    timestamp *= 1000.0\n",
        "    timestamp = int(timestamp)\n",
        "\n",
        "    # The earliest timestamp is 1648806250315, so subtract that from each timestamp\n",
        "    # to get the time in milliseconds since the beginning of the experiment.\n",
        "    timestamp -= START_TIME\n",
        "\n",
        "    return timestamp\n",
        "\n",
        "\n",
        "# Parse a sample timestamp.\n",
        "parse_timestamp(\"2022-04-04 00:55:40.375 UTC\")\n"
      ],
      "metadata": {
        "colab": {
          "base_uri": "https://localhost:8080/"
        },
        "id": "tdMZWlGMJFND",
        "outputId": "968e50a5-70f3-413d-c594-dc50c5956e47"
      },
      "execution_count": null,
      "outputs": [
        {
          "output_type": "execute_result",
          "data": {
            "text/plain": [
              "227490060"
            ]
          },
          "metadata": {},
          "execution_count": 13
        }
      ]
    },
    {
      "cell_type": "code",
      "source": [
        "def parse_pixel_color(pixel_color):\n",
        "    \"\"\"Convert a hex color code to an integer key.\"\"\"\n",
        "    hex_to_key = {\n",
        "        \"#000000\": 0,\n",
        "        \"#00756F\": 1,\n",
        "        \"#009EAA\": 2,\n",
        "        \"#00A368\": 3,\n",
        "        \"#00CC78\": 4,\n",
        "        \"#00CCC0\": 5,\n",
        "        \"#2450A4\": 6,\n",
        "        \"#3690EA\": 7,\n",
        "        \"#493AC1\": 8,\n",
        "        \"#515252\": 9,\n",
        "        \"#51E9F4\": 10,\n",
        "        \"#6A5CFF\": 11,\n",
        "        \"#6D001A\": 12,\n",
        "        \"#6D482F\": 13,\n",
        "        \"#7EED56\": 14,\n",
        "        \"#811E9F\": 15,\n",
        "        \"#898D90\": 16,\n",
        "        \"#94B3FF\": 17,\n",
        "        \"#9C6926\": 18,\n",
        "        \"#B44AC0\": 19,\n",
        "        \"#BE0039\": 20,\n",
        "        \"#D4D7D9\": 21,\n",
        "        \"#DE107F\": 22,\n",
        "        \"#E4ABFF\": 23,\n",
        "        \"#FF3881\": 24,\n",
        "        \"#FF4500\": 25,\n",
        "        \"#FF99AA\": 26,\n",
        "        \"#FFA800\": 27,\n",
        "        \"#FFB470\": 28,\n",
        "        \"#FFD635\": 29,\n",
        "        \"#FFF8B8\": 30,\n",
        "        \"#FFFFFF\": 31,\n",
        "    }\n",
        "\n",
        "    return hex_to_key[pixel_color]"
      ],
      "metadata": {
        "id": "tWzWM4TyJJKT"
      },
      "execution_count": null,
      "outputs": []
    },
    {
      "cell_type": "code",
      "source": [
        "def split_coords_single_points(points):\n",
        "    \"\"\"\n",
        "    Given a dataframe containing only rows that have single-point\n",
        "    coordinates, split the coordinates into x and y columns.\n",
        "    \"\"\"\n",
        "\n",
        "    # Convert the coordinate column to a list of strings.\n",
        "    points[\"coordinate\"] = points[\"coordinate\"].apply(lambda x: x.split(\",\"))\n",
        "\n",
        "    # Create new x and y columns from the coordinate column.\n",
        "    points[\"x\"] = points[\"coordinate\"].apply(lambda x: x[0]).astype(\"uint16\")\n",
        "    points[\"y\"] = points[\"coordinate\"].apply(lambda x: x[1]).astype(\"uint16\")\n",
        "\n",
        "    # Drop the coordinate column.\n",
        "    del points[\"coordinate\"]\n",
        "\n",
        "    return points"
      ],
      "metadata": {
        "id": "jahvbSOfJLY3"
      },
      "execution_count": null,
      "outputs": []
    },
    {
      "cell_type": "code",
      "source": [
        "def process_chunk_v2(chunk, df,counter,mapping):\n",
        "    chunk[\"timestamp\"] = chunk[\"timestamp\"].astype(\"uint32\")\n",
        "    chunk[\"pixel_color\"] = chunk[\"pixel_color\"].astype(\"uint8\")\n",
        "    \n",
        "    # per rimuovere le azioni degli admin\n",
        "    chunk.drop(chunk[chunk[\"coordinate\"].str.count(\",\") == 3].index,inplace=True)\n",
        "\n",
        "    chunk = split_coords_single_points(chunk)\n",
        "    \n",
        "    for user in chunk.user_id:\n",
        "        if not user in mapping:\n",
        "            mapping[user] = counter\n",
        "            counter += 1\n",
        "\n",
        "    chunk[\"user_id\"] = chunk[\"user_id\"].map(mapping)\n",
        "    chunk[\"user_id\"] = chunk[\"user_id\"].astype(\"uint32\")\n",
        "\n",
        "    df = pd.concat((df, chunk), ignore_index=True)\n",
        "\n",
        "    return df,counter,mapping"
      ],
      "metadata": {
        "id": "uCLC9bfGJPBt"
      },
      "execution_count": null,
      "outputs": []
    },
    {
      "cell_type": "code",
      "source": [
        "CHUNK_SIZE = 1000000\n",
        "#CHUNK_SIZE = 1_000\n",
        "\n",
        "\n",
        "def trim(infile_path, outfile_path):\n",
        "    \"\"\"Trim the infile data and write it to outfile.\"\"\"\n",
        "    df = pd.DataFrame(columns=[\"timestamp\", \"user_id\",\"pixel_color\", \"x\", \"y\"])\n",
        "    df[\"timestamp\"] = df[\"timestamp\"].astype(\"uint32\")\n",
        "    df[\"pixel_color\"] = df[\"pixel_color\"].astype(\"uint8\")\n",
        "    df[\"user_id\"] = df[\"user_id\"].astype(\"uint32\")\n",
        "\n",
        "    df[\"x\"] = df[\"x\"].astype(\"uint16\")\n",
        "    df[\"y\"] = df[\"y\"].astype(\"uint16\")\n",
        "\n",
        "    mapping = {}\n",
        "    counter = 0df.head()\n",
        "    \n",
        "    with pd.read_csv(\n",
        "        infile_path,\n",
        "        usecols=[\"timestamp\", \"user_id\",\"pixel_color\", \"coordinate\"],\n",
        "        converters={\n",
        "            \"timestamp\": parse_timestamp,\n",
        "            \"pixel_color\": parse_pixel_color,\n",
        "        },\n",
        "        chunksize=CHUNK_SIZE,\n",
        "        engine=\"c\",\n",
        "        #compression=\"gzip\",\n",
        "    ) as csv:\n",
        "        for chunk in tqdm(csv):\n",
        "            df, counter, mapping = process_chunk_v2(chunk, df,counter,mapping)\n",
        "            #print(\"counter é : \", counter)\n",
        "            #print(\"len unique(): \", len(df.user_id.unique()))\n",
        "            #print(\"len unique(): \", len(df.user_id.unique()))\n",
        "\n",
        "\n",
        "    #df.sort_values(\"timestamp\", inplace=True, ignore_index=True)    \n",
        "    df.to_csv('my-file.csv', sep=',', index=False)\n",
        "    print(\"final counter\",counter)\n",
        "    return df"
      ],
      "metadata": {
        "id": "qsaMmEJcJR6_"
      },
      "execution_count": null,
      "outputs": []
    },
    {
      "cell_type": "code",
      "source": [
        ""
      ],
      "metadata": {
        "colab": {
          "base_uri": "https://localhost:8080/",
          "height": 134
        },
        "id": "XpZfdP-bnS1I",
        "outputId": "8efa3490-bae6-4f36-fdb5-6bab844681ec"
      },
      "execution_count": null,
      "outputs": [
        {
          "output_type": "error",
          "ename": "SyntaxError",
          "evalue": "ignored",
          "traceback": [
            "\u001b[0;36m  File \u001b[0;32m\"<ipython-input-21-58ac211c8243>\"\u001b[0;36m, line \u001b[0;32m1\u001b[0m\n\u001b[0;31m    161it [1:37:11, 36.22s/it]\u001b[0m\n\u001b[0m        ^\u001b[0m\n\u001b[0;31mSyntaxError\u001b[0m\u001b[0;31m:\u001b[0m invalid syntax\n"
          ]
        }
      ]
    },
    {
      "cell_type": "markdown",
      "source": [
        "161 iterazioni  1h37'11\", 36.22s/it\n",
        "\n",
        "final counter 10381144\n",
        "\n"
      ],
      "metadata": {
        "id": "OwZwJqV1nVX-"
      }
    },
    {
      "cell_type": "code",
      "source": [
        "l = list(range(0,100))\n",
        "\n",
        "l[::5]"
      ],
      "metadata": {
        "colab": {
          "base_uri": "https://localhost:8080/"
        },
        "id": "SwOe8Sn8vXlM",
        "outputId": "8061359a-c8f6-4b92-981d-4e42a86fb68b"
      },
      "execution_count": null,
      "outputs": [
        {
          "output_type": "execute_result",
          "data": {
            "text/plain": [
              "[1, 6, 11, 16, 21, 26, 31, 36, 41, 46, 51, 56, 61, 66, 71, 76, 81, 86, 91, 96]"
            ]
          },
          "metadata": {},
          "execution_count": 23
        }
      ]
    },
    {
      "cell_type": "code",
      "source": [
        "infile_path = \"2022_place_canvas_history.csv\"\n",
        "outfile_path = \"reddit_trimmed.csv\" \n",
        "\n",
        "df_trim = trim(infile_path, outfile_path)\n",
        "df_trim"
      ],
      "metadata": {
        "colab": {
          "base_uri": "https://localhost:8080/",
          "height": 460
        },
        "id": "9rtkrykHJTtt",
        "outputId": "7aee678b-2a99-4656-e878-1839dd86d503"
      },
      "execution_count": null,
      "outputs": [
        {
          "output_type": "stream",
          "name": "stderr",
          "text": [
            "161it [1:37:11, 36.22s/it]\n"
          ]
        },
        {
          "output_type": "stream",
          "name": "stdout",
          "text": [
            "final counter 10381144\n"
          ]
        },
        {
          "output_type": "execute_result",
          "data": {
            "text/plain": [
              "           timestamp  user_id  pixel_color     x     y\n",
              "0          227381262        0            5   826  1048\n",
              "1          227383443        1           17   583  1031\n",
              "2          227384370        2           11  1873   558\n",
              "3          227447226        3            2  1627   255\n",
              "4          227465992        4           17    49  1478\n",
              "...              ...      ...          ...   ...   ...\n",
              "160353080  311389751  2119667           31   408   493\n",
              "160353081  311389830   862794           31  1232   312\n",
              "160353082  311389857  2778740           31   770   866\n",
              "160353083  311389880  1591560           31  1046  1721\n",
              "160353084  311389892   583562           31     0  1999\n",
              "\n",
              "[160353085 rows x 5 columns]"
            ],
            "text/html": [
              "\n",
              "  <div id=\"df-a1864501-c694-4be9-9f26-bb58aebf1939\">\n",
              "    <div class=\"colab-df-container\">\n",
              "      <div>\n",
              "<style scoped>\n",
              "    .dataframe tbody tr th:only-of-type {\n",
              "        vertical-align: middle;\n",
              "    }\n",
              "\n",
              "    .dataframe tbody tr th {\n",
              "        vertical-align: top;\n",
              "    }\n",
              "\n",
              "    .dataframe thead th {\n",
              "        text-align: right;\n",
              "    }\n",
              "</style>\n",
              "<table border=\"1\" class=\"dataframe\">\n",
              "  <thead>\n",
              "    <tr style=\"text-align: right;\">\n",
              "      <th></th>\n",
              "      <th>timestamp</th>\n",
              "      <th>user_id</th>\n",
              "      <th>pixel_color</th>\n",
              "      <th>x</th>\n",
              "      <th>y</th>\n",
              "    </tr>\n",
              "  </thead>\n",
              "  <tbody>\n",
              "    <tr>\n",
              "      <th>0</th>\n",
              "      <td>227381262</td>\n",
              "      <td>0</td>\n",
              "      <td>5</td>\n",
              "      <td>826</td>\n",
              "      <td>1048</td>\n",
              "    </tr>\n",
              "    <tr>\n",
              "      <th>1</th>\n",
              "      <td>227383443</td>\n",
              "      <td>1</td>\n",
              "      <td>17</td>\n",
              "      <td>583</td>\n",
              "      <td>1031</td>\n",
              "    </tr>\n",
              "    <tr>\n",
              "      <th>2</th>\n",
              "      <td>227384370</td>\n",
              "      <td>2</td>\n",
              "      <td>11</td>\n",
              "      <td>1873</td>\n",
              "      <td>558</td>\n",
              "    </tr>\n",
              "    <tr>\n",
              "      <th>3</th>\n",
              "      <td>227447226</td>\n",
              "      <td>3</td>\n",
              "      <td>2</td>\n",
              "      <td>1627</td>\n",
              "      <td>255</td>\n",
              "    </tr>\n",
              "    <tr>\n",
              "      <th>4</th>\n",
              "      <td>227465992</td>\n",
              "      <td>4</td>\n",
              "      <td>17</td>\n",
              "      <td>49</td>\n",
              "      <td>1478</td>\n",
              "    </tr>\n",
              "    <tr>\n",
              "      <th>...</th>\n",
              "      <td>...</td>\n",
              "      <td>...</td>\n",
              "      <td>...</td>\n",
              "      <td>...</td>\n",
              "      <td>...</td>\n",
              "    </tr>\n",
              "    <tr>\n",
              "      <th>160353080</th>\n",
              "      <td>311389751</td>\n",
              "      <td>2119667</td>\n",
              "      <td>31</td>\n",
              "      <td>408</td>\n",
              "      <td>493</td>\n",
              "    </tr>\n",
              "    <tr>\n",
              "      <th>160353081</th>\n",
              "      <td>311389830</td>\n",
              "      <td>862794</td>\n",
              "      <td>31</td>\n",
              "      <td>1232</td>\n",
              "      <td>312</td>\n",
              "    </tr>\n",
              "    <tr>\n",
              "      <th>160353082</th>\n",
              "      <td>311389857</td>\n",
              "      <td>2778740</td>\n",
              "      <td>31</td>\n",
              "      <td>770</td>\n",
              "      <td>866</td>\n",
              "    </tr>\n",
              "    <tr>\n",
              "      <th>160353083</th>\n",
              "      <td>311389880</td>\n",
              "      <td>1591560</td>\n",
              "      <td>31</td>\n",
              "      <td>1046</td>\n",
              "      <td>1721</td>\n",
              "    </tr>\n",
              "    <tr>\n",
              "      <th>160353084</th>\n",
              "      <td>311389892</td>\n",
              "      <td>583562</td>\n",
              "      <td>31</td>\n",
              "      <td>0</td>\n",
              "      <td>1999</td>\n",
              "    </tr>\n",
              "  </tbody>\n",
              "</table>\n",
              "<p>160353085 rows × 5 columns</p>\n",
              "</div>\n",
              "      <button class=\"colab-df-convert\" onclick=\"convertToInteractive('df-a1864501-c694-4be9-9f26-bb58aebf1939')\"\n",
              "              title=\"Convert this dataframe to an interactive table.\"\n",
              "              style=\"display:none;\">\n",
              "        \n",
              "  <svg xmlns=\"http://www.w3.org/2000/svg\" height=\"24px\"viewBox=\"0 0 24 24\"\n",
              "       width=\"24px\">\n",
              "    <path d=\"M0 0h24v24H0V0z\" fill=\"none\"/>\n",
              "    <path d=\"M18.56 5.44l.94 2.06.94-2.06 2.06-.94-2.06-.94-.94-2.06-.94 2.06-2.06.94zm-11 1L8.5 8.5l.94-2.06 2.06-.94-2.06-.94L8.5 2.5l-.94 2.06-2.06.94zm10 10l.94 2.06.94-2.06 2.06-.94-2.06-.94-.94-2.06-.94 2.06-2.06.94z\"/><path d=\"M17.41 7.96l-1.37-1.37c-.4-.4-.92-.59-1.43-.59-.52 0-1.04.2-1.43.59L10.3 9.45l-7.72 7.72c-.78.78-.78 2.05 0 2.83L4 21.41c.39.39.9.59 1.41.59.51 0 1.02-.2 1.41-.59l7.78-7.78 2.81-2.81c.8-.78.8-2.07 0-2.86zM5.41 20L4 18.59l7.72-7.72 1.47 1.35L5.41 20z\"/>\n",
              "  </svg>\n",
              "      </button>\n",
              "      \n",
              "  <style>\n",
              "    .colab-df-container {\n",
              "      display:flex;\n",
              "      flex-wrap:wrap;\n",
              "      gap: 12px;\n",
              "    }\n",
              "\n",
              "    .colab-df-convert {\n",
              "      background-color: #E8F0FE;\n",
              "      border: none;\n",
              "      border-radius: 50%;\n",
              "      cursor: pointer;\n",
              "      display: none;\n",
              "      fill: #1967D2;\n",
              "      height: 32px;\n",
              "      padding: 0 0 0 0;\n",
              "      width: 32px;\n",
              "    }\n",
              "\n",
              "    .colab-df-convert:hover {\n",
              "      background-color: #E2EBFA;\n",
              "      box-shadow: 0px 1px 2px rgba(60, 64, 67, 0.3), 0px 1px 3px 1px rgba(60, 64, 67, 0.15);\n",
              "      fill: #174EA6;\n",
              "    }\n",
              "\n",
              "    [theme=dark] .colab-df-convert {\n",
              "      background-color: #3B4455;\n",
              "      fill: #D2E3FC;\n",
              "    }\n",
              "\n",
              "    [theme=dark] .colab-df-convert:hover {\n",
              "      background-color: #434B5C;\n",
              "      box-shadow: 0px 1px 3px 1px rgba(0, 0, 0, 0.15);\n",
              "      filter: drop-shadow(0px 1px 2px rgba(0, 0, 0, 0.3));\n",
              "      fill: #FFFFFF;\n",
              "    }\n",
              "  </style>\n",
              "\n",
              "      <script>\n",
              "        const buttonEl =\n",
              "          document.querySelector('#df-a1864501-c694-4be9-9f26-bb58aebf1939 button.colab-df-convert');\n",
              "        buttonEl.style.display =\n",
              "          google.colab.kernel.accessAllowed ? 'block' : 'none';\n",
              "\n",
              "        async function convertToInteractive(key) {\n",
              "          const element = document.querySelector('#df-a1864501-c694-4be9-9f26-bb58aebf1939');\n",
              "          const dataTable =\n",
              "            await google.colab.kernel.invokeFunction('convertToInteractive',\n",
              "                                                     [key], {});\n",
              "          if (!dataTable) return;\n",
              "\n",
              "          const docLinkHtml = 'Like what you see? Visit the ' +\n",
              "            '<a target=\"_blank\" href=https://colab.research.google.com/notebooks/data_table.ipynb>data table notebook</a>'\n",
              "            + ' to learn more about interactive tables.';\n",
              "          element.innerHTML = '';\n",
              "          dataTable['output_type'] = 'display_data';\n",
              "          await google.colab.output.renderOutput(dataTable, element);\n",
              "          const docLink = document.createElement('div');\n",
              "          docLink.innerHTML = docLinkHtml;\n",
              "          element.appendChild(docLink);\n",
              "        }\n",
              "      </script>\n",
              "    </div>\n",
              "  </div>\n",
              "  "
            ]
          },
          "metadata": {},
          "execution_count": 18
        }
      ]
    },
    {
      "cell_type": "code",
      "source": [
        "df_trim.sort_values(\"timestamp\", inplace=True, ignore_index=True)\n",
        "df_trim"
      ],
      "metadata": {
        "colab": {
          "base_uri": "https://localhost:8080/",
          "height": 424
        },
        "id": "yFI-yt6O1btR",
        "outputId": "d3547f39-de94-48b8-85ea-eb6bb60e24c8"
      },
      "execution_count": null,
      "outputs": [
        {
          "output_type": "execute_result",
          "data": {
            "text/plain": [
              "           timestamp  user_id  pixel_color     x     y\n",
              "0           10800000  4068929           14    42    42\n",
              "1           10812356  4068930            3   999   999\n",
              "2           10816311  4068931            7    44    42\n",
              "3           10821388  4068932           21     2     2\n",
              "4           10834094  4068933            7    23    23\n",
              "...              ...      ...          ...   ...   ...\n",
              "160353080  311389751  2119667           31   408   493\n",
              "160353081  311389830   862794           31  1232   312\n",
              "160353082  311389857  2778740           31   770   866\n",
              "160353083  311389880  1591560           31  1046  1721\n",
              "160353084  311389892   583562           31     0  1999\n",
              "\n",
              "[160353085 rows x 5 columns]"
            ],
            "text/html": [
              "\n",
              "  <div id=\"df-3c23433f-d588-466d-8687-073ee19fffee\">\n",
              "    <div class=\"colab-df-container\">\n",
              "      <div>\n",
              "<style scoped>\n",
              "    .dataframe tbody tr th:only-of-type {\n",
              "        vertical-align: middle;\n",
              "    }\n",
              "\n",
              "    .dataframe tbody tr th {\n",
              "        vertical-align: top;\n",
              "    }\n",
              "\n",
              "    .dataframe thead th {\n",
              "        text-align: right;\n",
              "    }\n",
              "</style>\n",
              "<table border=\"1\" class=\"dataframe\">\n",
              "  <thead>\n",
              "    <tr style=\"text-align: right;\">\n",
              "      <th></th>\n",
              "      <th>timestamp</th>\n",
              "      <th>user_id</th>\n",
              "      <th>pixel_color</th>\n",
              "      <th>x</th>\n",
              "      <th>y</th>\n",
              "    </tr>\n",
              "  </thead>\n",
              "  <tbody>\n",
              "    <tr>\n",
              "      <th>0</th>\n",
              "      <td>10800000</td>\n",
              "      <td>4068929</td>\n",
              "      <td>14</td>\n",
              "      <td>42</td>\n",
              "      <td>42</td>\n",
              "    </tr>\n",
              "    <tr>\n",
              "      <th>1</th>\n",
              "      <td>10812356</td>\n",
              "      <td>4068930</td>\n",
              "      <td>3</td>\n",
              "      <td>999</td>\n",
              "      <td>999</td>\n",
              "    </tr>\n",
              "    <tr>\n",
              "      <th>2</th>\n",
              "      <td>10816311</td>\n",
              "      <td>4068931</td>\n",
              "      <td>7</td>\n",
              "      <td>44</td>\n",
              "      <td>42</td>\n",
              "    </tr>\n",
              "    <tr>\n",
              "      <th>3</th>\n",
              "      <td>10821388</td>\n",
              "      <td>4068932</td>\n",
              "      <td>21</td>\n",
              "      <td>2</td>\n",
              "      <td>2</td>\n",
              "    </tr>\n",
              "    <tr>\n",
              "      <th>4</th>\n",
              "      <td>10834094</td>\n",
              "      <td>4068933</td>\n",
              "      <td>7</td>\n",
              "      <td>23</td>\n",
              "      <td>23</td>\n",
              "    </tr>\n",
              "    <tr>\n",
              "      <th>...</th>\n",
              "      <td>...</td>\n",
              "      <td>...</td>\n",
              "      <td>...</td>\n",
              "      <td>...</td>\n",
              "      <td>...</td>\n",
              "    </tr>\n",
              "    <tr>\n",
              "      <th>160353080</th>\n",
              "      <td>311389751</td>\n",
              "      <td>2119667</td>\n",
              "      <td>31</td>\n",
              "      <td>408</td>\n",
              "      <td>493</td>\n",
              "    </tr>\n",
              "    <tr>\n",
              "      <th>160353081</th>\n",
              "      <td>311389830</td>\n",
              "      <td>862794</td>\n",
              "      <td>31</td>\n",
              "      <td>1232</td>\n",
              "      <td>312</td>\n",
              "    </tr>\n",
              "    <tr>\n",
              "      <th>160353082</th>\n",
              "      <td>311389857</td>\n",
              "      <td>2778740</td>\n",
              "      <td>31</td>\n",
              "      <td>770</td>\n",
              "      <td>866</td>\n",
              "    </tr>\n",
              "    <tr>\n",
              "      <th>160353083</th>\n",
              "      <td>311389880</td>\n",
              "      <td>1591560</td>\n",
              "      <td>31</td>\n",
              "      <td>1046</td>\n",
              "      <td>1721</td>\n",
              "    </tr>\n",
              "    <tr>\n",
              "      <th>160353084</th>\n",
              "      <td>311389892</td>\n",
              "      <td>583562</td>\n",
              "      <td>31</td>\n",
              "      <td>0</td>\n",
              "      <td>1999</td>\n",
              "    </tr>\n",
              "  </tbody>\n",
              "</table>\n",
              "<p>160353085 rows × 5 columns</p>\n",
              "</div>\n",
              "      <button class=\"colab-df-convert\" onclick=\"convertToInteractive('df-3c23433f-d588-466d-8687-073ee19fffee')\"\n",
              "              title=\"Convert this dataframe to an interactive table.\"\n",
              "              style=\"display:none;\">\n",
              "        \n",
              "  <svg xmlns=\"http://www.w3.org/2000/svg\" height=\"24px\"viewBox=\"0 0 24 24\"\n",
              "       width=\"24px\">\n",
              "    <path d=\"M0 0h24v24H0V0z\" fill=\"none\"/>\n",
              "    <path d=\"M18.56 5.44l.94 2.06.94-2.06 2.06-.94-2.06-.94-.94-2.06-.94 2.06-2.06.94zm-11 1L8.5 8.5l.94-2.06 2.06-.94-2.06-.94L8.5 2.5l-.94 2.06-2.06.94zm10 10l.94 2.06.94-2.06 2.06-.94-2.06-.94-.94-2.06-.94 2.06-2.06.94z\"/><path d=\"M17.41 7.96l-1.37-1.37c-.4-.4-.92-.59-1.43-.59-.52 0-1.04.2-1.43.59L10.3 9.45l-7.72 7.72c-.78.78-.78 2.05 0 2.83L4 21.41c.39.39.9.59 1.41.59.51 0 1.02-.2 1.41-.59l7.78-7.78 2.81-2.81c.8-.78.8-2.07 0-2.86zM5.41 20L4 18.59l7.72-7.72 1.47 1.35L5.41 20z\"/>\n",
              "  </svg>\n",
              "      </button>\n",
              "      \n",
              "  <style>\n",
              "    .colab-df-container {\n",
              "      display:flex;\n",
              "      flex-wrap:wrap;\n",
              "      gap: 12px;\n",
              "    }\n",
              "\n",
              "    .colab-df-convert {\n",
              "      background-color: #E8F0FE;\n",
              "      border: none;\n",
              "      border-radius: 50%;\n",
              "      cursor: pointer;\n",
              "      display: none;\n",
              "      fill: #1967D2;\n",
              "      height: 32px;\n",
              "      padding: 0 0 0 0;\n",
              "      width: 32px;\n",
              "    }\n",
              "\n",
              "    .colab-df-convert:hover {\n",
              "      background-color: #E2EBFA;\n",
              "      box-shadow: 0px 1px 2px rgba(60, 64, 67, 0.3), 0px 1px 3px 1px rgba(60, 64, 67, 0.15);\n",
              "      fill: #174EA6;\n",
              "    }\n",
              "\n",
              "    [theme=dark] .colab-df-convert {\n",
              "      background-color: #3B4455;\n",
              "      fill: #D2E3FC;\n",
              "    }\n",
              "\n",
              "    [theme=dark] .colab-df-convert:hover {\n",
              "      background-color: #434B5C;\n",
              "      box-shadow: 0px 1px 3px 1px rgba(0, 0, 0, 0.15);\n",
              "      filter: drop-shadow(0px 1px 2px rgba(0, 0, 0, 0.3));\n",
              "      fill: #FFFFFF;\n",
              "    }\n",
              "  </style>\n",
              "\n",
              "      <script>\n",
              "        const buttonEl =\n",
              "          document.querySelector('#df-3c23433f-d588-466d-8687-073ee19fffee button.colab-df-convert');\n",
              "        buttonEl.style.display =\n",
              "          google.colab.kernel.accessAllowed ? 'block' : 'none';\n",
              "\n",
              "        async function convertToInteractive(key) {\n",
              "          const element = document.querySelector('#df-3c23433f-d588-466d-8687-073ee19fffee');\n",
              "          const dataTable =\n",
              "            await google.colab.kernel.invokeFunction('convertToInteractive',\n",
              "                                                     [key], {});\n",
              "          if (!dataTable) return;\n",
              "\n",
              "          const docLinkHtml = 'Like what you see? Visit the ' +\n",
              "            '<a target=\"_blank\" href=https://colab.research.google.com/notebooks/data_table.ipynb>data table notebook</a>'\n",
              "            + ' to learn more about interactive tables.';\n",
              "          element.innerHTML = '';\n",
              "          dataTable['output_type'] = 'display_data';\n",
              "          await google.colab.output.renderOutput(dataTable, element);\n",
              "          const docLink = document.createElement('div');\n",
              "          docLink.innerHTML = docLinkHtml;\n",
              "          element.appendChild(docLink);\n",
              "        }\n",
              "      </script>\n",
              "    </div>\n",
              "  </div>\n",
              "  "
            ]
          },
          "metadata": {},
          "execution_count": 28
        }
      ]
    },
    {
      "cell_type": "code",
      "source": [
        "df_trim.to_csv(\"reddit_trimmed.csv.zip\", \n",
        "           index=False, \n",
        "           compression=\"zip\")"
      ],
      "metadata": {
        "id": "AMSE1JvkJnwv"
      },
      "execution_count": null,
      "outputs": []
    },
    {
      "cell_type": "code",
      "source": [
        "#min(df_trim.timestamp) #10_800_000"
      ],
      "metadata": {
        "colab": {
          "base_uri": "https://localhost:8080/"
        },
        "id": "wmvynql80zj3",
        "outputId": "7845bfd0-127f-479f-99c7-78cd2cf41e26"
      },
      "execution_count": null,
      "outputs": [
        {
          "output_type": "execute_result",
          "data": {
            "text/plain": [
              "10800000"
            ]
          },
          "metadata": {},
          "execution_count": 26
        }
      ]
    },
    {
      "cell_type": "code",
      "source": [
        "1_648_924_835 - 1_648_806_250_315"
      ],
      "metadata": {
        "colab": {
          "base_uri": "https://localhost:8080/"
        },
        "id": "jiVmRBS10_yg",
        "outputId": "b54a3eb3-702c-41bd-a2f0-0e6d9b03b09a"
      },
      "execution_count": null,
      "outputs": [
        {
          "output_type": "execute_result",
          "data": {
            "text/plain": [
              "-1647157325480"
            ]
          },
          "metadata": {},
          "execution_count": 29
        }
      ]
    },
    {
      "cell_type": "code",
      "source": [
        "datetime.fromtimestamp(1_648_806_250_315) "
      ],
      "metadata": {
        "colab": {
          "base_uri": "https://localhost:8080/",
          "height": 171
        },
        "id": "ZPBWVIcl7dJi",
        "outputId": "c5741ffa-a584-4db5-b103-1ed1b75cd01b"
      },
      "execution_count": null,
      "outputs": [
        {
          "output_type": "error",
          "ename": "ValueError",
          "evalue": "ignored",
          "traceback": [
            "\u001b[0;31m---------------------------------------------------------------------------\u001b[0m",
            "\u001b[0;31mValueError\u001b[0m                                Traceback (most recent call last)",
            "\u001b[0;32m<ipython-input-31-2e18a006c8d6>\u001b[0m in \u001b[0;36m<module>\u001b[0;34m()\u001b[0m\n\u001b[0;32m----> 1\u001b[0;31m \u001b[0mdatetime\u001b[0m\u001b[0;34m.\u001b[0m\u001b[0mfromtimestamp\u001b[0m\u001b[0;34m(\u001b[0m\u001b[0;36m1_648_806_250_315\u001b[0m\u001b[0;34m)\u001b[0m\u001b[0;34m\u001b[0m\u001b[0;34m\u001b[0m\u001b[0m\n\u001b[0m",
            "\u001b[0;31mValueError\u001b[0m: year 54218 is out of range"
          ]
        }
      ]
    },
    {
      "cell_type": "code",
      "source": [
        "datetime.fromtimestamp(1_648_924_835) "
      ],
      "metadata": {
        "colab": {
          "base_uri": "https://localhost:8080/"
        },
        "id": "wCxXQyuF7f73",
        "outputId": "9cbc9fe0-e625-4005-b04f-98bea4439430"
      },
      "execution_count": null,
      "outputs": [
        {
          "output_type": "execute_result",
          "data": {
            "text/plain": [
              "datetime.datetime(2022, 4, 2, 18, 40, 35)"
            ]
          },
          "metadata": {},
          "execution_count": 30
        }
      ]
    },
    {
      "cell_type": "code",
      "source": [
        "# questo sono gli among us di un preciso timestamp\n",
        "timestamp = 1_648_924_835 #nel dataset delle immagini\n",
        "\n",
        "x = [  6,   6,  41,  43,  43,  44,  45,  49,  51,  51,  51,  52,  63,\n",
        "        63,  68,  75,  79,  79,  80,  86,  87,  89,  89,  89,  90,  91,\n",
        "        94,  95,  96, 104, 106, 124, 125, 126, 126, 126, 126, 126, 128,\n",
        "        140, 140, 148, 149, 149, 151, 155, 156, 182, 185, 189, 189, 192,\n",
        "        201, 206, 221, 230, 236, 243, 248, 248, 248, 248, 249, 249, 258,\n",
        "        270, 275, 276, 283, 289, 296, 303, 311, 335, 341, 342, 344, 347,\n",
        "        357, 360, 361, 364, 366, 369, 369, 369, 370, 374, 375, 378, 392,\n",
        "        393, 397, 418, 423, 426, 427, 436, 438, 440, 451, 459, 467, 468,\n",
        "        469, 472, 473, 475, 477, 477, 479, 482, 482, 488, 488, 490, 490,\n",
        "        492, 492, 505, 508, 512, 512, 523, 533, 535, 542, 544, 544, 545,\n",
        "        545, 546, 546, 546, 549, 551, 559, 559, 566, 566, 570, 570, 576,\n",
        "        577, 603, 603, 604, 605, 608, 609, 611, 624, 636, 642, 665, 670,\n",
        "        672, 679, 696, 696, 697, 697, 697, 697, 697, 697, 697, 703, 710,\n",
        "        714, 715, 718, 718, 719, 722, 728, 732, 732, 732, 734, 734, 735,\n",
        "        737, 737, 737, 738, 742, 744, 745, 747, 749, 750, 750, 750, 753,\n",
        "        754, 754, 761, 762, 762, 765, 767, 768, 772, 773, 773, 774, 774,\n",
        "        775, 777, 780, 780, 780, 780, 780, 780, 780, 781, 782, 784, 787,\n",
        "        789, 789, 790, 791, 791, 791, 791, 791, 791, 792, 794, 798, 802,\n",
        "        805, 808, 812, 817, 821, 822, 827, 833, 835, 838, 853, 857, 863,\n",
        "        865, 881, 881, 881, 881, 881, 881, 881, 881, 881, 881, 881, 881,\n",
        "        881, 881, 881, 881, 881, 881, 881, 881, 881, 881, 881, 881, 881,\n",
        "        881, 881, 881, 881, 881, 881, 881, 881, 881, 881, 881, 881, 881,\n",
        "        881, 885, 885, 885, 886, 886, 886, 886, 886, 886, 886, 886, 886,\n",
        "        886, 886, 886, 886, 886, 886, 886, 886, 886, 886, 886, 886, 886,\n",
        "        886, 886, 886, 886, 886, 886, 886, 886, 886, 886, 886, 886, 886,\n",
        "        886, 886, 886, 886, 886, 887, 891, 891, 891, 891, 891, 891, 891,\n",
        "        891, 891, 891, 891, 891, 891, 891, 891, 891, 891, 891, 891, 891,\n",
        "        891, 891, 891, 891, 891, 891, 891, 891, 891, 891, 891, 891, 891,\n",
        "        891, 891, 891, 891, 892, 893, 895, 895, 895, 895, 895, 895, 895,\n",
        "        895, 895, 895, 895, 895, 895, 895, 896, 896, 896, 896, 896, 896,\n",
        "        896, 896, 896, 896, 896, 896, 896, 896, 896, 896, 896, 896, 896,\n",
        "        901, 901, 908, 917, 922, 928, 931, 931, 934, 936, 938, 941, 943,\n",
        "        943, 943, 943, 943, 948, 948, 948, 948, 948, 953, 953, 954, 962,\n",
        "        965, 966, 975, 981, 981, 982, 982, 987, 991, 991, 995, 996]\n",
        "\n",
        "y = [ 449,  612,  311,  316,  321, 1660,  278,  710,  739, 1573, 1577,\n",
        "        1383,  404, 1948,  249,  306,  254,  579,  148,  408, 1115,  595,\n",
        "        777,  782, 1112, 1202, 1545,  454, 1269, 1180, 1820, 1433, 1969,\n",
        "        1360, 1364, 1368, 1372, 1381, 1030,  315,  319,  899, 1214, 1509,\n",
        "        941,  583,  618, 1604,  546,  942, 1168, 1701, 1146, 1193,  505,\n",
        "        1794,  827,  921,  182,  192,  223, 1466,   18,  393,  140,  452,\n",
        "        1977, 1544, 1480, 1949,  908, 1575, 1864, 1129,   77,   94, 1804,\n",
        "        1597,  122, 1942,  127,  124, 1648,  594,  612, 1624,  555, 1169,\n",
        "        1690, 1700, 1398, 1237, 1603, 1794, 1679,  584, 1223,  266, 1939,\n",
        "        1550, 1929, 1757, 1870,   46,    6,  943,   47,    2,  201,  219,\n",
        "          5,   46,  156,    1, 1551,  142, 1236,  284, 1490, 1159, 1486,\n",
        "        1557, 1704, 1480, 1843,  198, 1253, 1191, 1207, 1748, 1802, 1736,\n",
        "        1740, 1752, 1549,  654, 1831, 1834, 1607, 1829, 1862, 1866,  930,\n",
        "        1171,  370, 1288,  335,  353,  338, 1718, 1421, 1822,  339, 1370,\n",
        "        1862, 1789, 1723, 1834,  586, 1700, 1324, 1707, 1820, 1828, 1845,\n",
        "        1849, 1861, 1828,  616,  593,  640,  613,  629,  593, 1776,  629,\n",
        "        921, 1016, 1776,  620, 1017,  920, 1533, 1540, 1776,  613, 1776,\n",
        "        1616, 1617, 1051,  622,  646,  995, 1099,  642,  633, 1801,  770,\n",
        "        576,  581,  948,  582,  577,  663,  623,  627,  637,  642,  578,\n",
        "        1087,  649, 1063, 1066, 1076, 1087, 1090, 1095,  641, 1380,  593,\n",
        "        620,  612, 1680,  607,  602, 1007, 1016, 1057, 1100, 1120,  927,\n",
        "        593,  585, 1387, 1393,  460,  845,  289,  281, 1891, 1606,  511,\n",
        "        1139, 1168, 1185,  516,  526,  229, 1621, 1625, 1629, 1637, 1641,\n",
        "        1645, 1649, 1653, 1657, 1661, 1665, 1669, 1673, 1677, 1681, 1685,\n",
        "        1689, 1693, 1697, 1701, 1705, 1709, 1713, 1721, 1729, 1733, 1737,\n",
        "        1741, 1745, 1749, 1753, 1757, 1761, 1765, 1773, 1777, 1781, 1785,\n",
        "        1789,  437, 1785, 1793, 1625, 1629, 1633, 1637, 1641, 1645, 1649,\n",
        "        1653, 1657, 1661, 1665, 1669, 1673, 1677, 1681, 1685, 1689, 1693,\n",
        "        1697, 1701, 1705, 1709, 1713, 1717, 1721, 1725, 1729, 1733, 1737,\n",
        "        1741, 1745, 1749, 1757, 1761, 1765, 1769, 1773, 1777, 1781, 1789,\n",
        "        1816, 1610, 1614, 1621, 1625, 1629, 1633, 1637, 1641, 1649, 1653,\n",
        "        1657, 1661, 1665, 1669, 1673, 1677, 1681, 1689, 1693, 1697, 1701,\n",
        "        1705, 1709, 1713, 1717, 1721, 1725, 1729, 1733, 1741, 1745, 1749,\n",
        "        1753, 1757, 1761, 1765, 1769, 1503,  436, 1610, 1614, 1621, 1625,\n",
        "        1629, 1633, 1637, 1641, 1645, 1649, 1653, 1657, 1661, 1673,  613,\n",
        "        1669, 1677, 1693, 1697, 1701, 1705, 1713, 1717, 1729, 1733, 1737,\n",
        "        1741, 1745, 1749, 1753, 1757, 1761, 1765, 1669, 1673, 1638,  463,\n",
        "        108, 1847, 1410, 1418, 1474, 1493, 1581, 1605,   70,   74,   78,\n",
        "          82,   86,   70,   74,   78,   82,   86,   74,   78, 1071, 1317,\n",
        "          29,   22, 1675,   89, 1836,   59, 1841, 1854,   81,   85, 1567,\n",
        "          89]\n",
        "\n",
        "len(x), len(y)"
      ],
      "metadata": {
        "colab": {
          "base_uri": "https://localhost:8080/"
        },
        "id": "xIKPiDu2jP3k",
        "outputId": "5ab1d00f-adc3-4284-8f3d-738aedbc70ab"
      },
      "execution_count": null,
      "outputs": [
        {
          "output_type": "execute_result",
          "data": {
            "text/plain": [
              "(441, 441)"
            ]
          },
          "metadata": {},
          "execution_count": 24
        }
      ]
    },
    {
      "cell_type": "code",
      "source": [
        "for i,j in zip(x,y):\n",
        "  print(i,j)\n",
        "  "
      ],
      "metadata": {
        "colab": {
          "base_uri": "https://localhost:8080/"
        },
        "id": "FsxTkgRTzRdw",
        "outputId": "7633a2e8-a951-478f-fe31-c7b2fe9a0f23"
      },
      "execution_count": null,
      "outputs": [
        {
          "output_type": "stream",
          "name": "stdout",
          "text": [
            "6 449\n"
          ]
        }
      ]
    },
    {
      "cell_type": "code",
      "source": [
        ""
      ],
      "metadata": {
        "id": "4ms6U_GAz_wM"
      },
      "execution_count": null,
      "outputs": []
    }
  ]
}